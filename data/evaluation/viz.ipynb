{
 "cells": [
  {
   "cell_type": "markdown",
   "id": "3a8ab1f6",
   "metadata": {},
   "source": [
    "## Emotion_verses_labeled_N.csv"
   ]
  },
  {
   "cell_type": "code",
   "execution_count": 10,
   "id": "5e7f1856",
   "metadata": {},
   "outputs": [
    {
     "name": "stdout",
     "output_type": "stream",
     "text": [
      "Count of emotions labeled by GPT:\n",
      "label\n",
      "neutral        2266\n",
      "joy            1307\n",
      "anger           830\n",
      "sadness         618\n",
      "fear            434\n",
      "surprise        267\n",
      "disgust         207\n",
      "trust            37\n",
      "hope             17\n",
      "peace             4\n",
      "confidence        2\n",
      "confusion         1\n",
      "comfort           1\n",
      "concern           1\n",
      "warning           1\n",
      "shame             1\n",
      "gratitude         1\n",
      "anguish           1\n",
      "plea              1\n",
      "humility          1\n",
      "desperation       1\n",
      "Name: count, dtype: int64\n",
      "\n",
      "Total emotions: 5999\n",
      "Unique emotions found: ['neutral', 'joy', 'anger', 'sadness', 'fear', 'surprise', 'disgust', 'trust', 'hope', 'peace', 'confidence', 'confusion', 'comfort', 'concern', 'warning', 'shame', 'gratitude', 'anguish', 'plea', 'humility', 'desperation']\n"
     ]
    }
   ],
   "source": [
    "import pandas as pd\n",
    "\n",
    "CSV_PATH = \"verses_parsed/emotion_verses_labeled_6.csv\"  # Adjust the path if necessary\n",
    "\n",
    "df = pd.read_csv(CSV_PATH)\n",
    "\n",
    "# Clean and normalize the labels to lowercase and remove spaces\n",
    "df['label'] = df['label'].astype(str).str.strip().str.lower()\n",
    "\n",
    "# Show the count of unique labels\n",
    "label_counts = df['label'].value_counts()\n",
    "print(\"Count of emotions labeled by GPT:\")\n",
    "print(label_counts)\n",
    "print(\"\\nTotal emotions:\", label_counts.sum())\n",
    "print(\"Unique emotions found:\", list(label_counts.index))\n"
   ]
  },
  {
   "cell_type": "markdown",
   "id": "1e4b3682",
   "metadata": {},
   "source": [
    "## Adjusting wrong emotions labeled by GPT"
   ]
  },
  {
   "cell_type": "code",
   "execution_count": 11,
   "id": "4ef2aabe",
   "metadata": {},
   "outputs": [
    {
     "name": "stdout",
     "output_type": "stream",
     "text": [
      "Emotions after remapping:\n",
      "label\n",
      "neutral     2308\n",
      "joy         1327\n",
      "anger        830\n",
      "sadness      619\n",
      "fear         434\n",
      "surprise     267\n",
      "disgust      207\n",
      "Name: count, dtype: int64\n",
      "✅ Cleaned file saved: verses_parsed/emotion_verses_labeled_6.csv\n"
     ]
    }
   ],
   "source": [
    "import pandas as pd\n",
    "\n",
    "CSV_PATH = \"verses_parsed/emotion_verses_labeled_6.csv\"  # Adjust if necessary\n",
    "\n",
    "# Official list of emotions (in lowercase, as per your model)\n",
    "EMOTIONS_MAIN = [\"joy\", \"sadness\", \"anger\", \"fear\", \"surprise\", \"neutral\", \"disgust\"]\n",
    "\n",
    "# Mapping strange emotions to main ones\n",
    "label_corrections = {\n",
    "    \"hope\": \"joy\",\n",
    "    \"trust\": \"neutral\",\n",
    "    \"shame\": \"sadness\",\n",
    "    \"confidence\": \"joy\",\n",
    "    \"compassion\": \"joy\",\n",
    "    \"courage\": \"joy\",\n",
    "    \"peace\": \"neutral\",\n",
    "    \"respect\": \"neutral\",\n",
    "    \"guilt\": \"sadness\",\n",
    "    \"gratitude\": \"joy\",\n",
    "    \"confusion\": \"neutral\",\n",
    "    \"anticipation\": \"joy\"\n",
    "}\n",
    "\n",
    "# Load and clean\n",
    "df = pd.read_csv(CSV_PATH)\n",
    "df['label'] = df['label'].astype(str).str.strip().str.lower()\n",
    "df['label'] = df['label'].replace(label_corrections)\n",
    "\n",
    "# Filter only valid emotions (discard any others that slipped in)\n",
    "df = df[df['label'].isin(EMOTIONS_MAIN)].copy()\n",
    "\n",
    "# Optional: show the new count\n",
    "print(\"Emotions after remapping:\")\n",
    "print(df['label'].value_counts())\n",
    "\n",
    "# Save the cleaned file (overwrite or save a new one)\n",
    "df.to_csv(CSV_PATH, index=False)\n",
    "print(f\"✅ Cleaned file saved: {CSV_PATH}\")\n"
   ]
  },
  {
   "cell_type": "markdown",
   "id": "7b91343f",
   "metadata": {},
   "source": [
    "## Merge all emotion_verses_labeled into a combined one"
   ]
  },
  {
   "cell_type": "code",
   "execution_count": 12,
   "id": "c10c3830",
   "metadata": {},
   "outputs": [
    {
     "name": "stdout",
     "output_type": "stream",
     "text": [
      "CSV1: 981 rows\n",
      "CSV2: 1000 rows\n",
      "CSV3: 1000 rows\n",
      "CSV4: 1000 rows\n",
      "CSV5: 1000 rows\n",
      "CSV5: 5992 rows\n",
      "Combined: 9751 rows after removing duplicates by verse_id\n",
      "✅ Combined file saved to: c:\\Users\\manue\\my_projects\\LinguaAnimae\\data\\evaluation\\verses_parsed\\emotion_verses_labeled_combined.csv\n"
     ]
    }
   ],
   "source": [
    "import pandas as pd\n",
    "from pathlib import Path\n",
    "\n",
    "# Input and output file paths\n",
    "CSV1 = Path(\"verses_parsed/emotion_verses_labeled.csv\")  # Change names if necessary\n",
    "CSV2 = Path(\"verses_parsed/emotion_verses_labeled_2.csv\")\n",
    "CSV3 = Path(\"verses_parsed/emotion_verses_labeled_3.csv\")\n",
    "CSV4 = Path(\"verses_parsed/emotion_verses_labeled_4.csv\")\n",
    "CSV5 = Path(\"verses_parsed/emotion_verses_labeled_5.csv\")\n",
    "CSV6 = Path(\"verses_parsed/emotion_verses_labeled_6.csv\")\n",
    "\n",
    "OUTPUT = Path(\"verses_parsed/emotion_verses_labeled_combined.csv\")\n",
    "\n",
    "# Load both files\n",
    "df1 = pd.read_csv(CSV1)\n",
    "df2 = pd.read_csv(CSV2)\n",
    "df3 = pd.read_csv(CSV3)\n",
    "df4 = pd.read_csv(CSV4)\n",
    "df5 = pd.read_csv(CSV5)\n",
    "df6 = pd.read_csv(CSV6)\n",
    "\n",
    "print(f\"CSV1: {len(df1)} rows\")\n",
    "print(f\"CSV2: {len(df2)} rows\")\n",
    "print(f\"CSV3: {len(df3)} rows\")\n",
    "print(f\"CSV4: {len(df4)} rows\")\n",
    "print(f\"CSV5: {len(df5)} rows\")\n",
    "print(f\"CSV5: {len(df6)} rows\")\n",
    "\n",
    "\n",
    "# Concatenate\n",
    "df_combined = pd.concat([df1, df2, df3, df4, df5, df6], ignore_index=True)\n",
    "\n",
    "# Remove duplicates by verse_id (or by 'id' if you prefer)\n",
    "df_combined = df_combined.drop_duplicates(subset=['verse_id']).reset_index(drop=True)\n",
    "print(f\"Combined: {len(df_combined)} rows after removing duplicates by verse_id\")\n",
    "\n",
    "# (Optional) Renumber 'id' if the column exists\n",
    "if 'id' in df_combined.columns:\n",
    "    df_combined['id'] = range(len(df_combined))\n",
    "\n",
    "# Save the result\n",
    "OUTPUT.parent.mkdir(parents=True, exist_ok=True)\n",
    "df_combined.to_csv(OUTPUT, index=False)\n",
    "print(f\"✅ Combined file saved to: {OUTPUT.absolute()}\")\n"
   ]
  },
  {
   "cell_type": "code",
   "execution_count": 14,
   "id": "ce93b4a3",
   "metadata": {},
   "outputs": [
    {
     "name": "stdout",
     "output_type": "stream",
     "text": [
      "Emotion counts in the combined dataset:\n",
      "label\n",
      "neutral     3464\n",
      "joy         2132\n",
      "anger       1274\n",
      "sadness     1119\n",
      "fear         822\n",
      "surprise     548\n",
      "disgust      392\n",
      "Name: count, dtype: int64\n",
      "\n",
      "Total verses: 9751\n",
      "Unique emotions found: ['neutral', 'joy', 'anger', 'sadness', 'fear', 'surprise', 'disgust']\n"
     ]
    }
   ],
   "source": [
    "import pandas as pd\n",
    "\n",
    "# Path to the combined file\n",
    "csv_path = \"verses_parsed/emotion_verses_labeled_combined.csv\"\n",
    "\n",
    "# Load the file\n",
    "df = pd.read_csv(csv_path)\n",
    "\n",
    "# Clean and normalize the labels\n",
    "df['label'] = df['label'].astype(str).str.strip().str.lower()\n",
    "\n",
    "# Show the count of unique labels\n",
    "label_counts = df['label'].value_counts()\n",
    "print(\"Emotion counts in the combined dataset:\")\n",
    "print(label_counts)\n",
    "print(\"\\nTotal verses:\", label_counts.sum())\n",
    "print(\"Unique emotions found:\", list(label_counts.index))\n"
   ]
  }
 ],
 "metadata": {
  "kernelspec": {
   "display_name": "LinguaAnimae",
   "language": "python",
   "name": "python3"
  },
  "language_info": {
   "codemirror_mode": {
    "name": "ipython",
    "version": 3
   },
   "file_extension": ".py",
   "mimetype": "text/x-python",
   "name": "python",
   "nbconvert_exporter": "python",
   "pygments_lexer": "ipython3",
   "version": "3.10.16"
  }
 },
 "nbformat": 4,
 "nbformat_minor": 5
}
