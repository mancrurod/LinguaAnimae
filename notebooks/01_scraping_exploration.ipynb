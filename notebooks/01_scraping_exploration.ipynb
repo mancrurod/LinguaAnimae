{
 "cells": [
  {
   "cell_type": "markdown",
   "id": "8252ea51",
   "metadata": {},
   "source": [
    "# 📘 01_scraping_exploration.ipynb\n",
    "\n",
    "# This notebook loads, explores, and validates the scraped Gospel of John (RV60 version)."
   ]
  },
  {
   "cell_type": "code",
   "execution_count": null,
   "id": "1b32f0cf",
   "metadata": {},
   "outputs": [],
   "source": [
    "import pandas as pd\n",
    "import numpy as np\n",
    "import matplotlib.pyplot as plt\n",
    "import seaborn as sns\n",
    "from pathlib import Path"
   ]
  },
  {
   "cell_type": "code",
   "execution_count": 2,
   "id": "9f3c5afc",
   "metadata": {},
   "outputs": [],
   "source": [
    "# Visualization settings\n",
    "pd.set_option(\"display.max_colwidth\", None)\n",
    "sns.set(style=\"whitegrid\")"
   ]
  },
  {
   "cell_type": "code",
   "execution_count": 18,
   "id": "152a83df",
   "metadata": {},
   "outputs": [],
   "source": [
    "# Load the scraped CSV relative to notebook location\n",
    "csv_path = Path(\"../data/raw/john_gospel_rv60.csv\").resolve()\n",
    "if not csv_path.exists():\n",
    "    raise FileNotFoundError(f\"❌ File not found: {csv_path}. Please run the scraper first.\")"
   ]
  },
  {
   "cell_type": "code",
   "execution_count": 19,
   "id": "00af20b3",
   "metadata": {},
   "outputs": [],
   "source": [
    "# Read the file with robust handling\n",
    "df = pd.read_csv(csv_path, encoding=\"utf-8\")"
   ]
  },
  {
   "cell_type": "code",
   "execution_count": 20,
   "id": "7f7f3734",
   "metadata": {},
   "outputs": [
    {
     "name": "stdout",
     "output_type": "stream",
     "text": [
      "\n",
      "🔍 First rows:\n"
     ]
    },
    {
     "data": {
      "application/vnd.microsoft.datawrangler.viewer.v0+json": {
       "columns": [
        {
         "name": "index",
         "rawType": "int64",
         "type": "integer"
        },
        {
         "name": "chapter",
         "rawType": "int64",
         "type": "integer"
        },
        {
         "name": "verse",
         "rawType": "int64",
         "type": "integer"
        },
        {
         "name": "subtitle",
         "rawType": "object",
         "type": "string"
        },
        {
         "name": "text",
         "rawType": "object",
         "type": "string"
        },
        {
         "name": "source_url",
         "rawType": "object",
         "type": "string"
        }
       ],
       "conversionMethod": "pd.DataFrame",
       "ref": "8b09ced4-e964-4620-8410-ebf402c78748",
       "rows": [
        [
         "0",
         "1",
         "1",
         "El Verbo hecho carne",
         "En el principio era el Verbo, y el Verbo era con Dios, y el Verbo era Dios.",
         "https://www.biblia.es/biblia-buscar-libros-1.php?libro=juan&capitulo=1&version=rv60"
        ],
        [
         "1",
         "1",
         "2",
         "El Verbo hecho carne",
         "Este era en el principio con Dios.",
         "https://www.biblia.es/biblia-buscar-libros-1.php?libro=juan&capitulo=1&version=rv60"
        ],
        [
         "2",
         "1",
         "3",
         "El Verbo hecho carne",
         "Todas las cosas por él fueron hechas, y sin él nada de lo que ha sido hecho, fue hecho.",
         "https://www.biblia.es/biblia-buscar-libros-1.php?libro=juan&capitulo=1&version=rv60"
        ],
        [
         "3",
         "1",
         "4",
         "El Verbo hecho carne",
         "En él estaba la vida, y la vida era la luz de los hombres.",
         "https://www.biblia.es/biblia-buscar-libros-1.php?libro=juan&capitulo=1&version=rv60"
        ],
        [
         "4",
         "1",
         "5",
         "El Verbo hecho carne",
         "La luz en las tinieblas resplandece, y las tinieblas no prevalecieron contra ella.",
         "https://www.biblia.es/biblia-buscar-libros-1.php?libro=juan&capitulo=1&version=rv60"
        ]
       ],
       "shape": {
        "columns": 5,
        "rows": 5
       }
      },
      "text/html": [
       "<div>\n",
       "<style scoped>\n",
       "    .dataframe tbody tr th:only-of-type {\n",
       "        vertical-align: middle;\n",
       "    }\n",
       "\n",
       "    .dataframe tbody tr th {\n",
       "        vertical-align: top;\n",
       "    }\n",
       "\n",
       "    .dataframe thead th {\n",
       "        text-align: right;\n",
       "    }\n",
       "</style>\n",
       "<table border=\"1\" class=\"dataframe\">\n",
       "  <thead>\n",
       "    <tr style=\"text-align: right;\">\n",
       "      <th></th>\n",
       "      <th>chapter</th>\n",
       "      <th>verse</th>\n",
       "      <th>subtitle</th>\n",
       "      <th>text</th>\n",
       "      <th>source_url</th>\n",
       "    </tr>\n",
       "  </thead>\n",
       "  <tbody>\n",
       "    <tr>\n",
       "      <th>0</th>\n",
       "      <td>1</td>\n",
       "      <td>1</td>\n",
       "      <td>El Verbo hecho carne</td>\n",
       "      <td>En el principio era el Verbo, y el Verbo era con Dios, y el Verbo era Dios.</td>\n",
       "      <td>https://www.biblia.es/biblia-buscar-libros-1.php?libro=juan&amp;capitulo=1&amp;version=rv60</td>\n",
       "    </tr>\n",
       "    <tr>\n",
       "      <th>1</th>\n",
       "      <td>1</td>\n",
       "      <td>2</td>\n",
       "      <td>El Verbo hecho carne</td>\n",
       "      <td>Este era en el principio con Dios.</td>\n",
       "      <td>https://www.biblia.es/biblia-buscar-libros-1.php?libro=juan&amp;capitulo=1&amp;version=rv60</td>\n",
       "    </tr>\n",
       "    <tr>\n",
       "      <th>2</th>\n",
       "      <td>1</td>\n",
       "      <td>3</td>\n",
       "      <td>El Verbo hecho carne</td>\n",
       "      <td>Todas las cosas por él fueron hechas, y sin él nada de lo que ha sido hecho, fue hecho.</td>\n",
       "      <td>https://www.biblia.es/biblia-buscar-libros-1.php?libro=juan&amp;capitulo=1&amp;version=rv60</td>\n",
       "    </tr>\n",
       "    <tr>\n",
       "      <th>3</th>\n",
       "      <td>1</td>\n",
       "      <td>4</td>\n",
       "      <td>El Verbo hecho carne</td>\n",
       "      <td>En él estaba la vida, y la vida era la luz de los hombres.</td>\n",
       "      <td>https://www.biblia.es/biblia-buscar-libros-1.php?libro=juan&amp;capitulo=1&amp;version=rv60</td>\n",
       "    </tr>\n",
       "    <tr>\n",
       "      <th>4</th>\n",
       "      <td>1</td>\n",
       "      <td>5</td>\n",
       "      <td>El Verbo hecho carne</td>\n",
       "      <td>La luz en las tinieblas resplandece, y las tinieblas no prevalecieron contra ella.</td>\n",
       "      <td>https://www.biblia.es/biblia-buscar-libros-1.php?libro=juan&amp;capitulo=1&amp;version=rv60</td>\n",
       "    </tr>\n",
       "  </tbody>\n",
       "</table>\n",
       "</div>"
      ],
      "text/plain": [
       "   chapter  verse              subtitle  \\\n",
       "0        1      1  El Verbo hecho carne   \n",
       "1        1      2  El Verbo hecho carne   \n",
       "2        1      3  El Verbo hecho carne   \n",
       "3        1      4  El Verbo hecho carne   \n",
       "4        1      5  El Verbo hecho carne   \n",
       "\n",
       "                                                                                      text  \\\n",
       "0              En el principio era el Verbo, y el Verbo era con Dios, y el Verbo era Dios.   \n",
       "1                                                       Este era en el principio con Dios.   \n",
       "2  Todas las cosas por él fueron hechas, y sin él nada de lo que ha sido hecho, fue hecho.   \n",
       "3                               En él estaba la vida, y la vida era la luz de los hombres.   \n",
       "4       La luz en las tinieblas resplandece, y las tinieblas no prevalecieron contra ella.   \n",
       "\n",
       "                                                                            source_url  \n",
       "0  https://www.biblia.es/biblia-buscar-libros-1.php?libro=juan&capitulo=1&version=rv60  \n",
       "1  https://www.biblia.es/biblia-buscar-libros-1.php?libro=juan&capitulo=1&version=rv60  \n",
       "2  https://www.biblia.es/biblia-buscar-libros-1.php?libro=juan&capitulo=1&version=rv60  \n",
       "3  https://www.biblia.es/biblia-buscar-libros-1.php?libro=juan&capitulo=1&version=rv60  \n",
       "4  https://www.biblia.es/biblia-buscar-libros-1.php?libro=juan&capitulo=1&version=rv60  "
      ]
     },
     "metadata": {},
     "output_type": "display_data"
    }
   ],
   "source": [
    "# Quick overview\n",
    "print(\"\\n🔍 First rows:\")\n",
    "display(df.head())"
   ]
  },
  {
   "cell_type": "code",
   "execution_count": 21,
   "id": "e96d7ab9",
   "metadata": {},
   "outputs": [
    {
     "name": "stdout",
     "output_type": "stream",
     "text": [
      "\n",
      "📊 Data info:\n",
      "<class 'pandas.core.frame.DataFrame'>\n",
      "RangeIndex: 879 entries, 0 to 878\n",
      "Data columns (total 5 columns):\n",
      " #   Column      Non-Null Count  Dtype \n",
      "---  ------      --------------  ----- \n",
      " 0   chapter     879 non-null    int64 \n",
      " 1   verse       879 non-null    int64 \n",
      " 2   subtitle    860 non-null    object\n",
      " 3   text        879 non-null    object\n",
      " 4   source_url  879 non-null    object\n",
      "dtypes: int64(2), object(3)\n",
      "memory usage: 34.5+ KB\n"
     ]
    }
   ],
   "source": [
    "print(\"\\n📊 Data info:\")\n",
    "df.info()"
   ]
  },
  {
   "cell_type": "code",
   "execution_count": 30,
   "id": "8dcaa69c",
   "metadata": {},
   "outputs": [
    {
     "data": {
      "text/plain": [
       "chapter          0\n",
       "verse            0\n",
       "subtitle        19\n",
       "text             0\n",
       "source_url       0\n",
       "verse_length     0\n",
       "dtype: int64"
      ]
     },
     "execution_count": 30,
     "metadata": {},
     "output_type": "execute_result"
    }
   ],
   "source": [
    "# Check if there are Null\n",
    "\n",
    "df.isnull().sum()\n"
   ]
  },
  {
   "cell_type": "code",
   "execution_count": 32,
   "id": "97df49ae",
   "metadata": {},
   "outputs": [
    {
     "data": {
      "application/vnd.microsoft.datawrangler.viewer.v0+json": {
       "columns": [
        {
         "name": "index",
         "rawType": "int64",
         "type": "integer"
        },
        {
         "name": "chapter",
         "rawType": "int64",
         "type": "integer"
        },
        {
         "name": "verse",
         "rawType": "int64",
         "type": "integer"
        },
        {
         "name": "subtitle",
         "rawType": "object",
         "type": "unknown"
        },
        {
         "name": "text",
         "rawType": "object",
         "type": "string"
        },
        {
         "name": "source_url",
         "rawType": "object",
         "type": "string"
        },
        {
         "name": "verse_length",
         "rawType": "int64",
         "type": "integer"
        }
       ],
       "conversionMethod": "pd.DataFrame",
       "ref": "e7327e5d-1043-4a3d-ab86-f25684bb50c4",
       "rows": [
        [
         "682",
         "16",
         "1",
         null,
         "Estas cosas os he hablado, para que no tengáis tropiezo.",
         "https://www.biblia.es/biblia-buscar-libros-1.php?libro=juan&capitulo=16&version=rv60",
         "56"
        ],
        [
         "683",
         "16",
         "2",
         null,
         "Os expulsarán de las sinagogas; y aun viene la hora cuando cualquiera que os mate, pensará que rinde servicio a Dios.",
         "https://www.biblia.es/biblia-buscar-libros-1.php?libro=juan&capitulo=16&version=rv60",
         "117"
        ],
        [
         "684",
         "16",
         "3",
         null,
         "Y harán esto porque no conocen al Padre ni a mí.",
         "https://www.biblia.es/biblia-buscar-libros-1.php?libro=juan&capitulo=16&version=rv60",
         "48"
        ],
        [
         "781",
         "19",
         "1",
         null,
         "Así que, entonces tomó Pilato a Jesús, y le azotó.",
         "https://www.biblia.es/biblia-buscar-libros-1.php?libro=juan&capitulo=19&version=rv60",
         "50"
        ],
        [
         "782",
         "19",
         "2",
         null,
         "Y los soldados entretejieron una corona de espinas, y la pusieron sobre su cabeza, y le vistieron con un manto de púrpura;",
         "https://www.biblia.es/biblia-buscar-libros-1.php?libro=juan&capitulo=19&version=rv60",
         "122"
        ],
        [
         "783",
         "19",
         "3",
         null,
         "y le decían: ¡Salve, Rey de los judíos! y le daban de bofetadas.",
         "https://www.biblia.es/biblia-buscar-libros-1.php?libro=juan&capitulo=19&version=rv60",
         "64"
        ],
        [
         "784",
         "19",
         "4",
         null,
         "Entonces Pilato salió otra vez, y les dijo: Mirad, os lo traigo fuera, para que entendáis que ningún delito hallo en él.",
         "https://www.biblia.es/biblia-buscar-libros-1.php?libro=juan&capitulo=19&version=rv60",
         "120"
        ],
        [
         "785",
         "19",
         "5",
         null,
         "Y salió Jesús, llevando la corona de espinas y el manto de púrpura. Y Pilato les dijo: ¡He aquí el hombre!",
         "https://www.biblia.es/biblia-buscar-libros-1.php?libro=juan&capitulo=19&version=rv60",
         "106"
        ],
        [
         "786",
         "19",
         "6",
         null,
         "Cuando le vieron los principales sacerdotes y los alguaciles, dieron voces, diciendo: ¡Crucifícale! ¡Crucifícale! Pilato les dijo: Tomadle vosotros, y crucificadle; porque yo no hallo delito en él.",
         "https://www.biblia.es/biblia-buscar-libros-1.php?libro=juan&capitulo=19&version=rv60",
         "197"
        ],
        [
         "787",
         "19",
         "7",
         null,
         "Los judíos le respondieron: Nosotros tenemos una ley, y según nuestra ley debe morir, porque se hizo a sí mismo Hijo de Dios.",
         "https://www.biblia.es/biblia-buscar-libros-1.php?libro=juan&capitulo=19&version=rv60",
         "125"
        ],
        [
         "788",
         "19",
         "8",
         null,
         "Cuando Pilato oyó decir esto, tuvo más miedo.",
         "https://www.biblia.es/biblia-buscar-libros-1.php?libro=juan&capitulo=19&version=rv60",
         "45"
        ],
        [
         "789",
         "19",
         "9",
         null,
         "Y entró otra vez en el pretorio, y dijo a Jesús: ¿De dónde eres tú? Mas Jesús no le dio respuesta.",
         "https://www.biblia.es/biblia-buscar-libros-1.php?libro=juan&capitulo=19&version=rv60",
         "98"
        ],
        [
         "790",
         "19",
         "10",
         null,
         "Entonces le dijo Pilato: ¿A mí no me hablas? ¿No sabes que tengo autoridad para crucificarte, y que tengo autoridad para soltarte?",
         "https://www.biblia.es/biblia-buscar-libros-1.php?libro=juan&capitulo=19&version=rv60",
         "130"
        ],
        [
         "791",
         "19",
         "11",
         null,
         "Respondió Jesús: Ninguna autoridad tendrías contra mí, si no te fuese dada de arriba; por tanto, el que a ti me ha entregado, mayor pecado tiene.",
         "https://www.biblia.es/biblia-buscar-libros-1.php?libro=juan&capitulo=19&version=rv60",
         "145"
        ],
        [
         "792",
         "19",
         "12",
         null,
         "Desde entonces procuraba Pilato soltarle; pero los judíos daban voces, diciendo: Si a éste sueltas, no eres amigo de César; todo el que se hace rey, a César se opone.",
         "https://www.biblia.es/biblia-buscar-libros-1.php?libro=juan&capitulo=19&version=rv60",
         "166"
        ],
        [
         "793",
         "19",
         "13",
         null,
         "Entonces Pilato, oyendo esto, llevó fuera a Jesús, y se sentó en el tribunal en el lugar llamado el Enlosado, y en hebreo Gabata.",
         "https://www.biblia.es/biblia-buscar-libros-1.php?libro=juan&capitulo=19&version=rv60",
         "129"
        ],
        [
         "794",
         "19",
         "14",
         null,
         "Era la preparación de la pascua, y como la hora sexta. Entonces dijo a los judíos: ¡He aquí vuestro Rey!",
         "https://www.biblia.es/biblia-buscar-libros-1.php?libro=juan&capitulo=19&version=rv60",
         "104"
        ],
        [
         "795",
         "19",
         "15",
         null,
         "Pero ellos gritaron: ¡Fuera, fuera, crucifícale! Pilato les dijo: ¿A vuestro Rey he de crucificar? Respondieron los principales sacerdotes: No tenemos más rey que César.",
         "https://www.biblia.es/biblia-buscar-libros-1.php?libro=juan&capitulo=19&version=rv60",
         "169"
        ],
        [
         "796",
         "19",
         "16",
         null,
         "Así que entonces lo entregó a ellos para que fuese crucificado. Tomaron, pues, a Jesús, y le llevaron.",
         "https://www.biblia.es/biblia-buscar-libros-1.php?libro=juan&capitulo=19&version=rv60",
         "102"
        ]
       ],
       "shape": {
        "columns": 6,
        "rows": 19
       }
      },
      "text/html": [
       "<div>\n",
       "<style scoped>\n",
       "    .dataframe tbody tr th:only-of-type {\n",
       "        vertical-align: middle;\n",
       "    }\n",
       "\n",
       "    .dataframe tbody tr th {\n",
       "        vertical-align: top;\n",
       "    }\n",
       "\n",
       "    .dataframe thead th {\n",
       "        text-align: right;\n",
       "    }\n",
       "</style>\n",
       "<table border=\"1\" class=\"dataframe\">\n",
       "  <thead>\n",
       "    <tr style=\"text-align: right;\">\n",
       "      <th></th>\n",
       "      <th>chapter</th>\n",
       "      <th>verse</th>\n",
       "      <th>subtitle</th>\n",
       "      <th>text</th>\n",
       "      <th>source_url</th>\n",
       "      <th>verse_length</th>\n",
       "    </tr>\n",
       "  </thead>\n",
       "  <tbody>\n",
       "    <tr>\n",
       "      <th>682</th>\n",
       "      <td>16</td>\n",
       "      <td>1</td>\n",
       "      <td>NaN</td>\n",
       "      <td>Estas cosas os he hablado, para que no tengáis tropiezo.</td>\n",
       "      <td>https://www.biblia.es/biblia-buscar-libros-1.php?libro=juan&amp;capitulo=16&amp;version=rv60</td>\n",
       "      <td>56</td>\n",
       "    </tr>\n",
       "    <tr>\n",
       "      <th>683</th>\n",
       "      <td>16</td>\n",
       "      <td>2</td>\n",
       "      <td>NaN</td>\n",
       "      <td>Os expulsarán de las sinagogas; y aun viene la hora cuando cualquiera que os mate, pensará que rinde servicio a Dios.</td>\n",
       "      <td>https://www.biblia.es/biblia-buscar-libros-1.php?libro=juan&amp;capitulo=16&amp;version=rv60</td>\n",
       "      <td>117</td>\n",
       "    </tr>\n",
       "    <tr>\n",
       "      <th>684</th>\n",
       "      <td>16</td>\n",
       "      <td>3</td>\n",
       "      <td>NaN</td>\n",
       "      <td>Y harán esto porque no conocen al Padre ni a mí.</td>\n",
       "      <td>https://www.biblia.es/biblia-buscar-libros-1.php?libro=juan&amp;capitulo=16&amp;version=rv60</td>\n",
       "      <td>48</td>\n",
       "    </tr>\n",
       "    <tr>\n",
       "      <th>781</th>\n",
       "      <td>19</td>\n",
       "      <td>1</td>\n",
       "      <td>NaN</td>\n",
       "      <td>Así que, entonces tomó Pilato a Jesús, y le azotó.</td>\n",
       "      <td>https://www.biblia.es/biblia-buscar-libros-1.php?libro=juan&amp;capitulo=19&amp;version=rv60</td>\n",
       "      <td>50</td>\n",
       "    </tr>\n",
       "    <tr>\n",
       "      <th>782</th>\n",
       "      <td>19</td>\n",
       "      <td>2</td>\n",
       "      <td>NaN</td>\n",
       "      <td>Y los soldados entretejieron una corona de espinas, y la pusieron sobre su cabeza, y le vistieron con un manto de púrpura;</td>\n",
       "      <td>https://www.biblia.es/biblia-buscar-libros-1.php?libro=juan&amp;capitulo=19&amp;version=rv60</td>\n",
       "      <td>122</td>\n",
       "    </tr>\n",
       "    <tr>\n",
       "      <th>783</th>\n",
       "      <td>19</td>\n",
       "      <td>3</td>\n",
       "      <td>NaN</td>\n",
       "      <td>y le decían: ¡Salve, Rey de los judíos! y le daban de bofetadas.</td>\n",
       "      <td>https://www.biblia.es/biblia-buscar-libros-1.php?libro=juan&amp;capitulo=19&amp;version=rv60</td>\n",
       "      <td>64</td>\n",
       "    </tr>\n",
       "    <tr>\n",
       "      <th>784</th>\n",
       "      <td>19</td>\n",
       "      <td>4</td>\n",
       "      <td>NaN</td>\n",
       "      <td>Entonces Pilato salió otra vez, y les dijo: Mirad, os lo traigo fuera, para que entendáis que ningún delito hallo en él.</td>\n",
       "      <td>https://www.biblia.es/biblia-buscar-libros-1.php?libro=juan&amp;capitulo=19&amp;version=rv60</td>\n",
       "      <td>120</td>\n",
       "    </tr>\n",
       "    <tr>\n",
       "      <th>785</th>\n",
       "      <td>19</td>\n",
       "      <td>5</td>\n",
       "      <td>NaN</td>\n",
       "      <td>Y salió Jesús, llevando la corona de espinas y el manto de púrpura. Y Pilato les dijo: ¡He aquí el hombre!</td>\n",
       "      <td>https://www.biblia.es/biblia-buscar-libros-1.php?libro=juan&amp;capitulo=19&amp;version=rv60</td>\n",
       "      <td>106</td>\n",
       "    </tr>\n",
       "    <tr>\n",
       "      <th>786</th>\n",
       "      <td>19</td>\n",
       "      <td>6</td>\n",
       "      <td>NaN</td>\n",
       "      <td>Cuando le vieron los principales sacerdotes y los alguaciles, dieron voces, diciendo: ¡Crucifícale! ¡Crucifícale! Pilato les dijo: Tomadle vosotros, y crucificadle; porque yo no hallo delito en él.</td>\n",
       "      <td>https://www.biblia.es/biblia-buscar-libros-1.php?libro=juan&amp;capitulo=19&amp;version=rv60</td>\n",
       "      <td>197</td>\n",
       "    </tr>\n",
       "    <tr>\n",
       "      <th>787</th>\n",
       "      <td>19</td>\n",
       "      <td>7</td>\n",
       "      <td>NaN</td>\n",
       "      <td>Los judíos le respondieron: Nosotros tenemos una ley, y según nuestra ley debe morir, porque se hizo a sí mismo Hijo de Dios.</td>\n",
       "      <td>https://www.biblia.es/biblia-buscar-libros-1.php?libro=juan&amp;capitulo=19&amp;version=rv60</td>\n",
       "      <td>125</td>\n",
       "    </tr>\n",
       "    <tr>\n",
       "      <th>788</th>\n",
       "      <td>19</td>\n",
       "      <td>8</td>\n",
       "      <td>NaN</td>\n",
       "      <td>Cuando Pilato oyó decir esto, tuvo más miedo.</td>\n",
       "      <td>https://www.biblia.es/biblia-buscar-libros-1.php?libro=juan&amp;capitulo=19&amp;version=rv60</td>\n",
       "      <td>45</td>\n",
       "    </tr>\n",
       "    <tr>\n",
       "      <th>789</th>\n",
       "      <td>19</td>\n",
       "      <td>9</td>\n",
       "      <td>NaN</td>\n",
       "      <td>Y entró otra vez en el pretorio, y dijo a Jesús: ¿De dónde eres tú? Mas Jesús no le dio respuesta.</td>\n",
       "      <td>https://www.biblia.es/biblia-buscar-libros-1.php?libro=juan&amp;capitulo=19&amp;version=rv60</td>\n",
       "      <td>98</td>\n",
       "    </tr>\n",
       "    <tr>\n",
       "      <th>790</th>\n",
       "      <td>19</td>\n",
       "      <td>10</td>\n",
       "      <td>NaN</td>\n",
       "      <td>Entonces le dijo Pilato: ¿A mí no me hablas? ¿No sabes que tengo autoridad para crucificarte, y que tengo autoridad para soltarte?</td>\n",
       "      <td>https://www.biblia.es/biblia-buscar-libros-1.php?libro=juan&amp;capitulo=19&amp;version=rv60</td>\n",
       "      <td>130</td>\n",
       "    </tr>\n",
       "    <tr>\n",
       "      <th>791</th>\n",
       "      <td>19</td>\n",
       "      <td>11</td>\n",
       "      <td>NaN</td>\n",
       "      <td>Respondió Jesús: Ninguna autoridad tendrías contra mí, si no te fuese dada de arriba; por tanto, el que a ti me ha entregado, mayor pecado tiene.</td>\n",
       "      <td>https://www.biblia.es/biblia-buscar-libros-1.php?libro=juan&amp;capitulo=19&amp;version=rv60</td>\n",
       "      <td>145</td>\n",
       "    </tr>\n",
       "    <tr>\n",
       "      <th>792</th>\n",
       "      <td>19</td>\n",
       "      <td>12</td>\n",
       "      <td>NaN</td>\n",
       "      <td>Desde entonces procuraba Pilato soltarle; pero los judíos daban voces, diciendo: Si a éste sueltas, no eres amigo de César; todo el que se hace rey, a César se opone.</td>\n",
       "      <td>https://www.biblia.es/biblia-buscar-libros-1.php?libro=juan&amp;capitulo=19&amp;version=rv60</td>\n",
       "      <td>166</td>\n",
       "    </tr>\n",
       "    <tr>\n",
       "      <th>793</th>\n",
       "      <td>19</td>\n",
       "      <td>13</td>\n",
       "      <td>NaN</td>\n",
       "      <td>Entonces Pilato, oyendo esto, llevó fuera a Jesús, y se sentó en el tribunal en el lugar llamado el Enlosado, y en hebreo Gabata.</td>\n",
       "      <td>https://www.biblia.es/biblia-buscar-libros-1.php?libro=juan&amp;capitulo=19&amp;version=rv60</td>\n",
       "      <td>129</td>\n",
       "    </tr>\n",
       "    <tr>\n",
       "      <th>794</th>\n",
       "      <td>19</td>\n",
       "      <td>14</td>\n",
       "      <td>NaN</td>\n",
       "      <td>Era la preparación de la pascua, y como la hora sexta. Entonces dijo a los judíos: ¡He aquí vuestro Rey!</td>\n",
       "      <td>https://www.biblia.es/biblia-buscar-libros-1.php?libro=juan&amp;capitulo=19&amp;version=rv60</td>\n",
       "      <td>104</td>\n",
       "    </tr>\n",
       "    <tr>\n",
       "      <th>795</th>\n",
       "      <td>19</td>\n",
       "      <td>15</td>\n",
       "      <td>NaN</td>\n",
       "      <td>Pero ellos gritaron: ¡Fuera, fuera, crucifícale! Pilato les dijo: ¿A vuestro Rey he de crucificar? Respondieron los principales sacerdotes: No tenemos más rey que César.</td>\n",
       "      <td>https://www.biblia.es/biblia-buscar-libros-1.php?libro=juan&amp;capitulo=19&amp;version=rv60</td>\n",
       "      <td>169</td>\n",
       "    </tr>\n",
       "    <tr>\n",
       "      <th>796</th>\n",
       "      <td>19</td>\n",
       "      <td>16</td>\n",
       "      <td>NaN</td>\n",
       "      <td>Así que entonces lo entregó a ellos para que fuese crucificado. Tomaron, pues, a Jesús, y le llevaron.</td>\n",
       "      <td>https://www.biblia.es/biblia-buscar-libros-1.php?libro=juan&amp;capitulo=19&amp;version=rv60</td>\n",
       "      <td>102</td>\n",
       "    </tr>\n",
       "  </tbody>\n",
       "</table>\n",
       "</div>"
      ],
      "text/plain": [
       "     chapter  verse subtitle  \\\n",
       "682       16      1      NaN   \n",
       "683       16      2      NaN   \n",
       "684       16      3      NaN   \n",
       "781       19      1      NaN   \n",
       "782       19      2      NaN   \n",
       "783       19      3      NaN   \n",
       "784       19      4      NaN   \n",
       "785       19      5      NaN   \n",
       "786       19      6      NaN   \n",
       "787       19      7      NaN   \n",
       "788       19      8      NaN   \n",
       "789       19      9      NaN   \n",
       "790       19     10      NaN   \n",
       "791       19     11      NaN   \n",
       "792       19     12      NaN   \n",
       "793       19     13      NaN   \n",
       "794       19     14      NaN   \n",
       "795       19     15      NaN   \n",
       "796       19     16      NaN   \n",
       "\n",
       "                                                                                                                                                                                                      text  \\\n",
       "682                                                                                                                                               Estas cosas os he hablado, para que no tengáis tropiezo.   \n",
       "683                                                                                  Os expulsarán de las sinagogas; y aun viene la hora cuando cualquiera que os mate, pensará que rinde servicio a Dios.   \n",
       "684                                                                                                                                                       Y harán esto porque no conocen al Padre ni a mí.   \n",
       "781                                                                                                                                                     Así que, entonces tomó Pilato a Jesús, y le azotó.   \n",
       "782                                                                             Y los soldados entretejieron una corona de espinas, y la pusieron sobre su cabeza, y le vistieron con un manto de púrpura;   \n",
       "783                                                                                                                                       y le decían: ¡Salve, Rey de los judíos! y le daban de bofetadas.   \n",
       "784                                                                               Entonces Pilato salió otra vez, y les dijo: Mirad, os lo traigo fuera, para que entendáis que ningún delito hallo en él.   \n",
       "785                                                                                             Y salió Jesús, llevando la corona de espinas y el manto de púrpura. Y Pilato les dijo: ¡He aquí el hombre!   \n",
       "786  Cuando le vieron los principales sacerdotes y los alguaciles, dieron voces, diciendo: ¡Crucifícale! ¡Crucifícale! Pilato les dijo: Tomadle vosotros, y crucificadle; porque yo no hallo delito en él.   \n",
       "787                                                                          Los judíos le respondieron: Nosotros tenemos una ley, y según nuestra ley debe morir, porque se hizo a sí mismo Hijo de Dios.   \n",
       "788                                                                                                                                                          Cuando Pilato oyó decir esto, tuvo más miedo.   \n",
       "789                                                                                                     Y entró otra vez en el pretorio, y dijo a Jesús: ¿De dónde eres tú? Mas Jesús no le dio respuesta.   \n",
       "790                                                                     Entonces le dijo Pilato: ¿A mí no me hablas? ¿No sabes que tengo autoridad para crucificarte, y que tengo autoridad para soltarte?   \n",
       "791                                                      Respondió Jesús: Ninguna autoridad tendrías contra mí, si no te fuese dada de arriba; por tanto, el que a ti me ha entregado, mayor pecado tiene.   \n",
       "792                                 Desde entonces procuraba Pilato soltarle; pero los judíos daban voces, diciendo: Si a éste sueltas, no eres amigo de César; todo el que se hace rey, a César se opone.   \n",
       "793                                                                      Entonces Pilato, oyendo esto, llevó fuera a Jesús, y se sentó en el tribunal en el lugar llamado el Enlosado, y en hebreo Gabata.   \n",
       "794                                                                                               Era la preparación de la pascua, y como la hora sexta. Entonces dijo a los judíos: ¡He aquí vuestro Rey!   \n",
       "795                              Pero ellos gritaron: ¡Fuera, fuera, crucifícale! Pilato les dijo: ¿A vuestro Rey he de crucificar? Respondieron los principales sacerdotes: No tenemos más rey que César.   \n",
       "796                                                                                                 Así que entonces lo entregó a ellos para que fuese crucificado. Tomaron, pues, a Jesús, y le llevaron.   \n",
       "\n",
       "                                                                               source_url  \\\n",
       "682  https://www.biblia.es/biblia-buscar-libros-1.php?libro=juan&capitulo=16&version=rv60   \n",
       "683  https://www.biblia.es/biblia-buscar-libros-1.php?libro=juan&capitulo=16&version=rv60   \n",
       "684  https://www.biblia.es/biblia-buscar-libros-1.php?libro=juan&capitulo=16&version=rv60   \n",
       "781  https://www.biblia.es/biblia-buscar-libros-1.php?libro=juan&capitulo=19&version=rv60   \n",
       "782  https://www.biblia.es/biblia-buscar-libros-1.php?libro=juan&capitulo=19&version=rv60   \n",
       "783  https://www.biblia.es/biblia-buscar-libros-1.php?libro=juan&capitulo=19&version=rv60   \n",
       "784  https://www.biblia.es/biblia-buscar-libros-1.php?libro=juan&capitulo=19&version=rv60   \n",
       "785  https://www.biblia.es/biblia-buscar-libros-1.php?libro=juan&capitulo=19&version=rv60   \n",
       "786  https://www.biblia.es/biblia-buscar-libros-1.php?libro=juan&capitulo=19&version=rv60   \n",
       "787  https://www.biblia.es/biblia-buscar-libros-1.php?libro=juan&capitulo=19&version=rv60   \n",
       "788  https://www.biblia.es/biblia-buscar-libros-1.php?libro=juan&capitulo=19&version=rv60   \n",
       "789  https://www.biblia.es/biblia-buscar-libros-1.php?libro=juan&capitulo=19&version=rv60   \n",
       "790  https://www.biblia.es/biblia-buscar-libros-1.php?libro=juan&capitulo=19&version=rv60   \n",
       "791  https://www.biblia.es/biblia-buscar-libros-1.php?libro=juan&capitulo=19&version=rv60   \n",
       "792  https://www.biblia.es/biblia-buscar-libros-1.php?libro=juan&capitulo=19&version=rv60   \n",
       "793  https://www.biblia.es/biblia-buscar-libros-1.php?libro=juan&capitulo=19&version=rv60   \n",
       "794  https://www.biblia.es/biblia-buscar-libros-1.php?libro=juan&capitulo=19&version=rv60   \n",
       "795  https://www.biblia.es/biblia-buscar-libros-1.php?libro=juan&capitulo=19&version=rv60   \n",
       "796  https://www.biblia.es/biblia-buscar-libros-1.php?libro=juan&capitulo=19&version=rv60   \n",
       "\n",
       "     verse_length  \n",
       "682            56  \n",
       "683           117  \n",
       "684            48  \n",
       "781            50  \n",
       "782           122  \n",
       "783            64  \n",
       "784           120  \n",
       "785           106  \n",
       "786           197  \n",
       "787           125  \n",
       "788            45  \n",
       "789            98  \n",
       "790           130  \n",
       "791           145  \n",
       "792           166  \n",
       "793           129  \n",
       "794           104  \n",
       "795           169  \n",
       "796           102  "
      ]
     },
     "execution_count": 32,
     "metadata": {},
     "output_type": "execute_result"
    }
   ],
   "source": [
    "df[df.isnull().any(axis=1)]\n"
   ]
  },
  {
   "cell_type": "code",
   "execution_count": 22,
   "id": "f63df792",
   "metadata": {},
   "outputs": [
    {
     "name": "stdout",
     "output_type": "stream",
     "text": [
      "\n",
      "🧾 Basic stats:\n"
     ]
    },
    {
     "data": {
      "application/vnd.microsoft.datawrangler.viewer.v0+json": {
       "columns": [
        {
         "name": "index",
         "rawType": "object",
         "type": "string"
        },
        {
         "name": "chapter",
         "rawType": "float64",
         "type": "float"
        },
        {
         "name": "verse",
         "rawType": "float64",
         "type": "float"
        },
        {
         "name": "subtitle",
         "rawType": "object",
         "type": "unknown"
        },
        {
         "name": "text",
         "rawType": "object",
         "type": "unknown"
        },
        {
         "name": "source_url",
         "rawType": "object",
         "type": "unknown"
        }
       ],
       "conversionMethod": "pd.DataFrame",
       "ref": "7d9c43f6-797b-45e3-ab3d-7cfc04dbc70f",
       "rows": [
        [
         "count",
         "879.0",
         "879.0",
         "860",
         "879",
         "879"
        ],
        [
         "unique",
         null,
         null,
         "82",
         "879",
         "21"
        ],
        [
         "top",
         null,
         null,
         "Jesús y la mujer samaritana",
         "Y hay también otras muchas cosas que hizo Jesús, las cuales si se escribieran una por una, pienso que ni aun en el mundo cabrían los libros que se habrían de escribir. Amén.",
         "https://www.biblia.es/biblia-buscar-libros-1.php?libro=juan&capitulo=6&version=rv60"
        ],
        [
         "freq",
         null,
         null,
         "42",
         "1",
         "71"
        ],
        [
         "mean",
         "10.137656427758817",
         "23.265073947667805",
         null,
         null,
         null
        ],
        [
         "std",
         "5.727918238661762",
         "15.043719043307703",
         null,
         null,
         null
        ],
        [
         "min",
         "1.0",
         "1.0",
         null,
         null,
         null
        ],
        [
         "25%",
         "6.0",
         "11.0",
         null,
         null,
         null
        ],
        [
         "50%",
         "10.0",
         "21.0",
         null,
         null,
         null
        ],
        [
         "75%",
         "15.0",
         "33.0",
         null,
         null,
         null
        ],
        [
         "max",
         "21.0",
         "71.0",
         null,
         null,
         null
        ]
       ],
       "shape": {
        "columns": 5,
        "rows": 11
       }
      },
      "text/html": [
       "<div>\n",
       "<style scoped>\n",
       "    .dataframe tbody tr th:only-of-type {\n",
       "        vertical-align: middle;\n",
       "    }\n",
       "\n",
       "    .dataframe tbody tr th {\n",
       "        vertical-align: top;\n",
       "    }\n",
       "\n",
       "    .dataframe thead th {\n",
       "        text-align: right;\n",
       "    }\n",
       "</style>\n",
       "<table border=\"1\" class=\"dataframe\">\n",
       "  <thead>\n",
       "    <tr style=\"text-align: right;\">\n",
       "      <th></th>\n",
       "      <th>chapter</th>\n",
       "      <th>verse</th>\n",
       "      <th>subtitle</th>\n",
       "      <th>text</th>\n",
       "      <th>source_url</th>\n",
       "    </tr>\n",
       "  </thead>\n",
       "  <tbody>\n",
       "    <tr>\n",
       "      <th>count</th>\n",
       "      <td>879.000000</td>\n",
       "      <td>879.000000</td>\n",
       "      <td>860</td>\n",
       "      <td>879</td>\n",
       "      <td>879</td>\n",
       "    </tr>\n",
       "    <tr>\n",
       "      <th>unique</th>\n",
       "      <td>NaN</td>\n",
       "      <td>NaN</td>\n",
       "      <td>82</td>\n",
       "      <td>879</td>\n",
       "      <td>21</td>\n",
       "    </tr>\n",
       "    <tr>\n",
       "      <th>top</th>\n",
       "      <td>NaN</td>\n",
       "      <td>NaN</td>\n",
       "      <td>Jesús y la mujer samaritana</td>\n",
       "      <td>Y hay también otras muchas cosas que hizo Jesús, las cuales si se escribieran una por una, pienso que ni aun en el mundo cabrían los libros que se habrían de escribir. Amén.</td>\n",
       "      <td>https://www.biblia.es/biblia-buscar-libros-1.php?libro=juan&amp;capitulo=6&amp;version=rv60</td>\n",
       "    </tr>\n",
       "    <tr>\n",
       "      <th>freq</th>\n",
       "      <td>NaN</td>\n",
       "      <td>NaN</td>\n",
       "      <td>42</td>\n",
       "      <td>1</td>\n",
       "      <td>71</td>\n",
       "    </tr>\n",
       "    <tr>\n",
       "      <th>mean</th>\n",
       "      <td>10.137656</td>\n",
       "      <td>23.265074</td>\n",
       "      <td>NaN</td>\n",
       "      <td>NaN</td>\n",
       "      <td>NaN</td>\n",
       "    </tr>\n",
       "    <tr>\n",
       "      <th>std</th>\n",
       "      <td>5.727918</td>\n",
       "      <td>15.043719</td>\n",
       "      <td>NaN</td>\n",
       "      <td>NaN</td>\n",
       "      <td>NaN</td>\n",
       "    </tr>\n",
       "    <tr>\n",
       "      <th>min</th>\n",
       "      <td>1.000000</td>\n",
       "      <td>1.000000</td>\n",
       "      <td>NaN</td>\n",
       "      <td>NaN</td>\n",
       "      <td>NaN</td>\n",
       "    </tr>\n",
       "    <tr>\n",
       "      <th>25%</th>\n",
       "      <td>6.000000</td>\n",
       "      <td>11.000000</td>\n",
       "      <td>NaN</td>\n",
       "      <td>NaN</td>\n",
       "      <td>NaN</td>\n",
       "    </tr>\n",
       "    <tr>\n",
       "      <th>50%</th>\n",
       "      <td>10.000000</td>\n",
       "      <td>21.000000</td>\n",
       "      <td>NaN</td>\n",
       "      <td>NaN</td>\n",
       "      <td>NaN</td>\n",
       "    </tr>\n",
       "    <tr>\n",
       "      <th>75%</th>\n",
       "      <td>15.000000</td>\n",
       "      <td>33.000000</td>\n",
       "      <td>NaN</td>\n",
       "      <td>NaN</td>\n",
       "      <td>NaN</td>\n",
       "    </tr>\n",
       "    <tr>\n",
       "      <th>max</th>\n",
       "      <td>21.000000</td>\n",
       "      <td>71.000000</td>\n",
       "      <td>NaN</td>\n",
       "      <td>NaN</td>\n",
       "      <td>NaN</td>\n",
       "    </tr>\n",
       "  </tbody>\n",
       "</table>\n",
       "</div>"
      ],
      "text/plain": [
       "           chapter       verse                     subtitle  \\\n",
       "count   879.000000  879.000000                          860   \n",
       "unique         NaN         NaN                           82   \n",
       "top            NaN         NaN  Jesús y la mujer samaritana   \n",
       "freq           NaN         NaN                           42   \n",
       "mean     10.137656   23.265074                          NaN   \n",
       "std       5.727918   15.043719                          NaN   \n",
       "min       1.000000    1.000000                          NaN   \n",
       "25%       6.000000   11.000000                          NaN   \n",
       "50%      10.000000   21.000000                          NaN   \n",
       "75%      15.000000   33.000000                          NaN   \n",
       "max      21.000000   71.000000                          NaN   \n",
       "\n",
       "                                                                                                                                                                                 text  \\\n",
       "count                                                                                                                                                                             879   \n",
       "unique                                                                                                                                                                            879   \n",
       "top     Y hay también otras muchas cosas que hizo Jesús, las cuales si se escribieran una por una, pienso que ni aun en el mundo cabrían los libros que se habrían de escribir. Amén.   \n",
       "freq                                                                                                                                                                                1   \n",
       "mean                                                                                                                                                                              NaN   \n",
       "std                                                                                                                                                                               NaN   \n",
       "min                                                                                                                                                                               NaN   \n",
       "25%                                                                                                                                                                               NaN   \n",
       "50%                                                                                                                                                                               NaN   \n",
       "75%                                                                                                                                                                               NaN   \n",
       "max                                                                                                                                                                               NaN   \n",
       "\n",
       "                                                                                 source_url  \n",
       "count                                                                                   879  \n",
       "unique                                                                                   21  \n",
       "top     https://www.biblia.es/biblia-buscar-libros-1.php?libro=juan&capitulo=6&version=rv60  \n",
       "freq                                                                                     71  \n",
       "mean                                                                                    NaN  \n",
       "std                                                                                     NaN  \n",
       "min                                                                                     NaN  \n",
       "25%                                                                                     NaN  \n",
       "50%                                                                                     NaN  \n",
       "75%                                                                                     NaN  \n",
       "max                                                                                     NaN  "
      ]
     },
     "metadata": {},
     "output_type": "display_data"
    }
   ],
   "source": [
    "print(\"\\n🧾 Basic stats:\")\n",
    "display(df.describe(include=\"all\"))\n"
   ]
  },
  {
   "cell_type": "code",
   "execution_count": 36,
   "id": "f47f5a6b",
   "metadata": {},
   "outputs": [
    {
     "data": {
      "image/png": "[encoded data removed]",
      "text/plain": [
       "<Figure size 1200x600 with 1 Axes>"
      ]
     },
     "metadata": {},
     "output_type": "display_data"
    }
   ],
   "source": [
    "# Verses per chapter\n",
    "plt.figure(figsize=(12, 6))\n",
    "palette = sns.color_palette(\"Blues\", as_cmap=True)\n",
    "normalized_colors = palette(verses_per_chapter[\"verse_count\"] / verses_per_chapter[\"verse_count\"].max()).tolist()\n",
    "\n",
    "sns.barplot(\n",
    "    data=verses_per_chapter,\n",
    "    x=\"chapter\",\n",
    "    y=\"verse_count\",\n",
    "    hue=\"chapter\",\n",
    "    palette=normalized_colors,\n",
    "    dodge=False,\n",
    "    legend=False\n",
    ")\n",
    "plt.title(\"Verse Count per Chapter\", fontsize=16, fontweight=\"bold\")\n",
    "plt.xlabel(\"Chapter\", fontsize=14)\n",
    "plt.ylabel(\"Verse Count\", fontsize=14)\n",
    "plt.xticks(fontsize=12)\n",
    "plt.yticks(fontsize=12)\n",
    "sns.despine()\n",
    "plt.tight_layout()\n",
    "plt.show()\n"
   ]
  },
  {
   "cell_type": "code",
   "execution_count": 29,
   "id": "3ba3aebe",
   "metadata": {},
   "outputs": [
    {
     "name": "stdout",
     "output_type": "stream",
     "text": [
      "\n",
      "📚 Unique subtitles:\n"
     ]
    },
    {
     "data": {
      "text/plain": [
       "subtitle\n",
       "Jesús y la mujer samaritana                42\n",
       "Jesús, el pan de vida                      35\n",
       "Jesús ora por sus discípulos               26\n",
       "Los fariseos interrogan al ciego sanado    22\n",
       "Los judíos rechazan a Jesús                21\n",
       "                                           ..\n",
       "Ríos de agua viva                           3\n",
       "Jesús anuncia la negación de Pedro          3\n",
       "Pedro niega a Jesús                         3\n",
       "Jesús ante el sumo sacerdote                3\n",
       "El propósito del libro                      2\n",
       "Name: count, Length: 82, dtype: int64"
      ]
     },
     "metadata": {},
     "output_type": "display_data"
    }
   ],
   "source": [
    "# Unique subtitles\n",
    "print(\"\\n📚 Unique subtitles:\")\n",
    "display(df[\"subtitle\"].value_counts())"
   ]
  },
  {
   "cell_type": "code",
   "execution_count": 37,
   "id": "805ee3b0",
   "metadata": {},
   "outputs": [
    {
     "data": {
      "image/png": "[encoded data removed]",
      "text/plain": [
       "<Figure size 1200x600 with 1 Axes>"
      ]
     },
     "metadata": {},
     "output_type": "display_data"
    }
   ],
   "source": [
    "# Average verse length per chapter\n",
    "df[\"verse_length\"] = df[\"text\"].str.len()\n",
    "length_stats = df.groupby(\"chapter\")[\"verse_length\"].mean()\n",
    "\n",
    "plt.figure(figsize=(12, 6))\n",
    "sns.lineplot(\n",
    "    x=length_stats.index, \n",
    "    y=length_stats.values, \n",
    "    marker=\"o\", \n",
    "    linewidth=2.5, \n",
    "    color=\"royalblue\"\n",
    ")\n",
    "plt.title(\"Average Verse Length by Chapter\", fontsize=18, fontweight=\"bold\")\n",
    "plt.xlabel(\"Chapter\", fontsize=14)\n",
    "plt.ylabel(\"Average Length (Characters)\", fontsize=14)\n",
    "plt.xticks(ticks=np.arange(1, 22, 1), fontsize=12)\n",
    "plt.yticks(fontsize=12)\n",
    "sns.despine()\n",
    "plt.grid(visible=True, linestyle=\"--\", alpha=0.6)\n",
    "plt.tight_layout()\n",
    "plt.show()\n"
   ]
  },
  {
   "cell_type": "code",
   "execution_count": 28,
   "id": "2504e026",
   "metadata": {},
   "outputs": [
    {
     "name": "stdout",
     "output_type": "stream",
     "text": [
      "\n",
      "📌 One verse per subtitle:\n"
     ]
    },
    {
     "data": {
      "application/vnd.microsoft.datawrangler.viewer.v0+json": {
       "columns": [
        {
         "name": "index",
         "rawType": "int64",
         "type": "integer"
        },
        {
         "name": "chapter",
         "rawType": "int64",
         "type": "integer"
        },
        {
         "name": "verse",
         "rawType": "int64",
         "type": "integer"
        },
        {
         "name": "subtitle",
         "rawType": "object",
         "type": "string"
        },
        {
         "name": "text",
         "rawType": "object",
         "type": "string"
        }
       ],
       "conversionMethod": "pd.DataFrame",
       "ref": "e93eab7e-106b-4afc-9bc3-dcdedd437469",
       "rows": [
        [
         "0",
         "8",
         "21",
         "A donde yo voy, vosotros no podéis venir",
         "Otra vez les dijo Jesús: Yo me voy, y me buscaréis, pero en vuestro pecado moriréis; a donde yo voy, vosotros no podéis venir."
        ],
        [
         "1",
         "6",
         "1",
         "Alimentación de los cinco mil",
         "Después de esto, Jesús fue al otro lado del mar de Galilea, el de Tiberias."
        ],
        [
         "2",
         "18",
         "19",
         "Anás interroga a Jesús",
         "Y el sumo sacerdote preguntó a Jesús acerca de sus discípulos y de su doctrina."
        ],
        [
         "3",
         "21",
         "15",
         "Apacienta mis ovejas",
         "Cuando hubieron comido, Jesús dijo a Simón Pedro: Simón, hijo de Jonás, ¿me amas más que éstos? Le respondió: Sí, Señor; tú sabes que te amo. El le dijo: Apacienta mis corderos."
        ],
        [
         "4",
         "18",
         "1",
         "Arresto de Jesús",
         "Habiendo dicho Jesús estas cosas, salió con sus discípulos al otro lado del torrente de Cedrón, donde había un huerto, en el cual entró con sus discípulos."
        ],
        [
         "5",
         "9",
         "35",
         "Ceguera espiritual",
         "Oyó Jesús que le habían expulsado; y hallándole, le dijo: ¿Crees tú en el Hijo de Dios?"
        ],
        [
         "6",
         "19",
         "17",
         "Crucifixión y muerte de Jesús",
         "Y él, cargando su cruz, salió al lugar llamado de la Calavera, y en hebreo, Gólgota;"
        ],
        [
         "7",
         "3",
         "16",
         "De tal manera amó Dios al mundo",
         "Porque de tal manera amó Dios al mundo, que ha dado a su Hijo unigénito, para que todo aquel que en él cree, no se pierda, mas tenga vida eterna."
        ],
        [
         "8",
         "7",
         "40",
         "División entre la gente",
         "Entonces algunos de la multitud, oyendo estas palabras, decían: Verdaderamente éste es el profeta."
        ],
        [
         "9",
         "1",
         "29",
         "El Cordero de Dios",
         "El siguiente día vio Juan a Jesús que venía a él, y dijo: He aquí el Cordero de Dios, que quita el pecado del mundo."
        ],
        [
         "10",
         "1",
         "1",
         "El Verbo hecho carne",
         "En el principio era el Verbo, y el Verbo era con Dios, y el Verbo era Dios."
        ],
        [
         "11",
         "3",
         "22",
         "El amigo del esposo",
         "Después de esto, vino Jesús con sus discípulos a la tierra de Judea, y estuvo allí con ellos, y bautizaba."
        ],
        [
         "12",
         "12",
         "9",
         "El complot contra Lázaro",
         "Gran multitud de los judíos supieron entonces que él estaba allí, y vinieron, no solamente por causa de Jesús, sino también para ver a Lázaro, a quien había resucitado de los muertos."
        ],
        [
         "13",
         "11",
         "45",
         "El complot para matar a Jesús",
         "Entonces muchos de los judíos que habían venido para acompañar a María, y vieron lo que hizo Jesús, creyeron en él."
        ],
        [
         "14",
         "19",
         "31",
         "El costado de Jesús traspasado",
         "Entonces los judíos, por cuanto era la preparación de la pascua, a fin de que los cuerpos no quedasen en la cruz en el día de reposo (pues aquel día de reposo era de gran solemnidad), rogaron a Pilato que se les quebrasen las piernas, y fuesen quitados de allí."
        ],
        [
         "15",
         "21",
         "20",
         "El discípulo amado",
         "Volviéndose Pedro, vio que les seguía el discípulo a quien amaba Jesús, el mismo que en la cena se había recostado al lado de él, y le había dicho: Señor, ¿quién es el que te ha de entregar?"
        ],
        [
         "16",
         "15",
         "18",
         "El mundo os aborrecerá",
         "Si el mundo os aborrece, sabed que a mí me ha aborrecido antes que a vosotros."
        ],
        [
         "17",
         "13",
         "31",
         "El nuevo mandamiento",
         "Entonces, cuando hubo salido, dijo Jesús: Ahora es glorificado el Hijo del Hombre, y Dios es glorificado en él."
        ],
        [
         "18",
         "5",
         "1",
         "El paralítico de Betesda",
         "Después de estas cosas había una fiesta de los judíos, y subió Jesús a Jerusalén."
        ],
        [
         "19",
         "20",
         "30",
         "El propósito del libro",
         "Hizo además Jesús muchas otras señales en presencia de sus discípulos, las cuales no están escritas en este libro."
        ],
        [
         "20",
         "3",
         "31",
         "El que viene de arriba",
         "El que de arriba viene, es sobre todos; el que es de la tierra, es terrenal, y cosas terrenales habla; el que viene del cielo, es sobre todos."
        ],
        [
         "21",
         "20",
         "24",
         "Incredulidad de Tomás",
         "Pero Tomás, uno de los doce, llamado Dídimo, no estaba con ellos cuando Jesús vino."
        ],
        [
         "22",
         "7",
         "1",
         "Incredulidad de los hermanos de Jesús",
         "Después de estas cosas, andaba Jesús en Galilea; pues no quería andar en Judea, porque los judíos procuraban matarle."
        ],
        [
         "23",
         "12",
         "37",
         "Incredulidad de los judíos",
         "Pero a pesar de que había hecho tantas señales delante de ellos, no creían en él;"
        ],
        [
         "24",
         "6",
         "16",
         "Jesús anda sobre el mar",
         "Al anochecer, descendieron sus discípulos al mar,"
        ],
        [
         "25",
         "18",
         "28",
         "Jesús ante Pilato",
         "Llevaron a Jesús de casa de Caifás al pretorio. Era de mañana, y ellos no entraron en el pretorio para no contaminarse, y así poder comer la pascua."
        ],
        [
         "26",
         "18",
         "12",
         "Jesús ante el sumo sacerdote",
         "Entonces la compañía de soldados, el tribuno y los alguaciles de los judíos, prendieron a Jesús y le ataron,"
        ],
        [
         "27",
         "13",
         "36",
         "Jesús anuncia la negación de Pedro",
         "Le dijo Simón Pedro: Señor, ¿a dónde vas? Jesús le respondió: A donde yo voy, no me puedes seguir ahora; mas me seguirás después."
        ],
        [
         "28",
         "13",
         "21",
         "Jesús anuncia la traición de Judas",
         "Habiendo dicho Jesús esto, se conmovió en espíritu, y declaró y dijo: De cierto, de cierto os digo, que uno de vosotros me va a entregar."
        ],
        [
         "29",
         "12",
         "27",
         "Jesús anuncia su muerte",
         "Ahora está turbada mi alma; ¿y qué diré? ¿Padre, sálvame de esta hora? Mas para esto he llegado a esta hora."
        ],
        [
         "30",
         "2",
         "23",
         "Jesús conoce a todos los hombres",
         "Estando en Jerusalén en la fiesta de la pascua, muchos creyeron en su nombre, viendo las señales que hacía."
        ],
        [
         "31",
         "7",
         "10",
         "Jesús en la fiesta de los tabernáculos",
         "Pero después que sus hermanos habían subido, entonces él también subió a la fiesta, no abiertamente, sino como en secreto."
        ],
        [
         "32",
         "19",
         "38",
         "Jesús es sepultado",
         "Después de todo esto, José de Arimatea, que era discípulo de Jesús, pero secretamente por miedo de los judíos, rogó a Pilato que le permitiese llevarse el cuerpo de Jesús; y Pilato se lo concedió. Entonces vino, y se llevó el cuerpo de Jesús."
        ],
        [
         "33",
         "12",
         "1",
         "Jesús es ungido en Betania",
         "Seis días antes de la pascua, vino Jesús a Betania, donde estaba Lázaro, el que había estado muerto, y a quien había resucitado de los muertos."
        ],
        [
         "34",
         "13",
         "1",
         "Jesús lava los pies de sus discípulos",
         "Antes de la fiesta de la pascua, sabiendo Jesús que su hora había llegado para que pasase de este mundo al Padre, como había amado a los suyos que estaban en el mundo, los amó hasta el fin."
        ],
        [
         "35",
         "1",
         "43",
         "Jesús llama a Felipe y a Natanael",
         "El siguiente día quiso Jesús ir a Galilea, y halló a Felipe, y le dijo: Sígueme."
        ],
        [
         "36",
         "11",
         "28",
         "Jesús llora ante la tumba de Lázaro",
         "Habiendo dicho esto, fue y llamó a María su hermana, diciéndole en secreto: El Maestro está aquí y te llama."
        ],
        [
         "37",
         "17",
         "1",
         "Jesús ora por sus discípulos",
         "Estas cosas habló Jesús, y levantando los ojos al cielo, dijo: Padre, la hora ha llegado; glorifica a tu Hijo, para que también tu Hijo te glorifique a ti;"
        ],
        [
         "38",
         "2",
         "13",
         "Jesús purifica el templo",
         "Estaba cerca la pascua de los judíos; y subió Jesús a Jerusalén,"
        ],
        [
         "39",
         "9",
         "1",
         "Jesús sana a un ciego de nacimiento",
         "Al pasar Jesús, vio a un hombre ciego de nacimiento."
        ],
        [
         "40",
         "4",
         "43",
         "Jesús sana al hijo de un noble",
         "Dos días después, salió de allí y fue a Galilea."
        ],
        [
         "41",
         "20",
         "11",
         "Jesús se aparece a María Magdalena",
         "Pero María estaba fuera llorando junto al sepulcro; y mientras lloraba, se inclinó para mirar dentro del sepulcro;"
        ],
        [
         "42",
         "20",
         "19",
         "Jesús se aparece a los discípulos",
         "Cuando llegó la noche de aquel mismo día, el primero de la semana, estando las puertas cerradas en el lugar donde los discípulos estaban reunidos por miedo de los judíos, vino Jesús, y puesto en medio, les dijo: Paz a vosotros."
        ],
        [
         "43",
         "21",
         "1",
         "Jesús se aparece a siete de sus discípulos",
         "Después de esto, Jesús se manifestó otra vez a sus discípulos junto al mar de Tiberias; y se manifestó de esta manera:"
        ],
        [
         "44",
         "3",
         "1",
         "Jesús y Nicodemo",
         "Había un hombre de los fariseos que se llamaba Nicodemo, un principal entre los judíos."
        ],
        [
         "45",
         "4",
         "1",
         "Jesús y la mujer samaritana",
         "Cuando, pues, el Señor entendió que los fariseos habían oído decir: Jesús hace y bautiza más discípulos que Juan"
        ],
        [
         "46",
         "10",
         "7",
         "Jesús, el buen pastor",
         "Volvió, pues, Jesús a decirles: De cierto, de cierto os digo: Yo soy la puerta de las ovejas."
        ],
        [
         "47",
         "14",
         "1",
         "Jesús, el camino al Padre",
         "No se turbe vuestro corazón; creéis en Dios, creed también en mí."
        ],
        [
         "48",
         "6",
         "25",
         "Jesús, el pan de vida",
         "Y hallándole al otro lado del mar, le dijeron: Rabí, ¿cuándo llegaste acá?"
        ],
        [
         "49",
         "8",
         "12",
         "Jesús, la luz del mundo",
         "Otra vez Jesús les habló, diciendo:Yo soy la luz del mundo; el que me sigue, no andará en tinieblas, sino que tendrá la luz de la vida."
        ]
       ],
       "shape": {
        "columns": 4,
        "rows": 82
       }
      },
      "text/html": [
       "<div>\n",
       "<style scoped>\n",
       "    .dataframe tbody tr th:only-of-type {\n",
       "        vertical-align: middle;\n",
       "    }\n",
       "\n",
       "    .dataframe tbody tr th {\n",
       "        vertical-align: top;\n",
       "    }\n",
       "\n",
       "    .dataframe thead th {\n",
       "        text-align: right;\n",
       "    }\n",
       "</style>\n",
       "<table border=\"1\" class=\"dataframe\">\n",
       "  <thead>\n",
       "    <tr style=\"text-align: right;\">\n",
       "      <th></th>\n",
       "      <th>chapter</th>\n",
       "      <th>verse</th>\n",
       "      <th>subtitle</th>\n",
       "      <th>text</th>\n",
       "    </tr>\n",
       "  </thead>\n",
       "  <tbody>\n",
       "    <tr>\n",
       "      <th>0</th>\n",
       "      <td>8</td>\n",
       "      <td>21</td>\n",
       "      <td>A donde yo voy, vosotros no podéis venir</td>\n",
       "      <td>Otra vez les dijo Jesús: Yo me voy, y me buscaréis, pero en vuestro pecado moriréis; a donde yo voy, vosotros no podéis venir.</td>\n",
       "    </tr>\n",
       "    <tr>\n",
       "      <th>1</th>\n",
       "      <td>6</td>\n",
       "      <td>1</td>\n",
       "      <td>Alimentación de los cinco mil</td>\n",
       "      <td>Después de esto, Jesús fue al otro lado del mar de Galilea, el de Tiberias.</td>\n",
       "    </tr>\n",
       "    <tr>\n",
       "      <th>2</th>\n",
       "      <td>18</td>\n",
       "      <td>19</td>\n",
       "      <td>Anás interroga a Jesús</td>\n",
       "      <td>Y el sumo sacerdote preguntó a Jesús acerca de sus discípulos y de su doctrina.</td>\n",
       "    </tr>\n",
       "    <tr>\n",
       "      <th>3</th>\n",
       "      <td>21</td>\n",
       "      <td>15</td>\n",
       "      <td>Apacienta mis ovejas</td>\n",
       "      <td>Cuando hubieron comido, Jesús dijo a Simón Pedro: Simón, hijo de Jonás, ¿me amas más que éstos? Le respondió: Sí, Señor; tú sabes que te amo. El le dijo: Apacienta mis corderos.</td>\n",
       "    </tr>\n",
       "    <tr>\n",
       "      <th>4</th>\n",
       "      <td>18</td>\n",
       "      <td>1</td>\n",
       "      <td>Arresto de Jesús</td>\n",
       "      <td>Habiendo dicho Jesús estas cosas, salió con sus discípulos al otro lado del torrente de Cedrón, donde había un huerto, en el cual entró con sus discípulos.</td>\n",
       "    </tr>\n",
       "    <tr>\n",
       "      <th>...</th>\n",
       "      <td>...</td>\n",
       "      <td>...</td>\n",
       "      <td>...</td>\n",
       "      <td>...</td>\n",
       "    </tr>\n",
       "    <tr>\n",
       "      <th>77</th>\n",
       "      <td>1</td>\n",
       "      <td>19</td>\n",
       "      <td>Testimonio de Juan el Bautista</td>\n",
       "      <td>Este es el testimonio de Juan, cuando los judíos enviaron de Jerusalén sacerdotes y levitas para que le preguntasen: ¿Tú, quién eres?</td>\n",
       "    </tr>\n",
       "    <tr>\n",
       "      <th>78</th>\n",
       "      <td>12</td>\n",
       "      <td>20</td>\n",
       "      <td>Unos griegos buscan a Jesús</td>\n",
       "      <td>Había ciertos griegos entre los que habían subido a adorar en la fiesta.</td>\n",
       "    </tr>\n",
       "    <tr>\n",
       "      <th>79</th>\n",
       "      <td>16</td>\n",
       "      <td>25</td>\n",
       "      <td>Yo he vencido al mundo</td>\n",
       "      <td>Estas cosas os he hablado en alegorías; la hora viene cuando ya no os hablaré por alegorías, sino que claramente os anunciaré acerca del Padre.</td>\n",
       "    </tr>\n",
       "    <tr>\n",
       "      <th>80</th>\n",
       "      <td>7</td>\n",
       "      <td>45</td>\n",
       "      <td>¡Nunca ha hablado hombre así!</td>\n",
       "      <td>Los alguaciles vinieron a los principales sacerdotes y a los fariseos; y éstos les dijeron: ¿Por qué no le habéis traído?</td>\n",
       "    </tr>\n",
       "    <tr>\n",
       "      <th>81</th>\n",
       "      <td>7</td>\n",
       "      <td>25</td>\n",
       "      <td>¿Es éste el Cristo?</td>\n",
       "      <td>Decían entonces unos de Jerusalén: ¿No es éste a quien buscan para matarle?</td>\n",
       "    </tr>\n",
       "  </tbody>\n",
       "</table>\n",
       "<p>82 rows × 4 columns</p>\n",
       "</div>"
      ],
      "text/plain": [
       "    chapter  verse                                  subtitle  \\\n",
       "0         8     21  A donde yo voy, vosotros no podéis venir   \n",
       "1         6      1             Alimentación de los cinco mil   \n",
       "2        18     19                    Anás interroga a Jesús   \n",
       "3        21     15                      Apacienta mis ovejas   \n",
       "4        18      1                          Arresto de Jesús   \n",
       "..      ...    ...                                       ...   \n",
       "77        1     19            Testimonio de Juan el Bautista   \n",
       "78       12     20               Unos griegos buscan a Jesús   \n",
       "79       16     25                    Yo he vencido al mundo   \n",
       "80        7     45             ¡Nunca ha hablado hombre así!   \n",
       "81        7     25                       ¿Es éste el Cristo?   \n",
       "\n",
       "                                                                                                                                                                                 text  \n",
       "0                                                      Otra vez les dijo Jesús: Yo me voy, y me buscaréis, pero en vuestro pecado moriréis; a donde yo voy, vosotros no podéis venir.  \n",
       "1                                                                                                         Después de esto, Jesús fue al otro lado del mar de Galilea, el de Tiberias.  \n",
       "2                                                                                                     Y el sumo sacerdote preguntó a Jesús acerca de sus discípulos y de su doctrina.  \n",
       "3   Cuando hubieron comido, Jesús dijo a Simón Pedro: Simón, hijo de Jonás, ¿me amas más que éstos? Le respondió: Sí, Señor; tú sabes que te amo. El le dijo: Apacienta mis corderos.  \n",
       "4                         Habiendo dicho Jesús estas cosas, salió con sus discípulos al otro lado del torrente de Cedrón, donde había un huerto, en el cual entró con sus discípulos.  \n",
       "..                                                                                                                                                                                ...  \n",
       "77                                              Este es el testimonio de Juan, cuando los judíos enviaron de Jerusalén sacerdotes y levitas para que le preguntasen: ¿Tú, quién eres?  \n",
       "78                                                                                                           Había ciertos griegos entre los que habían subido a adorar en la fiesta.  \n",
       "79                                    Estas cosas os he hablado en alegorías; la hora viene cuando ya no os hablaré por alegorías, sino que claramente os anunciaré acerca del Padre.  \n",
       "80                                                          Los alguaciles vinieron a los principales sacerdotes y a los fariseos; y éstos les dijeron: ¿Por qué no le habéis traído?  \n",
       "81                                                                                                        Decían entonces unos de Jerusalén: ¿No es éste a quien buscan para matarle?  \n",
       "\n",
       "[82 rows x 4 columns]"
      ]
     },
     "metadata": {},
     "output_type": "display_data"
    }
   ],
   "source": [
    "# One example verse per subtitle\n",
    "sampled = df.groupby(\"subtitle\").first().reset_index()[[\"chapter\", \"verse\", \"subtitle\", \"text\"]]\n",
    "print(\"\\n📌 One verse per subtitle:\")\n",
    "display(sampled)"
   ]
  }
 ],
 "metadata": {
  "kernelspec": {
   "display_name": "LinguaAnimae",
   "language": "python",
   "name": "python3"
  },
  "language_info": {
   "codemirror_mode": {
    "name": "ipython",
    "version": 3
   },
   "file_extension": ".py",
   "mimetype": "text/x-python",
   "name": "python",
   "nbconvert_exporter": "python",
   "pygments_lexer": "ipython3",
   "version": "3.10.16"
  }
 },
 "nbformat": 4,
 "nbformat_minor": 5
}
