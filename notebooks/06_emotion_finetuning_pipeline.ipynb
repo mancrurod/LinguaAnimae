{
 "cells": [
  {
   "cell_type": "markdown",
   "id": "13674b81",
   "metadata": {
    "vscode": {
     "languageId": "plaintext"
    }
   },
   "source": [
    "# 1️⃣ Introduction"
   ]
  },
  {
   "cell_type": "markdown",
   "id": "4c02f41f",
   "metadata": {},
   "source": [
    "## Emotion Classification Pipeline for Biblical Verses\n",
    "\n",
    "This notebook documents the full process of exploring, comparing and fine-tuning emotion classification models on biblical text, with a focus on the Book of Genesis and a final fine-tuning using a custom-annotated corpus.\n",
    "\n",
    "**Outline:**\n",
    "1. Model Benchmarking on Genesis\n",
    "2. Data Preparation for Fine-tuning\n",
    "3. Semi-automatic Labeling using GPT-4o\n",
    "4. Fine-tuning SamLowe/roberta-base-go_emotions\n",
    "5. Evaluation and Comparison with Previous Models\n",
    "6. Inference Examples and Analysis\n",
    "\n",
    "---\n",
    "\n",
    "**Project context:**  \n",
    "Emotion and theme detection in Bible verses for narrative and literary research, using NLP and modern transformer models.\n"
   ]
  },
  {
   "cell_type": "markdown",
   "id": "85f58fcb",
   "metadata": {
    "vscode": {
     "languageId": "plaintext"
    }
   },
   "source": [
    "# 2️⃣ Benchmarking Pretrained Models on Genesis"
   ]
  },
  {
   "cell_type": "markdown",
   "id": "39880916",
   "metadata": {},
   "source": [
    "## 1. Benchmarking Existing Models\n",
    "\n",
    "We begin by testing several HuggingFace models (Hartmann, GoEmotions/SamLowe, Bhadresh Savani, Joeddav) on Genesis.  \n",
    "The goal is to observe their behaviour on literary, ancient text before committing to any single approach.\n"
   ]
  },
  {
   "cell_type": "code",
   "execution_count": 2,
   "id": "126280f5",
   "metadata": {},
   "outputs": [],
   "source": [
    "import pandas as pd\n",
    "import matplotlib.pyplot as plt\n",
    "import seaborn as sns"
   ]
  },
  {
   "cell_type": "code",
   "execution_count": 1,
   "id": "904d687c",
   "metadata": {},
   "outputs": [
    {
     "ename": "FileNotFoundError",
     "evalue": "[Errno 2] No such file or directory: '../data/processed/bible_kjv/1_genesis_emotion_comparison.csv'",
     "output_type": "error",
     "traceback": [
      "\u001b[1;31m---------------------------------------------------------------------------\u001b[0m",
      "\u001b[1;31mFileNotFoundError\u001b[0m                         Traceback (most recent call last)",
      "Cell \u001b[1;32mIn[1], line 5\u001b[0m\n\u001b[0;32m      2\u001b[0m \u001b[38;5;28;01mimport\u001b[39;00m\u001b[38;5;250m \u001b[39m\u001b[38;5;21;01mmatplotlib\u001b[39;00m\u001b[38;5;21;01m.\u001b[39;00m\u001b[38;5;21;01mpyplot\u001b[39;00m\u001b[38;5;250m \u001b[39m\u001b[38;5;28;01mas\u001b[39;00m\u001b[38;5;250m \u001b[39m\u001b[38;5;21;01mplt\u001b[39;00m\n\u001b[0;32m      3\u001b[0m \u001b[38;5;28;01mimport\u001b[39;00m\u001b[38;5;250m \u001b[39m\u001b[38;5;21;01mseaborn\u001b[39;00m\u001b[38;5;250m \u001b[39m\u001b[38;5;28;01mas\u001b[39;00m\u001b[38;5;250m \u001b[39m\u001b[38;5;21;01msns\u001b[39;00m\n\u001b[1;32m----> 5\u001b[0m df \u001b[38;5;241m=\u001b[39m \u001b[43mpd\u001b[49m\u001b[38;5;241;43m.\u001b[39;49m\u001b[43mread_csv\u001b[49m\u001b[43m(\u001b[49m\u001b[38;5;124;43m\"\u001b[39;49m\u001b[38;5;124;43m../data/processed/bible_kjv/1_genesis_emotion_comparison.csv\u001b[39;49m\u001b[38;5;124;43m\"\u001b[39;49m\u001b[43m)\u001b[49m\n\u001b[0;32m      6\u001b[0m display(df\u001b[38;5;241m.\u001b[39mhead())\n\u001b[0;32m      8\u001b[0m \u001b[38;5;66;03m# Plot emotion distributions\u001b[39;00m\n",
      "File \u001b[1;32mc:\\Users\\manue\\miniconda3\\envs\\LinguaAnimae\\lib\\site-packages\\pandas\\io\\parsers\\readers.py:1026\u001b[0m, in \u001b[0;36mread_csv\u001b[1;34m(filepath_or_buffer, sep, delimiter, header, names, index_col, usecols, dtype, engine, converters, true_values, false_values, skipinitialspace, skiprows, skipfooter, nrows, na_values, keep_default_na, na_filter, verbose, skip_blank_lines, parse_dates, infer_datetime_format, keep_date_col, date_parser, date_format, dayfirst, cache_dates, iterator, chunksize, compression, thousands, decimal, lineterminator, quotechar, quoting, doublequote, escapechar, comment, encoding, encoding_errors, dialect, on_bad_lines, delim_whitespace, low_memory, memory_map, float_precision, storage_options, dtype_backend)\u001b[0m\n\u001b[0;32m   1013\u001b[0m kwds_defaults \u001b[38;5;241m=\u001b[39m _refine_defaults_read(\n\u001b[0;32m   1014\u001b[0m     dialect,\n\u001b[0;32m   1015\u001b[0m     delimiter,\n\u001b[1;32m   (...)\u001b[0m\n\u001b[0;32m   1022\u001b[0m     dtype_backend\u001b[38;5;241m=\u001b[39mdtype_backend,\n\u001b[0;32m   1023\u001b[0m )\n\u001b[0;32m   1024\u001b[0m kwds\u001b[38;5;241m.\u001b[39mupdate(kwds_defaults)\n\u001b[1;32m-> 1026\u001b[0m \u001b[38;5;28;01mreturn\u001b[39;00m \u001b[43m_read\u001b[49m\u001b[43m(\u001b[49m\u001b[43mfilepath_or_buffer\u001b[49m\u001b[43m,\u001b[49m\u001b[43m \u001b[49m\u001b[43mkwds\u001b[49m\u001b[43m)\u001b[49m\n",
      "File \u001b[1;32mc:\\Users\\manue\\miniconda3\\envs\\LinguaAnimae\\lib\\site-packages\\pandas\\io\\parsers\\readers.py:620\u001b[0m, in \u001b[0;36m_read\u001b[1;34m(filepath_or_buffer, kwds)\u001b[0m\n\u001b[0;32m    617\u001b[0m _validate_names(kwds\u001b[38;5;241m.\u001b[39mget(\u001b[38;5;124m\"\u001b[39m\u001b[38;5;124mnames\u001b[39m\u001b[38;5;124m\"\u001b[39m, \u001b[38;5;28;01mNone\u001b[39;00m))\n\u001b[0;32m    619\u001b[0m \u001b[38;5;66;03m# Create the parser.\u001b[39;00m\n\u001b[1;32m--> 620\u001b[0m parser \u001b[38;5;241m=\u001b[39m TextFileReader(filepath_or_buffer, \u001b[38;5;241m*\u001b[39m\u001b[38;5;241m*\u001b[39mkwds)\n\u001b[0;32m    622\u001b[0m \u001b[38;5;28;01mif\u001b[39;00m chunksize \u001b[38;5;129;01mor\u001b[39;00m iterator:\n\u001b[0;32m    623\u001b[0m     \u001b[38;5;28;01mreturn\u001b[39;00m parser\n",
      "File \u001b[1;32mc:\\Users\\manue\\miniconda3\\envs\\LinguaAnimae\\lib\\site-packages\\pandas\\io\\parsers\\readers.py:1620\u001b[0m, in \u001b[0;36mTextFileReader.__init__\u001b[1;34m(self, f, engine, **kwds)\u001b[0m\n\u001b[0;32m   1617\u001b[0m     \u001b[38;5;28mself\u001b[39m\u001b[38;5;241m.\u001b[39moptions[\u001b[38;5;124m\"\u001b[39m\u001b[38;5;124mhas_index_names\u001b[39m\u001b[38;5;124m\"\u001b[39m] \u001b[38;5;241m=\u001b[39m kwds[\u001b[38;5;124m\"\u001b[39m\u001b[38;5;124mhas_index_names\u001b[39m\u001b[38;5;124m\"\u001b[39m]\n\u001b[0;32m   1619\u001b[0m \u001b[38;5;28mself\u001b[39m\u001b[38;5;241m.\u001b[39mhandles: IOHandles \u001b[38;5;241m|\u001b[39m \u001b[38;5;28;01mNone\u001b[39;00m \u001b[38;5;241m=\u001b[39m \u001b[38;5;28;01mNone\u001b[39;00m\n\u001b[1;32m-> 1620\u001b[0m \u001b[38;5;28mself\u001b[39m\u001b[38;5;241m.\u001b[39m_engine \u001b[38;5;241m=\u001b[39m \u001b[38;5;28;43mself\u001b[39;49m\u001b[38;5;241;43m.\u001b[39;49m\u001b[43m_make_engine\u001b[49m\u001b[43m(\u001b[49m\u001b[43mf\u001b[49m\u001b[43m,\u001b[49m\u001b[43m \u001b[49m\u001b[38;5;28;43mself\u001b[39;49m\u001b[38;5;241;43m.\u001b[39;49m\u001b[43mengine\u001b[49m\u001b[43m)\u001b[49m\n",
      "File \u001b[1;32mc:\\Users\\manue\\miniconda3\\envs\\LinguaAnimae\\lib\\site-packages\\pandas\\io\\parsers\\readers.py:1880\u001b[0m, in \u001b[0;36mTextFileReader._make_engine\u001b[1;34m(self, f, engine)\u001b[0m\n\u001b[0;32m   1878\u001b[0m     \u001b[38;5;28;01mif\u001b[39;00m \u001b[38;5;124m\"\u001b[39m\u001b[38;5;124mb\u001b[39m\u001b[38;5;124m\"\u001b[39m \u001b[38;5;129;01mnot\u001b[39;00m \u001b[38;5;129;01min\u001b[39;00m mode:\n\u001b[0;32m   1879\u001b[0m         mode \u001b[38;5;241m+\u001b[39m\u001b[38;5;241m=\u001b[39m \u001b[38;5;124m\"\u001b[39m\u001b[38;5;124mb\u001b[39m\u001b[38;5;124m\"\u001b[39m\n\u001b[1;32m-> 1880\u001b[0m \u001b[38;5;28mself\u001b[39m\u001b[38;5;241m.\u001b[39mhandles \u001b[38;5;241m=\u001b[39m \u001b[43mget_handle\u001b[49m\u001b[43m(\u001b[49m\n\u001b[0;32m   1881\u001b[0m \u001b[43m    \u001b[49m\u001b[43mf\u001b[49m\u001b[43m,\u001b[49m\n\u001b[0;32m   1882\u001b[0m \u001b[43m    \u001b[49m\u001b[43mmode\u001b[49m\u001b[43m,\u001b[49m\n\u001b[0;32m   1883\u001b[0m \u001b[43m    \u001b[49m\u001b[43mencoding\u001b[49m\u001b[38;5;241;43m=\u001b[39;49m\u001b[38;5;28;43mself\u001b[39;49m\u001b[38;5;241;43m.\u001b[39;49m\u001b[43moptions\u001b[49m\u001b[38;5;241;43m.\u001b[39;49m\u001b[43mget\u001b[49m\u001b[43m(\u001b[49m\u001b[38;5;124;43m\"\u001b[39;49m\u001b[38;5;124;43mencoding\u001b[39;49m\u001b[38;5;124;43m\"\u001b[39;49m\u001b[43m,\u001b[49m\u001b[43m \u001b[49m\u001b[38;5;28;43;01mNone\u001b[39;49;00m\u001b[43m)\u001b[49m\u001b[43m,\u001b[49m\n\u001b[0;32m   1884\u001b[0m \u001b[43m    \u001b[49m\u001b[43mcompression\u001b[49m\u001b[38;5;241;43m=\u001b[39;49m\u001b[38;5;28;43mself\u001b[39;49m\u001b[38;5;241;43m.\u001b[39;49m\u001b[43moptions\u001b[49m\u001b[38;5;241;43m.\u001b[39;49m\u001b[43mget\u001b[49m\u001b[43m(\u001b[49m\u001b[38;5;124;43m\"\u001b[39;49m\u001b[38;5;124;43mcompression\u001b[39;49m\u001b[38;5;124;43m\"\u001b[39;49m\u001b[43m,\u001b[49m\u001b[43m \u001b[49m\u001b[38;5;28;43;01mNone\u001b[39;49;00m\u001b[43m)\u001b[49m\u001b[43m,\u001b[49m\n\u001b[0;32m   1885\u001b[0m \u001b[43m    \u001b[49m\u001b[43mmemory_map\u001b[49m\u001b[38;5;241;43m=\u001b[39;49m\u001b[38;5;28;43mself\u001b[39;49m\u001b[38;5;241;43m.\u001b[39;49m\u001b[43moptions\u001b[49m\u001b[38;5;241;43m.\u001b[39;49m\u001b[43mget\u001b[49m\u001b[43m(\u001b[49m\u001b[38;5;124;43m\"\u001b[39;49m\u001b[38;5;124;43mmemory_map\u001b[39;49m\u001b[38;5;124;43m\"\u001b[39;49m\u001b[43m,\u001b[49m\u001b[43m \u001b[49m\u001b[38;5;28;43;01mFalse\u001b[39;49;00m\u001b[43m)\u001b[49m\u001b[43m,\u001b[49m\n\u001b[0;32m   1886\u001b[0m \u001b[43m    \u001b[49m\u001b[43mis_text\u001b[49m\u001b[38;5;241;43m=\u001b[39;49m\u001b[43mis_text\u001b[49m\u001b[43m,\u001b[49m\n\u001b[0;32m   1887\u001b[0m \u001b[43m    \u001b[49m\u001b[43merrors\u001b[49m\u001b[38;5;241;43m=\u001b[39;49m\u001b[38;5;28;43mself\u001b[39;49m\u001b[38;5;241;43m.\u001b[39;49m\u001b[43moptions\u001b[49m\u001b[38;5;241;43m.\u001b[39;49m\u001b[43mget\u001b[49m\u001b[43m(\u001b[49m\u001b[38;5;124;43m\"\u001b[39;49m\u001b[38;5;124;43mencoding_errors\u001b[39;49m\u001b[38;5;124;43m\"\u001b[39;49m\u001b[43m,\u001b[49m\u001b[43m \u001b[49m\u001b[38;5;124;43m\"\u001b[39;49m\u001b[38;5;124;43mstrict\u001b[39;49m\u001b[38;5;124;43m\"\u001b[39;49m\u001b[43m)\u001b[49m\u001b[43m,\u001b[49m\n\u001b[0;32m   1888\u001b[0m \u001b[43m    \u001b[49m\u001b[43mstorage_options\u001b[49m\u001b[38;5;241;43m=\u001b[39;49m\u001b[38;5;28;43mself\u001b[39;49m\u001b[38;5;241;43m.\u001b[39;49m\u001b[43moptions\u001b[49m\u001b[38;5;241;43m.\u001b[39;49m\u001b[43mget\u001b[49m\u001b[43m(\u001b[49m\u001b[38;5;124;43m\"\u001b[39;49m\u001b[38;5;124;43mstorage_options\u001b[39;49m\u001b[38;5;124;43m\"\u001b[39;49m\u001b[43m,\u001b[49m\u001b[43m \u001b[49m\u001b[38;5;28;43;01mNone\u001b[39;49;00m\u001b[43m)\u001b[49m\u001b[43m,\u001b[49m\n\u001b[0;32m   1889\u001b[0m \u001b[43m\u001b[49m\u001b[43m)\u001b[49m\n\u001b[0;32m   1890\u001b[0m \u001b[38;5;28;01massert\u001b[39;00m \u001b[38;5;28mself\u001b[39m\u001b[38;5;241m.\u001b[39mhandles \u001b[38;5;129;01mis\u001b[39;00m \u001b[38;5;129;01mnot\u001b[39;00m \u001b[38;5;28;01mNone\u001b[39;00m\n\u001b[0;32m   1891\u001b[0m f \u001b[38;5;241m=\u001b[39m \u001b[38;5;28mself\u001b[39m\u001b[38;5;241m.\u001b[39mhandles\u001b[38;5;241m.\u001b[39mhandle\n",
      "File \u001b[1;32mc:\\Users\\manue\\miniconda3\\envs\\LinguaAnimae\\lib\\site-packages\\pandas\\io\\common.py:873\u001b[0m, in \u001b[0;36mget_handle\u001b[1;34m(path_or_buf, mode, encoding, compression, memory_map, is_text, errors, storage_options)\u001b[0m\n\u001b[0;32m    868\u001b[0m \u001b[38;5;28;01melif\u001b[39;00m \u001b[38;5;28misinstance\u001b[39m(handle, \u001b[38;5;28mstr\u001b[39m):\n\u001b[0;32m    869\u001b[0m     \u001b[38;5;66;03m# Check whether the filename is to be opened in binary mode.\u001b[39;00m\n\u001b[0;32m    870\u001b[0m     \u001b[38;5;66;03m# Binary mode does not support 'encoding' and 'newline'.\u001b[39;00m\n\u001b[0;32m    871\u001b[0m     \u001b[38;5;28;01mif\u001b[39;00m ioargs\u001b[38;5;241m.\u001b[39mencoding \u001b[38;5;129;01mand\u001b[39;00m \u001b[38;5;124m\"\u001b[39m\u001b[38;5;124mb\u001b[39m\u001b[38;5;124m\"\u001b[39m \u001b[38;5;129;01mnot\u001b[39;00m \u001b[38;5;129;01min\u001b[39;00m ioargs\u001b[38;5;241m.\u001b[39mmode:\n\u001b[0;32m    872\u001b[0m         \u001b[38;5;66;03m# Encoding\u001b[39;00m\n\u001b[1;32m--> 873\u001b[0m         handle \u001b[38;5;241m=\u001b[39m \u001b[38;5;28;43mopen\u001b[39;49m\u001b[43m(\u001b[49m\n\u001b[0;32m    874\u001b[0m \u001b[43m            \u001b[49m\u001b[43mhandle\u001b[49m\u001b[43m,\u001b[49m\n\u001b[0;32m    875\u001b[0m \u001b[43m            \u001b[49m\u001b[43mioargs\u001b[49m\u001b[38;5;241;43m.\u001b[39;49m\u001b[43mmode\u001b[49m\u001b[43m,\u001b[49m\n\u001b[0;32m    876\u001b[0m \u001b[43m            \u001b[49m\u001b[43mencoding\u001b[49m\u001b[38;5;241;43m=\u001b[39;49m\u001b[43mioargs\u001b[49m\u001b[38;5;241;43m.\u001b[39;49m\u001b[43mencoding\u001b[49m\u001b[43m,\u001b[49m\n\u001b[0;32m    877\u001b[0m \u001b[43m            \u001b[49m\u001b[43merrors\u001b[49m\u001b[38;5;241;43m=\u001b[39;49m\u001b[43merrors\u001b[49m\u001b[43m,\u001b[49m\n\u001b[0;32m    878\u001b[0m \u001b[43m            \u001b[49m\u001b[43mnewline\u001b[49m\u001b[38;5;241;43m=\u001b[39;49m\u001b[38;5;124;43m\"\u001b[39;49m\u001b[38;5;124;43m\"\u001b[39;49m\u001b[43m,\u001b[49m\n\u001b[0;32m    879\u001b[0m \u001b[43m        \u001b[49m\u001b[43m)\u001b[49m\n\u001b[0;32m    880\u001b[0m     \u001b[38;5;28;01melse\u001b[39;00m:\n\u001b[0;32m    881\u001b[0m         \u001b[38;5;66;03m# Binary mode\u001b[39;00m\n\u001b[0;32m    882\u001b[0m         handle \u001b[38;5;241m=\u001b[39m \u001b[38;5;28mopen\u001b[39m(handle, ioargs\u001b[38;5;241m.\u001b[39mmode)\n",
      "\u001b[1;31mFileNotFoundError\u001b[0m: [Errno 2] No such file or directory: '../data/processed/bible_kjv/1_genesis_emotion_comparison.csv'"
     ]
    }
   ],
   "source": [
    "import pandas as pd\n",
    "import matplotlib.pyplot as plt\n",
    "import seaborn as sns\n",
    "\n",
    "df = pd.read_csv(\"../data/processed/bible_kjv/1_genesis_emotion_comparison.csv\")\n",
    "display(df.head())\n",
    "\n",
    "# Plot emotion distributions\n",
    "plt.figure()\n",
    "sns.countplot(x=\"hartmann_label\", data=df, order=df['hartmann_label'].value_counts().index)\n",
    "plt.title(\"Hartmann Emotion Distribution\")\n",
    "plt.show()\n",
    "\n",
    "plt.figure()\n",
    "sns.countplot(x=\"goemotions_ekman_label\", data=df, order=df['goemotions_ekman_label'].value_counts().index)\n",
    "plt.title(\"GoEmotions (Ekman) Distribution\")\n",
    "plt.show()\n",
    "\n",
    "plt.figure()\n",
    "sns.countplot(x=\"bsavani_label\", data=df, order=df['bsavani_label'].value_counts().index)\n",
    "plt.title(\"Bhadresh Savani Emotion Distribution\")\n",
    "plt.show()\n",
    "\n",
    "plt.figure()\n",
    "sns.countplot(x=\"joeddav_ekman_label\", data=df, order=df['joeddav_ekman_label'].value_counts().index)\n",
    "plt.title(\"Joeddav (Ekman) Distribution\")\n",
    "plt.show()\n"
   ]
  },
  {
   "cell_type": "markdown",
   "id": "8b98987c",
   "metadata": {},
   "source": [
    "### **Observations:**\n",
    "- GoEmotions produces a strong \"neutral\" bias on Genesis.\n",
    "- Hartmann and bsavani force more emotion categories, but may overfit to their social-media source.\n",
    "- Joeddav shows a different distribution, with many \"surprise\" and \"joy\".\n",
    "- None of the available models fit perfectly for literary or biblical style.\n"
   ]
  },
  {
   "cell_type": "markdown",
   "id": "72919bf3",
   "metadata": {},
   "source": [
    "# 3️⃣ Preparing a Custom Dataset for Fine-tuning"
   ]
  },
  {
   "cell_type": "markdown",
   "id": "fbbff26c",
   "metadata": {},
   "source": [
    "## 2. Preparing a Custom Dataset for Fine-tuning\n",
    "\n",
    "Given the above, we decided to build a custom, hand-verified emotion-labeled dataset, leveraging GPT-4o for fast annotation and manual review.\n",
    "- 1000 unique verses were sampled from the full KJV.\n",
    "- Each verse was labeled with one of: joy, sadness, anger, fear, disgust, surprise, neutral.\n"
   ]
  },
  {
   "cell_type": "code",
   "execution_count": 3,
   "id": "c079299a",
   "metadata": {},
   "outputs": [
    {
     "data": {
      "text/html": [
       "<div>\n",
       "<style scoped>\n",
       "    .dataframe tbody tr th:only-of-type {\n",
       "        vertical-align: middle;\n",
       "    }\n",
       "\n",
       "    .dataframe tbody tr th {\n",
       "        vertical-align: top;\n",
       "    }\n",
       "\n",
       "    .dataframe thead th {\n",
       "        text-align: right;\n",
       "    }\n",
       "</style>\n",
       "<table border=\"1\" class=\"dataframe\">\n",
       "  <thead>\n",
       "    <tr style=\"text-align: right;\">\n",
       "      <th></th>\n",
       "      <th>id</th>\n",
       "      <th>verse_id</th>\n",
       "      <th>verse</th>\n",
       "    </tr>\n",
       "  </thead>\n",
       "  <tbody>\n",
       "    <tr>\n",
       "      <th>657</th>\n",
       "      <td>657</td>\n",
       "      <td>jeremiah_50_43</td>\n",
       "      <td>The king of Babylon hath heard the report of t...</td>\n",
       "    </tr>\n",
       "    <tr>\n",
       "      <th>488</th>\n",
       "      <td>488</td>\n",
       "      <td>deuteronomy_30_15</td>\n",
       "      <td>See, I have set before thee this day life and ...</td>\n",
       "    </tr>\n",
       "    <tr>\n",
       "      <th>520</th>\n",
       "      <td>520</td>\n",
       "      <td>luke_22_43</td>\n",
       "      <td>And there appeared an angel unto him from heav...</td>\n",
       "    </tr>\n",
       "    <tr>\n",
       "      <th>678</th>\n",
       "      <td>678</td>\n",
       "      <td>2_chronicles_2_1</td>\n",
       "      <td>And Solomon determined to build an house for t...</td>\n",
       "    </tr>\n",
       "    <tr>\n",
       "      <th>21</th>\n",
       "      <td>21</td>\n",
       "      <td>acts_11_18</td>\n",
       "      <td>When they heard these things, they held their ...</td>\n",
       "    </tr>\n",
       "  </tbody>\n",
       "</table>\n",
       "</div>"
      ],
      "text/plain": [
       "      id           verse_id                                              verse\n",
       "657  657     jeremiah_50_43  The king of Babylon hath heard the report of t...\n",
       "488  488  deuteronomy_30_15  See, I have set before thee this day life and ...\n",
       "520  520         luke_22_43  And there appeared an angel unto him from heav...\n",
       "678  678   2_chronicles_2_1  And Solomon determined to build an house for t...\n",
       "21    21         acts_11_18  When they heard these things, they held their ..."
      ]
     },
     "metadata": {},
     "output_type": "display_data"
    },
    {
     "name": "stdout",
     "output_type": "stream",
     "text": [
      "Total verses sampled: 1000\n"
     ]
    }
   ],
   "source": [
    "# Show sample of selected verses\n",
    "df_samples = pd.read_csv(\"../data/evaluation/emotion_verses_to_label.csv\")\n",
    "display(df_samples.sample(5))\n",
    "print(f\"Total verses sampled: {len(df_samples)}\")"
   ]
  },
  {
   "cell_type": "markdown",
   "id": "405e0d8e",
   "metadata": {},
   "source": [
    "# 4️⃣ Labeling Verses with GPT-4o (Semi-automatic Annotation)"
   ]
  },
  {
   "cell_type": "markdown",
   "id": "5dce2ff1",
   "metadata": {},
   "source": [
    "## 3. Semi-automatic Annotation using GPT-4o\n",
    "\n",
    "Annotation prompt for GPT-4o:\n",
    "\n",
    "> Assign ONE main human emotion to each Bible verse below.  \n",
    "> Choose ONLY from this list: joy, sadness, anger, fear, disgust, surprise, neutral  \n",
    "> Return in CSV format with columns: id,verse_id,label  \n",
    "> [See appendix for full prompt.]\n",
    "\n",
    "Labels were reviewed and corrected as needed before proceeding to fine-tuning.\n"
   ]
  },
  {
   "cell_type": "code",
   "execution_count": 2,
   "id": "2d62e0ca",
   "metadata": {},
   "outputs": [
    {
     "data": {
      "text/html": [
       "<div>\n",
       "<style scoped>\n",
       "    .dataframe tbody tr th:only-of-type {\n",
       "        vertical-align: middle;\n",
       "    }\n",
       "\n",
       "    .dataframe tbody tr th {\n",
       "        vertical-align: top;\n",
       "    }\n",
       "\n",
       "    .dataframe thead th {\n",
       "        text-align: right;\n",
       "    }\n",
       "</style>\n",
       "<table border=\"1\" class=\"dataframe\">\n",
       "  <thead>\n",
       "    <tr style=\"text-align: right;\">\n",
       "      <th></th>\n",
       "      <th>id</th>\n",
       "      <th>verse_id</th>\n",
       "      <th>verse</th>\n",
       "      <th>label</th>\n",
       "    </tr>\n",
       "  </thead>\n",
       "  <tbody>\n",
       "    <tr>\n",
       "      <th>959</th>\n",
       "      <td>959</td>\n",
       "      <td>mark_1_12</td>\n",
       "      <td>And immediately the Spirit driveth him into th...</td>\n",
       "      <td>neutral</td>\n",
       "    </tr>\n",
       "    <tr>\n",
       "      <th>682</th>\n",
       "      <td>682</td>\n",
       "      <td>ezekiel_27_28</td>\n",
       "      <td>The suburbs shall shake at the sound of the cr...</td>\n",
       "      <td>fear</td>\n",
       "    </tr>\n",
       "    <tr>\n",
       "      <th>289</th>\n",
       "      <td>289</td>\n",
       "      <td>psalms_102_11</td>\n",
       "      <td>My days are like a shadow that declineth; and ...</td>\n",
       "      <td>sadness</td>\n",
       "    </tr>\n",
       "    <tr>\n",
       "      <th>786</th>\n",
       "      <td>786</td>\n",
       "      <td>genesis_31_11</td>\n",
       "      <td>And the angel of God spake unto me in a dream,...</td>\n",
       "      <td>surprise</td>\n",
       "    </tr>\n",
       "    <tr>\n",
       "      <th>810</th>\n",
       "      <td>810</td>\n",
       "      <td>acts_9_24</td>\n",
       "      <td>But their laying await was known of Saul. And ...</td>\n",
       "      <td>fear</td>\n",
       "    </tr>\n",
       "  </tbody>\n",
       "</table>\n",
       "</div>"
      ],
      "text/plain": [
       "      id       verse_id                                              verse  \\\n",
       "959  959      mark_1_12  And immediately the Spirit driveth him into th...   \n",
       "682  682  ezekiel_27_28  The suburbs shall shake at the sound of the cr...   \n",
       "289  289  psalms_102_11  My days are like a shadow that declineth; and ...   \n",
       "786  786  genesis_31_11  And the angel of God spake unto me in a dream,...   \n",
       "810  810      acts_9_24  But their laying await was known of Saul. And ...   \n",
       "\n",
       "        label  \n",
       "959   neutral  \n",
       "682      fear  \n",
       "289   sadness  \n",
       "786  surprise  \n",
       "810      fear  "
      ]
     },
     "metadata": {},
     "output_type": "display_data"
    },
    {
     "name": "stdout",
     "output_type": "stream",
     "text": [
      "Total labeled verses: 1000\n"
     ]
    },
    {
     "data": {
      "image/png": "[encoded data removed]",
      "text/plain": [
       "<Figure size 640x480 with 1 Axes>"
      ]
     },
     "metadata": {},
     "output_type": "display_data"
    }
   ],
   "source": [
    "# Show labeled data (post-GPT + manual review)\n",
    "df_labeled = pd.read_csv(\"../data/evaluation/emotion_verses_labeled_2.csv\")\n",
    "display(df_labeled.sample(5))\n",
    "print(f\"Total labeled verses: {len(df_labeled)}\")\n",
    "\n",
    "plt.figure()\n",
    "sns.countplot(x=\"label\", data=df_labeled, order=sorted(df_labeled['label'].unique()))\n",
    "plt.title(\"Distribution of Labeled Emotions (Final Training Set)\")\n",
    "plt.show()"
   ]
  },
  {
   "cell_type": "markdown",
   "id": "07bde710",
   "metadata": {},
   "source": [
    "# 5️⃣ Fine-tuning SamLowe/roberta-base-go_emotions"
   ]
  },
  {
   "cell_type": "markdown",
   "id": "96b80ac4",
   "metadata": {},
   "source": [
    "## 4. Fine-tuning SamLowe/roberta-base-go_emotions on Custom Labeled Data\n",
    "\n",
    "The fine-tuning uses 90% of the data for training and 10% for evaluation.  \n",
    "Labels are mapped to integer IDs as required by HuggingFace.\n"
   ]
  },
  {
   "cell_type": "markdown",
   "id": "ce5c6783",
   "metadata": {},
   "source": [
    "We initialized the classification head (last layer) from scratch, as our label set consists of 7 mapped emotions, instead of the original 28 GoEmotions classes. The rest of the model loads all pre-trained weights, leveraging prior emotional knowledge. This is the recommended approach for transfer learning with a different output taxonomy.\n",
    "\n"
   ]
  },
  {
   "cell_type": "code",
   "execution_count": 6,
   "id": "1fab8dda",
   "metadata": {},
   "outputs": [
    {
     "name": "stdout",
     "output_type": "stream",
     "text": [
      "Train:\n",
      "label\n",
      "6    799\n",
      "0    543\n",
      "1    371\n",
      "2    311\n",
      "3    303\n",
      "4    166\n",
      "5    109\n",
      "Name: count, dtype: int64\n",
      "\n",
      "Test:\n",
      "label\n",
      "6    80\n",
      "0    49\n",
      "1    46\n",
      "3    41\n",
      "2    36\n",
      "4    24\n",
      "5    14\n",
      "Name: count, dtype: int64\n"
     ]
    }
   ],
   "source": [
    "# Si usas train/test como pandas DataFrame\n",
    "print(\"Train:\")\n",
    "print(df_train['label'].value_counts())\n",
    "print(\"\\nTest:\")\n",
    "print(df_test['label'].value_counts())\n"
   ]
  },
  {
   "cell_type": "markdown",
   "id": "c2f43917",
   "metadata": {},
   "source": [
    "### Cross validating"
   ]
  },
  {
   "cell_type": "code",
   "execution_count": 2,
   "id": "11eb3cf5",
   "metadata": {},
   "outputs": [
    {
     "name": "stdout",
     "output_type": "stream",
     "text": [
      "\n",
      "=== Fold 1/5 ===\n"
     ]
    },
    {
     "name": "stderr",
     "output_type": "stream",
     "text": [
      "c:\\Users\\manue\\miniconda3\\envs\\LinguaAnimae\\lib\\site-packages\\huggingface_hub\\file_download.py:943: FutureWarning: `resume_download` is deprecated and will be removed in version 1.0.0. Downloads always resume when possible. If you want to force a new download, use `force_download=True`.\n",
      "  warnings.warn(\n",
      "Some weights of RobertaForSequenceClassification were not initialized from the model checkpoint at SamLowe/roberta-base-go_emotions and are newly initialized because the shapes did not match:\n",
      "- classifier.out_proj.bias: found shape torch.Size([28]) in the checkpoint and torch.Size([7]) in the model instantiated\n",
      "- classifier.out_proj.weight: found shape torch.Size([28, 768]) in the checkpoint and torch.Size([7, 768]) in the model instantiated\n",
      "You should probably TRAIN this model on a down-stream task to be able to use it for predictions and inference.\n",
      "Map: 100%|██████████| 7800/7800 [00:00<00:00, 22441.77 examples/s]\n",
      "Map: 100%|██████████| 1951/1951 [00:00<00:00, 26083.22 examples/s]\n"
     ]
    },
    {
     "name": "stdout",
     "output_type": "stream",
     "text": [
      "\n",
      "Fold 1 - Macro F1: 0.455\n",
      "{'eval_loss': 1.150935411453247, 'eval_macro_f1': 0.4548368585368057, 'eval_runtime': 12.9029, 'eval_samples_per_second': 151.206, 'eval_steps_per_second': 4.728, 'epoch': 1.0}\n",
      "\n",
      "Fold 1 - Macro F1: 0.515\n",
      "{'eval_loss': 1.0705690383911133, 'eval_macro_f1': 0.514635989591712, 'eval_runtime': 4.9489, 'eval_samples_per_second': 394.231, 'eval_steps_per_second': 12.326, 'epoch': 2.0}\n",
      "\n",
      "Fold 1 - Macro F1: 0.537\n",
      "{'eval_loss': 1.0767254829406738, 'eval_macro_f1': 0.5374697373946126, 'eval_runtime': 4.4595, 'eval_samples_per_second': 437.494, 'eval_steps_per_second': 13.679, 'epoch': 3.0}\n",
      "\n",
      "Fold 1 - Macro F1: 0.537\n",
      "{'eval_loss': 1.0771472454071045, 'eval_macro_f1': 0.5373530932247517, 'eval_runtime': 4.4784, 'eval_samples_per_second': 435.642, 'eval_steps_per_second': 13.621, 'epoch': 4.0}\n",
      "{'train_runtime': 857.5282, 'train_samples_per_second': 36.384, 'train_steps_per_second': 2.276, 'train_loss': 1.0361291228747758, 'epoch': 4.0}\n",
      "\n",
      "Fold 1 - Macro F1: 0.537\n",
      "{'eval_loss': 1.0767254829406738, 'eval_macro_f1': 0.5374697373946126, 'eval_runtime': 4.4723, 'eval_samples_per_second': 436.24, 'eval_steps_per_second': 13.639, 'epoch': 4.0}\n",
      "\n",
      "=== Fold 2/5 ===\n"
     ]
    },
    {
     "name": "stderr",
     "output_type": "stream",
     "text": [
      "c:\\Users\\manue\\miniconda3\\envs\\LinguaAnimae\\lib\\site-packages\\huggingface_hub\\file_download.py:943: FutureWarning: `resume_download` is deprecated and will be removed in version 1.0.0. Downloads always resume when possible. If you want to force a new download, use `force_download=True`.\n",
      "  warnings.warn(\n",
      "Some weights of RobertaForSequenceClassification were not initialized from the model checkpoint at SamLowe/roberta-base-go_emotions and are newly initialized because the shapes did not match:\n",
      "- classifier.out_proj.bias: found shape torch.Size([28]) in the checkpoint and torch.Size([7]) in the model instantiated\n",
      "- classifier.out_proj.weight: found shape torch.Size([28, 768]) in the checkpoint and torch.Size([7, 768]) in the model instantiated\n",
      "You should probably TRAIN this model on a down-stream task to be able to use it for predictions and inference.\n",
      "Map: 100%|██████████| 7801/7801 [00:00<00:00, 20540.01 examples/s]\n",
      "Map: 100%|██████████| 1950/1950 [00:00<00:00, 20252.86 examples/s]\n"
     ]
    },
    {
     "name": "stdout",
     "output_type": "stream",
     "text": [
      "\n",
      "Fold 2 - Macro F1: 0.436\n",
      "{'eval_loss': 1.1780766248703003, 'eval_macro_f1': 0.43571469405472346, 'eval_runtime': 9.5669, 'eval_samples_per_second': 203.828, 'eval_steps_per_second': 6.376, 'epoch': 1.0}\n",
      "\n",
      "Fold 2 - Macro F1: 0.503\n",
      "{'eval_loss': 1.1164567470550537, 'eval_macro_f1': 0.5030821220285752, 'eval_runtime': 9.7374, 'eval_samples_per_second': 200.258, 'eval_steps_per_second': 6.264, 'epoch': 2.0}\n",
      "\n",
      "Fold 2 - Macro F1: 0.537\n",
      "{'eval_loss': 1.0923773050308228, 'eval_macro_f1': 0.5369503070964879, 'eval_runtime': 8.8644, 'eval_samples_per_second': 219.981, 'eval_steps_per_second': 6.881, 'epoch': 3.0}\n",
      "\n",
      "Fold 2 - Macro F1: 0.535\n",
      "{'eval_loss': 1.1012837886810303, 'eval_macro_f1': 0.5348441485849315, 'eval_runtime': 8.7083, 'eval_samples_per_second': 223.925, 'eval_steps_per_second': 7.005, 'epoch': 4.0}\n",
      "{'train_runtime': 1331.4587, 'train_samples_per_second': 23.436, 'train_steps_per_second': 1.466, 'train_loss': 1.0434469004146387, 'epoch': 4.0}\n",
      "\n",
      "Fold 2 - Macro F1: 0.537\n",
      "{'eval_loss': 1.0923773050308228, 'eval_macro_f1': 0.5369503070964879, 'eval_runtime': 9.3713, 'eval_samples_per_second': 208.081, 'eval_steps_per_second': 6.509, 'epoch': 4.0}\n",
      "\n",
      "=== Fold 3/5 ===\n"
     ]
    },
    {
     "name": "stderr",
     "output_type": "stream",
     "text": [
      "c:\\Users\\manue\\miniconda3\\envs\\LinguaAnimae\\lib\\site-packages\\huggingface_hub\\file_download.py:943: FutureWarning: `resume_download` is deprecated and will be removed in version 1.0.0. Downloads always resume when possible. If you want to force a new download, use `force_download=True`.\n",
      "  warnings.warn(\n",
      "Some weights of RobertaForSequenceClassification were not initialized from the model checkpoint at SamLowe/roberta-base-go_emotions and are newly initialized because the shapes did not match:\n",
      "- classifier.out_proj.bias: found shape torch.Size([28]) in the checkpoint and torch.Size([7]) in the model instantiated\n",
      "- classifier.out_proj.weight: found shape torch.Size([28, 768]) in the checkpoint and torch.Size([7, 768]) in the model instantiated\n",
      "You should probably TRAIN this model on a down-stream task to be able to use it for predictions and inference.\n",
      "Map: 100%|██████████| 7801/7801 [00:00<00:00, 20330.48 examples/s]\n",
      "Map: 100%|██████████| 1950/1950 [00:00<00:00, 23495.21 examples/s]\n"
     ]
    },
    {
     "name": "stdout",
     "output_type": "stream",
     "text": [
      "\n",
      "Fold 3 - Macro F1: 0.441\n",
      "{'eval_loss': 1.141740322113037, 'eval_macro_f1': 0.4406317552118206, 'eval_runtime': 4.7469, 'eval_samples_per_second': 410.797, 'eval_steps_per_second': 12.851, 'epoch': 1.0}\n",
      "\n",
      "Fold 3 - Macro F1: 0.525\n",
      "{'eval_loss': 1.0721659660339355, 'eval_macro_f1': 0.5245043160778713, 'eval_runtime': 4.8342, 'eval_samples_per_second': 403.377, 'eval_steps_per_second': 12.618, 'epoch': 2.0}\n",
      "\n",
      "Fold 3 - Macro F1: 0.542\n",
      "{'eval_loss': 1.0595958232879639, 'eval_macro_f1': 0.5424518762569747, 'eval_runtime': 5.2367, 'eval_samples_per_second': 372.372, 'eval_steps_per_second': 11.649, 'epoch': 3.0}\n",
      "\n",
      "Fold 3 - Macro F1: 0.548\n",
      "{'eval_loss': 1.0727343559265137, 'eval_macro_f1': 0.5475306712384654, 'eval_runtime': 4.6887, 'eval_samples_per_second': 415.894, 'eval_steps_per_second': 13.01, 'epoch': 4.0}\n",
      "{'train_runtime': 383.376, 'train_samples_per_second': 81.393, 'train_steps_per_second': 5.092, 'train_loss': 1.0362818358374424, 'epoch': 4.0}\n",
      "\n",
      "Fold 3 - Macro F1: 0.548\n",
      "{'eval_loss': 1.0727343559265137, 'eval_macro_f1': 0.5475306712384654, 'eval_runtime': 4.704, 'eval_samples_per_second': 414.545, 'eval_steps_per_second': 12.968, 'epoch': 4.0}\n",
      "\n",
      "=== Fold 4/5 ===\n"
     ]
    },
    {
     "name": "stderr",
     "output_type": "stream",
     "text": [
      "c:\\Users\\manue\\miniconda3\\envs\\LinguaAnimae\\lib\\site-packages\\huggingface_hub\\file_download.py:943: FutureWarning: `resume_download` is deprecated and will be removed in version 1.0.0. Downloads always resume when possible. If you want to force a new download, use `force_download=True`.\n",
      "  warnings.warn(\n",
      "Some weights of RobertaForSequenceClassification were not initialized from the model checkpoint at SamLowe/roberta-base-go_emotions and are newly initialized because the shapes did not match:\n",
      "- classifier.out_proj.bias: found shape torch.Size([28]) in the checkpoint and torch.Size([7]) in the model instantiated\n",
      "- classifier.out_proj.weight: found shape torch.Size([28, 768]) in the checkpoint and torch.Size([7, 768]) in the model instantiated\n",
      "You should probably TRAIN this model on a down-stream task to be able to use it for predictions and inference.\n",
      "Map: 100%|██████████| 7801/7801 [00:00<00:00, 25077.00 examples/s]\n",
      "Map: 100%|██████████| 1950/1950 [00:00<00:00, 18206.63 examples/s]\n"
     ]
    },
    {
     "name": "stdout",
     "output_type": "stream",
     "text": [
      "\n",
      "Fold 4 - Macro F1: 0.460\n",
      "{'eval_loss': 1.1730468273162842, 'eval_macro_f1': 0.46009078789469404, 'eval_runtime': 4.7817, 'eval_samples_per_second': 407.803, 'eval_steps_per_second': 12.757, 'epoch': 1.0}\n",
      "\n",
      "Fold 4 - Macro F1: 0.493\n",
      "{'eval_loss': 1.0949796438217163, 'eval_macro_f1': 0.49346073086316805, 'eval_runtime': 5.3409, 'eval_samples_per_second': 365.105, 'eval_steps_per_second': 11.421, 'epoch': 2.0}\n",
      "\n",
      "Fold 4 - Macro F1: 0.514\n",
      "{'eval_loss': 1.1051301956176758, 'eval_macro_f1': 0.5141432585888426, 'eval_runtime': 4.9573, 'eval_samples_per_second': 393.355, 'eval_steps_per_second': 12.305, 'epoch': 3.0}\n",
      "\n",
      "Fold 4 - Macro F1: 0.526\n",
      "{'eval_loss': 1.1184967756271362, 'eval_macro_f1': 0.5258538493232302, 'eval_runtime': 5.2544, 'eval_samples_per_second': 371.117, 'eval_steps_per_second': 11.609, 'epoch': 4.0}\n",
      "{'train_runtime': 349.689, 'train_samples_per_second': 89.234, 'train_steps_per_second': 5.582, 'train_loss': 1.0572143304543418, 'epoch': 4.0}\n",
      "\n",
      "Fold 4 - Macro F1: 0.526\n",
      "{'eval_loss': 1.1184967756271362, 'eval_macro_f1': 0.5258538493232302, 'eval_runtime': 4.8184, 'eval_samples_per_second': 404.696, 'eval_steps_per_second': 12.66, 'epoch': 4.0}\n",
      "\n",
      "=== Fold 5/5 ===\n"
     ]
    },
    {
     "name": "stderr",
     "output_type": "stream",
     "text": [
      "c:\\Users\\manue\\miniconda3\\envs\\LinguaAnimae\\lib\\site-packages\\huggingface_hub\\file_download.py:943: FutureWarning: `resume_download` is deprecated and will be removed in version 1.0.0. Downloads always resume when possible. If you want to force a new download, use `force_download=True`.\n",
      "  warnings.warn(\n",
      "Some weights of RobertaForSequenceClassification were not initialized from the model checkpoint at SamLowe/roberta-base-go_emotions and are newly initialized because the shapes did not match:\n",
      "- classifier.out_proj.bias: found shape torch.Size([28]) in the checkpoint and torch.Size([7]) in the model instantiated\n",
      "- classifier.out_proj.weight: found shape torch.Size([28, 768]) in the checkpoint and torch.Size([7, 768]) in the model instantiated\n",
      "You should probably TRAIN this model on a down-stream task to be able to use it for predictions and inference.\n",
      "Map: 100%|██████████| 7801/7801 [00:00<00:00, 21477.06 examples/s]\n",
      "Map: 100%|██████████| 1950/1950 [00:00<00:00, 20845.27 examples/s]\n"
     ]
    },
    {
     "name": "stdout",
     "output_type": "stream",
     "text": [
      "\n",
      "Fold 5 - Macro F1: 0.467\n",
      "{'eval_loss': 1.1310807466506958, 'eval_macro_f1': 0.4669228333580676, 'eval_runtime': 4.2174, 'eval_samples_per_second': 462.367, 'eval_steps_per_second': 14.464, 'epoch': 1.0}\n",
      "\n",
      "Fold 5 - Macro F1: 0.492\n",
      "{'eval_loss': 1.0873554944992065, 'eval_macro_f1': 0.49154670686068497, 'eval_runtime': 4.1873, 'eval_samples_per_second': 465.697, 'eval_steps_per_second': 14.568, 'epoch': 2.0}\n",
      "\n",
      "Fold 5 - Macro F1: 0.515\n",
      "{'eval_loss': 1.0825508832931519, 'eval_macro_f1': 0.514564323977504, 'eval_runtime': 4.2836, 'eval_samples_per_second': 455.221, 'eval_steps_per_second': 14.24, 'epoch': 3.0}\n",
      "\n",
      "Fold 5 - Macro F1: 0.515\n",
      "{'eval_loss': 1.074852466583252, 'eval_macro_f1': 0.5152446739562164, 'eval_runtime': 4.4125, 'eval_samples_per_second': 441.925, 'eval_steps_per_second': 13.824, 'epoch': 4.0}\n",
      "{'train_runtime': 360.0521, 'train_samples_per_second': 86.665, 'train_steps_per_second': 5.421, 'train_loss': 1.0426089177366162, 'epoch': 4.0}\n",
      "\n",
      "Fold 5 - Macro F1: 0.515\n",
      "{'eval_loss': 1.074852466583252, 'eval_macro_f1': 0.5152446739562164, 'eval_runtime': 4.2326, 'eval_samples_per_second': 460.708, 'eval_steps_per_second': 14.412, 'epoch': 4.0}\n",
      "\n",
      "=== Cross-validation results (5 folds) ===\n",
      "Macro F1 per fold: [0.5374697373946126, 0.5369503070964879, 0.5475306712384654, 0.5258538493232302, 0.5152446739562164]\n",
      "Mean Macro F1: 0.533 | Std: 0.011\n"
     ]
    }
   ],
   "source": [
    "import pandas as pd\n",
    "import os\n",
    "from datasets import Dataset, DatasetDict\n",
    "from transformers import AutoTokenizer, AutoModelForSequenceClassification, TrainingArguments, EarlyStoppingCallback\n",
    "import numpy as np\n",
    "from sklearn.metrics import classification_report\n",
    "from sklearn.model_selection import StratifiedKFold\n",
    "from sklearn.utils import resample\n",
    "import torch\n",
    "import torch.nn.functional as F\n",
    "from transformers import Trainer\n",
    "\n",
    "# --- Compute class weights robustly ---\n",
    "def compute_class_weights(df, label_column, class_labels):\n",
    "    \"\"\"\n",
    "    Computes class weights for imbalanced classification.\n",
    "\n",
    "    Args:\n",
    "        df (pd.DataFrame): Training dataframe.\n",
    "        label_column (str): Name of the label column.\n",
    "        class_labels (list): List of all class integer labels, in model's order.\n",
    "\n",
    "    Returns:\n",
    "        torch.Tensor: Class weights as tensor, in order of class_labels.\n",
    "    \"\"\"\n",
    "    counts = df[label_column].value_counts().reindex(class_labels, fill_value=0).values\n",
    "    counts = np.maximum(counts, 1)  # Avoid division by zero\n",
    "    weights = 1.0 / counts\n",
    "    # No need to normalize: CrossEntropyLoss expects unnormalized weights\n",
    "    weights_tensor = torch.tensor(weights, dtype=torch.float32)\n",
    "    print(\"Class labels:\", class_labels)\n",
    "    print(\"Class counts:\", counts)\n",
    "    print(\"Class weights:\", weights)\n",
    "    return weights_tensor\n",
    "\n",
    "def focal_loss(logits, labels, alpha=1.0, gamma=2.0, weight=None):\n",
    "    \"\"\"\n",
    "    Compute focal loss for multi-class classification.\n",
    "    Args:\n",
    "        logits (Tensor): [batch_size, num_classes]\n",
    "        labels (Tensor): [batch_size]\n",
    "        alpha (float or Tensor, optional): Class weighting factor.\n",
    "        gamma (float): Focusing parameter.\n",
    "        weight (Tensor, optional): Class weights (as in CrossEntropyLoss).\n",
    "    \"\"\"\n",
    "    ce_loss = F.cross_entropy(logits, labels, weight=weight, reduction='none')\n",
    "    pt = torch.exp(-ce_loss)\n",
    "    focal = (alpha * (1 - pt) ** gamma * ce_loss)\n",
    "    return focal.mean()\n",
    "\n",
    "class WeightedTrainer(Trainer):\n",
    "    def __init__(self, *args, **kwargs):\n",
    "        super().__init__(*args, **kwargs)\n",
    "\n",
    "    def compute_loss(self, model, inputs, return_outputs=False):\n",
    "        labels = inputs.get(\"labels\", None)\n",
    "        outputs = model(**inputs)\n",
    "        logits = outputs.get(\"logits\", None)\n",
    "        if labels is not None and logits is not None:\n",
    "            if not isinstance(labels, torch.Tensor):\n",
    "                labels = torch.tensor(labels)\n",
    "            labels = labels.to(logits.device).long()\n",
    "            # Eliminar uso de weights, solo usar CrossEntropyLoss\n",
    "            loss_fct = torch.nn.CrossEntropyLoss()  # Sin pesos de clase\n",
    "            loss = loss_fct(logits.view(-1, model.config.num_labels), labels.view(-1))\n",
    "            return (loss, outputs) if return_outputs else loss\n",
    "        return (0.0, outputs) if return_outputs else 0.0\n",
    "\n",
    "\n",
    "# --- 1. Load and shuffle data ---\n",
    "df = pd.read_csv(\"../data/evaluation/verses_parsed/emotion_verses_labeled_combined.csv\")\n",
    "df = df.sample(frac=1, random_state=42).reset_index(drop=True)\n",
    "\n",
    "def clean_verse(text):\n",
    "    import re\n",
    "    # Quita saltos de línea, múltiples espacios, referencias tipo [1]\n",
    "    text = re.sub(r'\\s+', ' ', text)\n",
    "    text = re.sub(r'\\[\\d+\\]', '', text)\n",
    "    text = text.strip()\n",
    "    return text\n",
    "\n",
    "df['verse'] = df['verse'].apply(clean_verse)\n",
    "\n",
    "# --- 2. Mapping and validation ---\n",
    "EMOTION_MAP = {\n",
    "    \"joy\": \"Alegría\",\n",
    "    \"sadness\": \"Tristeza\",\n",
    "    \"anger\": \"Ira\",\n",
    "    \"fear\": \"Miedo\",\n",
    "    \"surprise\": \"Sorpresa\",\n",
    "    \"disgust\": \"Asco\",\n",
    "    \"neutral\": \"Neutral\"\n",
    "}\n",
    "label_list = list(EMOTION_MAP.keys())            # List of string labels, e.g. ['joy', 'sadness', ...]\n",
    "label2id = {l: i for i, l in enumerate(label_list)}  # Mapping to int, order matches label_list\n",
    "id2label = {i: l for i, l in enumerate(label_list)}\n",
    "df['label'] = df['label'].str.strip().str.lower()\n",
    "invalid_labels = set(df['label'].unique()) - set(label_list)\n",
    "if invalid_labels:\n",
    "    print(f\"❌ ERROR: Detected invalid labels: {invalid_labels}\")\n",
    "    raise ValueError(\"Your CSV contains labels not present in the expected set.\")\n",
    "df['label'] = df['label'].map(label2id).astype(int)\n",
    "\n",
    "# --- 3. Cross-validation setup ---\n",
    "k = 5  # Number of folds\n",
    "skf = StratifiedKFold(n_splits=k, shuffle=True, random_state=42)\n",
    "results = []\n",
    "CV_OUTPUT_DIR = \"./results_finetuned_bible_cv\"\n",
    "os.makedirs(CV_OUTPUT_DIR, exist_ok=True)\n",
    "\n",
    "for fold, (train_idx, test_idx) in enumerate(skf.split(df['verse'], df['label'])):\n",
    "    print(f\"\\n=== Fold {fold+1}/{k} ===\")\n",
    "    df_train, df_test = df.iloc[train_idx].copy(), df.iloc[test_idx].copy()\n",
    "\n",
    "    # --- OPTIONAL OVERSAMPLING ---\n",
    "    # max_n = df_train['label'].value_counts().max()\n",
    "    # dfs = []\n",
    "    # for label in df_train['label'].unique():\n",
    "    #     df_label = df_train[df_train['label'] == label]\n",
    "    #     dfs.append(resample(df_label, replace=True, n_samples=max_n, random_state=fold))\n",
    "    # df_train = pd.concat(dfs).sample(frac=1, random_state=fold).reset_index(drop=True)\n",
    "    # print(\"Balanced train label counts:\\n\", df_train['label'].value_counts())\n",
    "\n",
    "    # --- Build datasets (renaming for HF compatibility) ---\n",
    "    ds = DatasetDict({\n",
    "        \"train\": Dataset.from_pandas(df_train[['verse', 'label']].rename(columns={'verse': 'text', 'label': 'labels'}), preserve_index=False),\n",
    "        \"test\": Dataset.from_pandas(df_test[['verse', 'label']].rename(columns={'verse': 'text', 'label': 'labels'}), preserve_index=False),\n",
    "    })\n",
    "\n",
    "    # --- Tokenizer and model ---\n",
    "    tokenizer = AutoTokenizer.from_pretrained(\"SamLowe/roberta-base-go_emotions\")\n",
    "    model = AutoModelForSequenceClassification.from_pretrained(\n",
    "        \"SamLowe/roberta-base-go_emotions\",\n",
    "        num_labels=len(label_list),\n",
    "        id2label=id2label,\n",
    "        label2id=label2id,\n",
    "        ignore_mismatched_sizes=True\n",
    "    )\n",
    "    model.config.problem_type = \"single_label_classification\"\n",
    "\n",
    "    def preprocess_function(examples):\n",
    "        return tokenizer(examples[\"text\"], truncation=True, padding=True)\n",
    "\n",
    "    tokenized_datasets = ds.map(preprocess_function, batched=True, remove_columns=[\"text\"])\n",
    "\n",
    "    # Define unique subfolder for this fold:\n",
    "    fold_output_dir = os.path.join(CV_OUTPUT_DIR, f\"fold_{fold+1}\")\n",
    "\n",
    "    # --- Training arguments ---\n",
    "    training_args = TrainingArguments(\n",
    "        output_dir=fold_output_dir,\n",
    "        evaluation_strategy=\"epoch\",\n",
    "        learning_rate=1e-5,\n",
    "        per_device_train_batch_size=16,\n",
    "        per_device_eval_batch_size=32,\n",
    "        gradient_accumulation_steps=1,\n",
    "        num_train_epochs=4,\n",
    "        weight_decay=0.05,\n",
    "        warmup_ratio=0.1,\n",
    "        lr_scheduler_type=\"linear\",\n",
    "        save_strategy=\"epoch\",\n",
    "        load_best_model_at_end=True,\n",
    "        metric_for_best_model=\"macro_f1\",\n",
    "        greater_is_better=True,\n",
    "        save_total_limit=2,\n",
    "        logging_strategy=\"no\",\n",
    "        report_to=\"none\",\n",
    "        seed=42 + fold,\n",
    "        push_to_hub=False,\n",
    "        disable_tqdm=True,\n",
    "    )\n",
    "\n",
    "    # --- Metrics ---\n",
    "    def compute_metrics(pred):\n",
    "        preds = np.argmax(pred.predictions, axis=1)\n",
    "        labels = pred.label_ids\n",
    "        report = classification_report(labels, preds, target_names=[id2label[i] for i in range(len(label_list))], output_dict=True, zero_division=0)\n",
    "        macro_f1 = report[\"macro avg\"][\"f1-score\"]\n",
    "        print(f\"\\nFold {fold+1} - Macro F1: {macro_f1:.3f}\")\n",
    "        return {\"macro_f1\": macro_f1}\n",
    "\n",
    "    # --- Trainer ---\n",
    "    trainer = Trainer(\n",
    "        model=model,\n",
    "        args=training_args,\n",
    "        train_dataset=tokenized_datasets[\"train\"],\n",
    "        eval_dataset=tokenized_datasets[\"test\"],\n",
    "        compute_metrics=compute_metrics,\n",
    "        tokenizer=tokenizer,\n",
    "        callbacks=[EarlyStoppingCallback(early_stopping_patience=1)]\n",
    "    )\n",
    "\n",
    "    trainer.train()\n",
    "    metrics = trainer.evaluate()\n",
    "    results.append(metrics)\n",
    "\n",
    "# --- Show CV results ---\n",
    "macro_f1s = [r[\"eval_macro_f1\"] for r in results]\n",
    "print(f\"\\n=== Cross-validation results ({k} folds) ===\")\n",
    "print(f\"Macro F1 per fold: {macro_f1s}\")\n",
    "print(f\"Mean Macro F1: {np.mean(macro_f1s):.3f} | Std: {np.std(macro_f1s):.3f}\")"
   ]
  },
  {
   "cell_type": "markdown",
   "id": "b065d2f2",
   "metadata": {},
   "source": [
    "### Train model"
   ]
  },
  {
   "cell_type": "code",
   "execution_count": 1,
   "id": "26bc44f7",
   "metadata": {},
   "outputs": [
    {
     "name": "stderr",
     "output_type": "stream",
     "text": [
      "c:\\Users\\manue\\miniconda3\\envs\\LinguaAnimae\\lib\\site-packages\\tqdm\\auto.py:21: TqdmWarning: IProgress not found. Please update jupyter and ipywidgets. See https://ipywidgets.readthedocs.io/en/stable/user_install.html\n",
      "  from .autonotebook import tqdm as notebook_tqdm\n",
      "c:\\Users\\manue\\miniconda3\\envs\\LinguaAnimae\\lib\\site-packages\\huggingface_hub\\file_download.py:943: FutureWarning: `resume_download` is deprecated and will be removed in version 1.0.0. Downloads always resume when possible. If you want to force a new download, use `force_download=True`.\n",
      "  warnings.warn(\n",
      "Map: 100%|██████████| 8775/8775 [00:00<00:00, 21424.25 examples/s]\n",
      "Map: 100%|██████████| 976/976 [00:00<00:00, 29575.55 examples/s]\n",
      "Some weights of RobertaForSequenceClassification were not initialized from the model checkpoint at SamLowe/roberta-base-go_emotions and are newly initialized because the shapes did not match:\n",
      "- classifier.out_proj.bias: found shape torch.Size([28]) in the checkpoint and torch.Size([7]) in the model instantiated\n",
      "- classifier.out_proj.weight: found shape torch.Size([28, 768]) in the checkpoint and torch.Size([7, 768]) in the model instantiated\n",
      "You should probably TRAIN this model on a down-stream task to be able to use it for predictions and inference.\n",
      "[I 2025-05-22 23:30:33,291] A new study created in memory with name: no-name-e53db43a-725b-415a-8145-3e1495a15b00\n",
      "Trying to set gamma in the hyperparameter search but there is no corresponding field in `TrainingArguments`.\n",
      "Trying to set alpha in the hyperparameter search but there is no corresponding field in `TrainingArguments`.\n",
      "Some weights of RobertaForSequenceClassification were not initialized from the model checkpoint at SamLowe/roberta-base-go_emotions and are newly initialized because the shapes did not match:\n",
      "- classifier.out_proj.bias: found shape torch.Size([28]) in the checkpoint and torch.Size([7]) in the model instantiated\n",
      "- classifier.out_proj.weight: found shape torch.Size([28, 768]) in the checkpoint and torch.Size([7, 768]) in the model instantiated\n",
      "You should probably TRAIN this model on a down-stream task to be able to use it for predictions and inference.\n"
     ]
    },
    {
     "name": "stdout",
     "output_type": "stream",
     "text": [
      "{'eval_loss': 1.153934359550476, 'eval_macro_f1': 0.44391327172288503, 'eval_runtime': 2.1458, 'eval_samples_per_second': 454.843, 'eval_steps_per_second': 56.855, 'epoch': 1.0}\n",
      "{'eval_loss': 1.049004316329956, 'eval_macro_f1': 0.5077304143566147, 'eval_runtime': 2.1895, 'eval_samples_per_second': 445.758, 'eval_steps_per_second': 55.72, 'epoch': 2.0}\n",
      "{'eval_loss': 1.0716345310211182, 'eval_macro_f1': 0.5315036798739128, 'eval_runtime': 2.0108, 'eval_samples_per_second': 485.368, 'eval_steps_per_second': 60.671, 'epoch': 3.0}\n",
      "{'eval_loss': 1.084185242652893, 'eval_macro_f1': 0.5398692464969373, 'eval_runtime': 1.992, 'eval_samples_per_second': 489.952, 'eval_steps_per_second': 61.244, 'epoch': 4.0}\n",
      "{'eval_loss': 1.1194475889205933, 'eval_macro_f1': 0.5406556710965333, 'eval_runtime': 1.9276, 'eval_samples_per_second': 506.336, 'eval_steps_per_second': 63.292, 'epoch': 5.0}\n"
     ]
    },
    {
     "name": "stderr",
     "output_type": "stream",
     "text": [
      "[I 2025-05-22 23:36:53,955] Trial 0 finished with value: 0.5406556710965333 and parameters: {'learning_rate': 1.6560964730246075e-05, 'per_device_train_batch_size': 32, 'weight_decay': 0.16496172735944575, 'num_train_epochs': 5, 'warmup_ratio': 0.12206773879748896, 'gamma': 3.0947809303523464, 'alpha': 0.8500357080525651}. Best is trial 0 with value: 0.5406556710965333.\n",
      "Trying to set gamma in the hyperparameter search but there is no corresponding field in `TrainingArguments`.\n",
      "Trying to set alpha in the hyperparameter search but there is no corresponding field in `TrainingArguments`.\n"
     ]
    },
    {
     "name": "stdout",
     "output_type": "stream",
     "text": [
      "{'train_runtime': 379.0472, 'train_samples_per_second': 115.751, 'train_steps_per_second': 3.628, 'train_loss': 0.949353515625, 'epoch': 5.0}\n"
     ]
    },
    {
     "name": "stderr",
     "output_type": "stream",
     "text": [
      "c:\\Users\\manue\\miniconda3\\envs\\LinguaAnimae\\lib\\site-packages\\huggingface_hub\\file_download.py:943: FutureWarning: `resume_download` is deprecated and will be removed in version 1.0.0. Downloads always resume when possible. If you want to force a new download, use `force_download=True`.\n",
      "  warnings.warn(\n",
      "Some weights of RobertaForSequenceClassification were not initialized from the model checkpoint at SamLowe/roberta-base-go_emotions and are newly initialized because the shapes did not match:\n",
      "- classifier.out_proj.bias: found shape torch.Size([28]) in the checkpoint and torch.Size([7]) in the model instantiated\n",
      "- classifier.out_proj.weight: found shape torch.Size([28, 768]) in the checkpoint and torch.Size([7, 768]) in the model instantiated\n",
      "You should probably TRAIN this model on a down-stream task to be able to use it for predictions and inference.\n"
     ]
    },
    {
     "name": "stdout",
     "output_type": "stream",
     "text": [
      "{'eval_loss': 1.2337744235992432, 'eval_macro_f1': 0.386367749136275, 'eval_runtime': 1.9261, 'eval_samples_per_second': 506.71, 'eval_steps_per_second': 63.339, 'epoch': 1.0}\n",
      "{'eval_loss': 1.1250355243682861, 'eval_macro_f1': 0.44745996254409065, 'eval_runtime': 2.2606, 'eval_samples_per_second': 431.736, 'eval_steps_per_second': 53.967, 'epoch': 2.0}\n",
      "{'eval_loss': 1.0821396112442017, 'eval_macro_f1': 0.4950272244355017, 'eval_runtime': 1.9331, 'eval_samples_per_second': 504.88, 'eval_steps_per_second': 63.11, 'epoch': 3.0}\n",
      "{'eval_loss': 1.0723201036453247, 'eval_macro_f1': 0.5080069833780952, 'eval_runtime': 1.9229, 'eval_samples_per_second': 507.56, 'eval_steps_per_second': 63.445, 'epoch': 4.0}\n",
      "{'eval_loss': 1.074013590812683, 'eval_macro_f1': 0.5032313620846124, 'eval_runtime': 1.9477, 'eval_samples_per_second': 501.117, 'eval_steps_per_second': 62.64, 'epoch': 5.0}\n"
     ]
    },
    {
     "name": "stderr",
     "output_type": "stream",
     "text": [
      "[I 2025-05-22 23:43:10,598] Trial 1 finished with value: 0.5032313620846124 and parameters: {'learning_rate': 7.446659702105853e-06, 'per_device_train_batch_size': 32, 'weight_decay': 0.17995129031213478, 'num_train_epochs': 5, 'warmup_ratio': 0.10803100587054272, 'gamma': 1.9941768709142853, 'alpha': 1.0251104193872338}. Best is trial 0 with value: 0.5406556710965333.\n",
      "Trying to set gamma in the hyperparameter search but there is no corresponding field in `TrainingArguments`.\n",
      "Trying to set alpha in the hyperparameter search but there is no corresponding field in `TrainingArguments`.\n"
     ]
    },
    {
     "name": "stdout",
     "output_type": "stream",
     "text": [
      "{'train_runtime': 375.5322, 'train_samples_per_second': 116.834, 'train_steps_per_second': 3.661, 'train_loss': 1.113274591619318, 'epoch': 5.0}\n"
     ]
    },
    {
     "name": "stderr",
     "output_type": "stream",
     "text": [
      "c:\\Users\\manue\\miniconda3\\envs\\LinguaAnimae\\lib\\site-packages\\huggingface_hub\\file_download.py:943: FutureWarning: `resume_download` is deprecated and will be removed in version 1.0.0. Downloads always resume when possible. If you want to force a new download, use `force_download=True`.\n",
      "  warnings.warn(\n",
      "Some weights of RobertaForSequenceClassification were not initialized from the model checkpoint at SamLowe/roberta-base-go_emotions and are newly initialized because the shapes did not match:\n",
      "- classifier.out_proj.bias: found shape torch.Size([28]) in the checkpoint and torch.Size([7]) in the model instantiated\n",
      "- classifier.out_proj.weight: found shape torch.Size([28, 768]) in the checkpoint and torch.Size([7, 768]) in the model instantiated\n",
      "You should probably TRAIN this model on a down-stream task to be able to use it for predictions and inference.\n"
     ]
    },
    {
     "name": "stdout",
     "output_type": "stream",
     "text": [
      "{'eval_loss': 1.132463812828064, 'eval_macro_f1': 0.45244138948061063, 'eval_runtime': 1.9607, 'eval_samples_per_second': 497.791, 'eval_steps_per_second': 62.224, 'epoch': 1.0}\n",
      "{'eval_loss': 1.0476115942001343, 'eval_macro_f1': 0.5202146881547375, 'eval_runtime': 1.9619, 'eval_samples_per_second': 497.476, 'eval_steps_per_second': 62.185, 'epoch': 2.0}\n",
      "{'eval_loss': 1.0793198347091675, 'eval_macro_f1': 0.5252289977023892, 'eval_runtime': 2.0248, 'eval_samples_per_second': 482.028, 'eval_steps_per_second': 60.253, 'epoch': 3.0}\n"
     ]
    },
    {
     "name": "stderr",
     "output_type": "stream",
     "text": [
      "[I 2025-05-22 23:47:28,580] Trial 2 finished with value: 0.5252289977023892 and parameters: {'learning_rate': 1.758929535934372e-05, 'per_device_train_batch_size': 16, 'weight_decay': 0.052334241760782135, 'num_train_epochs': 3, 'warmup_ratio': 0.18137192522012074, 'gamma': 1.9648258280703064, 'alpha': 1.1655285219192395}. Best is trial 0 with value: 0.5406556710965333.\n",
      "Trying to set gamma in the hyperparameter search but there is no corresponding field in `TrainingArguments`.\n",
      "Trying to set alpha in the hyperparameter search but there is no corresponding field in `TrainingArguments`.\n",
      "c:\\Users\\manue\\miniconda3\\envs\\LinguaAnimae\\lib\\site-packages\\huggingface_hub\\file_download.py:943: FutureWarning: `resume_download` is deprecated and will be removed in version 1.0.0. Downloads always resume when possible. If you want to force a new download, use `force_download=True`.\n",
      "  warnings.warn(\n"
     ]
    },
    {
     "name": "stdout",
     "output_type": "stream",
     "text": [
      "{'train_runtime': 256.9077, 'train_samples_per_second': 102.469, 'train_steps_per_second': 6.411, 'train_loss': 1.0506939404504403, 'epoch': 3.0}\n"
     ]
    },
    {
     "name": "stderr",
     "output_type": "stream",
     "text": [
      "Some weights of RobertaForSequenceClassification were not initialized from the model checkpoint at SamLowe/roberta-base-go_emotions and are newly initialized because the shapes did not match:\n",
      "- classifier.out_proj.bias: found shape torch.Size([28]) in the checkpoint and torch.Size([7]) in the model instantiated\n",
      "- classifier.out_proj.weight: found shape torch.Size([28, 768]) in the checkpoint and torch.Size([7, 768]) in the model instantiated\n",
      "You should probably TRAIN this model on a down-stream task to be able to use it for predictions and inference.\n"
     ]
    },
    {
     "name": "stdout",
     "output_type": "stream",
     "text": [
      "{'eval_loss': 1.3140078783035278, 'eval_macro_f1': 0.37184806662981085, 'eval_runtime': 2.1864, 'eval_samples_per_second': 446.4, 'eval_steps_per_second': 55.8, 'epoch': 1.0}\n",
      "{'eval_loss': 1.1659495830535889, 'eval_macro_f1': 0.4182549553480496, 'eval_runtime': 1.9353, 'eval_samples_per_second': 504.327, 'eval_steps_per_second': 63.041, 'epoch': 2.0}\n",
      "{'eval_loss': 1.1206947565078735, 'eval_macro_f1': 0.4484515592756028, 'eval_runtime': 1.9819, 'eval_samples_per_second': 492.446, 'eval_steps_per_second': 61.556, 'epoch': 3.0}\n",
      "{'eval_loss': 1.1123558282852173, 'eval_macro_f1': 0.4541191773339664, 'eval_runtime': 2.0116, 'eval_samples_per_second': 485.185, 'eval_steps_per_second': 60.648, 'epoch': 4.0}\n"
     ]
    },
    {
     "name": "stderr",
     "output_type": "stream",
     "text": [
      "[I 2025-05-22 23:52:30,592] Trial 3 finished with value: 0.4541191773339664 and parameters: {'learning_rate': 5.690886872757119e-06, 'per_device_train_batch_size': 32, 'weight_decay': 0.07723270770616796, 'num_train_epochs': 4, 'warmup_ratio': 0.24849485556838707, 'gamma': 2.3862183012644467, 'alpha': 1.1448942908849347}. Best is trial 0 with value: 0.5406556710965333.\n",
      "Trying to set gamma in the hyperparameter search but there is no corresponding field in `TrainingArguments`.\n",
      "Trying to set alpha in the hyperparameter search but there is no corresponding field in `TrainingArguments`.\n"
     ]
    },
    {
     "name": "stdout",
     "output_type": "stream",
     "text": [
      "{'train_runtime': 300.697, 'train_samples_per_second': 116.729, 'train_steps_per_second': 3.658, 'train_loss': 1.2585398171164772, 'epoch': 4.0}\n"
     ]
    },
    {
     "name": "stderr",
     "output_type": "stream",
     "text": [
      "c:\\Users\\manue\\miniconda3\\envs\\LinguaAnimae\\lib\\site-packages\\huggingface_hub\\file_download.py:943: FutureWarning: `resume_download` is deprecated and will be removed in version 1.0.0. Downloads always resume when possible. If you want to force a new download, use `force_download=True`.\n",
      "  warnings.warn(\n",
      "Some weights of RobertaForSequenceClassification were not initialized from the model checkpoint at SamLowe/roberta-base-go_emotions and are newly initialized because the shapes did not match:\n",
      "- classifier.out_proj.bias: found shape torch.Size([28]) in the checkpoint and torch.Size([7]) in the model instantiated\n",
      "- classifier.out_proj.weight: found shape torch.Size([28, 768]) in the checkpoint and torch.Size([7, 768]) in the model instantiated\n",
      "You should probably TRAIN this model on a down-stream task to be able to use it for predictions and inference.\n"
     ]
    },
    {
     "name": "stdout",
     "output_type": "stream",
     "text": [
      "{'eval_loss': 1.1645578145980835, 'eval_macro_f1': 0.4243940805417026, 'eval_runtime': 2.0207, 'eval_samples_per_second': 482.996, 'eval_steps_per_second': 60.375, 'epoch': 1.0}\n",
      "{'eval_loss': 1.089882254600525, 'eval_macro_f1': 0.4588352003988985, 'eval_runtime': 2.1528, 'eval_samples_per_second': 453.367, 'eval_steps_per_second': 56.671, 'epoch': 2.0}\n",
      "{'eval_loss': 1.0917409658432007, 'eval_macro_f1': 0.48196674621147123, 'eval_runtime': 1.936, 'eval_samples_per_second': 504.124, 'eval_steps_per_second': 63.015, 'epoch': 3.0}\n"
     ]
    },
    {
     "name": "stderr",
     "output_type": "stream",
     "text": [
      "[I 2025-05-22 23:57:01,449] Trial 4 finished with value: 0.48196674621147123 and parameters: {'learning_rate': 7.345069575543386e-06, 'per_device_train_batch_size': 16, 'weight_decay': 0.045387279540569134, 'num_train_epochs': 3, 'warmup_ratio': 0.07382889161777294, 'gamma': 2.842237200419467, 'alpha': 0.8249079016461736}. Best is trial 0 with value: 0.5406556710965333.\n",
      "Trying to set gamma in the hyperparameter search but there is no corresponding field in `TrainingArguments`.\n",
      "Trying to set alpha in the hyperparameter search but there is no corresponding field in `TrainingArguments`.\n"
     ]
    },
    {
     "name": "stdout",
     "output_type": "stream",
     "text": [
      "{'train_runtime': 269.4679, 'train_samples_per_second': 97.693, 'train_steps_per_second': 6.112, 'train_loss': 1.1568966687775122, 'epoch': 3.0}\n"
     ]
    },
    {
     "name": "stderr",
     "output_type": "stream",
     "text": [
      "c:\\Users\\manue\\miniconda3\\envs\\LinguaAnimae\\lib\\site-packages\\huggingface_hub\\file_download.py:943: FutureWarning: `resume_download` is deprecated and will be removed in version 1.0.0. Downloads always resume when possible. If you want to force a new download, use `force_download=True`.\n",
      "  warnings.warn(\n",
      "Some weights of RobertaForSequenceClassification were not initialized from the model checkpoint at SamLowe/roberta-base-go_emotions and are newly initialized because the shapes did not match:\n",
      "- classifier.out_proj.bias: found shape torch.Size([28]) in the checkpoint and torch.Size([7]) in the model instantiated\n",
      "- classifier.out_proj.weight: found shape torch.Size([28, 768]) in the checkpoint and torch.Size([7, 768]) in the model instantiated\n",
      "You should probably TRAIN this model on a down-stream task to be able to use it for predictions and inference.\n"
     ]
    },
    {
     "name": "stdout",
     "output_type": "stream",
     "text": [
      "{'eval_loss': 1.1306653022766113, 'eval_macro_f1': 0.44411948428859954, 'eval_runtime': 1.9405, 'eval_samples_per_second': 502.959, 'eval_steps_per_second': 62.87, 'epoch': 1.0}\n",
      "{'eval_loss': 1.0524274110794067, 'eval_macro_f1': 0.5156273679009232, 'eval_runtime': 2.0809, 'eval_samples_per_second': 469.038, 'eval_steps_per_second': 58.63, 'epoch': 2.0}\n",
      "{'eval_loss': 1.0725390911102295, 'eval_macro_f1': 0.5365432662997608, 'eval_runtime': 2.0765, 'eval_samples_per_second': 470.014, 'eval_steps_per_second': 58.752, 'epoch': 3.0}\n",
      "{'eval_loss': 1.1100733280181885, 'eval_macro_f1': 0.5579396571928269, 'eval_runtime': 2.0064, 'eval_samples_per_second': 486.434, 'eval_steps_per_second': 60.804, 'epoch': 4.0}\n"
     ]
    },
    {
     "name": "stderr",
     "output_type": "stream",
     "text": [
      "[I 2025-05-23 00:02:58,471] Trial 5 finished with value: 0.5579396571928269 and parameters: {'learning_rate': 1.4859438402215026e-05, 'per_device_train_batch_size': 16, 'weight_decay': 0.09179916879381364, 'num_train_epochs': 4, 'warmup_ratio': 0.11700669070517074, 'gamma': 2.0827319414213106, 'alpha': 0.9773781214422633}. Best is trial 5 with value: 0.5579396571928269.\n",
      "Trying to set gamma in the hyperparameter search but there is no corresponding field in `TrainingArguments`.\n",
      "Trying to set alpha in the hyperparameter search but there is no corresponding field in `TrainingArguments`.\n"
     ]
    },
    {
     "name": "stdout",
     "output_type": "stream",
     "text": [
      "{'train_runtime': 355.9966, 'train_samples_per_second': 98.596, 'train_steps_per_second': 6.169, 'train_loss': 0.9638399495887409, 'epoch': 4.0}\n"
     ]
    },
    {
     "name": "stderr",
     "output_type": "stream",
     "text": [
      "c:\\Users\\manue\\miniconda3\\envs\\LinguaAnimae\\lib\\site-packages\\huggingface_hub\\file_download.py:943: FutureWarning: `resume_download` is deprecated and will be removed in version 1.0.0. Downloads always resume when possible. If you want to force a new download, use `force_download=True`.\n",
      "  warnings.warn(\n",
      "Some weights of RobertaForSequenceClassification were not initialized from the model checkpoint at SamLowe/roberta-base-go_emotions and are newly initialized because the shapes did not match:\n",
      "- classifier.out_proj.bias: found shape torch.Size([28]) in the checkpoint and torch.Size([7]) in the model instantiated\n",
      "- classifier.out_proj.weight: found shape torch.Size([28, 768]) in the checkpoint and torch.Size([7, 768]) in the model instantiated\n",
      "You should probably TRAIN this model on a down-stream task to be able to use it for predictions and inference.\n"
     ]
    },
    {
     "name": "stdout",
     "output_type": "stream",
     "text": [
      "{'eval_loss': 1.119063138961792, 'eval_macro_f1': 0.45566613668106504, 'eval_runtime': 2.0048, 'eval_samples_per_second': 486.835, 'eval_steps_per_second': 60.854, 'epoch': 1.0}\n",
      "{'eval_loss': 1.044901728630066, 'eval_macro_f1': 0.5327960493938663, 'eval_runtime': 2.0051, 'eval_samples_per_second': 486.767, 'eval_steps_per_second': 60.846, 'epoch': 2.0}\n",
      "{'eval_loss': 1.1295243501663208, 'eval_macro_f1': 0.52873476421961, 'eval_runtime': 2.0097, 'eval_samples_per_second': 485.636, 'eval_steps_per_second': 60.705, 'epoch': 3.0}\n"
     ]
    },
    {
     "name": "stderr",
     "output_type": "stream",
     "text": [
      "[I 2025-05-23 00:07:25,429] Trial 6 finished with value: 0.52873476421961 and parameters: {'learning_rate': 2.52138803868877e-05, 'per_device_train_batch_size': 16, 'weight_decay': 0.09267665560578589, 'num_train_epochs': 5, 'warmup_ratio': 0.1328240236839583, 'gamma': 3.1885291459567116, 'alpha': 0.9974145139453552}. Best is trial 5 with value: 0.5579396571928269.\n",
      "Trying to set gamma in the hyperparameter search but there is no corresponding field in `TrainingArguments`.\n",
      "Trying to set alpha in the hyperparameter search but there is no corresponding field in `TrainingArguments`.\n"
     ]
    },
    {
     "name": "stdout",
     "output_type": "stream",
     "text": [
      "{'train_runtime': 265.918, 'train_samples_per_second': 164.994, 'train_steps_per_second': 10.323, 'train_loss': 1.0257054730191257, 'epoch': 3.0}\n"
     ]
    },
    {
     "name": "stderr",
     "output_type": "stream",
     "text": [
      "c:\\Users\\manue\\miniconda3\\envs\\LinguaAnimae\\lib\\site-packages\\huggingface_hub\\file_download.py:943: FutureWarning: `resume_download` is deprecated and will be removed in version 1.0.0. Downloads always resume when possible. If you want to force a new download, use `force_download=True`.\n",
      "  warnings.warn(\n",
      "Some weights of RobertaForSequenceClassification were not initialized from the model checkpoint at SamLowe/roberta-base-go_emotions and are newly initialized because the shapes did not match:\n",
      "- classifier.out_proj.bias: found shape torch.Size([28]) in the checkpoint and torch.Size([7]) in the model instantiated\n",
      "- classifier.out_proj.weight: found shape torch.Size([28, 768]) in the checkpoint and torch.Size([7, 768]) in the model instantiated\n",
      "You should probably TRAIN this model on a down-stream task to be able to use it for predictions and inference.\n"
     ]
    },
    {
     "name": "stdout",
     "output_type": "stream",
     "text": [
      "{'eval_loss': 1.0924794673919678, 'eval_macro_f1': 0.4690632856763562, 'eval_runtime': 1.9949, 'eval_samples_per_second': 489.253, 'eval_steps_per_second': 61.157, 'epoch': 1.0}\n",
      "{'eval_loss': 1.0349279642105103, 'eval_macro_f1': 0.5388244025217929, 'eval_runtime': 2.0476, 'eval_samples_per_second': 476.654, 'eval_steps_per_second': 59.582, 'epoch': 2.0}\n"
     ]
    },
    {
     "name": "stderr",
     "output_type": "stream",
     "text": [
      "[I 2025-05-23 00:10:23,593] Trial 7 finished with value: 0.5388244025217929 and parameters: {'learning_rate': 2.4799124720966066e-05, 'per_device_train_batch_size': 16, 'weight_decay': 0.022281555707266205, 'num_train_epochs': 2, 'warmup_ratio': 0.06778440999349795, 'gamma': 2.9814841187970487, 'alpha': 0.8491363281684018}. Best is trial 5 with value: 0.5579396571928269.\n",
      "Trying to set gamma in the hyperparameter search but there is no corresponding field in `TrainingArguments`.\n",
      "Trying to set alpha in the hyperparameter search but there is no corresponding field in `TrainingArguments`.\n"
     ]
    },
    {
     "name": "stdout",
     "output_type": "stream",
     "text": [
      "{'train_runtime': 177.0978, 'train_samples_per_second': 99.098, 'train_steps_per_second': 6.2, 'train_loss': 1.0937086428449454, 'epoch': 2.0}\n"
     ]
    },
    {
     "name": "stderr",
     "output_type": "stream",
     "text": [
      "c:\\Users\\manue\\miniconda3\\envs\\LinguaAnimae\\lib\\site-packages\\huggingface_hub\\file_download.py:943: FutureWarning: `resume_download` is deprecated and will be removed in version 1.0.0. Downloads always resume when possible. If you want to force a new download, use `force_download=True`.\n",
      "  warnings.warn(\n",
      "Some weights of RobertaForSequenceClassification were not initialized from the model checkpoint at SamLowe/roberta-base-go_emotions and are newly initialized because the shapes did not match:\n",
      "- classifier.out_proj.bias: found shape torch.Size([28]) in the checkpoint and torch.Size([7]) in the model instantiated\n",
      "- classifier.out_proj.weight: found shape torch.Size([28, 768]) in the checkpoint and torch.Size([7, 768]) in the model instantiated\n",
      "You should probably TRAIN this model on a down-stream task to be able to use it for predictions and inference.\n"
     ]
    },
    {
     "name": "stdout",
     "output_type": "stream",
     "text": [
      "{'eval_loss': 1.1547048091888428, 'eval_macro_f1': 0.4287924687817392, 'eval_runtime': 1.9404, 'eval_samples_per_second': 502.984, 'eval_steps_per_second': 62.873, 'epoch': 1.0}\n",
      "{'eval_loss': 1.0540410280227661, 'eval_macro_f1': 0.506494448660187, 'eval_runtime': 2.0551, 'eval_samples_per_second': 474.906, 'eval_steps_per_second': 59.363, 'epoch': 2.0}\n",
      "{'eval_loss': 1.0655736923217773, 'eval_macro_f1': 0.5209376632802624, 'eval_runtime': 2.0701, 'eval_samples_per_second': 471.482, 'eval_steps_per_second': 58.935, 'epoch': 3.0}\n",
      "{'eval_loss': 1.090766429901123, 'eval_macro_f1': 0.5413630153517894, 'eval_runtime': 1.9674, 'eval_samples_per_second': 496.096, 'eval_steps_per_second': 62.012, 'epoch': 4.0}\n",
      "{'eval_loss': 1.1541903018951416, 'eval_macro_f1': 0.550032209857327, 'eval_runtime': 1.9641, 'eval_samples_per_second': 496.923, 'eval_steps_per_second': 62.115, 'epoch': 5.0}\n",
      "{'eval_loss': 1.1727772951126099, 'eval_macro_f1': 0.552115240975587, 'eval_runtime': 1.9333, 'eval_samples_per_second': 504.839, 'eval_steps_per_second': 63.105, 'epoch': 6.0}\n"
     ]
    },
    {
     "name": "stderr",
     "output_type": "stream",
     "text": [
      "[I 2025-05-23 00:17:59,638] Trial 8 finished with value: 0.552115240975587 and parameters: {'learning_rate': 1.6997893346781543e-05, 'per_device_train_batch_size': 32, 'weight_decay': 0.03407414759043114, 'num_train_epochs': 6, 'warmup_ratio': 0.12150033350687926, 'gamma': 2.6691818617092564, 'alpha': 1.0877386871798462}. Best is trial 5 with value: 0.5579396571928269.\n",
      "Trying to set gamma in the hyperparameter search but there is no corresponding field in `TrainingArguments`.\n",
      "Trying to set alpha in the hyperparameter search but there is no corresponding field in `TrainingArguments`.\n"
     ]
    },
    {
     "name": "stdout",
     "output_type": "stream",
     "text": [
      "{'train_runtime': 454.9951, 'train_samples_per_second': 115.716, 'train_steps_per_second': 3.626, 'train_loss': 0.8673211854876894, 'epoch': 6.0}\n"
     ]
    },
    {
     "name": "stderr",
     "output_type": "stream",
     "text": [
      "c:\\Users\\manue\\miniconda3\\envs\\LinguaAnimae\\lib\\site-packages\\huggingface_hub\\file_download.py:943: FutureWarning: `resume_download` is deprecated and will be removed in version 1.0.0. Downloads always resume when possible. If you want to force a new download, use `force_download=True`.\n",
      "  warnings.warn(\n",
      "Some weights of RobertaForSequenceClassification were not initialized from the model checkpoint at SamLowe/roberta-base-go_emotions and are newly initialized because the shapes did not match:\n",
      "- classifier.out_proj.bias: found shape torch.Size([28]) in the checkpoint and torch.Size([7]) in the model instantiated\n",
      "- classifier.out_proj.weight: found shape torch.Size([28, 768]) in the checkpoint and torch.Size([7, 768]) in the model instantiated\n",
      "You should probably TRAIN this model on a down-stream task to be able to use it for predictions and inference.\n"
     ]
    },
    {
     "name": "stdout",
     "output_type": "stream",
     "text": [
      "{'eval_loss': 1.1178783178329468, 'eval_macro_f1': 0.4912314617890319, 'eval_runtime': 1.9512, 'eval_samples_per_second': 500.196, 'eval_steps_per_second': 62.525, 'epoch': 1.0}\n",
      "{'eval_loss': 1.0233469009399414, 'eval_macro_f1': 0.5347917593734616, 'eval_runtime': 1.9527, 'eval_samples_per_second': 499.815, 'eval_steps_per_second': 62.477, 'epoch': 2.0}\n",
      "{'eval_loss': 1.0689940452575684, 'eval_macro_f1': 0.5428064528540648, 'eval_runtime': 1.9599, 'eval_samples_per_second': 497.988, 'eval_steps_per_second': 62.249, 'epoch': 3.0}\n"
     ]
    },
    {
     "name": "stderr",
     "output_type": "stream",
     "text": [
      "[I 2025-05-23 00:21:42,287] Trial 9 finished with value: 0.5428064528540648 and parameters: {'learning_rate': 3.352284036261166e-05, 'per_device_train_batch_size': 32, 'weight_decay': 0.10181379543053024, 'num_train_epochs': 3, 'warmup_ratio': 0.2868836875685784, 'gamma': 2.1945296415844204, 'alpha': 0.8904692704131193}. Best is trial 5 with value: 0.5579396571928269.\n",
      "Trying to set gamma in the hyperparameter search but there is no corresponding field in `TrainingArguments`.\n",
      "Trying to set alpha in the hyperparameter search but there is no corresponding field in `TrainingArguments`.\n"
     ]
    },
    {
     "name": "stdout",
     "output_type": "stream",
     "text": [
      "{'train_runtime': 221.5308, 'train_samples_per_second': 118.832, 'train_steps_per_second': 3.724, 'train_loss': 1.0498687559185607, 'epoch': 3.0}\n"
     ]
    },
    {
     "name": "stderr",
     "output_type": "stream",
     "text": [
      "c:\\Users\\manue\\miniconda3\\envs\\LinguaAnimae\\lib\\site-packages\\huggingface_hub\\file_download.py:943: FutureWarning: `resume_download` is deprecated and will be removed in version 1.0.0. Downloads always resume when possible. If you want to force a new download, use `force_download=True`.\n",
      "  warnings.warn(\n",
      "Some weights of RobertaForSequenceClassification were not initialized from the model checkpoint at SamLowe/roberta-base-go_emotions and are newly initialized because the shapes did not match:\n",
      "- classifier.out_proj.bias: found shape torch.Size([28]) in the checkpoint and torch.Size([7]) in the model instantiated\n",
      "- classifier.out_proj.weight: found shape torch.Size([28, 768]) in the checkpoint and torch.Size([7, 768]) in the model instantiated\n",
      "You should probably TRAIN this model on a down-stream task to be able to use it for predictions and inference.\n"
     ]
    },
    {
     "name": "stdout",
     "output_type": "stream",
     "text": [
      "{'eval_loss': 1.155316710472107, 'eval_macro_f1': 0.4556099134976141, 'eval_runtime': 2.0518, 'eval_samples_per_second': 475.67, 'eval_steps_per_second': 59.459, 'epoch': 1.0}\n",
      "{'eval_loss': 1.071487307548523, 'eval_macro_f1': 0.5232643774203684, 'eval_runtime': 1.9895, 'eval_samples_per_second': 490.575, 'eval_steps_per_second': 61.322, 'epoch': 2.0}\n",
      "{'eval_loss': 1.0856424570083618, 'eval_macro_f1': 0.5331632538907539, 'eval_runtime': 2.0043, 'eval_samples_per_second': 486.955, 'eval_steps_per_second': 60.869, 'epoch': 3.0}\n",
      "{'eval_loss': 1.1297625303268433, 'eval_macro_f1': 0.5422462030865562, 'eval_runtime': 1.9962, 'eval_samples_per_second': 488.931, 'eval_steps_per_second': 61.116, 'epoch': 4.0}\n"
     ]
    },
    {
     "name": "stderr",
     "output_type": "stream",
     "text": [
      "[I 2025-05-23 00:29:35,332] Trial 10 finished with value: 0.5422462030865562 and parameters: {'learning_rate': 1.0414048521445648e-05, 'per_device_train_batch_size': 8, 'weight_decay': 0.1388971779838564, 'num_train_epochs': 4, 'warmup_ratio': 0.20254504044329677, 'gamma': 1.5044207398463671, 'alpha': 0.9418024933164245}. Best is trial 5 with value: 0.5579396571928269.\n",
      "Trying to set gamma in the hyperparameter search but there is no corresponding field in `TrainingArguments`.\n",
      "Trying to set alpha in the hyperparameter search but there is no corresponding field in `TrainingArguments`.\n"
     ]
    },
    {
     "name": "stdout",
     "output_type": "stream",
     "text": [
      "{'train_runtime': 471.5797, 'train_samples_per_second': 74.431, 'train_steps_per_second': 9.305, 'train_loss': 1.0013402140781678, 'epoch': 4.0}\n"
     ]
    },
    {
     "name": "stderr",
     "output_type": "stream",
     "text": [
      "c:\\Users\\manue\\miniconda3\\envs\\LinguaAnimae\\lib\\site-packages\\huggingface_hub\\file_download.py:943: FutureWarning: `resume_download` is deprecated and will be removed in version 1.0.0. Downloads always resume when possible. If you want to force a new download, use `force_download=True`.\n",
      "  warnings.warn(\n",
      "Some weights of RobertaForSequenceClassification were not initialized from the model checkpoint at SamLowe/roberta-base-go_emotions and are newly initialized because the shapes did not match:\n",
      "- classifier.out_proj.bias: found shape torch.Size([28]) in the checkpoint and torch.Size([7]) in the model instantiated\n",
      "- classifier.out_proj.weight: found shape torch.Size([28, 768]) in the checkpoint and torch.Size([7, 768]) in the model instantiated\n",
      "You should probably TRAIN this model on a down-stream task to be able to use it for predictions and inference.\n"
     ]
    },
    {
     "name": "stdout",
     "output_type": "stream",
     "text": [
      "{'eval_loss': 1.1624293327331543, 'eval_macro_f1': 0.45849100305893026, 'eval_runtime': 1.9945, 'eval_samples_per_second': 489.357, 'eval_steps_per_second': 61.17, 'epoch': 1.0}\n",
      "{'eval_loss': 1.0770434141159058, 'eval_macro_f1': 0.5277946812625071, 'eval_runtime': 1.9906, 'eval_samples_per_second': 490.307, 'eval_steps_per_second': 61.288, 'epoch': 2.0}\n",
      "{'eval_loss': 1.0743008852005005, 'eval_macro_f1': 0.5517973734018137, 'eval_runtime': 1.9319, 'eval_samples_per_second': 505.193, 'eval_steps_per_second': 63.149, 'epoch': 3.0}\n",
      "{'eval_loss': 1.2131503820419312, 'eval_macro_f1': 0.5425752305709518, 'eval_runtime': 1.9317, 'eval_samples_per_second': 505.248, 'eval_steps_per_second': 63.156, 'epoch': 4.0}\n"
     ]
    },
    {
     "name": "stderr",
     "output_type": "stream",
     "text": [
      "[I 2025-05-23 00:37:17,018] Trial 11 finished with value: 0.5425752305709518 and parameters: {'learning_rate': 1.2623889636755666e-05, 'per_device_train_batch_size': 8, 'weight_decay': 0.016194407302142555, 'num_train_epochs': 6, 'warmup_ratio': 0.1608414371633636, 'gamma': 2.6355173373909233, 'alpha': 1.0801361355058683}. Best is trial 5 with value: 0.5579396571928269.\n",
      "Trying to set gamma in the hyperparameter search but there is no corresponding field in `TrainingArguments`.\n",
      "Trying to set alpha in the hyperparameter search but there is no corresponding field in `TrainingArguments`.\n"
     ]
    },
    {
     "name": "stdout",
     "output_type": "stream",
     "text": [
      "{'train_runtime': 460.3414, 'train_samples_per_second': 114.372, 'train_steps_per_second': 14.298, 'train_loss': 0.9790434094049111, 'epoch': 4.0}\n"
     ]
    },
    {
     "name": "stderr",
     "output_type": "stream",
     "text": [
      "c:\\Users\\manue\\miniconda3\\envs\\LinguaAnimae\\lib\\site-packages\\huggingface_hub\\file_download.py:943: FutureWarning: `resume_download` is deprecated and will be removed in version 1.0.0. Downloads always resume when possible. If you want to force a new download, use `force_download=True`.\n",
      "  warnings.warn(\n",
      "Some weights of RobertaForSequenceClassification were not initialized from the model checkpoint at SamLowe/roberta-base-go_emotions and are newly initialized because the shapes did not match:\n",
      "- classifier.out_proj.bias: found shape torch.Size([28]) in the checkpoint and torch.Size([7]) in the model instantiated\n",
      "- classifier.out_proj.weight: found shape torch.Size([28, 768]) in the checkpoint and torch.Size([7, 768]) in the model instantiated\n",
      "You should probably TRAIN this model on a down-stream task to be able to use it for predictions and inference.\n"
     ]
    },
    {
     "name": "stdout",
     "output_type": "stream",
     "text": [
      "{'eval_loss': 1.1121466159820557, 'eval_macro_f1': 0.4881039521501224, 'eval_runtime': 1.9418, 'eval_samples_per_second': 502.633, 'eval_steps_per_second': 62.829, 'epoch': 1.0}\n",
      "{'eval_loss': 1.037827730178833, 'eval_macro_f1': 0.5414690580010444, 'eval_runtime': 2.0371, 'eval_samples_per_second': 479.104, 'eval_steps_per_second': 59.888, 'epoch': 2.0}\n",
      "{'eval_loss': 1.1146098375320435, 'eval_macro_f1': 0.5597329182858488, 'eval_runtime': 2.0188, 'eval_samples_per_second': 483.454, 'eval_steps_per_second': 60.432, 'epoch': 3.0}\n",
      "{'eval_loss': 1.216984510421753, 'eval_macro_f1': 0.5223879304982966, 'eval_runtime': 2.016, 'eval_samples_per_second': 484.118, 'eval_steps_per_second': 60.515, 'epoch': 4.0}\n"
     ]
    },
    {
     "name": "stderr",
     "output_type": "stream",
     "text": [
      "[I 2025-05-23 00:42:20,507] Trial 12 finished with value: 0.5223879304982966 and parameters: {'learning_rate': 4.5727504843803065e-05, 'per_device_train_batch_size': 32, 'weight_decay': 0.130511363933912, 'num_train_epochs': 6, 'warmup_ratio': 0.09976364410299624, 'gamma': 3.4223169883081113, 'alpha': 1.0807760072406436}. Best is trial 5 with value: 0.5579396571928269.\n",
      "Trying to set gamma in the hyperparameter search but there is no corresponding field in `TrainingArguments`.\n",
      "Trying to set alpha in the hyperparameter search but there is no corresponding field in `TrainingArguments`.\n"
     ]
    },
    {
     "name": "stdout",
     "output_type": "stream",
     "text": [
      "{'train_runtime': 302.4202, 'train_samples_per_second': 174.096, 'train_steps_per_second': 5.456, 'train_loss': 0.8672415438565341, 'epoch': 4.0}\n"
     ]
    },
    {
     "name": "stderr",
     "output_type": "stream",
     "text": [
      "c:\\Users\\manue\\miniconda3\\envs\\LinguaAnimae\\lib\\site-packages\\huggingface_hub\\file_download.py:943: FutureWarning: `resume_download` is deprecated and will be removed in version 1.0.0. Downloads always resume when possible. If you want to force a new download, use `force_download=True`.\n",
      "  warnings.warn(\n",
      "Some weights of RobertaForSequenceClassification were not initialized from the model checkpoint at SamLowe/roberta-base-go_emotions and are newly initialized because the shapes did not match:\n",
      "- classifier.out_proj.bias: found shape torch.Size([28]) in the checkpoint and torch.Size([7]) in the model instantiated\n",
      "- classifier.out_proj.weight: found shape torch.Size([28, 768]) in the checkpoint and torch.Size([7, 768]) in the model instantiated\n",
      "You should probably TRAIN this model on a down-stream task to be able to use it for predictions and inference.\n",
      "[I 2025-05-23 00:43:48,652] Trial 13 pruned. \n",
      "Trying to set gamma in the hyperparameter search but there is no corresponding field in `TrainingArguments`.\n",
      "Trying to set alpha in the hyperparameter search but there is no corresponding field in `TrainingArguments`.\n"
     ]
    },
    {
     "name": "stdout",
     "output_type": "stream",
     "text": [
      "{'eval_loss': 1.1491388082504272, 'eval_macro_f1': 0.42198920237616916, 'eval_runtime': 2.0068, 'eval_samples_per_second': 486.355, 'eval_steps_per_second': 60.794, 'epoch': 1.0}\n"
     ]
    },
    {
     "name": "stderr",
     "output_type": "stream",
     "text": [
      "c:\\Users\\manue\\miniconda3\\envs\\LinguaAnimae\\lib\\site-packages\\huggingface_hub\\file_download.py:943: FutureWarning: `resume_download` is deprecated and will be removed in version 1.0.0. Downloads always resume when possible. If you want to force a new download, use `force_download=True`.\n",
      "  warnings.warn(\n",
      "Some weights of RobertaForSequenceClassification were not initialized from the model checkpoint at SamLowe/roberta-base-go_emotions and are newly initialized because the shapes did not match:\n",
      "- classifier.out_proj.bias: found shape torch.Size([28]) in the checkpoint and torch.Size([7]) in the model instantiated\n",
      "- classifier.out_proj.weight: found shape torch.Size([28, 768]) in the checkpoint and torch.Size([7, 768]) in the model instantiated\n",
      "You should probably TRAIN this model on a down-stream task to be able to use it for predictions and inference.\n",
      "[I 2025-05-23 00:45:46,319] Trial 14 pruned. \n",
      "Trying to set gamma in the hyperparameter search but there is no corresponding field in `TrainingArguments`.\n",
      "Trying to set alpha in the hyperparameter search but there is no corresponding field in `TrainingArguments`.\n"
     ]
    },
    {
     "name": "stdout",
     "output_type": "stream",
     "text": [
      "{'eval_loss': 1.25123131275177, 'eval_macro_f1': 0.44382785113827566, 'eval_runtime': 1.9985, 'eval_samples_per_second': 488.369, 'eval_steps_per_second': 61.046, 'epoch': 1.0}\n"
     ]
    },
    {
     "name": "stderr",
     "output_type": "stream",
     "text": [
      "c:\\Users\\manue\\miniconda3\\envs\\LinguaAnimae\\lib\\site-packages\\huggingface_hub\\file_download.py:943: FutureWarning: `resume_download` is deprecated and will be removed in version 1.0.0. Downloads always resume when possible. If you want to force a new download, use `force_download=True`.\n",
      "  warnings.warn(\n",
      "Some weights of RobertaForSequenceClassification were not initialized from the model checkpoint at SamLowe/roberta-base-go_emotions and are newly initialized because the shapes did not match:\n",
      "- classifier.out_proj.bias: found shape torch.Size([28]) in the checkpoint and torch.Size([7]) in the model instantiated\n",
      "- classifier.out_proj.weight: found shape torch.Size([28, 768]) in the checkpoint and torch.Size([7, 768]) in the model instantiated\n",
      "You should probably TRAIN this model on a down-stream task to be able to use it for predictions and inference.\n"
     ]
    },
    {
     "name": "stdout",
     "output_type": "stream",
     "text": [
      "{'eval_loss': 1.1316993236541748, 'eval_macro_f1': 0.45557366478623457, 'eval_runtime': 1.9974, 'eval_samples_per_second': 488.633, 'eval_steps_per_second': 61.079, 'epoch': 1.0}\n",
      "{'eval_loss': 1.0414968729019165, 'eval_macro_f1': 0.5320871543687261, 'eval_runtime': 2.0039, 'eval_samples_per_second': 487.051, 'eval_steps_per_second': 60.881, 'epoch': 2.0}\n",
      "{'eval_loss': 1.09615159034729, 'eval_macro_f1': 0.5346290691159894, 'eval_runtime': 2.0114, 'eval_samples_per_second': 485.223, 'eval_steps_per_second': 60.653, 'epoch': 3.0}\n"
     ]
    },
    {
     "name": "stderr",
     "output_type": "stream",
     "text": [
      "[I 2025-05-23 00:51:36,814] Trial 15 pruned. \n",
      "Trying to set gamma in the hyperparameter search but there is no corresponding field in `TrainingArguments`.\n",
      "Trying to set alpha in the hyperparameter search but there is no corresponding field in `TrainingArguments`.\n"
     ]
    },
    {
     "name": "stdout",
     "output_type": "stream",
     "text": [
      "{'eval_loss': 1.1487911939620972, 'eval_macro_f1': 0.5359735837398466, 'eval_runtime': 1.9371, 'eval_samples_per_second': 503.844, 'eval_steps_per_second': 62.981, 'epoch': 4.0}\n"
     ]
    },
    {
     "name": "stderr",
     "output_type": "stream",
     "text": [
      "c:\\Users\\manue\\miniconda3\\envs\\LinguaAnimae\\lib\\site-packages\\huggingface_hub\\file_download.py:943: FutureWarning: `resume_download` is deprecated and will be removed in version 1.0.0. Downloads always resume when possible. If you want to force a new download, use `force_download=True`.\n",
      "  warnings.warn(\n",
      "Some weights of RobertaForSequenceClassification were not initialized from the model checkpoint at SamLowe/roberta-base-go_emotions and are newly initialized because the shapes did not match:\n",
      "- classifier.out_proj.bias: found shape torch.Size([28]) in the checkpoint and torch.Size([7]) in the model instantiated\n",
      "- classifier.out_proj.weight: found shape torch.Size([28, 768]) in the checkpoint and torch.Size([7, 768]) in the model instantiated\n",
      "You should probably TRAIN this model on a down-stream task to be able to use it for predictions and inference.\n",
      "[I 2025-05-23 00:52:49,436] Trial 16 pruned. \n",
      "Trying to set gamma in the hyperparameter search but there is no corresponding field in `TrainingArguments`.\n",
      "Trying to set alpha in the hyperparameter search but there is no corresponding field in `TrainingArguments`.\n"
     ]
    },
    {
     "name": "stdout",
     "output_type": "stream",
     "text": [
      "{'eval_loss': 1.2013399600982666, 'eval_macro_f1': 0.4008580053814591, 'eval_runtime': 1.9507, 'eval_samples_per_second': 500.341, 'eval_steps_per_second': 62.543, 'epoch': 1.0}\n"
     ]
    },
    {
     "name": "stderr",
     "output_type": "stream",
     "text": [
      "c:\\Users\\manue\\miniconda3\\envs\\LinguaAnimae\\lib\\site-packages\\huggingface_hub\\file_download.py:943: FutureWarning: `resume_download` is deprecated and will be removed in version 1.0.0. Downloads always resume when possible. If you want to force a new download, use `force_download=True`.\n",
      "  warnings.warn(\n",
      "Some weights of RobertaForSequenceClassification were not initialized from the model checkpoint at SamLowe/roberta-base-go_emotions and are newly initialized because the shapes did not match:\n",
      "- classifier.out_proj.bias: found shape torch.Size([28]) in the checkpoint and torch.Size([7]) in the model instantiated\n",
      "- classifier.out_proj.weight: found shape torch.Size([28, 768]) in the checkpoint and torch.Size([7, 768]) in the model instantiated\n",
      "You should probably TRAIN this model on a down-stream task to be able to use it for predictions and inference.\n",
      "[I 2025-05-23 00:54:02,267] Trial 17 pruned. \n",
      "Trying to set gamma in the hyperparameter search but there is no corresponding field in `TrainingArguments`.\n",
      "Trying to set alpha in the hyperparameter search but there is no corresponding field in `TrainingArguments`.\n"
     ]
    },
    {
     "name": "stdout",
     "output_type": "stream",
     "text": [
      "{'eval_loss': 1.1546036005020142, 'eval_macro_f1': 0.43231667154205194, 'eval_runtime': 1.9508, 'eval_samples_per_second': 500.301, 'eval_steps_per_second': 62.538, 'epoch': 1.0}\n"
     ]
    },
    {
     "name": "stderr",
     "output_type": "stream",
     "text": [
      "c:\\Users\\manue\\miniconda3\\envs\\LinguaAnimae\\lib\\site-packages\\huggingface_hub\\file_download.py:943: FutureWarning: `resume_download` is deprecated and will be removed in version 1.0.0. Downloads always resume when possible. If you want to force a new download, use `force_download=True`.\n",
      "  warnings.warn(\n",
      "Some weights of RobertaForSequenceClassification were not initialized from the model checkpoint at SamLowe/roberta-base-go_emotions and are newly initialized because the shapes did not match:\n",
      "- classifier.out_proj.bias: found shape torch.Size([28]) in the checkpoint and torch.Size([7]) in the model instantiated\n",
      "- classifier.out_proj.weight: found shape torch.Size([28, 768]) in the checkpoint and torch.Size([7, 768]) in the model instantiated\n",
      "You should probably TRAIN this model on a down-stream task to be able to use it for predictions and inference.\n"
     ]
    },
    {
     "name": "stdout",
     "output_type": "stream",
     "text": [
      "{'eval_loss': 1.1326216459274292, 'eval_macro_f1': 0.46317605469997564, 'eval_runtime': 1.9545, 'eval_samples_per_second': 499.366, 'eval_steps_per_second': 62.421, 'epoch': 1.0}\n",
      "{'eval_loss': 1.0346910953521729, 'eval_macro_f1': 0.5353011828792998, 'eval_runtime': 1.9437, 'eval_samples_per_second': 502.14, 'eval_steps_per_second': 62.767, 'epoch': 2.0}\n",
      "{'eval_loss': 1.09611177444458, 'eval_macro_f1': 0.5381201240741416, 'eval_runtime': 1.9486, 'eval_samples_per_second': 500.861, 'eval_steps_per_second': 62.608, 'epoch': 3.0}\n",
      "{'eval_loss': 1.1498173475265503, 'eval_macro_f1': 0.560008628376455, 'eval_runtime': 1.9568, 'eval_samples_per_second': 498.775, 'eval_steps_per_second': 62.347, 'epoch': 4.0}\n"
     ]
    },
    {
     "name": "stderr",
     "output_type": "stream",
     "text": [
      "[I 2025-05-23 00:59:40,085] Trial 18 finished with value: 0.560008628376455 and parameters: {'learning_rate': 2.0997719890677325e-05, 'per_device_train_batch_size': 16, 'weight_decay': 0.06767372213238981, 'num_train_epochs': 4, 'warmup_ratio': 0.17678706270920386, 'gamma': 2.328271620594925, 'alpha': 1.1221181393625204}. Best is trial 18 with value: 0.560008628376455.\n",
      "Trying to set gamma in the hyperparameter search but there is no corresponding field in `TrainingArguments`.\n",
      "Trying to set alpha in the hyperparameter search but there is no corresponding field in `TrainingArguments`.\n"
     ]
    },
    {
     "name": "stdout",
     "output_type": "stream",
     "text": [
      "{'train_runtime': 336.7261, 'train_samples_per_second': 104.239, 'train_steps_per_second': 6.522, 'train_loss': 0.9224688420530225, 'epoch': 4.0}\n"
     ]
    },
    {
     "name": "stderr",
     "output_type": "stream",
     "text": [
      "c:\\Users\\manue\\miniconda3\\envs\\LinguaAnimae\\lib\\site-packages\\huggingface_hub\\file_download.py:943: FutureWarning: `resume_download` is deprecated and will be removed in version 1.0.0. Downloads always resume when possible. If you want to force a new download, use `force_download=True`.\n",
      "  warnings.warn(\n",
      "Some weights of RobertaForSequenceClassification were not initialized from the model checkpoint at SamLowe/roberta-base-go_emotions and are newly initialized because the shapes did not match:\n",
      "- classifier.out_proj.bias: found shape torch.Size([28]) in the checkpoint and torch.Size([7]) in the model instantiated\n",
      "- classifier.out_proj.weight: found shape torch.Size([28, 768]) in the checkpoint and torch.Size([7, 768]) in the model instantiated\n",
      "You should probably TRAIN this model on a down-stream task to be able to use it for predictions and inference.\n"
     ]
    },
    {
     "name": "stdout",
     "output_type": "stream",
     "text": [
      "{'eval_loss': 1.200172781944275, 'eval_macro_f1': 0.4583378944602635, 'eval_runtime': 1.9971, 'eval_samples_per_second': 488.7, 'eval_steps_per_second': 61.088, 'epoch': 1.0}\n",
      "{'eval_loss': 1.1198277473449707, 'eval_macro_f1': 0.5364590407825842, 'eval_runtime': 1.9412, 'eval_samples_per_second': 502.77, 'eval_steps_per_second': 62.846, 'epoch': 2.0}\n",
      "{'eval_loss': 1.1473878622055054, 'eval_macro_f1': 0.5516849751044562, 'eval_runtime': 1.942, 'eval_samples_per_second': 502.58, 'eval_steps_per_second': 62.822, 'epoch': 3.0}\n"
     ]
    },
    {
     "name": "stderr",
     "output_type": "stream",
     "text": [
      "[I 2025-05-23 01:05:17,307] Trial 19 pruned. \n"
     ]
    },
    {
     "name": "stdout",
     "output_type": "stream",
     "text": [
      "{'eval_loss': 1.2953791618347168, 'eval_macro_f1': 0.5502548761693579, 'eval_runtime': 1.9497, 'eval_samples_per_second': 500.589, 'eval_steps_per_second': 62.574, 'epoch': 4.0}\n",
      "Best trial: BestRun(run_id='18', objective=0.560008628376455, hyperparameters={'learning_rate': 2.0997719890677325e-05, 'per_device_train_batch_size': 16, 'weight_decay': 0.06767372213238981, 'num_train_epochs': 4, 'warmup_ratio': 0.17678706270920386, 'gamma': 2.328271620594925, 'alpha': 1.1221181393625204}, run_summary=None)\n"
     ]
    },
    {
     "name": "stderr",
     "output_type": "stream",
     "text": [
      "c:\\Users\\manue\\miniconda3\\envs\\LinguaAnimae\\lib\\site-packages\\huggingface_hub\\file_download.py:943: FutureWarning: `resume_download` is deprecated and will be removed in version 1.0.0. Downloads always resume when possible. If you want to force a new download, use `force_download=True`.\n",
      "  warnings.warn(\n",
      "Some weights of RobertaForSequenceClassification were not initialized from the model checkpoint at SamLowe/roberta-base-go_emotions and are newly initialized because the shapes did not match:\n",
      "- classifier.out_proj.bias: found shape torch.Size([28]) in the checkpoint and torch.Size([7]) in the model instantiated\n",
      "- classifier.out_proj.weight: found shape torch.Size([28, 768]) in the checkpoint and torch.Size([7, 768]) in the model instantiated\n",
      "You should probably TRAIN this model on a down-stream task to be able to use it for predictions and inference.\n"
     ]
    },
    {
     "name": "stdout",
     "output_type": "stream",
     "text": [
      "{'eval_loss': 1.1326216459274292, 'eval_macro_f1': 0.46317605469997564, 'eval_runtime': 1.9375, 'eval_samples_per_second': 503.753, 'eval_steps_per_second': 62.969, 'epoch': 1.0}\n",
      "{'eval_loss': 1.0346910953521729, 'eval_macro_f1': 0.5353011828792998, 'eval_runtime': 1.9565, 'eval_samples_per_second': 498.856, 'eval_steps_per_second': 62.357, 'epoch': 2.0}\n",
      "{'eval_loss': 1.09611177444458, 'eval_macro_f1': 0.5381201240741416, 'eval_runtime': 1.948, 'eval_samples_per_second': 501.014, 'eval_steps_per_second': 62.627, 'epoch': 3.0}\n",
      "{'eval_loss': 1.1498173475265503, 'eval_macro_f1': 0.560008628376455, 'eval_runtime': 1.9476, 'eval_samples_per_second': 501.12, 'eval_steps_per_second': 62.64, 'epoch': 4.0}\n",
      "{'train_runtime': 336.2845, 'train_samples_per_second': 104.376, 'train_steps_per_second': 6.53, 'train_loss': 0.9224688420530225, 'epoch': 4.0}\n"
     ]
    }
   ],
   "source": [
    "import pandas as pd\n",
    "from datasets import Dataset, DatasetDict\n",
    "from transformers import AutoTokenizer, AutoModelForSequenceClassification, TrainingArguments, EarlyStoppingCallback\n",
    "import numpy as np\n",
    "from sklearn.metrics import classification_report\n",
    "import torch\n",
    "import torch.nn.functional as F\n",
    "from transformers import Trainer\n",
    "import optuna\n",
    "\n",
    "# 1. Load and shuffle data\n",
    "df = pd.read_csv(\"../data/evaluation/verses_parsed/emotion_verses_labeled_combined.csv\")\n",
    "df = df.sample(frac=1, random_state=42).reset_index(drop=True)\n",
    "\n",
    "# 2. Mapping and validation\n",
    "EMOTION_MAP = {\n",
    "    \"joy\": \"Alegría\",\n",
    "    \"sadness\": \"Tristeza\",\n",
    "    \"anger\": \"Ira\",\n",
    "    \"fear\": \"Miedo\",\n",
    "    \"surprise\": \"Sorpresa\",\n",
    "    \"disgust\": \"Asco\",\n",
    "    \"neutral\": \"Neutral\"\n",
    "}\n",
    "label_list = list(EMOTION_MAP.keys())\n",
    "label2id = {l: i for i, l in enumerate(label_list)}\n",
    "id2label = {i: l for i, l in enumerate(label_list)}\n",
    "df['label'] = df['label'].str.strip().str.lower()\n",
    "invalid_labels = set(df['label'].unique()) - set(label_list)\n",
    "if invalid_labels:\n",
    "    print(f\"❌ ERROR: Detected invalid labels: {invalid_labels}\")\n",
    "    raise ValueError(\"Your CSV contains labels not present in the expected set.\")\n",
    "df['label'] = df['label'].map(label2id).astype(int)\n",
    "\n",
    "# 3. Split into train/test\n",
    "split = int(len(df) * 0.9)\n",
    "df_train = df.iloc[:split].copy()\n",
    "df_test = df.iloc[split:].copy()\n",
    "\n",
    "\n",
    "# 5. Build datasets\n",
    "df_train['label'] = df_train['label'].astype(int)\n",
    "df_test['label'] = df_test['label'].astype(int)\n",
    "ds = DatasetDict({\n",
    "    \"train\": Dataset.from_pandas(df_train[['verse', 'label']].rename(columns={'verse': 'text', 'label': 'labels'}), preserve_index=False),\n",
    "    \"test\": Dataset.from_pandas(df_test[['verse', 'label']].rename(columns={'verse': 'text', 'label': 'labels'}), preserve_index=False),\n",
    "})\n",
    "\n",
    "# 6. Tokenizer\n",
    "tokenizer = AutoTokenizer.from_pretrained(\"SamLowe/roberta-base-go_emotions\")\n",
    "\n",
    "def preprocess_function(examples):\n",
    "    return tokenizer(examples[\"text\"], truncation=True, padding=True)\n",
    "\n",
    "tokenized_datasets = ds.map(preprocess_function, batched=True, remove_columns=[\"text\"])\n",
    "\n",
    "# 7. Custom WeightedTrainer\n",
    "\n",
    "def focal_loss(logits, labels, alpha=1.0, gamma=2.0, weight=None):\n",
    "    \"\"\"\n",
    "    Compute focal loss for multi-class classification.\n",
    "    Args:\n",
    "        logits (Tensor): [batch_size, num_classes]\n",
    "        labels (Tensor): [batch_size]\n",
    "        alpha (float or Tensor, optional): Class weighting factor.\n",
    "        gamma (float): Focusing parameter.\n",
    "        weight (Tensor, optional): Class weights (as in CrossEntropyLoss).\n",
    "    \"\"\"\n",
    "    ce_loss = F.cross_entropy(logits, labels, weight=weight, reduction='none')\n",
    "    pt = torch.exp(-ce_loss)\n",
    "    focal = (alpha * (1 - pt) ** gamma * ce_loss)\n",
    "    return focal.mean()\n",
    "\n",
    "class WeightedTrainer(Trainer):\n",
    "    def __init__(self, *args, weights=None, alpha=1.0, gamma=2.0, **kwargs):\n",
    "        super().__init__(*args, **kwargs)\n",
    "        self.alpha = alpha\n",
    "        self.gamma = gamma\n",
    "\n",
    "    def compute_loss(self, model, inputs, return_outputs=False):\n",
    "        labels = inputs.get(\"labels\", None)\n",
    "        outputs = model(**inputs)\n",
    "        logits = outputs.get(\"logits\", None)\n",
    "        if labels is not None and logits is not None:\n",
    "            if not isinstance(labels, torch.Tensor):\n",
    "                labels = torch.tensor(labels)\n",
    "            labels = labels.to(logits.device).long()\n",
    "            # Usamos CrossEntropyLoss sin pesos\n",
    "            loss_fct = torch.nn.CrossEntropyLoss()  # Sin weights\n",
    "            loss = loss_fct(logits.view(-1, model.config.num_labels), labels.view(-1))\n",
    "            return (loss, outputs) if return_outputs else loss\n",
    "        return (0.0, outputs) if return_outputs else 0.0\n",
    "\n",
    "\n",
    "\n",
    "# 8. Metrics\n",
    "def compute_metrics(pred):\n",
    "    preds = np.argmax(pred.predictions, axis=1)\n",
    "    labels = pred.label_ids\n",
    "    report = classification_report(labels, preds, target_names=[id2label[i] for i in range(len(label_list))], output_dict=True, zero_division=0)\n",
    "    macro_f1 = report[\"macro avg\"][\"f1-score\"]\n",
    "    return {\"macro_f1\": macro_f1}\n",
    "\n",
    "# 9. Model init for Optuna (returns a fresh model for each trial)\n",
    "def model_init():\n",
    "    model = AutoModelForSequenceClassification.from_pretrained(\n",
    "        \"SamLowe/roberta-base-go_emotions\",\n",
    "        num_labels=len(label_list),\n",
    "        id2label=id2label,\n",
    "        label2id=label2id,\n",
    "        ignore_mismatched_sizes=True\n",
    "    )\n",
    "    model.config.problem_type = \"single_label_classification\"  # <-- Aquí\n",
    "    return model\n",
    "\n",
    "# 10. Define Optuna search space\n",
    "def optuna_hp_space(trial):\n",
    "    return {\n",
    "        \"learning_rate\": trial.suggest_float(\"learning_rate\", 5e-6, 5e-5, log=True),  # Actualizado\n",
    "        \"per_device_train_batch_size\": trial.suggest_categorical(\"per_device_train_batch_size\", [8, 16, 32]),\n",
    "        \"weight_decay\": trial.suggest_float(\"weight_decay\", 0.01, 0.2),\n",
    "        \"num_train_epochs\": trial.suggest_int(\"num_train_epochs\", 2, 6),\n",
    "        \"warmup_ratio\": trial.suggest_float(\"warmup_ratio\", 0.05, 0.3),\n",
    "        \"gamma\": trial.suggest_float(\"gamma\", 1.5, 3.5), \n",
    "        \"alpha\": trial.suggest_float(\"alpha\", 0.8, 1.2), \n",
    "    }\n",
    "\n",
    "# 11. TrainingArguments (defaults, will be overridden by Optuna per trial)\n",
    "training_args = TrainingArguments(\n",
    "    output_dir=\"./results_finetuned_bible_optuna\",\n",
    "    evaluation_strategy=\"epoch\",\n",
    "    lr_scheduler_type=\"linear\",\n",
    "    save_strategy=\"epoch\",\n",
    "    load_best_model_at_end=True,\n",
    "    metric_for_best_model=\"macro_f1\",\n",
    "    greater_is_better=True,\n",
    "    save_total_limit=2,\n",
    "    logging_strategy=\"no\",\n",
    "    report_to=\"none\",\n",
    "    seed=42,\n",
    "    push_to_hub=False,\n",
    "    disable_tqdm=True,\n",
    ")\n",
    "\n",
    "# 12. Trainer\n",
    "trainer = WeightedTrainer(\n",
    "    model_init=model_init,\n",
    "    args=training_args,\n",
    "    train_dataset=tokenized_datasets[\"train\"],\n",
    "    eval_dataset=tokenized_datasets[\"test\"],\n",
    "    compute_metrics=compute_metrics,\n",
    "    tokenizer=tokenizer,\n",
    "    callbacks=[EarlyStoppingCallback(early_stopping_patience=1)],\n",
    ")\n",
    "\n",
    "# 13. Run Optuna hyperparameter search\n",
    "best_run = trainer.hyperparameter_search(\n",
    "    direction=\"maximize\",\n",
    "    n_trials=20, \n",
    "    hp_space=optuna_hp_space\n",
    ")\n",
    "\n",
    "print(f\"Best trial: {best_run}\")\n",
    "\n",
    "# 14. Train final model with best hyperparameters\n",
    "for key, value in best_run.hyperparameters.items():\n",
    "    setattr(trainer.args, key, value)\n",
    "    if key == \"alpha\":\n",
    "        trainer.alpha = value\n",
    "    if key == \"gamma\":\n",
    "        trainer.gamma = value\n",
    "\n",
    "trainer.train()\n",
    "trainer.save_model(\"../src/fine_tuning/finetuned-goemotions-bible-optuna\")"
   ]
  },
  {
   "cell_type": "markdown",
   "id": "12a75c53",
   "metadata": {},
   "source": [
    "# 6️⃣ Evaluation and Comparison"
   ]
  },
  {
   "cell_type": "markdown",
   "id": "caf6e645",
   "metadata": {},
   "source": [
    "## 5. Evaluation of the Fine-tuned Model\n",
    "\n",
    "Here we analyze the results and compare to previous models.\n",
    "- Macro F1 score on the test set\n",
    "- Confusion matrix\n",
    "- Distribution of predictions\n"
   ]
  },
  {
   "cell_type": "code",
   "execution_count": 2,
   "id": "47c47441",
   "metadata": {},
   "outputs": [
    {
     "name": "stdout",
     "output_type": "stream",
     "text": [
      "=== Classification Report ===\n",
      "              precision    recall  f1-score   support\n",
      "\n",
      "         joy      0.599     0.714     0.652       203\n",
      "     sadness      0.673     0.567     0.615       120\n",
      "       anger      0.573     0.543     0.558       138\n",
      "        fear      0.460     0.571     0.510        70\n",
      "    surprise      0.447     0.447     0.447        38\n",
      "     disgust      0.567     0.354     0.436        48\n",
      "     neutral      0.715     0.691     0.703       359\n",
      "\n",
      "    accuracy                          0.625       976\n",
      "   macro avg      0.576     0.555     0.560       976\n",
      "weighted avg      0.630     0.625     0.624       976\n",
      "\n"
     ]
    },
    {
     "data": {
      "image/png": "[encoded data removed]",
      "text/plain": [
       "<Figure size 800x600 with 2 Axes>"
      ]
     },
     "metadata": {},
     "output_type": "display_data"
    }
   ],
   "source": [
    "# --- EVALUATION OF THE FINE-TUNED MODEL ---\n",
    "\n",
    "import numpy as np\n",
    "from sklearn.metrics import classification_report, confusion_matrix\n",
    "import seaborn as sns\n",
    "import matplotlib.pyplot as plt\n",
    "\n",
    "# Get predictions on the test set\n",
    "preds = trainer.predict(tokenized_datasets[\"test\"])\n",
    "y_true = preds.label_ids\n",
    "y_pred = np.argmax(preds.predictions, axis=1)\n",
    "\n",
    "# Classification report\n",
    "print(\"=== Classification Report ===\")\n",
    "print(classification_report(\n",
    "    y_true, y_pred,\n",
    "    target_names=[id2label[i] for i in range(len(label_list))],\n",
    "    digits=3,\n",
    "    zero_division=0\n",
    "))\n",
    "\n",
    "# Confusion matrix\n",
    "cm = confusion_matrix(y_true, y_pred)\n",
    "plt.figure(figsize=(8, 6))\n",
    "sns.heatmap(cm, annot=True, fmt='d',\n",
    "            xticklabels=[id2label[i] for i in range(len(label_list))],\n",
    "            yticklabels=[id2label[i] for i in range(len(label_list))],\n",
    "            cmap='Blues')\n",
    "plt.title(\"Confusion Matrix - Fine-tuned Model\")\n",
    "plt.xlabel(\"Predicted\")\n",
    "plt.ylabel(\"True\")\n",
    "plt.tight_layout()\n",
    "plt.show()\n"
   ]
  },
  {
   "cell_type": "code",
   "execution_count": null,
   "id": "82ac1a34",
   "metadata": {},
   "outputs": [
    {
     "name": "stdout",
     "output_type": "stream",
     "text": [
      "=== False Negatives for 'disgust' ===\n",
      "               verse_id                                              verse  \\\n",
      "8835         judges_9_4  And they gave him threescore and ten pieces of...   \n",
      "8868      proverbs_23_2  And put a knife to thy throat, if thou be a ma...   \n",
      "9074      psalms_116_11             I said in my haste, All men are liars.   \n",
      "9118      1_kings_14_23  For they also built them high places, and imag...   \n",
      "9176         isaiah_2_6  Therefore thou hast forsaken thy people the ho...   \n",
      "9203  ecclesiastes_10_6  Folly is set in great dignity, and the rich si...   \n",
      "9255     leviticus_1_15  And the priest shall bring it unto the altar, ...   \n",
      "9273      proverbs_2_14  Who rejoice to do evil, and delight in the fro...   \n",
      "9288    leviticus_14_37  And he shall look on the plague, and, behold, ...   \n",
      "9299      jeremiah_4_30  And when thou art spoiled, what wilt thou do? ...   \n",
      "\n",
      "     true_label predicted_label  \n",
      "8835    disgust         neutral  \n",
      "8868    disgust            fear  \n",
      "9074    disgust           anger  \n",
      "9118    disgust             joy  \n",
      "9176    disgust           anger  \n",
      "9203    disgust         neutral  \n",
      "9255    disgust         neutral  \n",
      "9273    disgust           anger  \n",
      "9288    disgust         neutral  \n",
      "9299    disgust            fear  \n"
     ]
    }
   ],
   "source": [
    "import pandas as pd\n",
    "import numpy as np\n",
    "\n",
    "def extract_misclassifications(df_test, y_true, y_pred, id2label, top_n=10):\n",
    "    \"\"\"\n",
    "    Extract false positives and false negatives per class.\n",
    "\n",
    "    Args:\n",
    "        df_test (pd.DataFrame): DataFrame with test data, must have 'verse' and 'verse_id'.\n",
    "        y_true (np.array): True labels (ints).\n",
    "        y_pred (np.array): Predicted labels (ints).\n",
    "        id2label (dict): Mapping from label id to label name.\n",
    "        top_n (int): Number of examples to extract per error type and class.\n",
    "\n",
    "    Returns:\n",
    "        dict: {class_label: {'false_positives': DataFrame, 'false_negatives': DataFrame}}\n",
    "    \"\"\"\n",
    "    results = {}\n",
    "\n",
    "    for label_id, label_name in id2label.items():\n",
    "        # False positives: predicted as label but true label different\n",
    "        fp_mask = (y_pred == label_id) & (y_true != label_id)\n",
    "        fp_examples = df_test[fp_mask]\n",
    "        fp_examples = fp_examples.assign(\n",
    "            true_label=[id2label[t] for t in y_true[fp_mask]],\n",
    "            predicted_label=label_name,\n",
    "            error_type='false_positive'\n",
    "        ).head(top_n)\n",
    "\n",
    "        # False negatives: true label is label but predicted different\n",
    "        fn_mask = (y_true == label_id) & (y_pred != label_id)\n",
    "        fn_examples = df_test[fn_mask]\n",
    "        fn_examples = fn_examples.assign(\n",
    "            true_label=label_name,\n",
    "            predicted_label=[id2label[p] for p in y_pred[fn_mask]],\n",
    "            error_type='false_negative'\n",
    "        ).head(top_n)\n",
    "\n",
    "        results[label_name] = {\n",
    "            'false_positives': fp_examples,\n",
    "            'false_negatives': fn_examples\n",
    "        }\n",
    "\n",
    "    return results\n",
    "\n",
    "# Example usage (after evaluation):\n",
    "\n",
    "# df_test must contain at least the columns: 'verse', 'verse_id'\n",
    "# y_true, y_pred are arrays with true and predicted labels (integers)\n",
    "# id2label is a dictionary id -> class name\n",
    "\n",
    "# Here we assume you already have these variables:\n",
    "# df_test, y_true, y_pred, id2label\n",
    "\n",
    "misclassified = extract_misclassifications(df_test, y_true, y_pred, id2label, top_n=10)\n",
    "\n",
    "# To visualize, for example, false negatives of 'disgust':\n",
    "print(\"=== False Negatives for 'disgust' ===\")\n",
    "print(misclassified['disgust']['false_negatives'][['verse_id', 'verse', 'true_label', 'predicted_label']])\n",
    "\n",
    "# You can export to CSV for each class and error type:\n",
    "for label, errors in misclassified.items():\n",
    "    errors['false_positives'].to_csv(f\"false_positives_{label}.csv\", index=False)\n",
    "    errors['false_negatives'].to_csv(f\"false_negatives_{label}.csv\", index=False)\n"
   ]
  },
  {
   "cell_type": "markdown",
   "id": "69ff1740",
   "metadata": {},
   "source": [
    "# 7️⃣ Inference on New Verses and Comparison with Pretrained Models"
   ]
  },
  {
   "cell_type": "markdown",
   "id": "1c7e785c",
   "metadata": {},
   "source": [
    "## 6. Inference on New Verses\n",
    "\n",
    "We apply the fine-tuned model to new, unseen verses and compare its outputs with those of the original pretrained models.\n"
   ]
  },
  {
   "cell_type": "code",
   "execution_count": 10,
   "id": "82479a7f",
   "metadata": {},
   "outputs": [
    {
     "name": "stdout",
     "output_type": "stream",
     "text": [
      "Verse: Jesus wept.\n",
      "  Predicted emotion: sadness\n",
      "  Probabilities: {'joy': 0.004561873, 'sadness': 0.97205263, 'anger': 0.0055633504, 'fear': 0.008343148, 'surprise': 0.0033725249, 'disgust': 0.0031175292, 'neutral': 0.0029888048}\n",
      "\n",
      "Verse: Let there be light.\n",
      "  Predicted emotion: joy\n",
      "  Probabilities: {'joy': 0.9586938, 'sadness': 0.0073417816, 'anger': 0.0024242406, 'fear': 0.0041760285, 'surprise': 0.00557628, 'disgust': 0.0017960677, 'neutral': 0.019991824}\n",
      "\n",
      "Verse: The LORD is my shepherd; I shall not want.\n",
      "  Predicted emotion: joy\n",
      "  Probabilities: {'joy': 0.912757, 'sadness': 0.0027764987, 'anger': 0.003026264, 'fear': 0.0044029593, 'surprise': 0.0015323034, 'disgust': 0.0027971156, 'neutral': 0.072707854}\n",
      "\n",
      "Verse: The serpent deceived me, and I ate.\n",
      "  Predicted emotion: sadness\n",
      "  Probabilities: {'joy': 0.0054140985, 'sadness': 0.6192336, 'anger': 0.060794577, 'fear': 0.16755758, 'surprise': 0.06050903, 'disgust': 0.07681333, 'neutral': 0.009677809}\n",
      "\n",
      "Verse: I'm happy because I passed my exam.\n",
      "  Predicted emotion: joy\n",
      "  Probabilities: {'joy': 0.93436027, 'sadness': 0.020637304, 'anger': 0.007932176, 'fear': 0.0099326195, 'surprise': 0.0114182, 'disgust': 0.008949159, 'neutral': 0.0067703323}\n",
      "\n",
      "Verse: I am happy because I passed the exam.\n",
      "  Predicted emotion: joy\n",
      "  Probabilities: {'joy': 0.9377605, 'sadness': 0.019569518, 'anger': 0.0076239994, 'fear': 0.009638287, 'surprise': 0.010194779, 'disgust': 0.008488562, 'neutral': 0.006724497}\n",
      "\n",
      "Verse: Estoy feliz porque he aprobado el examen\n",
      "  Predicted emotion: sadness\n",
      "  Probabilities: {'joy': 0.009853924, 'sadness': 0.49871224, 'anger': 0.15521677, 'fear': 0.026214454, 'surprise': 0.01691853, 'disgust': 0.26071042, 'neutral': 0.032373648}\n",
      "\n"
     ]
    }
   ],
   "source": [
    "import torch\n",
    "import numpy as np\n",
    "from transformers import AutoTokenizer, AutoModelForSequenceClassification\n",
    "\n",
    "# Ruta al modelo fine-tuneado\n",
    "MODEL_PATH = \"../src/fine_tuning/finetuned-goemotions-bible-optuna\"\n",
    "\n",
    "# Carga tokenizer y modelo\n",
    "tokenizer = AutoTokenizer.from_pretrained(MODEL_PATH)\n",
    "model = AutoModelForSequenceClassification.from_pretrained(MODEL_PATH)\n",
    "\n",
    "id2label = model.config.id2label\n",
    "label_list = list(id2label.values())\n",
    "\n",
    "# Nuevos versículos\n",
    "new_verses = [\n",
    "    \"Jesus wept.\",\n",
    "    \"Let there be light.\",\n",
    "    \"The LORD is my shepherd; I shall not want.\",\n",
    "    \"The serpent deceived me, and I ate.\",\n",
    "    \"I'm happy because I passed my exam.\",\n",
    "    \"I am happy because I passed the exam.\",\n",
    "    \"Estoy feliz porque he aprobado el examen\"\n",
    "]\n",
    "\n",
    "# Tokeniza\n",
    "inputs = tokenizer(new_verses, truncation=True, padding=True, return_tensors=\"pt\")\n",
    "# Desactiva gradientes para inferencia\n",
    "with torch.no_grad():\n",
    "    outputs = model(**inputs)\n",
    "\n",
    "probs = outputs.logits.softmax(dim=1).detach().numpy()\n",
    "\n",
    "for i, verse in enumerate(new_verses):\n",
    "    pred = id2label[np.argmax(probs[i])]\n",
    "    print(f\"Verse: {verse}\\n  Predicted emotion: {pred}\\n  Probabilities: {dict(zip(label_list, probs[i]))}\\n\")\n",
    "\n"
   ]
  },
  {
   "cell_type": "markdown",
   "id": "6bdfc5ea",
   "metadata": {},
   "source": [
    "### **(Optional) Compare with old models**\n",
    "- Load your previous model predictions for the same verses (Hartmann, GoEmotions, etc.) and print/plot differences.\n",
    "- Qualitative analysis: Does the fine-tuned model better reflect the context and subtlety of the biblical style?\n"
   ]
  },
  {
   "cell_type": "markdown",
   "id": "9a69c301",
   "metadata": {},
   "source": [
    "# 8️⃣ Conclusions"
   ]
  },
  {
   "cell_type": "markdown",
   "id": "88cd8119",
   "metadata": {},
   "source": [
    "# Conclusions\n",
    "\n",
    "- Pretrained emotion models struggle with literary/biblical text (neutral bias, poor fit).\n",
    "- Fine-tuning SamLowe/roberta-base-go_emotions with a small, curated dataset dramatically improves performance.\n",
    "- The new model aligns much better with human annotation and context.\n",
    "- Further improvements could involve a larger dataset, multi-labeling, or expanding the taxonomy of emotions.\n",
    "\n",
    "---\n",
    "\n",
    "**Appendix:**  \n",
    "- Full annotation prompt for GPT-4o:\n",
    "\n",
    "```\n",
    "Assign ONE main human emotion to each Bible verse below. \n",
    "Choose ONLY from this exact list (write just the emotion word in lowercase English, with NO explanations): \n",
    "joy, sadness, anger, fear, disgust, surprise, neutral\n",
    "\n",
    "Return the results in CSV format with columns:\n",
    "id,verse_id,label\n",
    "\n",
    "Do not include the verse text in your answer. \n",
    "Use only the id and verse_id as shown, then your label. Do not add any extra columns, explanations, or blank lines.\n",
    "\n",
    "EXAMPLE OUTPUT:\n",
    "0,2_kings_1_10,anger\n",
    "1,1_samuel_19_21,surprise\n",
    "2,1_chronicles_21_21,neutral\n",
    "\n",
    "VERSES:\n",
    "0,2_kings_1_10,\"And Elijah answered and said to the captain of fifty, If I be a man of God, then let fire come down from heaven, and consume thee and thy fifty. And there came down fire from heaven, and consumed him and his fifty.\"\n",
    "1,1_samuel_19_21,\"And when it was told Saul, he sent other messengers, and they prophesied likewise. And Saul sent messengers again the third time, and they prophesied also.\"\n",
    "2,1_chronicles_21_21,\"And as David came to Ornan, Ornan looked and saw David, and went out of the threshingfloor, and bowed himself to David with his face to the ground.\"\n",
    "3,song_of_solomon_2_4,\"He brought me to the banqueting house, and his banner over me was love.\"\n",
    "4,hosea_4_4,\"Yet let no man strive, nor reprove another: for thy people are as they that strive with the priest.\"\n",
    "5,luke_13_7,\"Then said he unto the dresser of his vineyard, Behold, these three years I come seeking fruit on this fig tree, and find none: cut it down; why cumbereth it the ground?\"\n",
    "6,leviticus_10_10,\"And that ye may put difference between holy and unholy, and between unclean and clean;\"\n",
    "7,lamentations_1_1,\"How doth the city sit solitary, that was full of people how is she become as a widow she that was great among the nations, and princess among the provinces, how is she become tributary\"\n",
    "8,jeremiah_42_3,\"That the LORD thy God may shew us the way wherein we may walk, and the thing that we may do.\"\n",
    "9,numbers_1_48,\"For the LORD had spoken unto Moses, saying,\"\n",
    "```\n",
    "- Data/statistics about annotation agreement  \n",
    "- Example annotation errors and corrections\n",
    "\n",
    "---\n"
   ]
  }
 ],
 "metadata": {
  "kernelspec": {
   "display_name": "LinguaAnimae",
   "language": "python",
   "name": "python3"
  },
  "language_info": {
   "codemirror_mode": {
    "name": "ipython",
    "version": 3
   },
   "file_extension": ".py",
   "mimetype": "text/x-python",
   "name": "python",
   "nbconvert_exporter": "python",
   "pygments_lexer": "ipython3",
   "version": "3.10.16"
  }
 },
 "nbformat": 4,
 "nbformat_minor": 5
}
