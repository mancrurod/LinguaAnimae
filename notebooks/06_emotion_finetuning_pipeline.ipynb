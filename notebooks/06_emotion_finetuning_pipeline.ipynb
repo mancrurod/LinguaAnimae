{
 "cells": [
  {
   "cell_type": "markdown",
   "id": "13674b81",
   "metadata": {
    "vscode": {
     "languageId": "plaintext"
    }
   },
   "source": [
    "# 1️⃣ Introduction"
   ]
  },
  {
   "cell_type": "markdown",
   "id": "4c02f41f",
   "metadata": {},
   "source": [
    "## Emotion Classification Pipeline for Biblical Verses\n",
    "\n",
    "This notebook documents the full process of exploring, comparing and fine-tuning emotion classification models on biblical text, with a focus on the Book of Genesis and a final fine-tuning using a custom-annotated corpus.\n",
    "\n",
    "**Outline:**\n",
    "1. Model Benchmarking on Genesis\n",
    "2. Data Preparation for Fine-tuning\n",
    "3. Semi-automatic Labeling using GPT-4o\n",
    "4. Fine-tuning SamLowe/roberta-base-go_emotions\n",
    "5. Evaluation and Comparison with Previous Models\n",
    "6. Inference Examples and Analysis\n",
    "\n",
    "---\n",
    "\n",
    "**Project context:**  \n",
    "Emotion and theme detection in Bible verses for narrative and literary research, using NLP and modern transformer models.\n"
   ]
  },
  {
   "cell_type": "markdown",
   "id": "85f58fcb",
   "metadata": {
    "vscode": {
     "languageId": "plaintext"
    }
   },
   "source": [
    "# 2️⃣ Benchmarking Pretrained Models on Genesis"
   ]
  },
  {
   "cell_type": "markdown",
   "id": "39880916",
   "metadata": {},
   "source": [
    "## 1. Benchmarking Existing Models\n",
    "\n",
    "We begin by testing several HuggingFace models (Hartmann, GoEmotions/SamLowe, Bhadresh Savani, Joeddav) on Genesis.  \n",
    "The goal is to observe their behaviour on literary, ancient text before committing to any single approach.\n"
   ]
  },
  {
   "cell_type": "code",
   "execution_count": 2,
   "id": "126280f5",
   "metadata": {},
   "outputs": [],
   "source": [
    "import pandas as pd\n",
    "import matplotlib.pyplot as plt\n",
    "import seaborn as sns"
   ]
  },
  {
   "cell_type": "code",
   "execution_count": 1,
   "id": "904d687c",
   "metadata": {},
   "outputs": [
    {
     "ename": "FileNotFoundError",
     "evalue": "[Errno 2] No such file or directory: '../data/processed/bible_kjv/1_genesis_emotion_comparison.csv'",
     "output_type": "error",
     "traceback": [
      "\u001b[1;31m---------------------------------------------------------------------------\u001b[0m",
      "\u001b[1;31mFileNotFoundError\u001b[0m                         Traceback (most recent call last)",
      "Cell \u001b[1;32mIn[1], line 5\u001b[0m\n\u001b[0;32m      2\u001b[0m \u001b[38;5;28;01mimport\u001b[39;00m\u001b[38;5;250m \u001b[39m\u001b[38;5;21;01mmatplotlib\u001b[39;00m\u001b[38;5;21;01m.\u001b[39;00m\u001b[38;5;21;01mpyplot\u001b[39;00m\u001b[38;5;250m \u001b[39m\u001b[38;5;28;01mas\u001b[39;00m\u001b[38;5;250m \u001b[39m\u001b[38;5;21;01mplt\u001b[39;00m\n\u001b[0;32m      3\u001b[0m \u001b[38;5;28;01mimport\u001b[39;00m\u001b[38;5;250m \u001b[39m\u001b[38;5;21;01mseaborn\u001b[39;00m\u001b[38;5;250m \u001b[39m\u001b[38;5;28;01mas\u001b[39;00m\u001b[38;5;250m \u001b[39m\u001b[38;5;21;01msns\u001b[39;00m\n\u001b[1;32m----> 5\u001b[0m df \u001b[38;5;241m=\u001b[39m \u001b[43mpd\u001b[49m\u001b[38;5;241;43m.\u001b[39;49m\u001b[43mread_csv\u001b[49m\u001b[43m(\u001b[49m\u001b[38;5;124;43m\"\u001b[39;49m\u001b[38;5;124;43m../data/processed/bible_kjv/1_genesis_emotion_comparison.csv\u001b[39;49m\u001b[38;5;124;43m\"\u001b[39;49m\u001b[43m)\u001b[49m\n\u001b[0;32m      6\u001b[0m display(df\u001b[38;5;241m.\u001b[39mhead())\n\u001b[0;32m      8\u001b[0m \u001b[38;5;66;03m# Plot emotion distributions\u001b[39;00m\n",
      "File \u001b[1;32mc:\\Users\\manue\\miniconda3\\envs\\LinguaAnimae\\lib\\site-packages\\pandas\\io\\parsers\\readers.py:1026\u001b[0m, in \u001b[0;36mread_csv\u001b[1;34m(filepath_or_buffer, sep, delimiter, header, names, index_col, usecols, dtype, engine, converters, true_values, false_values, skipinitialspace, skiprows, skipfooter, nrows, na_values, keep_default_na, na_filter, verbose, skip_blank_lines, parse_dates, infer_datetime_format, keep_date_col, date_parser, date_format, dayfirst, cache_dates, iterator, chunksize, compression, thousands, decimal, lineterminator, quotechar, quoting, doublequote, escapechar, comment, encoding, encoding_errors, dialect, on_bad_lines, delim_whitespace, low_memory, memory_map, float_precision, storage_options, dtype_backend)\u001b[0m\n\u001b[0;32m   1013\u001b[0m kwds_defaults \u001b[38;5;241m=\u001b[39m _refine_defaults_read(\n\u001b[0;32m   1014\u001b[0m     dialect,\n\u001b[0;32m   1015\u001b[0m     delimiter,\n\u001b[1;32m   (...)\u001b[0m\n\u001b[0;32m   1022\u001b[0m     dtype_backend\u001b[38;5;241m=\u001b[39mdtype_backend,\n\u001b[0;32m   1023\u001b[0m )\n\u001b[0;32m   1024\u001b[0m kwds\u001b[38;5;241m.\u001b[39mupdate(kwds_defaults)\n\u001b[1;32m-> 1026\u001b[0m \u001b[38;5;28;01mreturn\u001b[39;00m \u001b[43m_read\u001b[49m\u001b[43m(\u001b[49m\u001b[43mfilepath_or_buffer\u001b[49m\u001b[43m,\u001b[49m\u001b[43m \u001b[49m\u001b[43mkwds\u001b[49m\u001b[43m)\u001b[49m\n",
      "File \u001b[1;32mc:\\Users\\manue\\miniconda3\\envs\\LinguaAnimae\\lib\\site-packages\\pandas\\io\\parsers\\readers.py:620\u001b[0m, in \u001b[0;36m_read\u001b[1;34m(filepath_or_buffer, kwds)\u001b[0m\n\u001b[0;32m    617\u001b[0m _validate_names(kwds\u001b[38;5;241m.\u001b[39mget(\u001b[38;5;124m\"\u001b[39m\u001b[38;5;124mnames\u001b[39m\u001b[38;5;124m\"\u001b[39m, \u001b[38;5;28;01mNone\u001b[39;00m))\n\u001b[0;32m    619\u001b[0m \u001b[38;5;66;03m# Create the parser.\u001b[39;00m\n\u001b[1;32m--> 620\u001b[0m parser \u001b[38;5;241m=\u001b[39m TextFileReader(filepath_or_buffer, \u001b[38;5;241m*\u001b[39m\u001b[38;5;241m*\u001b[39mkwds)\n\u001b[0;32m    622\u001b[0m \u001b[38;5;28;01mif\u001b[39;00m chunksize \u001b[38;5;129;01mor\u001b[39;00m iterator:\n\u001b[0;32m    623\u001b[0m     \u001b[38;5;28;01mreturn\u001b[39;00m parser\n",
      "File \u001b[1;32mc:\\Users\\manue\\miniconda3\\envs\\LinguaAnimae\\lib\\site-packages\\pandas\\io\\parsers\\readers.py:1620\u001b[0m, in \u001b[0;36mTextFileReader.__init__\u001b[1;34m(self, f, engine, **kwds)\u001b[0m\n\u001b[0;32m   1617\u001b[0m     \u001b[38;5;28mself\u001b[39m\u001b[38;5;241m.\u001b[39moptions[\u001b[38;5;124m\"\u001b[39m\u001b[38;5;124mhas_index_names\u001b[39m\u001b[38;5;124m\"\u001b[39m] \u001b[38;5;241m=\u001b[39m kwds[\u001b[38;5;124m\"\u001b[39m\u001b[38;5;124mhas_index_names\u001b[39m\u001b[38;5;124m\"\u001b[39m]\n\u001b[0;32m   1619\u001b[0m \u001b[38;5;28mself\u001b[39m\u001b[38;5;241m.\u001b[39mhandles: IOHandles \u001b[38;5;241m|\u001b[39m \u001b[38;5;28;01mNone\u001b[39;00m \u001b[38;5;241m=\u001b[39m \u001b[38;5;28;01mNone\u001b[39;00m\n\u001b[1;32m-> 1620\u001b[0m \u001b[38;5;28mself\u001b[39m\u001b[38;5;241m.\u001b[39m_engine \u001b[38;5;241m=\u001b[39m \u001b[38;5;28;43mself\u001b[39;49m\u001b[38;5;241;43m.\u001b[39;49m\u001b[43m_make_engine\u001b[49m\u001b[43m(\u001b[49m\u001b[43mf\u001b[49m\u001b[43m,\u001b[49m\u001b[43m \u001b[49m\u001b[38;5;28;43mself\u001b[39;49m\u001b[38;5;241;43m.\u001b[39;49m\u001b[43mengine\u001b[49m\u001b[43m)\u001b[49m\n",
      "File \u001b[1;32mc:\\Users\\manue\\miniconda3\\envs\\LinguaAnimae\\lib\\site-packages\\pandas\\io\\parsers\\readers.py:1880\u001b[0m, in \u001b[0;36mTextFileReader._make_engine\u001b[1;34m(self, f, engine)\u001b[0m\n\u001b[0;32m   1878\u001b[0m     \u001b[38;5;28;01mif\u001b[39;00m \u001b[38;5;124m\"\u001b[39m\u001b[38;5;124mb\u001b[39m\u001b[38;5;124m\"\u001b[39m \u001b[38;5;129;01mnot\u001b[39;00m \u001b[38;5;129;01min\u001b[39;00m mode:\n\u001b[0;32m   1879\u001b[0m         mode \u001b[38;5;241m+\u001b[39m\u001b[38;5;241m=\u001b[39m \u001b[38;5;124m\"\u001b[39m\u001b[38;5;124mb\u001b[39m\u001b[38;5;124m\"\u001b[39m\n\u001b[1;32m-> 1880\u001b[0m \u001b[38;5;28mself\u001b[39m\u001b[38;5;241m.\u001b[39mhandles \u001b[38;5;241m=\u001b[39m \u001b[43mget_handle\u001b[49m\u001b[43m(\u001b[49m\n\u001b[0;32m   1881\u001b[0m \u001b[43m    \u001b[49m\u001b[43mf\u001b[49m\u001b[43m,\u001b[49m\n\u001b[0;32m   1882\u001b[0m \u001b[43m    \u001b[49m\u001b[43mmode\u001b[49m\u001b[43m,\u001b[49m\n\u001b[0;32m   1883\u001b[0m \u001b[43m    \u001b[49m\u001b[43mencoding\u001b[49m\u001b[38;5;241;43m=\u001b[39;49m\u001b[38;5;28;43mself\u001b[39;49m\u001b[38;5;241;43m.\u001b[39;49m\u001b[43moptions\u001b[49m\u001b[38;5;241;43m.\u001b[39;49m\u001b[43mget\u001b[49m\u001b[43m(\u001b[49m\u001b[38;5;124;43m\"\u001b[39;49m\u001b[38;5;124;43mencoding\u001b[39;49m\u001b[38;5;124;43m\"\u001b[39;49m\u001b[43m,\u001b[49m\u001b[43m \u001b[49m\u001b[38;5;28;43;01mNone\u001b[39;49;00m\u001b[43m)\u001b[49m\u001b[43m,\u001b[49m\n\u001b[0;32m   1884\u001b[0m \u001b[43m    \u001b[49m\u001b[43mcompression\u001b[49m\u001b[38;5;241;43m=\u001b[39;49m\u001b[38;5;28;43mself\u001b[39;49m\u001b[38;5;241;43m.\u001b[39;49m\u001b[43moptions\u001b[49m\u001b[38;5;241;43m.\u001b[39;49m\u001b[43mget\u001b[49m\u001b[43m(\u001b[49m\u001b[38;5;124;43m\"\u001b[39;49m\u001b[38;5;124;43mcompression\u001b[39;49m\u001b[38;5;124;43m\"\u001b[39;49m\u001b[43m,\u001b[49m\u001b[43m \u001b[49m\u001b[38;5;28;43;01mNone\u001b[39;49;00m\u001b[43m)\u001b[49m\u001b[43m,\u001b[49m\n\u001b[0;32m   1885\u001b[0m \u001b[43m    \u001b[49m\u001b[43mmemory_map\u001b[49m\u001b[38;5;241;43m=\u001b[39;49m\u001b[38;5;28;43mself\u001b[39;49m\u001b[38;5;241;43m.\u001b[39;49m\u001b[43moptions\u001b[49m\u001b[38;5;241;43m.\u001b[39;49m\u001b[43mget\u001b[49m\u001b[43m(\u001b[49m\u001b[38;5;124;43m\"\u001b[39;49m\u001b[38;5;124;43mmemory_map\u001b[39;49m\u001b[38;5;124;43m\"\u001b[39;49m\u001b[43m,\u001b[49m\u001b[43m \u001b[49m\u001b[38;5;28;43;01mFalse\u001b[39;49;00m\u001b[43m)\u001b[49m\u001b[43m,\u001b[49m\n\u001b[0;32m   1886\u001b[0m \u001b[43m    \u001b[49m\u001b[43mis_text\u001b[49m\u001b[38;5;241;43m=\u001b[39;49m\u001b[43mis_text\u001b[49m\u001b[43m,\u001b[49m\n\u001b[0;32m   1887\u001b[0m \u001b[43m    \u001b[49m\u001b[43merrors\u001b[49m\u001b[38;5;241;43m=\u001b[39;49m\u001b[38;5;28;43mself\u001b[39;49m\u001b[38;5;241;43m.\u001b[39;49m\u001b[43moptions\u001b[49m\u001b[38;5;241;43m.\u001b[39;49m\u001b[43mget\u001b[49m\u001b[43m(\u001b[49m\u001b[38;5;124;43m\"\u001b[39;49m\u001b[38;5;124;43mencoding_errors\u001b[39;49m\u001b[38;5;124;43m\"\u001b[39;49m\u001b[43m,\u001b[49m\u001b[43m \u001b[49m\u001b[38;5;124;43m\"\u001b[39;49m\u001b[38;5;124;43mstrict\u001b[39;49m\u001b[38;5;124;43m\"\u001b[39;49m\u001b[43m)\u001b[49m\u001b[43m,\u001b[49m\n\u001b[0;32m   1888\u001b[0m \u001b[43m    \u001b[49m\u001b[43mstorage_options\u001b[49m\u001b[38;5;241;43m=\u001b[39;49m\u001b[38;5;28;43mself\u001b[39;49m\u001b[38;5;241;43m.\u001b[39;49m\u001b[43moptions\u001b[49m\u001b[38;5;241;43m.\u001b[39;49m\u001b[43mget\u001b[49m\u001b[43m(\u001b[49m\u001b[38;5;124;43m\"\u001b[39;49m\u001b[38;5;124;43mstorage_options\u001b[39;49m\u001b[38;5;124;43m\"\u001b[39;49m\u001b[43m,\u001b[49m\u001b[43m \u001b[49m\u001b[38;5;28;43;01mNone\u001b[39;49;00m\u001b[43m)\u001b[49m\u001b[43m,\u001b[49m\n\u001b[0;32m   1889\u001b[0m \u001b[43m\u001b[49m\u001b[43m)\u001b[49m\n\u001b[0;32m   1890\u001b[0m \u001b[38;5;28;01massert\u001b[39;00m \u001b[38;5;28mself\u001b[39m\u001b[38;5;241m.\u001b[39mhandles \u001b[38;5;129;01mis\u001b[39;00m \u001b[38;5;129;01mnot\u001b[39;00m \u001b[38;5;28;01mNone\u001b[39;00m\n\u001b[0;32m   1891\u001b[0m f \u001b[38;5;241m=\u001b[39m \u001b[38;5;28mself\u001b[39m\u001b[38;5;241m.\u001b[39mhandles\u001b[38;5;241m.\u001b[39mhandle\n",
      "File \u001b[1;32mc:\\Users\\manue\\miniconda3\\envs\\LinguaAnimae\\lib\\site-packages\\pandas\\io\\common.py:873\u001b[0m, in \u001b[0;36mget_handle\u001b[1;34m(path_or_buf, mode, encoding, compression, memory_map, is_text, errors, storage_options)\u001b[0m\n\u001b[0;32m    868\u001b[0m \u001b[38;5;28;01melif\u001b[39;00m \u001b[38;5;28misinstance\u001b[39m(handle, \u001b[38;5;28mstr\u001b[39m):\n\u001b[0;32m    869\u001b[0m     \u001b[38;5;66;03m# Check whether the filename is to be opened in binary mode.\u001b[39;00m\n\u001b[0;32m    870\u001b[0m     \u001b[38;5;66;03m# Binary mode does not support 'encoding' and 'newline'.\u001b[39;00m\n\u001b[0;32m    871\u001b[0m     \u001b[38;5;28;01mif\u001b[39;00m ioargs\u001b[38;5;241m.\u001b[39mencoding \u001b[38;5;129;01mand\u001b[39;00m \u001b[38;5;124m\"\u001b[39m\u001b[38;5;124mb\u001b[39m\u001b[38;5;124m\"\u001b[39m \u001b[38;5;129;01mnot\u001b[39;00m \u001b[38;5;129;01min\u001b[39;00m ioargs\u001b[38;5;241m.\u001b[39mmode:\n\u001b[0;32m    872\u001b[0m         \u001b[38;5;66;03m# Encoding\u001b[39;00m\n\u001b[1;32m--> 873\u001b[0m         handle \u001b[38;5;241m=\u001b[39m \u001b[38;5;28;43mopen\u001b[39;49m\u001b[43m(\u001b[49m\n\u001b[0;32m    874\u001b[0m \u001b[43m            \u001b[49m\u001b[43mhandle\u001b[49m\u001b[43m,\u001b[49m\n\u001b[0;32m    875\u001b[0m \u001b[43m            \u001b[49m\u001b[43mioargs\u001b[49m\u001b[38;5;241;43m.\u001b[39;49m\u001b[43mmode\u001b[49m\u001b[43m,\u001b[49m\n\u001b[0;32m    876\u001b[0m \u001b[43m            \u001b[49m\u001b[43mencoding\u001b[49m\u001b[38;5;241;43m=\u001b[39;49m\u001b[43mioargs\u001b[49m\u001b[38;5;241;43m.\u001b[39;49m\u001b[43mencoding\u001b[49m\u001b[43m,\u001b[49m\n\u001b[0;32m    877\u001b[0m \u001b[43m            \u001b[49m\u001b[43merrors\u001b[49m\u001b[38;5;241;43m=\u001b[39;49m\u001b[43merrors\u001b[49m\u001b[43m,\u001b[49m\n\u001b[0;32m    878\u001b[0m \u001b[43m            \u001b[49m\u001b[43mnewline\u001b[49m\u001b[38;5;241;43m=\u001b[39;49m\u001b[38;5;124;43m\"\u001b[39;49m\u001b[38;5;124;43m\"\u001b[39;49m\u001b[43m,\u001b[49m\n\u001b[0;32m    879\u001b[0m \u001b[43m        \u001b[49m\u001b[43m)\u001b[49m\n\u001b[0;32m    880\u001b[0m     \u001b[38;5;28;01melse\u001b[39;00m:\n\u001b[0;32m    881\u001b[0m         \u001b[38;5;66;03m# Binary mode\u001b[39;00m\n\u001b[0;32m    882\u001b[0m         handle \u001b[38;5;241m=\u001b[39m \u001b[38;5;28mopen\u001b[39m(handle, ioargs\u001b[38;5;241m.\u001b[39mmode)\n",
      "\u001b[1;31mFileNotFoundError\u001b[0m: [Errno 2] No such file or directory: '../data/processed/bible_kjv/1_genesis_emotion_comparison.csv'"
     ]
    }
   ],
   "source": [
    "import pandas as pd\n",
    "import matplotlib.pyplot as plt\n",
    "import seaborn as sns\n",
    "\n",
    "df = pd.read_csv(\"../data/processed/bible_kjv/1_genesis_emotion_comparison.csv\")\n",
    "display(df.head())\n",
    "\n",
    "# Plot emotion distributions\n",
    "plt.figure()\n",
    "sns.countplot(x=\"hartmann_label\", data=df, order=df['hartmann_label'].value_counts().index)\n",
    "plt.title(\"Hartmann Emotion Distribution\")\n",
    "plt.show()\n",
    "\n",
    "plt.figure()\n",
    "sns.countplot(x=\"goemotions_ekman_label\", data=df, order=df['goemotions_ekman_label'].value_counts().index)\n",
    "plt.title(\"GoEmotions (Ekman) Distribution\")\n",
    "plt.show()\n",
    "\n",
    "plt.figure()\n",
    "sns.countplot(x=\"bsavani_label\", data=df, order=df['bsavani_label'].value_counts().index)\n",
    "plt.title(\"Bhadresh Savani Emotion Distribution\")\n",
    "plt.show()\n",
    "\n",
    "plt.figure()\n",
    "sns.countplot(x=\"joeddav_ekman_label\", data=df, order=df['joeddav_ekman_label'].value_counts().index)\n",
    "plt.title(\"Joeddav (Ekman) Distribution\")\n",
    "plt.show()\n"
   ]
  },
  {
   "cell_type": "markdown",
   "id": "8b98987c",
   "metadata": {},
   "source": [
    "### **Observations:**\n",
    "- GoEmotions produces a strong \"neutral\" bias on Genesis.\n",
    "- Hartmann and bsavani force more emotion categories, but may overfit to their social-media source.\n",
    "- Joeddav shows a different distribution, with many \"surprise\" and \"joy\".\n",
    "- None of the available models fit perfectly for literary or biblical style.\n"
   ]
  },
  {
   "cell_type": "markdown",
   "id": "72919bf3",
   "metadata": {},
   "source": [
    "# 3️⃣ Preparing a Custom Dataset for Fine-tuning"
   ]
  },
  {
   "cell_type": "markdown",
   "id": "fbbff26c",
   "metadata": {},
   "source": [
    "## 2. Preparing a Custom Dataset for Fine-tuning\n",
    "\n",
    "Given the above, we decided to build a custom, hand-verified emotion-labeled dataset, leveraging GPT-4o for fast annotation and manual review.\n",
    "- 1000 unique verses were sampled from the full KJV.\n",
    "- Each verse was labeled with one of: joy, sadness, anger, fear, disgust, surprise, neutral.\n"
   ]
  },
  {
   "cell_type": "code",
   "execution_count": 3,
   "id": "c079299a",
   "metadata": {},
   "outputs": [
    {
     "data": {
      "text/html": [
       "<div>\n",
       "<style scoped>\n",
       "    .dataframe tbody tr th:only-of-type {\n",
       "        vertical-align: middle;\n",
       "    }\n",
       "\n",
       "    .dataframe tbody tr th {\n",
       "        vertical-align: top;\n",
       "    }\n",
       "\n",
       "    .dataframe thead th {\n",
       "        text-align: right;\n",
       "    }\n",
       "</style>\n",
       "<table border=\"1\" class=\"dataframe\">\n",
       "  <thead>\n",
       "    <tr style=\"text-align: right;\">\n",
       "      <th></th>\n",
       "      <th>id</th>\n",
       "      <th>verse_id</th>\n",
       "      <th>verse</th>\n",
       "    </tr>\n",
       "  </thead>\n",
       "  <tbody>\n",
       "    <tr>\n",
       "      <th>657</th>\n",
       "      <td>657</td>\n",
       "      <td>jeremiah_50_43</td>\n",
       "      <td>The king of Babylon hath heard the report of t...</td>\n",
       "    </tr>\n",
       "    <tr>\n",
       "      <th>488</th>\n",
       "      <td>488</td>\n",
       "      <td>deuteronomy_30_15</td>\n",
       "      <td>See, I have set before thee this day life and ...</td>\n",
       "    </tr>\n",
       "    <tr>\n",
       "      <th>520</th>\n",
       "      <td>520</td>\n",
       "      <td>luke_22_43</td>\n",
       "      <td>And there appeared an angel unto him from heav...</td>\n",
       "    </tr>\n",
       "    <tr>\n",
       "      <th>678</th>\n",
       "      <td>678</td>\n",
       "      <td>2_chronicles_2_1</td>\n",
       "      <td>And Solomon determined to build an house for t...</td>\n",
       "    </tr>\n",
       "    <tr>\n",
       "      <th>21</th>\n",
       "      <td>21</td>\n",
       "      <td>acts_11_18</td>\n",
       "      <td>When they heard these things, they held their ...</td>\n",
       "    </tr>\n",
       "  </tbody>\n",
       "</table>\n",
       "</div>"
      ],
      "text/plain": [
       "      id           verse_id                                              verse\n",
       "657  657     jeremiah_50_43  The king of Babylon hath heard the report of t...\n",
       "488  488  deuteronomy_30_15  See, I have set before thee this day life and ...\n",
       "520  520         luke_22_43  And there appeared an angel unto him from heav...\n",
       "678  678   2_chronicles_2_1  And Solomon determined to build an house for t...\n",
       "21    21         acts_11_18  When they heard these things, they held their ..."
      ]
     },
     "metadata": {},
     "output_type": "display_data"
    },
    {
     "name": "stdout",
     "output_type": "stream",
     "text": [
      "Total verses sampled: 1000\n"
     ]
    }
   ],
   "source": [
    "# Show sample of selected verses\n",
    "df_samples = pd.read_csv(\"../data/evaluation/emotion_verses_to_label.csv\")\n",
    "display(df_samples.sample(5))\n",
    "print(f\"Total verses sampled: {len(df_samples)}\")"
   ]
  },
  {
   "cell_type": "markdown",
   "id": "405e0d8e",
   "metadata": {},
   "source": [
    "# 4️⃣ Labeling Verses with GPT-4o (Semi-automatic Annotation)"
   ]
  },
  {
   "cell_type": "markdown",
   "id": "5dce2ff1",
   "metadata": {},
   "source": [
    "## 3. Semi-automatic Annotation using GPT-4o\n",
    "\n",
    "Annotation prompt for GPT-4o:\n",
    "\n",
    "> Assign ONE main human emotion to each Bible verse below.  \n",
    "> Choose ONLY from this list: joy, sadness, anger, fear, disgust, surprise, neutral  \n",
    "> Return in CSV format with columns: id,verse_id,label  \n",
    "> [See appendix for full prompt.]\n",
    "\n",
    "Labels were reviewed and corrected as needed before proceeding to fine-tuning.\n"
   ]
  },
  {
   "cell_type": "code",
   "execution_count": 2,
   "id": "2d62e0ca",
   "metadata": {},
   "outputs": [
    {
     "data": {
      "text/html": [
       "<div>\n",
       "<style scoped>\n",
       "    .dataframe tbody tr th:only-of-type {\n",
       "        vertical-align: middle;\n",
       "    }\n",
       "\n",
       "    .dataframe tbody tr th {\n",
       "        vertical-align: top;\n",
       "    }\n",
       "\n",
       "    .dataframe thead th {\n",
       "        text-align: right;\n",
       "    }\n",
       "</style>\n",
       "<table border=\"1\" class=\"dataframe\">\n",
       "  <thead>\n",
       "    <tr style=\"text-align: right;\">\n",
       "      <th></th>\n",
       "      <th>id</th>\n",
       "      <th>verse_id</th>\n",
       "      <th>verse</th>\n",
       "      <th>label</th>\n",
       "    </tr>\n",
       "  </thead>\n",
       "  <tbody>\n",
       "    <tr>\n",
       "      <th>959</th>\n",
       "      <td>959</td>\n",
       "      <td>mark_1_12</td>\n",
       "      <td>And immediately the Spirit driveth him into th...</td>\n",
       "      <td>neutral</td>\n",
       "    </tr>\n",
       "    <tr>\n",
       "      <th>682</th>\n",
       "      <td>682</td>\n",
       "      <td>ezekiel_27_28</td>\n",
       "      <td>The suburbs shall shake at the sound of the cr...</td>\n",
       "      <td>fear</td>\n",
       "    </tr>\n",
       "    <tr>\n",
       "      <th>289</th>\n",
       "      <td>289</td>\n",
       "      <td>psalms_102_11</td>\n",
       "      <td>My days are like a shadow that declineth; and ...</td>\n",
       "      <td>sadness</td>\n",
       "    </tr>\n",
       "    <tr>\n",
       "      <th>786</th>\n",
       "      <td>786</td>\n",
       "      <td>genesis_31_11</td>\n",
       "      <td>And the angel of God spake unto me in a dream,...</td>\n",
       "      <td>surprise</td>\n",
       "    </tr>\n",
       "    <tr>\n",
       "      <th>810</th>\n",
       "      <td>810</td>\n",
       "      <td>acts_9_24</td>\n",
       "      <td>But their laying await was known of Saul. And ...</td>\n",
       "      <td>fear</td>\n",
       "    </tr>\n",
       "  </tbody>\n",
       "</table>\n",
       "</div>"
      ],
      "text/plain": [
       "      id       verse_id                                              verse  \\\n",
       "959  959      mark_1_12  And immediately the Spirit driveth him into th...   \n",
       "682  682  ezekiel_27_28  The suburbs shall shake at the sound of the cr...   \n",
       "289  289  psalms_102_11  My days are like a shadow that declineth; and ...   \n",
       "786  786  genesis_31_11  And the angel of God spake unto me in a dream,...   \n",
       "810  810      acts_9_24  But their laying await was known of Saul. And ...   \n",
       "\n",
       "        label  \n",
       "959   neutral  \n",
       "682      fear  \n",
       "289   sadness  \n",
       "786  surprise  \n",
       "810      fear  "
      ]
     },
     "metadata": {},
     "output_type": "display_data"
    },
    {
     "name": "stdout",
     "output_type": "stream",
     "text": [
      "Total labeled verses: 1000\n"
     ]
    },
    {
     "data": {
      "image/png": "[encoded data removed]",
      "text/plain": [
       "<Figure size 640x480 with 1 Axes>"
      ]
     },
     "metadata": {},
     "output_type": "display_data"
    }
   ],
   "source": [
    "# Show labeled data (post-GPT + manual review)\n",
    "df_labeled = pd.read_csv(\"../data/evaluation/emotion_verses_labeled_2.csv\")\n",
    "display(df_labeled.sample(5))\n",
    "print(f\"Total labeled verses: {len(df_labeled)}\")\n",
    "\n",
    "plt.figure()\n",
    "sns.countplot(x=\"label\", data=df_labeled, order=sorted(df_labeled['label'].unique()))\n",
    "plt.title(\"Distribution of Labeled Emotions (Final Training Set)\")\n",
    "plt.show()"
   ]
  },
  {
   "cell_type": "markdown",
   "id": "07bde710",
   "metadata": {},
   "source": [
    "# 5️⃣ Fine-tuning SamLowe/roberta-base-go_emotions"
   ]
  },
  {
   "cell_type": "markdown",
   "id": "96b80ac4",
   "metadata": {},
   "source": [
    "## 4. Fine-tuning SamLowe/roberta-base-go_emotions on Custom Labeled Data\n",
    "\n",
    "The fine-tuning uses 90% of the data for training and 10% for evaluation.  \n",
    "Labels are mapped to integer IDs as required by HuggingFace.\n"
   ]
  },
  {
   "cell_type": "markdown",
   "id": "ce5c6783",
   "metadata": {},
   "source": [
    "We initialized the classification head (last layer) from scratch, as our label set consists of 7 mapped emotions, instead of the original 28 GoEmotions classes. The rest of the model loads all pre-trained weights, leveraging prior emotional knowledge. This is the recommended approach for transfer learning with a different output taxonomy.\n",
    "\n"
   ]
  },
  {
   "cell_type": "code",
   "execution_count": 6,
   "id": "1fab8dda",
   "metadata": {},
   "outputs": [
    {
     "name": "stdout",
     "output_type": "stream",
     "text": [
      "Train:\n",
      "label\n",
      "6    799\n",
      "0    543\n",
      "1    371\n",
      "2    311\n",
      "3    303\n",
      "4    166\n",
      "5    109\n",
      "Name: count, dtype: int64\n",
      "\n",
      "Test:\n",
      "label\n",
      "6    80\n",
      "0    49\n",
      "1    46\n",
      "3    41\n",
      "2    36\n",
      "4    24\n",
      "5    14\n",
      "Name: count, dtype: int64\n"
     ]
    }
   ],
   "source": [
    "# Si usas train/test como pandas DataFrame\n",
    "print(\"Train:\")\n",
    "print(df_train['label'].value_counts())\n",
    "print(\"\\nTest:\")\n",
    "print(df_test['label'].value_counts())\n"
   ]
  },
  {
   "cell_type": "markdown",
   "id": "c2f43917",
   "metadata": {},
   "source": [
    "### Cross validating"
   ]
  },
  {
   "cell_type": "code",
   "execution_count": null,
   "id": "11eb3cf5",
   "metadata": {},
   "outputs": [
    {
     "name": "stdout",
     "output_type": "stream",
     "text": [
      "\n",
      "=== Fold 1/5 ===\n"
     ]
    },
    {
     "name": "stderr",
     "output_type": "stream",
     "text": [
      "c:\\Users\\manue\\miniconda3\\envs\\LinguaAnimae\\lib\\site-packages\\huggingface_hub\\file_download.py:943: FutureWarning: `resume_download` is deprecated and will be removed in version 1.0.0. Downloads always resume when possible. If you want to force a new download, use `force_download=True`.\n",
      "  warnings.warn(\n",
      "Some weights of RobertaForSequenceClassification were not initialized from the model checkpoint at SamLowe/roberta-base-go_emotions and are newly initialized because the shapes did not match:\n",
      "- classifier.out_proj.bias: found shape torch.Size([28]) in the checkpoint and torch.Size([7]) in the model instantiated\n",
      "- classifier.out_proj.weight: found shape torch.Size([28, 768]) in the checkpoint and torch.Size([7, 768]) in the model instantiated\n",
      "You should probably TRAIN this model on a down-stream task to be able to use it for predictions and inference.\n",
      "Map: 100%|██████████| 7800/7800 [00:00<00:00, 22441.77 examples/s]\n",
      "Map: 100%|██████████| 1951/1951 [00:00<00:00, 26083.22 examples/s]\n"
     ]
    },
    {
     "name": "stdout",
     "output_type": "stream",
     "text": [
      "\n",
      "Fold 1 - Macro F1: 0.455\n",
      "{'eval_loss': 1.150935411453247, 'eval_macro_f1': 0.4548368585368057, 'eval_runtime': 12.9029, 'eval_samples_per_second': 151.206, 'eval_steps_per_second': 4.728, 'epoch': 1.0}\n",
      "\n",
      "Fold 1 - Macro F1: 0.515\n",
      "{'eval_loss': 1.0705690383911133, 'eval_macro_f1': 0.514635989591712, 'eval_runtime': 4.9489, 'eval_samples_per_second': 394.231, 'eval_steps_per_second': 12.326, 'epoch': 2.0}\n",
      "\n",
      "Fold 1 - Macro F1: 0.537\n",
      "{'eval_loss': 1.0767254829406738, 'eval_macro_f1': 0.5374697373946126, 'eval_runtime': 4.4595, 'eval_samples_per_second': 437.494, 'eval_steps_per_second': 13.679, 'epoch': 3.0}\n",
      "\n",
      "Fold 1 - Macro F1: 0.537\n",
      "{'eval_loss': 1.0771472454071045, 'eval_macro_f1': 0.5373530932247517, 'eval_runtime': 4.4784, 'eval_samples_per_second': 435.642, 'eval_steps_per_second': 13.621, 'epoch': 4.0}\n",
      "{'train_runtime': 857.5282, 'train_samples_per_second': 36.384, 'train_steps_per_second': 2.276, 'train_loss': 1.0361291228747758, 'epoch': 4.0}\n",
      "\n",
      "Fold 1 - Macro F1: 0.537\n",
      "{'eval_loss': 1.0767254829406738, 'eval_macro_f1': 0.5374697373946126, 'eval_runtime': 4.4723, 'eval_samples_per_second': 436.24, 'eval_steps_per_second': 13.639, 'epoch': 4.0}\n",
      "\n",
      "=== Fold 2/5 ===\n"
     ]
    },
    {
     "name": "stderr",
     "output_type": "stream",
     "text": [
      "c:\\Users\\manue\\miniconda3\\envs\\LinguaAnimae\\lib\\site-packages\\huggingface_hub\\file_download.py:943: FutureWarning: `resume_download` is deprecated and will be removed in version 1.0.0. Downloads always resume when possible. If you want to force a new download, use `force_download=True`.\n",
      "  warnings.warn(\n",
      "Some weights of RobertaForSequenceClassification were not initialized from the model checkpoint at SamLowe/roberta-base-go_emotions and are newly initialized because the shapes did not match:\n",
      "- classifier.out_proj.bias: found shape torch.Size([28]) in the checkpoint and torch.Size([7]) in the model instantiated\n",
      "- classifier.out_proj.weight: found shape torch.Size([28, 768]) in the checkpoint and torch.Size([7, 768]) in the model instantiated\n",
      "You should probably TRAIN this model on a down-stream task to be able to use it for predictions and inference.\n",
      "Map: 100%|██████████| 7801/7801 [00:00<00:00, 20540.01 examples/s]\n",
      "Map: 100%|██████████| 1950/1950 [00:00<00:00, 20252.86 examples/s]\n"
     ]
    },
    {
     "name": "stdout",
     "output_type": "stream",
     "text": [
      "\n",
      "Fold 2 - Macro F1: 0.436\n",
      "{'eval_loss': 1.1780766248703003, 'eval_macro_f1': 0.43571469405472346, 'eval_runtime': 9.5669, 'eval_samples_per_second': 203.828, 'eval_steps_per_second': 6.376, 'epoch': 1.0}\n"
     ]
    }
   ],
   "source": [
    "import pandas as pd\n",
    "import os\n",
    "from datasets import Dataset, DatasetDict\n",
    "from transformers import AutoTokenizer, AutoModelForSequenceClassification, TrainingArguments, EarlyStoppingCallback\n",
    "import numpy as np\n",
    "from sklearn.metrics import classification_report\n",
    "from sklearn.model_selection import StratifiedKFold\n",
    "from sklearn.utils import resample\n",
    "import torch\n",
    "import torch.nn.functional as F\n",
    "from transformers import Trainer\n",
    "\n",
    "# --- Compute class weights robustly ---\n",
    "def compute_class_weights(df, label_column, class_labels):\n",
    "    \"\"\"\n",
    "    Computes class weights for imbalanced classification.\n",
    "\n",
    "    Args:\n",
    "        df (pd.DataFrame): Training dataframe.\n",
    "        label_column (str): Name of the label column.\n",
    "        class_labels (list): List of all class integer labels, in model's order.\n",
    "\n",
    "    Returns:\n",
    "        torch.Tensor: Class weights as tensor, in order of class_labels.\n",
    "    \"\"\"\n",
    "    counts = df[label_column].value_counts().reindex(class_labels, fill_value=0).values\n",
    "    counts = np.maximum(counts, 1)  # Avoid division by zero\n",
    "    weights = 1.0 / counts\n",
    "    # No need to normalize: CrossEntropyLoss expects unnormalized weights\n",
    "    weights_tensor = torch.tensor(weights, dtype=torch.float32)\n",
    "    print(\"Class labels:\", class_labels)\n",
    "    print(\"Class counts:\", counts)\n",
    "    print(\"Class weights:\", weights)\n",
    "    return weights_tensor\n",
    "\n",
    "def focal_loss(logits, labels, alpha=1.0, gamma=2.0, weight=None):\n",
    "    \"\"\"\n",
    "    Compute focal loss for multi-class classification.\n",
    "    Args:\n",
    "        logits (Tensor): [batch_size, num_classes]\n",
    "        labels (Tensor): [batch_size]\n",
    "        alpha (float or Tensor, optional): Class weighting factor.\n",
    "        gamma (float): Focusing parameter.\n",
    "        weight (Tensor, optional): Class weights (as in CrossEntropyLoss).\n",
    "    \"\"\"\n",
    "    ce_loss = F.cross_entropy(logits, labels, weight=weight, reduction='none')\n",
    "    pt = torch.exp(-ce_loss)\n",
    "    focal = (alpha * (1 - pt) ** gamma * ce_loss)\n",
    "    return focal.mean()\n",
    "\n",
    "class WeightedTrainer(Trainer):\n",
    "    def __init__(self, *args, **kwargs):\n",
    "        super().__init__(*args, **kwargs)\n",
    "\n",
    "    def compute_loss(self, model, inputs, return_outputs=False):\n",
    "        labels = inputs.get(\"labels\", None)\n",
    "        outputs = model(**inputs)\n",
    "        logits = outputs.get(\"logits\", None)\n",
    "        if labels is not None and logits is not None:\n",
    "            if not isinstance(labels, torch.Tensor):\n",
    "                labels = torch.tensor(labels)\n",
    "            labels = labels.to(logits.device).long()\n",
    "            # Eliminar uso de weights, solo usar CrossEntropyLoss\n",
    "            loss_fct = torch.nn.CrossEntropyLoss()  # Sin pesos de clase\n",
    "            loss = loss_fct(logits.view(-1, model.config.num_labels), labels.view(-1))\n",
    "            return (loss, outputs) if return_outputs else loss\n",
    "        return (0.0, outputs) if return_outputs else 0.0\n",
    "\n",
    "\n",
    "# --- 1. Load and shuffle data ---\n",
    "df = pd.read_csv(\"../data/evaluation/verses_parsed/emotion_verses_labeled_combined.csv\")\n",
    "df = df.sample(frac=1, random_state=42).reset_index(drop=True)\n",
    "\n",
    "def clean_verse(text):\n",
    "    import re\n",
    "    # Quita saltos de línea, múltiples espacios, referencias tipo [1]\n",
    "    text = re.sub(r'\\s+', ' ', text)\n",
    "    text = re.sub(r'\\[\\d+\\]', '', text)\n",
    "    text = text.strip()\n",
    "    return text\n",
    "\n",
    "df['verse'] = df['verse'].apply(clean_verse)\n",
    "\n",
    "# --- 2. Mapping and validation ---\n",
    "EMOTION_MAP = {\n",
    "    \"joy\": \"Alegría\",\n",
    "    \"sadness\": \"Tristeza\",\n",
    "    \"anger\": \"Ira\",\n",
    "    \"fear\": \"Miedo\",\n",
    "    \"surprise\": \"Sorpresa\",\n",
    "    \"disgust\": \"Asco\",\n",
    "    \"neutral\": \"Neutral\"\n",
    "}\n",
    "label_list = list(EMOTION_MAP.keys())            # List of string labels, e.g. ['joy', 'sadness', ...]\n",
    "label2id = {l: i for i, l in enumerate(label_list)}  # Mapping to int, order matches label_list\n",
    "id2label = {i: l for i, l in enumerate(label_list)}\n",
    "df['label'] = df['label'].str.strip().str.lower()\n",
    "invalid_labels = set(df['label'].unique()) - set(label_list)\n",
    "if invalid_labels:\n",
    "    print(f\"❌ ERROR: Detected invalid labels: {invalid_labels}\")\n",
    "    raise ValueError(\"Your CSV contains labels not present in the expected set.\")\n",
    "df['label'] = df['label'].map(label2id).astype(int)\n",
    "\n",
    "# --- 3. Cross-validation setup ---\n",
    "k = 5  # Number of folds\n",
    "skf = StratifiedKFold(n_splits=k, shuffle=True, random_state=42)\n",
    "results = []\n",
    "CV_OUTPUT_DIR = \"./results_finetuned_bible_cv\"\n",
    "os.makedirs(CV_OUTPUT_DIR, exist_ok=True)\n",
    "\n",
    "for fold, (train_idx, test_idx) in enumerate(skf.split(df['verse'], df['label'])):\n",
    "    print(f\"\\n=== Fold {fold+1}/{k} ===\")\n",
    "    df_train, df_test = df.iloc[train_idx].copy(), df.iloc[test_idx].copy()\n",
    "\n",
    "    # --- OPTIONAL OVERSAMPLING ---\n",
    "    # max_n = df_train['label'].value_counts().max()\n",
    "    # dfs = []\n",
    "    # for label in df_train['label'].unique():\n",
    "    #     df_label = df_train[df_train['label'] == label]\n",
    "    #     dfs.append(resample(df_label, replace=True, n_samples=max_n, random_state=fold))\n",
    "    # df_train = pd.concat(dfs).sample(frac=1, random_state=fold).reset_index(drop=True)\n",
    "    # print(\"Balanced train label counts:\\n\", df_train['label'].value_counts())\n",
    "\n",
    "    # --- Build datasets (renaming for HF compatibility) ---\n",
    "    ds = DatasetDict({\n",
    "        \"train\": Dataset.from_pandas(df_train[['verse', 'label']].rename(columns={'verse': 'text', 'label': 'labels'}), preserve_index=False),\n",
    "        \"test\": Dataset.from_pandas(df_test[['verse', 'label']].rename(columns={'verse': 'text', 'label': 'labels'}), preserve_index=False),\n",
    "    })\n",
    "\n",
    "    # --- Tokenizer and model ---\n",
    "    tokenizer = AutoTokenizer.from_pretrained(\"SamLowe/roberta-base-go_emotions\")\n",
    "    model = AutoModelForSequenceClassification.from_pretrained(\n",
    "        \"SamLowe/roberta-base-go_emotions\",\n",
    "        num_labels=len(label_list),\n",
    "        id2label=id2label,\n",
    "        label2id=label2id,\n",
    "        ignore_mismatched_sizes=True\n",
    "    )\n",
    "    model.config.problem_type = \"single_label_classification\"\n",
    "\n",
    "    def preprocess_function(examples):\n",
    "        return tokenizer(examples[\"text\"], truncation=True, padding=True)\n",
    "\n",
    "    tokenized_datasets = ds.map(preprocess_function, batched=True, remove_columns=[\"text\"])\n",
    "\n",
    "    # Define unique subfolder for this fold:\n",
    "    fold_output_dir = os.path.join(CV_OUTPUT_DIR, f\"fold_{fold+1}\")\n",
    "\n",
    "    # --- Training arguments ---\n",
    "    training_args = TrainingArguments(\n",
    "        output_dir=fold_output_dir,\n",
    "        evaluation_strategy=\"epoch\",\n",
    "        learning_rate=1e-5,\n",
    "        per_device_train_batch_size=16,\n",
    "        per_device_eval_batch_size=32,\n",
    "        gradient_accumulation_steps=1,\n",
    "        num_train_epochs=4,\n",
    "        weight_decay=0.05,\n",
    "        warmup_ratio=0.1,\n",
    "        lr_scheduler_type=\"linear\",\n",
    "        save_strategy=\"epoch\",\n",
    "        load_best_model_at_end=True,\n",
    "        metric_for_best_model=\"macro_f1\",\n",
    "        greater_is_better=True,\n",
    "        save_total_limit=2,\n",
    "        logging_strategy=\"no\",\n",
    "        report_to=\"none\",\n",
    "        seed=42 + fold,\n",
    "        push_to_hub=False,\n",
    "        disable_tqdm=True,\n",
    "    )\n",
    "\n",
    "    # --- Metrics ---\n",
    "    def compute_metrics(pred):\n",
    "        preds = np.argmax(pred.predictions, axis=1)\n",
    "        labels = pred.label_ids\n",
    "        report = classification_report(labels, preds, target_names=[id2label[i] for i in range(len(label_list))], output_dict=True, zero_division=0)\n",
    "        macro_f1 = report[\"macro avg\"][\"f1-score\"]\n",
    "        print(f\"\\nFold {fold+1} - Macro F1: {macro_f1:.3f}\")\n",
    "        return {\"macro_f1\": macro_f1}\n",
    "\n",
    "    # --- Trainer ---\n",
    "    trainer = Trainer(\n",
    "        model=model,\n",
    "        args=training_args,\n",
    "        train_dataset=tokenized_datasets[\"train\"],\n",
    "        eval_dataset=tokenized_datasets[\"test\"],\n",
    "        compute_metrics=compute_metrics,\n",
    "        tokenizer=tokenizer,\n",
    "        callbacks=[EarlyStoppingCallback(early_stopping_patience=1)]\n",
    "    )\n",
    "\n",
    "    trainer.train()\n",
    "    metrics = trainer.evaluate()\n",
    "    results.append(metrics)\n",
    "\n",
    "# --- Show CV results ---\n",
    "macro_f1s = [r[\"eval_macro_f1\"] for r in results]\n",
    "print(f\"\\n=== Cross-validation results ({k} folds) ===\")\n",
    "print(f\"Macro F1 per fold: {macro_f1s}\")\n",
    "print(f\"Mean Macro F1: {np.mean(macro_f1s):.3f} | Std: {np.std(macro_f1s):.3f}\")"
   ]
  },
  {
   "cell_type": "markdown",
   "id": "b065d2f2",
   "metadata": {},
   "source": [
    "### Train model"
   ]
  },
  {
   "cell_type": "code",
   "execution_count": null,
   "id": "26bc44f7",
   "metadata": {},
   "outputs": [
    {
     "name": "stderr",
     "output_type": "stream",
     "text": [
      "c:\\Users\\manue\\miniconda3\\envs\\LinguaAnimae\\lib\\site-packages\\huggingface_hub\\file_download.py:943: FutureWarning: `resume_download` is deprecated and will be removed in version 1.0.0. Downloads always resume when possible. If you want to force a new download, use `force_download=True`.\n",
      "  warnings.warn(\n",
      "Map: 100%|██████████| 4201/4201 [00:00<00:00, 28540.72 examples/s]\n",
      "Map: 100%|██████████| 467/467 [00:00<00:00, 27416.05 examples/s]\n",
      "Some weights of RobertaForSequenceClassification were not initialized from the model checkpoint at SamLowe/roberta-base-go_emotions and are newly initialized because the shapes did not match:\n",
      "- classifier.out_proj.bias: found shape torch.Size([28]) in the checkpoint and torch.Size([7]) in the model instantiated\n",
      "- classifier.out_proj.weight: found shape torch.Size([28, 768]) in the checkpoint and torch.Size([7, 768]) in the model instantiated\n",
      "You should probably TRAIN this model on a down-stream task to be able to use it for predictions and inference.\n",
      "[I 2025-05-22 16:38:51,068] A new study created in memory with name: no-name-79e61370-33ef-4989-ad53-0062b5fcf6f6\n",
      "C:\\Users\\manue\\AppData\\Local\\Temp\\ipykernel_20228\\3717613184.py:103: FutureWarning: suggest_loguniform has been deprecated in v3.0.0. This feature will be removed in v6.0.0. See https://github.com/optuna/optuna/releases/tag/v3.0.0. Use suggest_float(..., log=True) instead.\n",
      "  \"learning_rate\": trial.suggest_loguniform(\"learning_rate\", 5e-6, 5e-5),\n",
      "C:\\Users\\manue\\AppData\\Local\\Temp\\ipykernel_20228\\3717613184.py:105: FutureWarning: suggest_uniform has been deprecated in v3.0.0. This feature will be removed in v6.0.0. See https://github.com/optuna/optuna/releases/tag/v3.0.0. Use suggest_float instead.\n",
      "  \"weight_decay\": trial.suggest_uniform(\"weight_decay\", 0.01, 0.2),\n",
      "C:\\Users\\manue\\AppData\\Local\\Temp\\ipykernel_20228\\3717613184.py:107: FutureWarning: suggest_uniform has been deprecated in v3.0.0. This feature will be removed in v6.0.0. See https://github.com/optuna/optuna/releases/tag/v3.0.0. Use suggest_float instead.\n",
      "  \"warmup_ratio\": trial.suggest_uniform(\"warmup_ratio\", 0.05, 0.3),\n",
      "Some weights of RobertaForSequenceClassification were not initialized from the model checkpoint at SamLowe/roberta-base-go_emotions and are newly initialized because the shapes did not match:\n",
      "- classifier.out_proj.bias: found shape torch.Size([28]) in the checkpoint and torch.Size([7]) in the model instantiated\n",
      "- classifier.out_proj.weight: found shape torch.Size([28, 768]) in the checkpoint and torch.Size([7, 768]) in the model instantiated\n",
      "You should probably TRAIN this model on a down-stream task to be able to use it for predictions and inference.\n"
     ]
    },
    {
     "name": "stdout",
     "output_type": "stream",
     "text": [
      "{'eval_loss': 1.3512872457504272, 'eval_macro_f1': 0.5336871936678567, 'eval_runtime': 1.1217, 'eval_samples_per_second': 416.32, 'eval_steps_per_second': 52.597, 'epoch': 1.0}\n",
      "{'eval_loss': 1.3972855806350708, 'eval_macro_f1': 0.5553369206662758, 'eval_runtime': 1.0556, 'eval_samples_per_second': 442.405, 'eval_steps_per_second': 55.893, 'epoch': 2.0}\n",
      "{'eval_loss': 1.3545697927474976, 'eval_macro_f1': 0.5875955828693602, 'eval_runtime': 1.1696, 'eval_samples_per_second': 399.299, 'eval_steps_per_second': 50.447, 'epoch': 3.0}\n"
     ]
    },
    {
     "name": "stderr",
     "output_type": "stream",
     "text": [
      "[I 2025-05-22 16:41:49,355] Trial 0 finished with value: 0.5875955828693602 and parameters: {'learning_rate': 2.8565372096246107e-05, 'per_device_train_batch_size': 8, 'weight_decay': 0.1520324634212461, 'num_train_epochs': 3, 'warmup_ratio': 0.15507908973551848}. Best is trial 0 with value: 0.5875955828693602.\n"
     ]
    },
    {
     "name": "stdout",
     "output_type": "stream",
     "text": [
      "{'train_runtime': 177.1025, 'train_samples_per_second': 71.162, 'train_steps_per_second': 8.91, 'train_loss': 1.171286231211383, 'epoch': 3.0}\n"
     ]
    },
    {
     "name": "stderr",
     "output_type": "stream",
     "text": [
      "C:\\Users\\manue\\AppData\\Local\\Temp\\ipykernel_20228\\3717613184.py:103: FutureWarning: suggest_loguniform has been deprecated in v3.0.0. This feature will be removed in v6.0.0. See https://github.com/optuna/optuna/releases/tag/v3.0.0. Use suggest_float(..., log=True) instead.\n",
      "  \"learning_rate\": trial.suggest_loguniform(\"learning_rate\", 5e-6, 5e-5),\n",
      "C:\\Users\\manue\\AppData\\Local\\Temp\\ipykernel_20228\\3717613184.py:105: FutureWarning: suggest_uniform has been deprecated in v3.0.0. This feature will be removed in v6.0.0. See https://github.com/optuna/optuna/releases/tag/v3.0.0. Use suggest_float instead.\n",
      "  \"weight_decay\": trial.suggest_uniform(\"weight_decay\", 0.01, 0.2),\n",
      "C:\\Users\\manue\\AppData\\Local\\Temp\\ipykernel_20228\\3717613184.py:107: FutureWarning: suggest_uniform has been deprecated in v3.0.0. This feature will be removed in v6.0.0. See https://github.com/optuna/optuna/releases/tag/v3.0.0. Use suggest_float instead.\n",
      "  \"warmup_ratio\": trial.suggest_uniform(\"warmup_ratio\", 0.05, 0.3),\n",
      "c:\\Users\\manue\\miniconda3\\envs\\LinguaAnimae\\lib\\site-packages\\huggingface_hub\\file_download.py:943: FutureWarning: `resume_download` is deprecated and will be removed in version 1.0.0. Downloads always resume when possible. If you want to force a new download, use `force_download=True`.\n",
      "  warnings.warn(\n",
      "Some weights of RobertaForSequenceClassification were not initialized from the model checkpoint at SamLowe/roberta-base-go_emotions and are newly initialized because the shapes did not match:\n",
      "- classifier.out_proj.bias: found shape torch.Size([28]) in the checkpoint and torch.Size([7]) in the model instantiated\n",
      "- classifier.out_proj.weight: found shape torch.Size([28, 768]) in the checkpoint and torch.Size([7, 768]) in the model instantiated\n",
      "You should probably TRAIN this model on a down-stream task to be able to use it for predictions and inference.\n"
     ]
    },
    {
     "name": "stdout",
     "output_type": "stream",
     "text": [
      "{'eval_loss': 1.5102078914642334, 'eval_macro_f1': 0.4656350938839389, 'eval_runtime': 1.0263, 'eval_samples_per_second': 455.033, 'eval_steps_per_second': 57.488, 'epoch': 1.0}\n",
      "{'eval_loss': 1.3114269971847534, 'eval_macro_f1': 0.5229418887355713, 'eval_runtime': 1.0063, 'eval_samples_per_second': 464.079, 'eval_steps_per_second': 58.631, 'epoch': 2.0}\n",
      "{'eval_loss': 1.3155972957611084, 'eval_macro_f1': 0.5260052940811846, 'eval_runtime': 1.0213, 'eval_samples_per_second': 457.267, 'eval_steps_per_second': 57.77, 'epoch': 3.0}\n",
      "{'eval_loss': 1.285971760749817, 'eval_macro_f1': 0.5421604282832766, 'eval_runtime': 1.0784, 'eval_samples_per_second': 433.063, 'eval_steps_per_second': 54.712, 'epoch': 4.0}\n",
      "{'eval_loss': 1.3062623739242554, 'eval_macro_f1': 0.5396345613866683, 'eval_runtime': 1.0039, 'eval_samples_per_second': 465.189, 'eval_steps_per_second': 58.771, 'epoch': 5.0}\n"
     ]
    },
    {
     "name": "stderr",
     "output_type": "stream",
     "text": [
      "[I 2025-05-22 16:45:22,786] Trial 1 finished with value: 0.5396345613866683 and parameters: {'learning_rate': 1.1093604704913161e-05, 'per_device_train_batch_size': 16, 'weight_decay': 0.18669697246049655, 'num_train_epochs': 6, 'warmup_ratio': 0.1301442060230436}. Best is trial 0 with value: 0.5875955828693602.\n"
     ]
    },
    {
     "name": "stdout",
     "output_type": "stream",
     "text": [
      "{'train_runtime': 212.123, 'train_samples_per_second': 118.827, 'train_steps_per_second': 7.439, 'train_loss': 1.1981747007188688, 'epoch': 5.0}\n"
     ]
    },
    {
     "name": "stderr",
     "output_type": "stream",
     "text": [
      "C:\\Users\\manue\\AppData\\Local\\Temp\\ipykernel_20228\\3717613184.py:103: FutureWarning: suggest_loguniform has been deprecated in v3.0.0. This feature will be removed in v6.0.0. See https://github.com/optuna/optuna/releases/tag/v3.0.0. Use suggest_float(..., log=True) instead.\n",
      "  \"learning_rate\": trial.suggest_loguniform(\"learning_rate\", 5e-6, 5e-5),\n",
      "C:\\Users\\manue\\AppData\\Local\\Temp\\ipykernel_20228\\3717613184.py:105: FutureWarning: suggest_uniform has been deprecated in v3.0.0. This feature will be removed in v6.0.0. See https://github.com/optuna/optuna/releases/tag/v3.0.0. Use suggest_float instead.\n",
      "  \"weight_decay\": trial.suggest_uniform(\"weight_decay\", 0.01, 0.2),\n",
      "C:\\Users\\manue\\AppData\\Local\\Temp\\ipykernel_20228\\3717613184.py:107: FutureWarning: suggest_uniform has been deprecated in v3.0.0. This feature will be removed in v6.0.0. See https://github.com/optuna/optuna/releases/tag/v3.0.0. Use suggest_float instead.\n",
      "  \"warmup_ratio\": trial.suggest_uniform(\"warmup_ratio\", 0.05, 0.3),\n",
      "c:\\Users\\manue\\miniconda3\\envs\\LinguaAnimae\\lib\\site-packages\\huggingface_hub\\file_download.py:943: FutureWarning: `resume_download` is deprecated and will be removed in version 1.0.0. Downloads always resume when possible. If you want to force a new download, use `force_download=True`.\n",
      "  warnings.warn(\n",
      "Some weights of RobertaForSequenceClassification were not initialized from the model checkpoint at SamLowe/roberta-base-go_emotions and are newly initialized because the shapes did not match:\n",
      "- classifier.out_proj.bias: found shape torch.Size([28]) in the checkpoint and torch.Size([7]) in the model instantiated\n",
      "- classifier.out_proj.weight: found shape torch.Size([28, 768]) in the checkpoint and torch.Size([7, 768]) in the model instantiated\n",
      "You should probably TRAIN this model on a down-stream task to be able to use it for predictions and inference.\n"
     ]
    },
    {
     "name": "stdout",
     "output_type": "stream",
     "text": [
      "{'eval_loss': 1.429334282875061, 'eval_macro_f1': 0.5026479194596626, 'eval_runtime': 1.0983, 'eval_samples_per_second': 425.201, 'eval_steps_per_second': 53.719, 'epoch': 1.0}\n",
      "{'eval_loss': 1.5222171545028687, 'eval_macro_f1': 0.5157023799166275, 'eval_runtime': 1.0494, 'eval_samples_per_second': 445.022, 'eval_steps_per_second': 56.223, 'epoch': 2.0}\n",
      "{'eval_loss': 1.3666542768478394, 'eval_macro_f1': 0.563220396971986, 'eval_runtime': 1.0569, 'eval_samples_per_second': 441.858, 'eval_steps_per_second': 55.824, 'epoch': 3.0}\n",
      "{'eval_loss': 1.5264618396759033, 'eval_macro_f1': 0.5406975387703971, 'eval_runtime': 1.0849, 'eval_samples_per_second': 430.474, 'eval_steps_per_second': 54.385, 'epoch': 4.0}\n"
     ]
    },
    {
     "name": "stderr",
     "output_type": "stream",
     "text": [
      "[I 2025-05-22 16:49:19,964] Trial 2 finished with value: 0.5406975387703971 and parameters: {'learning_rate': 1.651107555019886e-05, 'per_device_train_batch_size': 8, 'weight_decay': 0.10026445193460166, 'num_train_epochs': 5, 'warmup_ratio': 0.2241324851366805}. Best is trial 0 with value: 0.5875955828693602.\n"
     ]
    },
    {
     "name": "stdout",
     "output_type": "stream",
     "text": [
      "{'train_runtime': 235.9951, 'train_samples_per_second': 89.006, 'train_steps_per_second': 11.144, 'train_loss': 1.1618515420775903, 'epoch': 4.0}\n"
     ]
    },
    {
     "name": "stderr",
     "output_type": "stream",
     "text": [
      "C:\\Users\\manue\\AppData\\Local\\Temp\\ipykernel_20228\\3717613184.py:103: FutureWarning: suggest_loguniform has been deprecated in v3.0.0. This feature will be removed in v6.0.0. See https://github.com/optuna/optuna/releases/tag/v3.0.0. Use suggest_float(..., log=True) instead.\n",
      "  \"learning_rate\": trial.suggest_loguniform(\"learning_rate\", 5e-6, 5e-5),\n",
      "C:\\Users\\manue\\AppData\\Local\\Temp\\ipykernel_20228\\3717613184.py:105: FutureWarning: suggest_uniform has been deprecated in v3.0.0. This feature will be removed in v6.0.0. See https://github.com/optuna/optuna/releases/tag/v3.0.0. Use suggest_float instead.\n",
      "  \"weight_decay\": trial.suggest_uniform(\"weight_decay\", 0.01, 0.2),\n",
      "C:\\Users\\manue\\AppData\\Local\\Temp\\ipykernel_20228\\3717613184.py:107: FutureWarning: suggest_uniform has been deprecated in v3.0.0. This feature will be removed in v6.0.0. See https://github.com/optuna/optuna/releases/tag/v3.0.0. Use suggest_float instead.\n",
      "  \"warmup_ratio\": trial.suggest_uniform(\"warmup_ratio\", 0.05, 0.3),\n",
      "c:\\Users\\manue\\miniconda3\\envs\\LinguaAnimae\\lib\\site-packages\\huggingface_hub\\file_download.py:943: FutureWarning: `resume_download` is deprecated and will be removed in version 1.0.0. Downloads always resume when possible. If you want to force a new download, use `force_download=True`.\n",
      "  warnings.warn(\n",
      "Some weights of RobertaForSequenceClassification were not initialized from the model checkpoint at SamLowe/roberta-base-go_emotions and are newly initialized because the shapes did not match:\n",
      "- classifier.out_proj.bias: found shape torch.Size([28]) in the checkpoint and torch.Size([7]) in the model instantiated\n",
      "- classifier.out_proj.weight: found shape torch.Size([28, 768]) in the checkpoint and torch.Size([7, 768]) in the model instantiated\n",
      "You should probably TRAIN this model on a down-stream task to be able to use it for predictions and inference.\n"
     ]
    },
    {
     "name": "stdout",
     "output_type": "stream",
     "text": [
      "{'eval_loss': 1.693599820137024, 'eval_macro_f1': 0.34819049720870937, 'eval_runtime': 1.0047, 'eval_samples_per_second': 464.793, 'eval_steps_per_second': 58.721, 'epoch': 1.0}\n",
      "{'eval_loss': 1.4136009216308594, 'eval_macro_f1': 0.4909466102852259, 'eval_runtime': 1.2082, 'eval_samples_per_second': 386.524, 'eval_steps_per_second': 48.833, 'epoch': 2.0}\n",
      "{'eval_loss': 1.326451063156128, 'eval_macro_f1': 0.5127441487731369, 'eval_runtime': 1.1203, 'eval_samples_per_second': 416.871, 'eval_steps_per_second': 52.667, 'epoch': 3.0}\n",
      "{'eval_loss': 1.3102108240127563, 'eval_macro_f1': 0.5175472714825481, 'eval_runtime': 1.1457, 'eval_samples_per_second': 407.608, 'eval_steps_per_second': 51.497, 'epoch': 4.0}\n",
      "{'eval_loss': 1.275063395500183, 'eval_macro_f1': 0.5278566806039315, 'eval_runtime': 0.9628, 'eval_samples_per_second': 485.036, 'eval_steps_per_second': 61.279, 'epoch': 5.0}\n",
      "{'eval_loss': 1.2871828079223633, 'eval_macro_f1': 0.5363878497069622, 'eval_runtime': 1.106, 'eval_samples_per_second': 422.239, 'eval_steps_per_second': 53.345, 'epoch': 6.0}\n"
     ]
    },
    {
     "name": "stderr",
     "output_type": "stream",
     "text": [
      "[I 2025-05-22 16:53:35,588] Trial 3 finished with value: 0.5363878497069622 and parameters: {'learning_rate': 9.771312466238737e-06, 'per_device_train_batch_size': 32, 'weight_decay': 0.018110870275613096, 'num_train_epochs': 6, 'warmup_ratio': 0.1706721366010407}. Best is trial 0 with value: 0.5875955828693602.\n"
     ]
    },
    {
     "name": "stdout",
     "output_type": "stream",
     "text": [
      "{'train_runtime': 254.299, 'train_samples_per_second': 99.12, 'train_steps_per_second': 3.114, 'train_loss': 1.3018808075875947, 'epoch': 6.0}\n"
     ]
    },
    {
     "name": "stderr",
     "output_type": "stream",
     "text": [
      "C:\\Users\\manue\\AppData\\Local\\Temp\\ipykernel_20228\\3717613184.py:103: FutureWarning: suggest_loguniform has been deprecated in v3.0.0. This feature will be removed in v6.0.0. See https://github.com/optuna/optuna/releases/tag/v3.0.0. Use suggest_float(..., log=True) instead.\n",
      "  \"learning_rate\": trial.suggest_loguniform(\"learning_rate\", 5e-6, 5e-5),\n",
      "C:\\Users\\manue\\AppData\\Local\\Temp\\ipykernel_20228\\3717613184.py:105: FutureWarning: suggest_uniform has been deprecated in v3.0.0. This feature will be removed in v6.0.0. See https://github.com/optuna/optuna/releases/tag/v3.0.0. Use suggest_float instead.\n",
      "  \"weight_decay\": trial.suggest_uniform(\"weight_decay\", 0.01, 0.2),\n",
      "C:\\Users\\manue\\AppData\\Local\\Temp\\ipykernel_20228\\3717613184.py:107: FutureWarning: suggest_uniform has been deprecated in v3.0.0. This feature will be removed in v6.0.0. See https://github.com/optuna/optuna/releases/tag/v3.0.0. Use suggest_float instead.\n",
      "  \"warmup_ratio\": trial.suggest_uniform(\"warmup_ratio\", 0.05, 0.3),\n",
      "c:\\Users\\manue\\miniconda3\\envs\\LinguaAnimae\\lib\\site-packages\\huggingface_hub\\file_download.py:943: FutureWarning: `resume_download` is deprecated and will be removed in version 1.0.0. Downloads always resume when possible. If you want to force a new download, use `force_download=True`.\n",
      "  warnings.warn(\n",
      "Some weights of RobertaForSequenceClassification were not initialized from the model checkpoint at SamLowe/roberta-base-go_emotions and are newly initialized because the shapes did not match:\n",
      "- classifier.out_proj.bias: found shape torch.Size([28]) in the checkpoint and torch.Size([7]) in the model instantiated\n",
      "- classifier.out_proj.weight: found shape torch.Size([28, 768]) in the checkpoint and torch.Size([7, 768]) in the model instantiated\n",
      "You should probably TRAIN this model on a down-stream task to be able to use it for predictions and inference.\n"
     ]
    },
    {
     "name": "stdout",
     "output_type": "stream",
     "text": [
      "{'eval_loss': 1.4004838466644287, 'eval_macro_f1': 0.4938832418306983, 'eval_runtime': 0.9634, 'eval_samples_per_second': 484.726, 'eval_steps_per_second': 61.24, 'epoch': 1.0}\n",
      "{'eval_loss': 1.3792047500610352, 'eval_macro_f1': 0.49773626771999296, 'eval_runtime': 1.0223, 'eval_samples_per_second': 456.828, 'eval_steps_per_second': 57.715, 'epoch': 2.0}\n",
      "{'eval_loss': 1.2851860523223877, 'eval_macro_f1': 0.5319067652528984, 'eval_runtime': 1.0392, 'eval_samples_per_second': 449.393, 'eval_steps_per_second': 56.776, 'epoch': 3.0}\n",
      "{'eval_loss': 1.3053597211837769, 'eval_macro_f1': 0.5407902312496108, 'eval_runtime': 0.9871, 'eval_samples_per_second': 473.107, 'eval_steps_per_second': 59.771, 'epoch': 4.0}\n"
     ]
    },
    {
     "name": "stderr",
     "output_type": "stream",
     "text": [
      "[I 2025-05-22 16:56:04,687] Trial 4 finished with value: 0.5407902312496108 and parameters: {'learning_rate': 2.4848646169118866e-05, 'per_device_train_batch_size': 32, 'weight_decay': 0.18826731751506576, 'num_train_epochs': 4, 'warmup_ratio': 0.0826615095792551}. Best is trial 0 with value: 0.5875955828693602.\n"
     ]
    },
    {
     "name": "stdout",
     "output_type": "stream",
     "text": [
      "{'train_runtime': 147.8716, 'train_samples_per_second': 113.639, 'train_steps_per_second': 3.571, 'train_loss': 1.1709479129675664, 'epoch': 4.0}\n"
     ]
    },
    {
     "name": "stderr",
     "output_type": "stream",
     "text": [
      "C:\\Users\\manue\\AppData\\Local\\Temp\\ipykernel_20228\\3717613184.py:103: FutureWarning: suggest_loguniform has been deprecated in v3.0.0. This feature will be removed in v6.0.0. See https://github.com/optuna/optuna/releases/tag/v3.0.0. Use suggest_float(..., log=True) instead.\n",
      "  \"learning_rate\": trial.suggest_loguniform(\"learning_rate\", 5e-6, 5e-5),\n",
      "C:\\Users\\manue\\AppData\\Local\\Temp\\ipykernel_20228\\3717613184.py:105: FutureWarning: suggest_uniform has been deprecated in v3.0.0. This feature will be removed in v6.0.0. See https://github.com/optuna/optuna/releases/tag/v3.0.0. Use suggest_float instead.\n",
      "  \"weight_decay\": trial.suggest_uniform(\"weight_decay\", 0.01, 0.2),\n",
      "C:\\Users\\manue\\AppData\\Local\\Temp\\ipykernel_20228\\3717613184.py:107: FutureWarning: suggest_uniform has been deprecated in v3.0.0. This feature will be removed in v6.0.0. See https://github.com/optuna/optuna/releases/tag/v3.0.0. Use suggest_float instead.\n",
      "  \"warmup_ratio\": trial.suggest_uniform(\"warmup_ratio\", 0.05, 0.3),\n",
      "c:\\Users\\manue\\miniconda3\\envs\\LinguaAnimae\\lib\\site-packages\\huggingface_hub\\file_download.py:943: FutureWarning: `resume_download` is deprecated and will be removed in version 1.0.0. Downloads always resume when possible. If you want to force a new download, use `force_download=True`.\n",
      "  warnings.warn(\n",
      "Some weights of RobertaForSequenceClassification were not initialized from the model checkpoint at SamLowe/roberta-base-go_emotions and are newly initialized because the shapes did not match:\n",
      "- classifier.out_proj.bias: found shape torch.Size([28]) in the checkpoint and torch.Size([7]) in the model instantiated\n",
      "- classifier.out_proj.weight: found shape torch.Size([28, 768]) in the checkpoint and torch.Size([7, 768]) in the model instantiated\n",
      "You should probably TRAIN this model on a down-stream task to be able to use it for predictions and inference.\n"
     ]
    },
    {
     "name": "stdout",
     "output_type": "stream",
     "text": [
      "{'eval_loss': 1.3355891704559326, 'eval_macro_f1': 0.5236936641537591, 'eval_runtime': 1.0964, 'eval_samples_per_second': 425.933, 'eval_steps_per_second': 53.812, 'epoch': 1.0}\n"
     ]
    },
    {
     "name": "stderr",
     "output_type": "stream",
     "text": [
      "[I 2025-05-22 16:58:05,576] Trial 5 pruned. \n"
     ]
    },
    {
     "name": "stdout",
     "output_type": "stream",
     "text": [
      "{'eval_loss': 1.3019590377807617, 'eval_macro_f1': 0.5152020300703416, 'eval_runtime': 1.2476, 'eval_samples_per_second': 374.329, 'eval_steps_per_second': 47.292, 'epoch': 2.0}\n"
     ]
    },
    {
     "name": "stderr",
     "output_type": "stream",
     "text": [
      "C:\\Users\\manue\\AppData\\Local\\Temp\\ipykernel_20228\\3717613184.py:103: FutureWarning: suggest_loguniform has been deprecated in v3.0.0. This feature will be removed in v6.0.0. See https://github.com/optuna/optuna/releases/tag/v3.0.0. Use suggest_float(..., log=True) instead.\n",
      "  \"learning_rate\": trial.suggest_loguniform(\"learning_rate\", 5e-6, 5e-5),\n",
      "C:\\Users\\manue\\AppData\\Local\\Temp\\ipykernel_20228\\3717613184.py:105: FutureWarning: suggest_uniform has been deprecated in v3.0.0. This feature will be removed in v6.0.0. See https://github.com/optuna/optuna/releases/tag/v3.0.0. Use suggest_float instead.\n",
      "  \"weight_decay\": trial.suggest_uniform(\"weight_decay\", 0.01, 0.2),\n",
      "C:\\Users\\manue\\AppData\\Local\\Temp\\ipykernel_20228\\3717613184.py:107: FutureWarning: suggest_uniform has been deprecated in v3.0.0. This feature will be removed in v6.0.0. See https://github.com/optuna/optuna/releases/tag/v3.0.0. Use suggest_float instead.\n",
      "  \"warmup_ratio\": trial.suggest_uniform(\"warmup_ratio\", 0.05, 0.3),\n",
      "c:\\Users\\manue\\miniconda3\\envs\\LinguaAnimae\\lib\\site-packages\\huggingface_hub\\file_download.py:943: FutureWarning: `resume_download` is deprecated and will be removed in version 1.0.0. Downloads always resume when possible. If you want to force a new download, use `force_download=True`.\n",
      "  warnings.warn(\n",
      "Some weights of RobertaForSequenceClassification were not initialized from the model checkpoint at SamLowe/roberta-base-go_emotions and are newly initialized because the shapes did not match:\n",
      "- classifier.out_proj.bias: found shape torch.Size([28]) in the checkpoint and torch.Size([7]) in the model instantiated\n",
      "- classifier.out_proj.weight: found shape torch.Size([28, 768]) in the checkpoint and torch.Size([7, 768]) in the model instantiated\n",
      "You should probably TRAIN this model on a down-stream task to be able to use it for predictions and inference.\n",
      "[I 2025-05-22 16:59:14,337] Trial 6 pruned. \n"
     ]
    },
    {
     "name": "stdout",
     "output_type": "stream",
     "text": [
      "{'eval_loss': 1.5825048685073853, 'eval_macro_f1': 0.43728183432503737, 'eval_runtime': 1.2416, 'eval_samples_per_second': 376.129, 'eval_steps_per_second': 47.52, 'epoch': 1.0}\n"
     ]
    },
    {
     "name": "stderr",
     "output_type": "stream",
     "text": [
      "C:\\Users\\manue\\AppData\\Local\\Temp\\ipykernel_20228\\3717613184.py:103: FutureWarning: suggest_loguniform has been deprecated in v3.0.0. This feature will be removed in v6.0.0. See https://github.com/optuna/optuna/releases/tag/v3.0.0. Use suggest_float(..., log=True) instead.\n",
      "  \"learning_rate\": trial.suggest_loguniform(\"learning_rate\", 5e-6, 5e-5),\n",
      "C:\\Users\\manue\\AppData\\Local\\Temp\\ipykernel_20228\\3717613184.py:105: FutureWarning: suggest_uniform has been deprecated in v3.0.0. This feature will be removed in v6.0.0. See https://github.com/optuna/optuna/releases/tag/v3.0.0. Use suggest_float instead.\n",
      "  \"weight_decay\": trial.suggest_uniform(\"weight_decay\", 0.01, 0.2),\n",
      "C:\\Users\\manue\\AppData\\Local\\Temp\\ipykernel_20228\\3717613184.py:107: FutureWarning: suggest_uniform has been deprecated in v3.0.0. This feature will be removed in v6.0.0. See https://github.com/optuna/optuna/releases/tag/v3.0.0. Use suggest_float instead.\n",
      "  \"warmup_ratio\": trial.suggest_uniform(\"warmup_ratio\", 0.05, 0.3),\n",
      "c:\\Users\\manue\\miniconda3\\envs\\LinguaAnimae\\lib\\site-packages\\huggingface_hub\\file_download.py:943: FutureWarning: `resume_download` is deprecated and will be removed in version 1.0.0. Downloads always resume when possible. If you want to force a new download, use `force_download=True`.\n",
      "  warnings.warn(\n",
      "Some weights of RobertaForSequenceClassification were not initialized from the model checkpoint at SamLowe/roberta-base-go_emotions and are newly initialized because the shapes did not match:\n",
      "- classifier.out_proj.bias: found shape torch.Size([28]) in the checkpoint and torch.Size([7]) in the model instantiated\n",
      "- classifier.out_proj.weight: found shape torch.Size([28, 768]) in the checkpoint and torch.Size([7, 768]) in the model instantiated\n",
      "You should probably TRAIN this model on a down-stream task to be able to use it for predictions and inference.\n"
     ]
    },
    {
     "name": "stdout",
     "output_type": "stream",
     "text": [
      "{'eval_loss': 1.4803084135055542, 'eval_macro_f1': 0.4686323228340555, 'eval_runtime': 1.2703, 'eval_samples_per_second': 367.63, 'eval_steps_per_second': 46.446, 'epoch': 1.0}\n"
     ]
    },
    {
     "name": "stderr",
     "output_type": "stream",
     "text": [
      "[I 2025-05-22 17:00:53,668] Trial 7 pruned. \n"
     ]
    },
    {
     "name": "stdout",
     "output_type": "stream",
     "text": [
      "{'eval_loss': 1.3307396173477173, 'eval_macro_f1': 0.4934179101528435, 'eval_runtime': 1.2253, 'eval_samples_per_second': 381.141, 'eval_steps_per_second': 48.153, 'epoch': 2.0}\n"
     ]
    },
    {
     "name": "stderr",
     "output_type": "stream",
     "text": [
      "C:\\Users\\manue\\AppData\\Local\\Temp\\ipykernel_20228\\3717613184.py:103: FutureWarning: suggest_loguniform has been deprecated in v3.0.0. This feature will be removed in v6.0.0. See https://github.com/optuna/optuna/releases/tag/v3.0.0. Use suggest_float(..., log=True) instead.\n",
      "  \"learning_rate\": trial.suggest_loguniform(\"learning_rate\", 5e-6, 5e-5),\n",
      "C:\\Users\\manue\\AppData\\Local\\Temp\\ipykernel_20228\\3717613184.py:105: FutureWarning: suggest_uniform has been deprecated in v3.0.0. This feature will be removed in v6.0.0. See https://github.com/optuna/optuna/releases/tag/v3.0.0. Use suggest_float instead.\n",
      "  \"weight_decay\": trial.suggest_uniform(\"weight_decay\", 0.01, 0.2),\n",
      "C:\\Users\\manue\\AppData\\Local\\Temp\\ipykernel_20228\\3717613184.py:107: FutureWarning: suggest_uniform has been deprecated in v3.0.0. This feature will be removed in v6.0.0. See https://github.com/optuna/optuna/releases/tag/v3.0.0. Use suggest_float instead.\n",
      "  \"warmup_ratio\": trial.suggest_uniform(\"warmup_ratio\", 0.05, 0.3),\n",
      "c:\\Users\\manue\\miniconda3\\envs\\LinguaAnimae\\lib\\site-packages\\huggingface_hub\\file_download.py:943: FutureWarning: `resume_download` is deprecated and will be removed in version 1.0.0. Downloads always resume when possible. If you want to force a new download, use `force_download=True`.\n",
      "  warnings.warn(\n",
      "Some weights of RobertaForSequenceClassification were not initialized from the model checkpoint at SamLowe/roberta-base-go_emotions and are newly initialized because the shapes did not match:\n",
      "- classifier.out_proj.bias: found shape torch.Size([28]) in the checkpoint and torch.Size([7]) in the model instantiated\n",
      "- classifier.out_proj.weight: found shape torch.Size([28, 768]) in the checkpoint and torch.Size([7, 768]) in the model instantiated\n",
      "You should probably TRAIN this model on a down-stream task to be able to use it for predictions and inference.\n",
      "[I 2025-05-22 17:02:01,824] Trial 8 pruned. \n"
     ]
    },
    {
     "name": "stdout",
     "output_type": "stream",
     "text": [
      "{'eval_loss': 1.4085928201675415, 'eval_macro_f1': 0.5061261159816469, 'eval_runtime': 1.168, 'eval_samples_per_second': 399.817, 'eval_steps_per_second': 50.512, 'epoch': 1.0}\n"
     ]
    },
    {
     "name": "stderr",
     "output_type": "stream",
     "text": [
      "C:\\Users\\manue\\AppData\\Local\\Temp\\ipykernel_20228\\3717613184.py:103: FutureWarning: suggest_loguniform has been deprecated in v3.0.0. This feature will be removed in v6.0.0. See https://github.com/optuna/optuna/releases/tag/v3.0.0. Use suggest_float(..., log=True) instead.\n",
      "  \"learning_rate\": trial.suggest_loguniform(\"learning_rate\", 5e-6, 5e-5),\n",
      "C:\\Users\\manue\\AppData\\Local\\Temp\\ipykernel_20228\\3717613184.py:105: FutureWarning: suggest_uniform has been deprecated in v3.0.0. This feature will be removed in v6.0.0. See https://github.com/optuna/optuna/releases/tag/v3.0.0. Use suggest_float instead.\n",
      "  \"weight_decay\": trial.suggest_uniform(\"weight_decay\", 0.01, 0.2),\n",
      "C:\\Users\\manue\\AppData\\Local\\Temp\\ipykernel_20228\\3717613184.py:107: FutureWarning: suggest_uniform has been deprecated in v3.0.0. This feature will be removed in v6.0.0. See https://github.com/optuna/optuna/releases/tag/v3.0.0. Use suggest_float instead.\n",
      "  \"warmup_ratio\": trial.suggest_uniform(\"warmup_ratio\", 0.05, 0.3),\n",
      "c:\\Users\\manue\\miniconda3\\envs\\LinguaAnimae\\lib\\site-packages\\huggingface_hub\\file_download.py:943: FutureWarning: `resume_download` is deprecated and will be removed in version 1.0.0. Downloads always resume when possible. If you want to force a new download, use `force_download=True`.\n",
      "  warnings.warn(\n",
      "Some weights of RobertaForSequenceClassification were not initialized from the model checkpoint at SamLowe/roberta-base-go_emotions and are newly initialized because the shapes did not match:\n",
      "- classifier.out_proj.bias: found shape torch.Size([28]) in the checkpoint and torch.Size([7]) in the model instantiated\n",
      "- classifier.out_proj.weight: found shape torch.Size([28, 768]) in the checkpoint and torch.Size([7, 768]) in the model instantiated\n",
      "You should probably TRAIN this model on a down-stream task to be able to use it for predictions and inference.\n"
     ]
    },
    {
     "name": "stdout",
     "output_type": "stream",
     "text": [
      "{'eval_loss': 1.3845349550247192, 'eval_macro_f1': 0.5271371870331334, 'eval_runtime': 1.2531, 'eval_samples_per_second': 372.685, 'eval_steps_per_second': 47.084, 'epoch': 1.0}\n"
     ]
    },
    {
     "name": "stderr",
     "output_type": "stream",
     "text": [
      "[I 2025-05-22 17:04:18,213] Trial 9 pruned. \n",
      "C:\\Users\\manue\\AppData\\Local\\Temp\\ipykernel_20228\\3717613184.py:103: FutureWarning: suggest_loguniform has been deprecated in v3.0.0. This feature will be removed in v6.0.0. See https://github.com/optuna/optuna/releases/tag/v3.0.0. Use suggest_float(..., log=True) instead.\n",
      "  \"learning_rate\": trial.suggest_loguniform(\"learning_rate\", 5e-6, 5e-5),\n",
      "C:\\Users\\manue\\AppData\\Local\\Temp\\ipykernel_20228\\3717613184.py:105: FutureWarning: suggest_uniform has been deprecated in v3.0.0. This feature will be removed in v6.0.0. See https://github.com/optuna/optuna/releases/tag/v3.0.0. Use suggest_float instead.\n",
      "  \"weight_decay\": trial.suggest_uniform(\"weight_decay\", 0.01, 0.2),\n",
      "C:\\Users\\manue\\AppData\\Local\\Temp\\ipykernel_20228\\3717613184.py:107: FutureWarning: suggest_uniform has been deprecated in v3.0.0. This feature will be removed in v6.0.0. See https://github.com/optuna/optuna/releases/tag/v3.0.0. Use suggest_float instead.\n",
      "  \"warmup_ratio\": trial.suggest_uniform(\"warmup_ratio\", 0.05, 0.3),\n",
      "c:\\Users\\manue\\miniconda3\\envs\\LinguaAnimae\\lib\\site-packages\\huggingface_hub\\file_download.py:943: FutureWarning: `resume_download` is deprecated and will be removed in version 1.0.0. Downloads always resume when possible. If you want to force a new download, use `force_download=True`.\n",
      "  warnings.warn(\n"
     ]
    },
    {
     "name": "stdout",
     "output_type": "stream",
     "text": [
      "{'eval_loss': 1.5449179410934448, 'eval_macro_f1': 0.4863804096564023, 'eval_runtime': 1.266, 'eval_samples_per_second': 368.874, 'eval_steps_per_second': 46.603, 'epoch': 2.0}\n"
     ]
    },
    {
     "name": "stderr",
     "output_type": "stream",
     "text": [
      "Some weights of RobertaForSequenceClassification were not initialized from the model checkpoint at SamLowe/roberta-base-go_emotions and are newly initialized because the shapes did not match:\n",
      "- classifier.out_proj.bias: found shape torch.Size([28]) in the checkpoint and torch.Size([7]) in the model instantiated\n",
      "- classifier.out_proj.weight: found shape torch.Size([28, 768]) in the checkpoint and torch.Size([7, 768]) in the model instantiated\n",
      "You should probably TRAIN this model on a down-stream task to be able to use it for predictions and inference.\n"
     ]
    },
    {
     "name": "stdout",
     "output_type": "stream",
     "text": [
      "{'eval_loss': 1.4386560916900635, 'eval_macro_f1': 0.48957777296474464, 'eval_runtime': 1.1549, 'eval_samples_per_second': 404.36, 'eval_steps_per_second': 51.086, 'epoch': 1.0}\n",
      "{'eval_loss': 1.3083316087722778, 'eval_macro_f1': 0.5295057272558998, 'eval_runtime': 1.2516, 'eval_samples_per_second': 373.132, 'eval_steps_per_second': 47.141, 'epoch': 2.0}\n"
     ]
    },
    {
     "name": "stderr",
     "output_type": "stream",
     "text": [
      "[I 2025-05-22 17:05:53,756] Trial 10 finished with value: 0.5295057272558998 and parameters: {'learning_rate': 4.9005165900071115e-05, 'per_device_train_batch_size': 16, 'weight_decay': 0.14083193970602434, 'num_train_epochs': 2, 'warmup_ratio': 0.29059616269688127}. Best is trial 0 with value: 0.5875955828693602.\n"
     ]
    },
    {
     "name": "stdout",
     "output_type": "stream",
     "text": [
      "{'train_runtime': 94.1172, 'train_samples_per_second': 89.272, 'train_steps_per_second': 5.589, 'train_loss': 1.3764617107666943, 'epoch': 2.0}\n"
     ]
    },
    {
     "name": "stderr",
     "output_type": "stream",
     "text": [
      "C:\\Users\\manue\\AppData\\Local\\Temp\\ipykernel_20228\\3717613184.py:103: FutureWarning: suggest_loguniform has been deprecated in v3.0.0. This feature will be removed in v6.0.0. See https://github.com/optuna/optuna/releases/tag/v3.0.0. Use suggest_float(..., log=True) instead.\n",
      "  \"learning_rate\": trial.suggest_loguniform(\"learning_rate\", 5e-6, 5e-5),\n",
      "C:\\Users\\manue\\AppData\\Local\\Temp\\ipykernel_20228\\3717613184.py:105: FutureWarning: suggest_uniform has been deprecated in v3.0.0. This feature will be removed in v6.0.0. See https://github.com/optuna/optuna/releases/tag/v3.0.0. Use suggest_float instead.\n",
      "  \"weight_decay\": trial.suggest_uniform(\"weight_decay\", 0.01, 0.2),\n",
      "C:\\Users\\manue\\AppData\\Local\\Temp\\ipykernel_20228\\3717613184.py:107: FutureWarning: suggest_uniform has been deprecated in v3.0.0. This feature will be removed in v6.0.0. See https://github.com/optuna/optuna/releases/tag/v3.0.0. Use suggest_float instead.\n",
      "  \"warmup_ratio\": trial.suggest_uniform(\"warmup_ratio\", 0.05, 0.3),\n",
      "c:\\Users\\manue\\miniconda3\\envs\\LinguaAnimae\\lib\\site-packages\\huggingface_hub\\file_download.py:943: FutureWarning: `resume_download` is deprecated and will be removed in version 1.0.0. Downloads always resume when possible. If you want to force a new download, use `force_download=True`.\n",
      "  warnings.warn(\n",
      "Some weights of RobertaForSequenceClassification were not initialized from the model checkpoint at SamLowe/roberta-base-go_emotions and are newly initialized because the shapes did not match:\n",
      "- classifier.out_proj.bias: found shape torch.Size([28]) in the checkpoint and torch.Size([7]) in the model instantiated\n",
      "- classifier.out_proj.weight: found shape torch.Size([28, 768]) in the checkpoint and torch.Size([7, 768]) in the model instantiated\n",
      "You should probably TRAIN this model on a down-stream task to be able to use it for predictions and inference.\n"
     ]
    },
    {
     "name": "stdout",
     "output_type": "stream",
     "text": [
      "{'eval_loss': 1.434134602546692, 'eval_macro_f1': 0.471564210099132, 'eval_runtime': 6.66, 'eval_samples_per_second': 70.121, 'eval_steps_per_second': 8.859, 'epoch': 1.0}\n",
      "{'eval_loss': 1.3484305143356323, 'eval_macro_f1': 0.5116044082829408, 'eval_runtime': 1.0835, 'eval_samples_per_second': 431.023, 'eval_steps_per_second': 54.455, 'epoch': 2.0}\n",
      "{'eval_loss': 1.2762686014175415, 'eval_macro_f1': 0.522903594700364, 'eval_runtime': 1.0394, 'eval_samples_per_second': 449.314, 'eval_steps_per_second': 56.766, 'epoch': 3.0}\n"
     ]
    },
    {
     "name": "stderr",
     "output_type": "stream",
     "text": [
      "[I 2025-05-22 17:43:30,193] Trial 11 finished with value: 0.522903594700364 and parameters: {'learning_rate': 2.95409341691837e-05, 'per_device_train_batch_size': 32, 'weight_decay': 0.14007855656259008, 'num_train_epochs': 3, 'warmup_ratio': 0.15501180740969348}. Best is trial 0 with value: 0.5875955828693602.\n"
     ]
    },
    {
     "name": "stdout",
     "output_type": "stream",
     "text": [
      "{'train_runtime': 2255.0899, 'train_samples_per_second': 5.589, 'train_steps_per_second': 0.176, 'train_loss': 1.2937447904336332, 'epoch': 3.0}\n"
     ]
    },
    {
     "name": "stderr",
     "output_type": "stream",
     "text": [
      "C:\\Users\\manue\\AppData\\Local\\Temp\\ipykernel_20228\\3717613184.py:103: FutureWarning: suggest_loguniform has been deprecated in v3.0.0. This feature will be removed in v6.0.0. See https://github.com/optuna/optuna/releases/tag/v3.0.0. Use suggest_float(..., log=True) instead.\n",
      "  \"learning_rate\": trial.suggest_loguniform(\"learning_rate\", 5e-6, 5e-5),\n",
      "C:\\Users\\manue\\AppData\\Local\\Temp\\ipykernel_20228\\3717613184.py:105: FutureWarning: suggest_uniform has been deprecated in v3.0.0. This feature will be removed in v6.0.0. See https://github.com/optuna/optuna/releases/tag/v3.0.0. Use suggest_float instead.\n",
      "  \"weight_decay\": trial.suggest_uniform(\"weight_decay\", 0.01, 0.2),\n",
      "C:\\Users\\manue\\AppData\\Local\\Temp\\ipykernel_20228\\3717613184.py:107: FutureWarning: suggest_uniform has been deprecated in v3.0.0. This feature will be removed in v6.0.0. See https://github.com/optuna/optuna/releases/tag/v3.0.0. Use suggest_float instead.\n",
      "  \"warmup_ratio\": trial.suggest_uniform(\"warmup_ratio\", 0.05, 0.3),\n",
      "c:\\Users\\manue\\miniconda3\\envs\\LinguaAnimae\\lib\\site-packages\\huggingface_hub\\file_download.py:943: FutureWarning: `resume_download` is deprecated and will be removed in version 1.0.0. Downloads always resume when possible. If you want to force a new download, use `force_download=True`.\n",
      "  warnings.warn(\n",
      "Some weights of RobertaForSequenceClassification were not initialized from the model checkpoint at SamLowe/roberta-base-go_emotions and are newly initialized because the shapes did not match:\n",
      "- classifier.out_proj.bias: found shape torch.Size([28]) in the checkpoint and torch.Size([7]) in the model instantiated\n",
      "- classifier.out_proj.weight: found shape torch.Size([28, 768]) in the checkpoint and torch.Size([7, 768]) in the model instantiated\n",
      "You should probably TRAIN this model on a down-stream task to be able to use it for predictions and inference.\n"
     ]
    },
    {
     "name": "stdout",
     "output_type": "stream",
     "text": [
      "{'eval_loss': 1.3918997049331665, 'eval_macro_f1': 0.49692759866464215, 'eval_runtime': 0.9784, 'eval_samples_per_second': 477.334, 'eval_steps_per_second': 60.306, 'epoch': 1.0}\n",
      "{'eval_loss': 1.3514472246170044, 'eval_macro_f1': 0.5290934215314448, 'eval_runtime': 1.0604, 'eval_samples_per_second': 440.407, 'eval_steps_per_second': 55.64, 'epoch': 2.0}\n",
      "{'eval_loss': 1.3275753259658813, 'eval_macro_f1': 0.561188663892431, 'eval_runtime': 1.0124, 'eval_samples_per_second': 461.284, 'eval_steps_per_second': 58.278, 'epoch': 3.0}\n"
     ]
    },
    {
     "name": "stderr",
     "output_type": "stream",
     "text": [
      "[I 2025-05-22 17:45:57,067] Trial 12 finished with value: 0.561188663892431 and parameters: {'learning_rate': 4.7555372259544704e-05, 'per_device_train_batch_size': 32, 'weight_decay': 0.15048274084579505, 'num_train_epochs': 3, 'warmup_ratio': 0.054758446946915146}. Best is trial 0 with value: 0.5875955828693602.\n"
     ]
    },
    {
     "name": "stdout",
     "output_type": "stream",
     "text": [
      "{'train_runtime': 145.1979, 'train_samples_per_second': 86.799, 'train_steps_per_second': 2.727, 'train_loss': 1.1716801036487927, 'epoch': 3.0}\n"
     ]
    },
    {
     "name": "stderr",
     "output_type": "stream",
     "text": [
      "C:\\Users\\manue\\AppData\\Local\\Temp\\ipykernel_20228\\3717613184.py:103: FutureWarning: suggest_loguniform has been deprecated in v3.0.0. This feature will be removed in v6.0.0. See https://github.com/optuna/optuna/releases/tag/v3.0.0. Use suggest_float(..., log=True) instead.\n",
      "  \"learning_rate\": trial.suggest_loguniform(\"learning_rate\", 5e-6, 5e-5),\n",
      "C:\\Users\\manue\\AppData\\Local\\Temp\\ipykernel_20228\\3717613184.py:105: FutureWarning: suggest_uniform has been deprecated in v3.0.0. This feature will be removed in v6.0.0. See https://github.com/optuna/optuna/releases/tag/v3.0.0. Use suggest_float instead.\n",
      "  \"weight_decay\": trial.suggest_uniform(\"weight_decay\", 0.01, 0.2),\n",
      "C:\\Users\\manue\\AppData\\Local\\Temp\\ipykernel_20228\\3717613184.py:107: FutureWarning: suggest_uniform has been deprecated in v3.0.0. This feature will be removed in v6.0.0. See https://github.com/optuna/optuna/releases/tag/v3.0.0. Use suggest_float instead.\n",
      "  \"warmup_ratio\": trial.suggest_uniform(\"warmup_ratio\", 0.05, 0.3),\n",
      "c:\\Users\\manue\\miniconda3\\envs\\LinguaAnimae\\lib\\site-packages\\huggingface_hub\\file_download.py:943: FutureWarning: `resume_download` is deprecated and will be removed in version 1.0.0. Downloads always resume when possible. If you want to force a new download, use `force_download=True`.\n",
      "  warnings.warn(\n",
      "Some weights of RobertaForSequenceClassification were not initialized from the model checkpoint at SamLowe/roberta-base-go_emotions and are newly initialized because the shapes did not match:\n",
      "- classifier.out_proj.bias: found shape torch.Size([28]) in the checkpoint and torch.Size([7]) in the model instantiated\n",
      "- classifier.out_proj.weight: found shape torch.Size([28, 768]) in the checkpoint and torch.Size([7, 768]) in the model instantiated\n",
      "You should probably TRAIN this model on a down-stream task to be able to use it for predictions and inference.\n"
     ]
    },
    {
     "name": "stdout",
     "output_type": "stream",
     "text": [
      "{'eval_loss': 1.4048488140106201, 'eval_macro_f1': 0.5128207392929862, 'eval_runtime': 1.2178, 'eval_samples_per_second': 383.465, 'eval_steps_per_second': 48.446, 'epoch': 1.0}\n",
      "{'eval_loss': 1.3138655424118042, 'eval_macro_f1': 0.5409460910170208, 'eval_runtime': 1.0524, 'eval_samples_per_second': 443.738, 'eval_steps_per_second': 56.061, 'epoch': 2.0}\n",
      "{'eval_loss': 1.340652346611023, 'eval_macro_f1': 0.5615022881704169, 'eval_runtime': 1.0349, 'eval_samples_per_second': 451.271, 'eval_steps_per_second': 57.013, 'epoch': 3.0}\n"
     ]
    },
    {
     "name": "stderr",
     "output_type": "stream",
     "text": [
      "[I 2025-05-22 17:47:55,863] Trial 13 finished with value: 0.5615022881704169 and parameters: {'learning_rate': 4.919626106752525e-05, 'per_device_train_batch_size': 32, 'weight_decay': 0.13498600154919835, 'num_train_epochs': 3, 'warmup_ratio': 0.05302774562686064}. Best is trial 0 with value: 0.5875955828693602.\n"
     ]
    },
    {
     "name": "stdout",
     "output_type": "stream",
     "text": [
      "{'train_runtime': 117.5866, 'train_samples_per_second': 107.181, 'train_steps_per_second': 3.368, 'train_loss': 1.1628242261482007, 'epoch': 3.0}\n"
     ]
    },
    {
     "name": "stderr",
     "output_type": "stream",
     "text": [
      "C:\\Users\\manue\\AppData\\Local\\Temp\\ipykernel_20228\\3717613184.py:103: FutureWarning: suggest_loguniform has been deprecated in v3.0.0. This feature will be removed in v6.0.0. See https://github.com/optuna/optuna/releases/tag/v3.0.0. Use suggest_float(..., log=True) instead.\n",
      "  \"learning_rate\": trial.suggest_loguniform(\"learning_rate\", 5e-6, 5e-5),\n",
      "C:\\Users\\manue\\AppData\\Local\\Temp\\ipykernel_20228\\3717613184.py:105: FutureWarning: suggest_uniform has been deprecated in v3.0.0. This feature will be removed in v6.0.0. See https://github.com/optuna/optuna/releases/tag/v3.0.0. Use suggest_float instead.\n",
      "  \"weight_decay\": trial.suggest_uniform(\"weight_decay\", 0.01, 0.2),\n",
      "C:\\Users\\manue\\AppData\\Local\\Temp\\ipykernel_20228\\3717613184.py:107: FutureWarning: suggest_uniform has been deprecated in v3.0.0. This feature will be removed in v6.0.0. See https://github.com/optuna/optuna/releases/tag/v3.0.0. Use suggest_float instead.\n",
      "  \"warmup_ratio\": trial.suggest_uniform(\"warmup_ratio\", 0.05, 0.3),\n",
      "c:\\Users\\manue\\miniconda3\\envs\\LinguaAnimae\\lib\\site-packages\\huggingface_hub\\file_download.py:943: FutureWarning: `resume_download` is deprecated and will be removed in version 1.0.0. Downloads always resume when possible. If you want to force a new download, use `force_download=True`.\n",
      "  warnings.warn(\n",
      "Some weights of RobertaForSequenceClassification were not initialized from the model checkpoint at SamLowe/roberta-base-go_emotions and are newly initialized because the shapes did not match:\n",
      "- classifier.out_proj.bias: found shape torch.Size([28]) in the checkpoint and torch.Size([7]) in the model instantiated\n",
      "- classifier.out_proj.weight: found shape torch.Size([28, 768]) in the checkpoint and torch.Size([7, 768]) in the model instantiated\n",
      "You should probably TRAIN this model on a down-stream task to be able to use it for predictions and inference.\n"
     ]
    },
    {
     "name": "stdout",
     "output_type": "stream",
     "text": [
      "{'eval_loss': 1.3975582122802734, 'eval_macro_f1': 0.4990766042923013, 'eval_runtime': 1.0822, 'eval_samples_per_second': 431.529, 'eval_steps_per_second': 54.519, 'epoch': 1.0}\n",
      "{'eval_loss': 1.3249746561050415, 'eval_macro_f1': 0.5434772929655916, 'eval_runtime': 1.0236, 'eval_samples_per_second': 456.243, 'eval_steps_per_second': 57.641, 'epoch': 2.0}\n",
      "{'eval_loss': 1.3012622594833374, 'eval_macro_f1': 0.5238022371107206, 'eval_runtime': 1.2056, 'eval_samples_per_second': 387.357, 'eval_steps_per_second': 48.938, 'epoch': 3.0}\n"
     ]
    },
    {
     "name": "stderr",
     "output_type": "stream",
     "text": [
      "[I 2025-05-22 17:49:52,288] Trial 14 finished with value: 0.5238022371107206 and parameters: {'learning_rate': 3.895624004367539e-05, 'per_device_train_batch_size': 32, 'weight_decay': 0.06046769797739507, 'num_train_epochs': 3, 'warmup_ratio': 0.19541287168645272}. Best is trial 0 with value: 0.5875955828693602.\n"
     ]
    },
    {
     "name": "stdout",
     "output_type": "stream",
     "text": [
      "{'train_runtime': 115.2516, 'train_samples_per_second': 109.352, 'train_steps_per_second': 3.436, 'train_loss': 1.2507203227341777, 'epoch': 3.0}\n",
      "Best trial: BestRun(run_id='0', objective=0.5875955828693602, hyperparameters={'learning_rate': 2.8565372096246107e-05, 'per_device_train_batch_size': 8, 'weight_decay': 0.1520324634212461, 'num_train_epochs': 3, 'warmup_ratio': 0.15507908973551848}, run_summary=None)\n"
     ]
    },
    {
     "name": "stderr",
     "output_type": "stream",
     "text": [
      "c:\\Users\\manue\\miniconda3\\envs\\LinguaAnimae\\lib\\site-packages\\huggingface_hub\\file_download.py:943: FutureWarning: `resume_download` is deprecated and will be removed in version 1.0.0. Downloads always resume when possible. If you want to force a new download, use `force_download=True`.\n",
      "  warnings.warn(\n",
      "Some weights of RobertaForSequenceClassification were not initialized from the model checkpoint at SamLowe/roberta-base-go_emotions and are newly initialized because the shapes did not match:\n",
      "- classifier.out_proj.bias: found shape torch.Size([28]) in the checkpoint and torch.Size([7]) in the model instantiated\n",
      "- classifier.out_proj.weight: found shape torch.Size([28, 768]) in the checkpoint and torch.Size([7, 768]) in the model instantiated\n",
      "You should probably TRAIN this model on a down-stream task to be able to use it for predictions and inference.\n"
     ]
    },
    {
     "name": "stdout",
     "output_type": "stream",
     "text": [
      "{'eval_loss': 1.3512872457504272, 'eval_macro_f1': 0.5336871936678567, 'eval_runtime': 1.114, 'eval_samples_per_second': 419.214, 'eval_steps_per_second': 52.963, 'epoch': 1.0}\n",
      "{'eval_loss': 1.3972855806350708, 'eval_macro_f1': 0.5553369206662758, 'eval_runtime': 1.6292, 'eval_samples_per_second': 286.636, 'eval_steps_per_second': 36.213, 'epoch': 2.0}\n",
      "{'eval_loss': 1.3545697927474976, 'eval_macro_f1': 0.5875955828693602, 'eval_runtime': 1.2569, 'eval_samples_per_second': 371.548, 'eval_steps_per_second': 46.941, 'epoch': 3.0}\n",
      "{'train_runtime': 206.1826, 'train_samples_per_second': 61.125, 'train_steps_per_second': 7.653, 'train_loss': 1.171286231211383, 'epoch': 3.0}\n",
      "✅ Fine-tuning with Optuna completed and model saved as 'src/fine_tuning/finetuned-goemotions-bible-optuna/'\n"
     ]
    }
   ],
   "source": [
    "import pandas as pd\n",
    "from datasets import Dataset, DatasetDict\n",
    "from transformers import AutoTokenizer, AutoModelForSequenceClassification, TrainingArguments, EarlyStoppingCallback\n",
    "import numpy as np\n",
    "from sklearn.metrics import classification_report\n",
    "import torch\n",
    "import torch.nn.functional as F\n",
    "from transformers import Trainer\n",
    "import optuna\n",
    "\n",
    "# --- 1. Load and shuffle data ---\n",
    "df = pd.read_csv(\"../data/evaluation/verses_parsed/emotion_verses_labeled_combined.csv\")\n",
    "df = df.sample(frac=1, random_state=42).reset_index(drop=True)\n",
    "\n",
    "# 2. Mapping and validation\n",
    "EMOTION_MAP = {\n",
    "    \"joy\": \"Alegría\",\n",
    "    \"sadness\": \"Tristeza\",\n",
    "    \"anger\": \"Ira\",\n",
    "    \"fear\": \"Miedo\",\n",
    "    \"surprise\": \"Sorpresa\",\n",
    "    \"disgust\": \"Asco\",\n",
    "    \"neutral\": \"Neutral\"\n",
    "}\n",
    "label_list = list(EMOTION_MAP.keys())\n",
    "label2id = {l: i for i, l in enumerate(label_list)}\n",
    "id2label = {i: l for i, l in enumerate(label_list)}\n",
    "df['label'] = df['label'].str.strip().str.lower()\n",
    "invalid_labels = set(df['label'].unique()) - set(label_list)\n",
    "if invalid_labels:\n",
    "    print(f\"❌ ERROR: Detected invalid labels: {invalid_labels}\")\n",
    "    raise ValueError(\"Your CSV contains labels not present in the expected set.\")\n",
    "df['label'] = df['label'].map(label2id).astype(int)\n",
    "\n",
    "# --- 3. Split into train/test ---\n",
    "split = int(len(df) * 0.9)\n",
    "df_train = df.iloc[:split].copy()\n",
    "df_test = df.iloc[split:].copy()\n",
    "\n",
    "# --- 4. Build datasets ---\n",
    "df_train['label'] = df_train['label'].astype(int)\n",
    "df_test['label'] = df_test['label'].astype(int)\n",
    "ds = DatasetDict({\n",
    "    \"train\": Dataset.from_pandas(df_train[['verse', 'label']].rename(columns={'verse': 'text', 'label': 'labels'}), preserve_index=False),\n",
    "    \"test\": Dataset.from_pandas(df_test[['verse', 'label']].rename(columns={'verse': 'text', 'label': 'labels'}), preserve_index=False),\n",
    "})\n",
    "\n",
    "# --- 5. Tokenizer ---\n",
    "tokenizer = AutoTokenizer.from_pretrained(\"SamLowe/roberta-base-go_emotions\")\n",
    "\n",
    "def preprocess_function(examples):\n",
    "    return tokenizer(examples[\"text\"], truncation=True, padding=True)\n",
    "\n",
    "tokenized_datasets = ds.map(preprocess_function, batched=True, remove_columns=[\"text\"])\n",
    "\n",
    "# --- 6. Custom WeightedTrainer (sin pesos) ---\n",
    "class WeightedTrainer(Trainer):\n",
    "    def __init__(self, *args, **kwargs):\n",
    "        super().__init__(*args, **kwargs)\n",
    "\n",
    "    def compute_loss(self, model, inputs, return_outputs=False):\n",
    "        labels = inputs.get(\"labels\", None)\n",
    "        outputs = model(**inputs)\n",
    "        logits = outputs.get(\"logits\", None)\n",
    "        if labels is not None and logits is not None:\n",
    "            if not isinstance(labels, torch.Tensor):\n",
    "                labels = torch.tensor(labels)\n",
    "            labels = labels.to(logits.device).long()\n",
    "            # No usar pesos de clase, usar CrossEntropyLoss sin pesos\n",
    "            loss_fct = torch.nn.CrossEntropyLoss()  # Sin pesos de clase\n",
    "            loss = loss_fct(logits.view(-1, model.config.num_labels), labels.view(-1))\n",
    "            return (loss, outputs) if return_outputs else loss\n",
    "        return (0.0, outputs) if return_outputs else 0.0\n",
    "\n",
    "# --- 7. Metrics ---\n",
    "def compute_metrics(pred):\n",
    "    preds = np.argmax(pred.predictions, axis=1)\n",
    "    labels = pred.label_ids\n",
    "    report = classification_report(labels, preds, target_names=[id2label[i] for i in range(len(label_list))], output_dict=True, zero_division=0)\n",
    "    macro_f1 = report[\"macro avg\"][\"f1-score\"]\n",
    "    return {\"macro_f1\": macro_f1}\n",
    "\n",
    "# --- 8. TrainingArguments ---\n",
    "training_args = TrainingArguments(\n",
    "    output_dir=\"./results_finetuned_bible_optuna\",\n",
    "    evaluation_strategy=\"epoch\",\n",
    "    lr_scheduler_type=\"linear\",\n",
    "    save_strategy=\"epoch\",\n",
    "    load_best_model_at_end=True,\n",
    "    metric_for_best_model=\"macro_f1\",\n",
    "    greater_is_better=True,\n",
    "    save_total_limit=2,\n",
    "    logging_strategy=\"no\",\n",
    "    report_to=\"none\",\n",
    "    seed=42,\n",
    "    push_to_hub=False,\n",
    "    disable_tqdm=True,\n",
    ")\n",
    "\n",
    "# --- 9. Optuna search space ---\n",
    "def optuna_hp_space(trial):\n",
    "    return {\n",
    "        \"learning_rate\": trial.suggest_float(\"learning_rate\", 5e-6, 5e-5, log=True),  # Optimización logarítmica\n",
    "        \"per_device_train_batch_size\": trial.suggest_categorical(\"per_device_train_batch_size\", [8, 16, 32]),\n",
    "        \"weight_decay\": trial.suggest_float(\"weight_decay\", 0.01, 0.2),\n",
    "        \"num_train_epochs\": trial.suggest_int(\"num_train_epochs\", 2, 6),\n",
    "        \"warmup_ratio\": trial.suggest_float(\"warmup_ratio\", 0.05, 0.3),\n",
    "        \"gamma\": trial.suggest_float(\"gamma\", 1.5, 3.5),  # Si estás usando focal loss\n",
    "        \"alpha\": trial.suggest_float(\"alpha\", 0.8, 1.2),  # Si estás usando focal loss\n",
    "    }\n",
    "\n",
    "# --- 10. Trainer ---\n",
    "trainer = WeightedTrainer(\n",
    "    model_init=model_init,\n",
    "    args=training_args,\n",
    "    train_dataset=tokenized_datasets[\"train\"],\n",
    "    eval_dataset=tokenized_datasets[\"test\"],\n",
    "    compute_metrics=compute_metrics,\n",
    "    tokenizer=tokenizer,\n",
    "    callbacks=[EarlyStoppingCallback(early_stopping_patience=1)]\n",
    ")\n",
    "\n",
    "# --- 11. Run Optuna hyperparameter search ---\n",
    "best_run = trainer.hyperparameter_search(\n",
    "    direction=\"maximize\",\n",
    "    n_trials=20, \n",
    "    hp_space=optuna_hp_space\n",
    ")\n",
    "\n",
    "print(f\"Best trial: {best_run}\")\n",
    "\n",
    "# --- 12. Final training with best hyperparameters ---\n",
    "for key, value in best_run.hyperparameters.items():\n",
    "    setattr(trainer.args, key, value)\n",
    "    if key == \"alpha\":\n",
    "        trainer.alpha = value\n",
    "    if key == \"gamma\":\n",
    "        trainer.gamma = value\n",
    "\n",
    "trainer.train()\n",
    "trainer.save_model(\"../src/fine_tuning/finetuned-goemotions-bible-optuna\")\n"
   ]
  },
  {
   "cell_type": "markdown",
   "id": "12a75c53",
   "metadata": {},
   "source": [
    "# 6️⃣ Evaluation and Comparison"
   ]
  },
  {
   "cell_type": "markdown",
   "id": "caf6e645",
   "metadata": {},
   "source": [
    "## 5. Evaluation of the Fine-tuned Model\n",
    "\n",
    "Here we analyze the results and compare to previous models.\n",
    "- Macro F1 score on the test set\n",
    "- Confusion matrix\n",
    "- Distribution of predictions\n"
   ]
  },
  {
   "cell_type": "code",
   "execution_count": 46,
   "id": "47c47441",
   "metadata": {},
   "outputs": [
    {
     "name": "stdout",
     "output_type": "stream",
     "text": [
      "=== Classification Report ===\n",
      "              precision    recall  f1-score   support\n",
      "\n",
      "         joy      0.634     0.686     0.659        86\n",
      "     sadness      0.554     0.631     0.590        65\n",
      "       anger      0.661     0.549     0.600        71\n",
      "        fear      0.500     0.632     0.558        38\n",
      "    surprise      0.442     0.590     0.505        39\n",
      "     disgust      0.565     0.448     0.500        29\n",
      "     neutral      0.763     0.647     0.700       139\n",
      "\n",
      "    accuracy                          0.619       467\n",
      "   macro avg      0.589     0.598     0.588       467\n",
      "weighted avg      0.634     0.619     0.622       467\n",
      "\n"
     ]
    },
    {
     "data": {
      "image/png": "[encoded data removed]",
      "text/plain": [
       "<Figure size 800x600 with 2 Axes>"
      ]
     },
     "metadata": {},
     "output_type": "display_data"
    }
   ],
   "source": [
    "# --- EVALUATION OF THE FINE-TUNED MODEL ---\n",
    "\n",
    "import numpy as np\n",
    "from sklearn.metrics import classification_report, confusion_matrix\n",
    "import seaborn as sns\n",
    "import matplotlib.pyplot as plt\n",
    "\n",
    "# Get predictions on the test set\n",
    "preds = trainer.predict(tokenized_datasets[\"test\"])\n",
    "y_true = preds.label_ids\n",
    "y_pred = np.argmax(preds.predictions, axis=1)\n",
    "\n",
    "# Classification report\n",
    "print(\"=== Classification Report ===\")\n",
    "print(classification_report(\n",
    "    y_true, y_pred,\n",
    "    target_names=[id2label[i] for i in range(len(label_list))],\n",
    "    digits=3,\n",
    "    zero_division=0\n",
    "))\n",
    "\n",
    "# Confusion matrix\n",
    "cm = confusion_matrix(y_true, y_pred)\n",
    "plt.figure(figsize=(8, 6))\n",
    "sns.heatmap(cm, annot=True, fmt='d',\n",
    "            xticklabels=[id2label[i] for i in range(len(label_list))],\n",
    "            yticklabels=[id2label[i] for i in range(len(label_list))],\n",
    "            cmap='Blues')\n",
    "plt.title(\"Confusion Matrix - Fine-tuned Model\")\n",
    "plt.xlabel(\"Predicted\")\n",
    "plt.ylabel(\"True\")\n",
    "plt.tight_layout()\n",
    "plt.show()\n"
   ]
  },
  {
   "cell_type": "code",
   "execution_count": 14,
   "id": "82ac1a34",
   "metadata": {},
   "outputs": [
    {
     "name": "stdout",
     "output_type": "stream",
     "text": [
      "=== False Negatives for 'disgust' ===\n",
      "               verse_id                                              verse  \\\n",
      "3421     jeremiah_16_19  O LORD, my strength, and my fortress, and my r...   \n",
      "3434       isaiah_42_19  Who is blind, but my servant? or deaf, as my m...   \n",
      "3445       nehemiah_4_3  Now Tobiah the Ammonite was by him, and he sai...   \n",
      "3454          john_8_53  Art thou greater than our father Abraham, whic...   \n",
      "3487      psalms_135_18  They that make them are like unto them: so is ...   \n",
      "3534      jeremiah_9_13  And the LORD saith, Because they have forsaken...   \n",
      "3574  1_chronicles_5_25  And they transgressed against the God of their...   \n",
      "3601         mark_12_38  And he said unto them in his doctrine, Beware ...   \n",
      "3669          mark_8_21  And he said unto them, How is it that ye do no...   \n",
      "3673      jeremiah_17_5  Thus saith the LORD; Cursed be the man that tr...   \n",
      "\n",
      "     true_label predicted_label  \n",
      "3421    disgust             joy  \n",
      "3434    disgust         sadness  \n",
      "3445    disgust           anger  \n",
      "3454    disgust         sadness  \n",
      "3487    disgust             joy  \n",
      "3534    disgust           anger  \n",
      "3574    disgust           anger  \n",
      "3601    disgust            fear  \n",
      "3669    disgust         neutral  \n",
      "3673    disgust           anger  \n"
     ]
    }
   ],
   "source": [
    "import pandas as pd\n",
    "import numpy as np\n",
    "\n",
    "def extract_misclassifications(df_test, y_true, y_pred, id2label, top_n=10):\n",
    "    \"\"\"\n",
    "    Extract false positives and false negatives per class.\n",
    "\n",
    "    Args:\n",
    "        df_test (pd.DataFrame): DataFrame with test data, must have 'verse' and 'verse_id'.\n",
    "        y_true (np.array): True labels (ints).\n",
    "        y_pred (np.array): Predicted labels (ints).\n",
    "        id2label (dict): Mapping from label id to label name.\n",
    "        top_n (int): Number of examples to extract per error type and class.\n",
    "\n",
    "    Returns:\n",
    "        dict: {class_label: {'false_positives': DataFrame, 'false_negatives': DataFrame}}\n",
    "    \"\"\"\n",
    "    results = {}\n",
    "\n",
    "    for label_id, label_name in id2label.items():\n",
    "        # False positives: predicted as label but true label different\n",
    "        fp_mask = (y_pred == label_id) & (y_true != label_id)\n",
    "        fp_examples = df_test[fp_mask]\n",
    "        fp_examples = fp_examples.assign(\n",
    "            true_label=[id2label[t] for t in y_true[fp_mask]],\n",
    "            predicted_label=label_name,\n",
    "            error_type='false_positive'\n",
    "        ).head(top_n)\n",
    "\n",
    "        # False negatives: true label is label but predicted different\n",
    "        fn_mask = (y_true == label_id) & (y_pred != label_id)\n",
    "        fn_examples = df_test[fn_mask]\n",
    "        fn_examples = fn_examples.assign(\n",
    "            true_label=label_name,\n",
    "            predicted_label=[id2label[p] for p in y_pred[fn_mask]],\n",
    "            error_type='false_negative'\n",
    "        ).head(top_n)\n",
    "\n",
    "        results[label_name] = {\n",
    "            'false_positives': fp_examples,\n",
    "            'false_negatives': fn_examples\n",
    "        }\n",
    "\n",
    "    return results\n",
    "\n",
    "# Uso ejemplo (tras evaluación):\n",
    "\n",
    "# df_test debe contener al menos las columnas: 'verse', 'verse_id'\n",
    "# y_true, y_pred son arrays con etiquetas verdaderas y predichas (enteros)\n",
    "# id2label es diccionario id -> nombre clase\n",
    "\n",
    "# Aquí suponemos que tienes estas variables ya:\n",
    "# df_test, y_true, y_pred, id2label\n",
    "\n",
    "misclassified = extract_misclassifications(df_test, y_true, y_pred, id2label, top_n=10)\n",
    "\n",
    "# Para visualizar, por ejemplo, falsos negativos de 'disgust':\n",
    "print(\"=== False Negatives for 'disgust' ===\")\n",
    "print(misclassified['disgust']['false_negatives'][['verse_id', 'verse', 'true_label', 'predicted_label']])\n",
    "\n",
    "# Puedes exportar a CSV para cada clase y tipo de error:\n",
    "for label, errors in misclassified.items():\n",
    "    errors['false_positives'].to_csv(f\"false_positives_{label}.csv\", index=False)\n",
    "    errors['false_negatives'].to_csv(f\"false_negatives_{label}.csv\", index=False)\n"
   ]
  },
  {
   "cell_type": "markdown",
   "id": "69ff1740",
   "metadata": {},
   "source": [
    "# 7️⃣ Inference on New Verses and Comparison with Pretrained Models"
   ]
  },
  {
   "cell_type": "markdown",
   "id": "1c7e785c",
   "metadata": {},
   "source": [
    "## 6. Inference on New Verses\n",
    "\n",
    "We apply the fine-tuned model to new, unseen verses and compare its outputs with those of the original pretrained models.\n"
   ]
  },
  {
   "cell_type": "code",
   "execution_count": null,
   "id": "82479a7f",
   "metadata": {},
   "outputs": [],
   "source": [
    "# Load some new verses to infer\n",
    "new_verses = [\n",
    "    \"Jesus wept.\",\n",
    "    \"Let there be light.\",\n",
    "    \"The LORD is my shepherd; I shall not want.\",\n",
    "    \"The serpent deceived me, and I ate.\"\n",
    "]\n",
    "\n",
    "inputs = tokenizer(new_verses, truncation=True, padding=True, return_tensors=\"pt\")\n",
    "outputs = model(**inputs)\n",
    "probs = outputs.logits.softmax(dim=1).detach().numpy()\n",
    "for i, verse in enumerate(new_verses):\n",
    "    pred = id2label[np.argmax(probs[i])]\n",
    "    print(f\"Verse: {verse}\\n  Predicted emotion: {pred}\\n  Probabilities: {dict(zip(label_list, probs[i]))}\\n\")\n"
   ]
  },
  {
   "cell_type": "markdown",
   "id": "6bdfc5ea",
   "metadata": {},
   "source": [
    "### **(Optional) Compare with old models**\n",
    "- Load your previous model predictions for the same verses (Hartmann, GoEmotions, etc.) and print/plot differences.\n",
    "- Qualitative analysis: Does the fine-tuned model better reflect the context and subtlety of the biblical style?\n"
   ]
  },
  {
   "cell_type": "markdown",
   "id": "9a69c301",
   "metadata": {},
   "source": [
    "# 8️⃣ Conclusions"
   ]
  },
  {
   "cell_type": "markdown",
   "id": "88cd8119",
   "metadata": {},
   "source": [
    "# Conclusions\n",
    "\n",
    "- Pretrained emotion models struggle with literary/biblical text (neutral bias, poor fit).\n",
    "- Fine-tuning SamLowe/roberta-base-go_emotions with a small, curated dataset dramatically improves performance.\n",
    "- The new model aligns much better with human annotation and context.\n",
    "- Further improvements could involve a larger dataset, multi-labeling, or expanding the taxonomy of emotions.\n",
    "\n",
    "---\n",
    "\n",
    "**Appendix:**  \n",
    "- Full annotation prompt for GPT-4o:\n",
    "\n",
    "```\n",
    "Assign ONE main human emotion to each Bible verse below. \n",
    "Choose ONLY from this exact list (write just the emotion word in lowercase English, with NO explanations): \n",
    "joy, sadness, anger, fear, disgust, surprise, neutral\n",
    "\n",
    "Return the results in CSV format with columns:\n",
    "id,verse_id,label\n",
    "\n",
    "Do not include the verse text in your answer. \n",
    "Use only the id and verse_id as shown, then your label. Do not add any extra columns, explanations, or blank lines.\n",
    "\n",
    "EXAMPLE OUTPUT:\n",
    "0,2_kings_1_10,anger\n",
    "1,1_samuel_19_21,surprise\n",
    "2,1_chronicles_21_21,neutral\n",
    "\n",
    "VERSES:\n",
    "0,2_kings_1_10,\"And Elijah answered and said to the captain of fifty, If I be a man of God, then let fire come down from heaven, and consume thee and thy fifty. And there came down fire from heaven, and consumed him and his fifty.\"\n",
    "1,1_samuel_19_21,\"And when it was told Saul, he sent other messengers, and they prophesied likewise. And Saul sent messengers again the third time, and they prophesied also.\"\n",
    "2,1_chronicles_21_21,\"And as David came to Ornan, Ornan looked and saw David, and went out of the threshingfloor, and bowed himself to David with his face to the ground.\"\n",
    "3,song_of_solomon_2_4,\"He brought me to the banqueting house, and his banner over me was love.\"\n",
    "4,hosea_4_4,\"Yet let no man strive, nor reprove another: for thy people are as they that strive with the priest.\"\n",
    "5,luke_13_7,\"Then said he unto the dresser of his vineyard, Behold, these three years I come seeking fruit on this fig tree, and find none: cut it down; why cumbereth it the ground?\"\n",
    "6,leviticus_10_10,\"And that ye may put difference between holy and unholy, and between unclean and clean;\"\n",
    "7,lamentations_1_1,\"How doth the city sit solitary, that was full of people how is she become as a widow she that was great among the nations, and princess among the provinces, how is she become tributary\"\n",
    "8,jeremiah_42_3,\"That the LORD thy God may shew us the way wherein we may walk, and the thing that we may do.\"\n",
    "9,numbers_1_48,\"For the LORD had spoken unto Moses, saying,\"\n",
    "```\n",
    "- Data/statistics about annotation agreement  \n",
    "- Example annotation errors and corrections\n",
    "\n",
    "---\n"
   ]
  }
 ],
 "metadata": {
  "kernelspec": {
   "display_name": "LinguaAnimae",
   "language": "python",
   "name": "python3"
  },
  "language_info": {
   "codemirror_mode": {
    "name": "ipython",
    "version": 3
   },
   "file_extension": ".py",
   "mimetype": "text/x-python",
   "name": "python",
   "nbconvert_exporter": "python",
   "pygments_lexer": "ipython3",
   "version": "3.10.16"
  }
 },
 "nbformat": 4,
 "nbformat_minor": 5
}
