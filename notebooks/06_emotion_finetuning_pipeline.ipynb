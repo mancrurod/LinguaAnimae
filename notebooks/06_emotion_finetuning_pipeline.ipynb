{
 "cells": [
  {
   "cell_type": "markdown",
   "id": "13674b81",
   "metadata": {
    "vscode": {
     "languageId": "plaintext"
    }
   },
   "source": [
    "# 1️⃣ Introduction"
   ]
  },
  {
   "cell_type": "markdown",
   "id": "4c02f41f",
   "metadata": {},
   "source": [
    "## Emotion Classification Pipeline for Biblical Verses\n",
    "\n",
    "This notebook documents the full process of exploring, comparing and fine-tuning emotion classification models on biblical text, with a focus on the Book of Genesis and a final fine-tuning using a custom-annotated corpus.\n",
    "\n",
    "**Outline:**\n",
    "1. Model Benchmarking on Genesis\n",
    "2. Data Preparation for Fine-tuning\n",
    "3. Semi-automatic Labeling using GPT-4o\n",
    "4. Fine-tuning SamLowe/roberta-base-go_emotions\n",
    "5. Evaluation and Comparison with Previous Models\n",
    "6. Inference Examples and Analysis\n",
    "\n",
    "---\n",
    "\n",
    "**Project context:**  \n",
    "Emotion and theme detection in Bible verses for narrative and literary research, using NLP and modern transformer models.\n"
   ]
  },
  {
   "cell_type": "markdown",
   "id": "85f58fcb",
   "metadata": {
    "vscode": {
     "languageId": "plaintext"
    }
   },
   "source": [
    "# 2️⃣ Benchmarking Pretrained Models on Genesis"
   ]
  },
  {
   "cell_type": "markdown",
   "id": "39880916",
   "metadata": {},
   "source": [
    "## 1. Benchmarking Existing Models\n",
    "\n",
    "We begin by testing several HuggingFace models (Hartmann, GoEmotions/SamLowe, Bhadresh Savani, Joeddav) on Genesis.  \n",
    "The goal is to observe their behaviour on literary, ancient text before committing to any single approach.\n"
   ]
  },
  {
   "cell_type": "code",
   "execution_count": 2,
   "id": "126280f5",
   "metadata": {},
   "outputs": [],
   "source": [
    "import pandas as pd\n",
    "import matplotlib.pyplot as plt\n",
    "import seaborn as sns"
   ]
  },
  {
   "cell_type": "code",
   "execution_count": 1,
   "id": "904d687c",
   "metadata": {},
   "outputs": [
    {
     "ename": "FileNotFoundError",
     "evalue": "[Errno 2] No such file or directory: '../data/processed/bible_kjv/1_genesis_emotion_comparison.csv'",
     "output_type": "error",
     "traceback": [
      "\u001b[1;31m---------------------------------------------------------------------------\u001b[0m",
      "\u001b[1;31mFileNotFoundError\u001b[0m                         Traceback (most recent call last)",
      "Cell \u001b[1;32mIn[1], line 5\u001b[0m\n\u001b[0;32m      2\u001b[0m \u001b[38;5;28;01mimport\u001b[39;00m\u001b[38;5;250m \u001b[39m\u001b[38;5;21;01mmatplotlib\u001b[39;00m\u001b[38;5;21;01m.\u001b[39;00m\u001b[38;5;21;01mpyplot\u001b[39;00m\u001b[38;5;250m \u001b[39m\u001b[38;5;28;01mas\u001b[39;00m\u001b[38;5;250m \u001b[39m\u001b[38;5;21;01mplt\u001b[39;00m\n\u001b[0;32m      3\u001b[0m \u001b[38;5;28;01mimport\u001b[39;00m\u001b[38;5;250m \u001b[39m\u001b[38;5;21;01mseaborn\u001b[39;00m\u001b[38;5;250m \u001b[39m\u001b[38;5;28;01mas\u001b[39;00m\u001b[38;5;250m \u001b[39m\u001b[38;5;21;01msns\u001b[39;00m\n\u001b[1;32m----> 5\u001b[0m df \u001b[38;5;241m=\u001b[39m \u001b[43mpd\u001b[49m\u001b[38;5;241;43m.\u001b[39;49m\u001b[43mread_csv\u001b[49m\u001b[43m(\u001b[49m\u001b[38;5;124;43m\"\u001b[39;49m\u001b[38;5;124;43m../data/processed/bible_kjv/1_genesis_emotion_comparison.csv\u001b[39;49m\u001b[38;5;124;43m\"\u001b[39;49m\u001b[43m)\u001b[49m\n\u001b[0;32m      6\u001b[0m display(df\u001b[38;5;241m.\u001b[39mhead())\n\u001b[0;32m      8\u001b[0m \u001b[38;5;66;03m# Plot emotion distributions\u001b[39;00m\n",
      "File \u001b[1;32mc:\\Users\\manue\\miniconda3\\envs\\LinguaAnimae\\lib\\site-packages\\pandas\\io\\parsers\\readers.py:1026\u001b[0m, in \u001b[0;36mread_csv\u001b[1;34m(filepath_or_buffer, sep, delimiter, header, names, index_col, usecols, dtype, engine, converters, true_values, false_values, skipinitialspace, skiprows, skipfooter, nrows, na_values, keep_default_na, na_filter, verbose, skip_blank_lines, parse_dates, infer_datetime_format, keep_date_col, date_parser, date_format, dayfirst, cache_dates, iterator, chunksize, compression, thousands, decimal, lineterminator, quotechar, quoting, doublequote, escapechar, comment, encoding, encoding_errors, dialect, on_bad_lines, delim_whitespace, low_memory, memory_map, float_precision, storage_options, dtype_backend)\u001b[0m\n\u001b[0;32m   1013\u001b[0m kwds_defaults \u001b[38;5;241m=\u001b[39m _refine_defaults_read(\n\u001b[0;32m   1014\u001b[0m     dialect,\n\u001b[0;32m   1015\u001b[0m     delimiter,\n\u001b[1;32m   (...)\u001b[0m\n\u001b[0;32m   1022\u001b[0m     dtype_backend\u001b[38;5;241m=\u001b[39mdtype_backend,\n\u001b[0;32m   1023\u001b[0m )\n\u001b[0;32m   1024\u001b[0m kwds\u001b[38;5;241m.\u001b[39mupdate(kwds_defaults)\n\u001b[1;32m-> 1026\u001b[0m \u001b[38;5;28;01mreturn\u001b[39;00m \u001b[43m_read\u001b[49m\u001b[43m(\u001b[49m\u001b[43mfilepath_or_buffer\u001b[49m\u001b[43m,\u001b[49m\u001b[43m \u001b[49m\u001b[43mkwds\u001b[49m\u001b[43m)\u001b[49m\n",
      "File \u001b[1;32mc:\\Users\\manue\\miniconda3\\envs\\LinguaAnimae\\lib\\site-packages\\pandas\\io\\parsers\\readers.py:620\u001b[0m, in \u001b[0;36m_read\u001b[1;34m(filepath_or_buffer, kwds)\u001b[0m\n\u001b[0;32m    617\u001b[0m _validate_names(kwds\u001b[38;5;241m.\u001b[39mget(\u001b[38;5;124m\"\u001b[39m\u001b[38;5;124mnames\u001b[39m\u001b[38;5;124m\"\u001b[39m, \u001b[38;5;28;01mNone\u001b[39;00m))\n\u001b[0;32m    619\u001b[0m \u001b[38;5;66;03m# Create the parser.\u001b[39;00m\n\u001b[1;32m--> 620\u001b[0m parser \u001b[38;5;241m=\u001b[39m TextFileReader(filepath_or_buffer, \u001b[38;5;241m*\u001b[39m\u001b[38;5;241m*\u001b[39mkwds)\n\u001b[0;32m    622\u001b[0m \u001b[38;5;28;01mif\u001b[39;00m chunksize \u001b[38;5;129;01mor\u001b[39;00m iterator:\n\u001b[0;32m    623\u001b[0m     \u001b[38;5;28;01mreturn\u001b[39;00m parser\n",
      "File \u001b[1;32mc:\\Users\\manue\\miniconda3\\envs\\LinguaAnimae\\lib\\site-packages\\pandas\\io\\parsers\\readers.py:1620\u001b[0m, in \u001b[0;36mTextFileReader.__init__\u001b[1;34m(self, f, engine, **kwds)\u001b[0m\n\u001b[0;32m   1617\u001b[0m     \u001b[38;5;28mself\u001b[39m\u001b[38;5;241m.\u001b[39moptions[\u001b[38;5;124m\"\u001b[39m\u001b[38;5;124mhas_index_names\u001b[39m\u001b[38;5;124m\"\u001b[39m] \u001b[38;5;241m=\u001b[39m kwds[\u001b[38;5;124m\"\u001b[39m\u001b[38;5;124mhas_index_names\u001b[39m\u001b[38;5;124m\"\u001b[39m]\n\u001b[0;32m   1619\u001b[0m \u001b[38;5;28mself\u001b[39m\u001b[38;5;241m.\u001b[39mhandles: IOHandles \u001b[38;5;241m|\u001b[39m \u001b[38;5;28;01mNone\u001b[39;00m \u001b[38;5;241m=\u001b[39m \u001b[38;5;28;01mNone\u001b[39;00m\n\u001b[1;32m-> 1620\u001b[0m \u001b[38;5;28mself\u001b[39m\u001b[38;5;241m.\u001b[39m_engine \u001b[38;5;241m=\u001b[39m \u001b[38;5;28;43mself\u001b[39;49m\u001b[38;5;241;43m.\u001b[39;49m\u001b[43m_make_engine\u001b[49m\u001b[43m(\u001b[49m\u001b[43mf\u001b[49m\u001b[43m,\u001b[49m\u001b[43m \u001b[49m\u001b[38;5;28;43mself\u001b[39;49m\u001b[38;5;241;43m.\u001b[39;49m\u001b[43mengine\u001b[49m\u001b[43m)\u001b[49m\n",
      "File \u001b[1;32mc:\\Users\\manue\\miniconda3\\envs\\LinguaAnimae\\lib\\site-packages\\pandas\\io\\parsers\\readers.py:1880\u001b[0m, in \u001b[0;36mTextFileReader._make_engine\u001b[1;34m(self, f, engine)\u001b[0m\n\u001b[0;32m   1878\u001b[0m     \u001b[38;5;28;01mif\u001b[39;00m \u001b[38;5;124m\"\u001b[39m\u001b[38;5;124mb\u001b[39m\u001b[38;5;124m\"\u001b[39m \u001b[38;5;129;01mnot\u001b[39;00m \u001b[38;5;129;01min\u001b[39;00m mode:\n\u001b[0;32m   1879\u001b[0m         mode \u001b[38;5;241m+\u001b[39m\u001b[38;5;241m=\u001b[39m \u001b[38;5;124m\"\u001b[39m\u001b[38;5;124mb\u001b[39m\u001b[38;5;124m\"\u001b[39m\n\u001b[1;32m-> 1880\u001b[0m \u001b[38;5;28mself\u001b[39m\u001b[38;5;241m.\u001b[39mhandles \u001b[38;5;241m=\u001b[39m \u001b[43mget_handle\u001b[49m\u001b[43m(\u001b[49m\n\u001b[0;32m   1881\u001b[0m \u001b[43m    \u001b[49m\u001b[43mf\u001b[49m\u001b[43m,\u001b[49m\n\u001b[0;32m   1882\u001b[0m \u001b[43m    \u001b[49m\u001b[43mmode\u001b[49m\u001b[43m,\u001b[49m\n\u001b[0;32m   1883\u001b[0m \u001b[43m    \u001b[49m\u001b[43mencoding\u001b[49m\u001b[38;5;241;43m=\u001b[39;49m\u001b[38;5;28;43mself\u001b[39;49m\u001b[38;5;241;43m.\u001b[39;49m\u001b[43moptions\u001b[49m\u001b[38;5;241;43m.\u001b[39;49m\u001b[43mget\u001b[49m\u001b[43m(\u001b[49m\u001b[38;5;124;43m\"\u001b[39;49m\u001b[38;5;124;43mencoding\u001b[39;49m\u001b[38;5;124;43m\"\u001b[39;49m\u001b[43m,\u001b[49m\u001b[43m \u001b[49m\u001b[38;5;28;43;01mNone\u001b[39;49;00m\u001b[43m)\u001b[49m\u001b[43m,\u001b[49m\n\u001b[0;32m   1884\u001b[0m \u001b[43m    \u001b[49m\u001b[43mcompression\u001b[49m\u001b[38;5;241;43m=\u001b[39;49m\u001b[38;5;28;43mself\u001b[39;49m\u001b[38;5;241;43m.\u001b[39;49m\u001b[43moptions\u001b[49m\u001b[38;5;241;43m.\u001b[39;49m\u001b[43mget\u001b[49m\u001b[43m(\u001b[49m\u001b[38;5;124;43m\"\u001b[39;49m\u001b[38;5;124;43mcompression\u001b[39;49m\u001b[38;5;124;43m\"\u001b[39;49m\u001b[43m,\u001b[49m\u001b[43m \u001b[49m\u001b[38;5;28;43;01mNone\u001b[39;49;00m\u001b[43m)\u001b[49m\u001b[43m,\u001b[49m\n\u001b[0;32m   1885\u001b[0m \u001b[43m    \u001b[49m\u001b[43mmemory_map\u001b[49m\u001b[38;5;241;43m=\u001b[39;49m\u001b[38;5;28;43mself\u001b[39;49m\u001b[38;5;241;43m.\u001b[39;49m\u001b[43moptions\u001b[49m\u001b[38;5;241;43m.\u001b[39;49m\u001b[43mget\u001b[49m\u001b[43m(\u001b[49m\u001b[38;5;124;43m\"\u001b[39;49m\u001b[38;5;124;43mmemory_map\u001b[39;49m\u001b[38;5;124;43m\"\u001b[39;49m\u001b[43m,\u001b[49m\u001b[43m \u001b[49m\u001b[38;5;28;43;01mFalse\u001b[39;49;00m\u001b[43m)\u001b[49m\u001b[43m,\u001b[49m\n\u001b[0;32m   1886\u001b[0m \u001b[43m    \u001b[49m\u001b[43mis_text\u001b[49m\u001b[38;5;241;43m=\u001b[39;49m\u001b[43mis_text\u001b[49m\u001b[43m,\u001b[49m\n\u001b[0;32m   1887\u001b[0m \u001b[43m    \u001b[49m\u001b[43merrors\u001b[49m\u001b[38;5;241;43m=\u001b[39;49m\u001b[38;5;28;43mself\u001b[39;49m\u001b[38;5;241;43m.\u001b[39;49m\u001b[43moptions\u001b[49m\u001b[38;5;241;43m.\u001b[39;49m\u001b[43mget\u001b[49m\u001b[43m(\u001b[49m\u001b[38;5;124;43m\"\u001b[39;49m\u001b[38;5;124;43mencoding_errors\u001b[39;49m\u001b[38;5;124;43m\"\u001b[39;49m\u001b[43m,\u001b[49m\u001b[43m \u001b[49m\u001b[38;5;124;43m\"\u001b[39;49m\u001b[38;5;124;43mstrict\u001b[39;49m\u001b[38;5;124;43m\"\u001b[39;49m\u001b[43m)\u001b[49m\u001b[43m,\u001b[49m\n\u001b[0;32m   1888\u001b[0m \u001b[43m    \u001b[49m\u001b[43mstorage_options\u001b[49m\u001b[38;5;241;43m=\u001b[39;49m\u001b[38;5;28;43mself\u001b[39;49m\u001b[38;5;241;43m.\u001b[39;49m\u001b[43moptions\u001b[49m\u001b[38;5;241;43m.\u001b[39;49m\u001b[43mget\u001b[49m\u001b[43m(\u001b[49m\u001b[38;5;124;43m\"\u001b[39;49m\u001b[38;5;124;43mstorage_options\u001b[39;49m\u001b[38;5;124;43m\"\u001b[39;49m\u001b[43m,\u001b[49m\u001b[43m \u001b[49m\u001b[38;5;28;43;01mNone\u001b[39;49;00m\u001b[43m)\u001b[49m\u001b[43m,\u001b[49m\n\u001b[0;32m   1889\u001b[0m \u001b[43m\u001b[49m\u001b[43m)\u001b[49m\n\u001b[0;32m   1890\u001b[0m \u001b[38;5;28;01massert\u001b[39;00m \u001b[38;5;28mself\u001b[39m\u001b[38;5;241m.\u001b[39mhandles \u001b[38;5;129;01mis\u001b[39;00m \u001b[38;5;129;01mnot\u001b[39;00m \u001b[38;5;28;01mNone\u001b[39;00m\n\u001b[0;32m   1891\u001b[0m f \u001b[38;5;241m=\u001b[39m \u001b[38;5;28mself\u001b[39m\u001b[38;5;241m.\u001b[39mhandles\u001b[38;5;241m.\u001b[39mhandle\n",
      "File \u001b[1;32mc:\\Users\\manue\\miniconda3\\envs\\LinguaAnimae\\lib\\site-packages\\pandas\\io\\common.py:873\u001b[0m, in \u001b[0;36mget_handle\u001b[1;34m(path_or_buf, mode, encoding, compression, memory_map, is_text, errors, storage_options)\u001b[0m\n\u001b[0;32m    868\u001b[0m \u001b[38;5;28;01melif\u001b[39;00m \u001b[38;5;28misinstance\u001b[39m(handle, \u001b[38;5;28mstr\u001b[39m):\n\u001b[0;32m    869\u001b[0m     \u001b[38;5;66;03m# Check whether the filename is to be opened in binary mode.\u001b[39;00m\n\u001b[0;32m    870\u001b[0m     \u001b[38;5;66;03m# Binary mode does not support 'encoding' and 'newline'.\u001b[39;00m\n\u001b[0;32m    871\u001b[0m     \u001b[38;5;28;01mif\u001b[39;00m ioargs\u001b[38;5;241m.\u001b[39mencoding \u001b[38;5;129;01mand\u001b[39;00m \u001b[38;5;124m\"\u001b[39m\u001b[38;5;124mb\u001b[39m\u001b[38;5;124m\"\u001b[39m \u001b[38;5;129;01mnot\u001b[39;00m \u001b[38;5;129;01min\u001b[39;00m ioargs\u001b[38;5;241m.\u001b[39mmode:\n\u001b[0;32m    872\u001b[0m         \u001b[38;5;66;03m# Encoding\u001b[39;00m\n\u001b[1;32m--> 873\u001b[0m         handle \u001b[38;5;241m=\u001b[39m \u001b[38;5;28;43mopen\u001b[39;49m\u001b[43m(\u001b[49m\n\u001b[0;32m    874\u001b[0m \u001b[43m            \u001b[49m\u001b[43mhandle\u001b[49m\u001b[43m,\u001b[49m\n\u001b[0;32m    875\u001b[0m \u001b[43m            \u001b[49m\u001b[43mioargs\u001b[49m\u001b[38;5;241;43m.\u001b[39;49m\u001b[43mmode\u001b[49m\u001b[43m,\u001b[49m\n\u001b[0;32m    876\u001b[0m \u001b[43m            \u001b[49m\u001b[43mencoding\u001b[49m\u001b[38;5;241;43m=\u001b[39;49m\u001b[43mioargs\u001b[49m\u001b[38;5;241;43m.\u001b[39;49m\u001b[43mencoding\u001b[49m\u001b[43m,\u001b[49m\n\u001b[0;32m    877\u001b[0m \u001b[43m            \u001b[49m\u001b[43merrors\u001b[49m\u001b[38;5;241;43m=\u001b[39;49m\u001b[43merrors\u001b[49m\u001b[43m,\u001b[49m\n\u001b[0;32m    878\u001b[0m \u001b[43m            \u001b[49m\u001b[43mnewline\u001b[49m\u001b[38;5;241;43m=\u001b[39;49m\u001b[38;5;124;43m\"\u001b[39;49m\u001b[38;5;124;43m\"\u001b[39;49m\u001b[43m,\u001b[49m\n\u001b[0;32m    879\u001b[0m \u001b[43m        \u001b[49m\u001b[43m)\u001b[49m\n\u001b[0;32m    880\u001b[0m     \u001b[38;5;28;01melse\u001b[39;00m:\n\u001b[0;32m    881\u001b[0m         \u001b[38;5;66;03m# Binary mode\u001b[39;00m\n\u001b[0;32m    882\u001b[0m         handle \u001b[38;5;241m=\u001b[39m \u001b[38;5;28mopen\u001b[39m(handle, ioargs\u001b[38;5;241m.\u001b[39mmode)\n",
      "\u001b[1;31mFileNotFoundError\u001b[0m: [Errno 2] No such file or directory: '../data/processed/bible_kjv/1_genesis_emotion_comparison.csv'"
     ]
    }
   ],
   "source": [
    "import pandas as pd\n",
    "import matplotlib.pyplot as plt\n",
    "import seaborn as sns\n",
    "\n",
    "df = pd.read_csv(\"../data/processed/bible_kjv/1_genesis_emotion_comparison.csv\")\n",
    "display(df.head())\n",
    "\n",
    "# Plot emotion distributions\n",
    "plt.figure()\n",
    "sns.countplot(x=\"hartmann_label\", data=df, order=df['hartmann_label'].value_counts().index)\n",
    "plt.title(\"Hartmann Emotion Distribution\")\n",
    "plt.show()\n",
    "\n",
    "plt.figure()\n",
    "sns.countplot(x=\"goemotions_ekman_label\", data=df, order=df['goemotions_ekman_label'].value_counts().index)\n",
    "plt.title(\"GoEmotions (Ekman) Distribution\")\n",
    "plt.show()\n",
    "\n",
    "plt.figure()\n",
    "sns.countplot(x=\"bsavani_label\", data=df, order=df['bsavani_label'].value_counts().index)\n",
    "plt.title(\"Bhadresh Savani Emotion Distribution\")\n",
    "plt.show()\n",
    "\n",
    "plt.figure()\n",
    "sns.countplot(x=\"joeddav_ekman_label\", data=df, order=df['joeddav_ekman_label'].value_counts().index)\n",
    "plt.title(\"Joeddav (Ekman) Distribution\")\n",
    "plt.show()\n"
   ]
  },
  {
   "cell_type": "markdown",
   "id": "8b98987c",
   "metadata": {},
   "source": [
    "### **Observations:**\n",
    "- GoEmotions produces a strong \"neutral\" bias on Genesis.\n",
    "- Hartmann and bsavani force more emotion categories, but may overfit to their social-media source.\n",
    "- Joeddav shows a different distribution, with many \"surprise\" and \"joy\".\n",
    "- None of the available models fit perfectly for literary or biblical style.\n"
   ]
  },
  {
   "cell_type": "markdown",
   "id": "72919bf3",
   "metadata": {},
   "source": [
    "# 3️⃣ Preparing a Custom Dataset for Fine-tuning"
   ]
  },
  {
   "cell_type": "markdown",
   "id": "fbbff26c",
   "metadata": {},
   "source": [
    "## 2. Preparing a Custom Dataset for Fine-tuning\n",
    "\n",
    "Given the above, we decided to build a custom, hand-verified emotion-labeled dataset, leveraging GPT-4o for fast annotation and manual review.\n",
    "- 1000 unique verses were sampled from the full KJV.\n",
    "- Each verse was labeled with one of: joy, sadness, anger, fear, disgust, surprise, neutral.\n"
   ]
  },
  {
   "cell_type": "code",
   "execution_count": 3,
   "id": "c079299a",
   "metadata": {},
   "outputs": [
    {
     "data": {
      "text/html": [
       "<div>\n",
       "<style scoped>\n",
       "    .dataframe tbody tr th:only-of-type {\n",
       "        vertical-align: middle;\n",
       "    }\n",
       "\n",
       "    .dataframe tbody tr th {\n",
       "        vertical-align: top;\n",
       "    }\n",
       "\n",
       "    .dataframe thead th {\n",
       "        text-align: right;\n",
       "    }\n",
       "</style>\n",
       "<table border=\"1\" class=\"dataframe\">\n",
       "  <thead>\n",
       "    <tr style=\"text-align: right;\">\n",
       "      <th></th>\n",
       "      <th>id</th>\n",
       "      <th>verse_id</th>\n",
       "      <th>verse</th>\n",
       "    </tr>\n",
       "  </thead>\n",
       "  <tbody>\n",
       "    <tr>\n",
       "      <th>657</th>\n",
       "      <td>657</td>\n",
       "      <td>jeremiah_50_43</td>\n",
       "      <td>The king of Babylon hath heard the report of t...</td>\n",
       "    </tr>\n",
       "    <tr>\n",
       "      <th>488</th>\n",
       "      <td>488</td>\n",
       "      <td>deuteronomy_30_15</td>\n",
       "      <td>See, I have set before thee this day life and ...</td>\n",
       "    </tr>\n",
       "    <tr>\n",
       "      <th>520</th>\n",
       "      <td>520</td>\n",
       "      <td>luke_22_43</td>\n",
       "      <td>And there appeared an angel unto him from heav...</td>\n",
       "    </tr>\n",
       "    <tr>\n",
       "      <th>678</th>\n",
       "      <td>678</td>\n",
       "      <td>2_chronicles_2_1</td>\n",
       "      <td>And Solomon determined to build an house for t...</td>\n",
       "    </tr>\n",
       "    <tr>\n",
       "      <th>21</th>\n",
       "      <td>21</td>\n",
       "      <td>acts_11_18</td>\n",
       "      <td>When they heard these things, they held their ...</td>\n",
       "    </tr>\n",
       "  </tbody>\n",
       "</table>\n",
       "</div>"
      ],
      "text/plain": [
       "      id           verse_id                                              verse\n",
       "657  657     jeremiah_50_43  The king of Babylon hath heard the report of t...\n",
       "488  488  deuteronomy_30_15  See, I have set before thee this day life and ...\n",
       "520  520         luke_22_43  And there appeared an angel unto him from heav...\n",
       "678  678   2_chronicles_2_1  And Solomon determined to build an house for t...\n",
       "21    21         acts_11_18  When they heard these things, they held their ..."
      ]
     },
     "metadata": {},
     "output_type": "display_data"
    },
    {
     "name": "stdout",
     "output_type": "stream",
     "text": [
      "Total verses sampled: 1000\n"
     ]
    }
   ],
   "source": [
    "# Show sample of selected verses\n",
    "df_samples = pd.read_csv(\"../data/evaluation/emotion_verses_to_label.csv\")\n",
    "display(df_samples.sample(5))\n",
    "print(f\"Total verses sampled: {len(df_samples)}\")"
   ]
  },
  {
   "cell_type": "markdown",
   "id": "405e0d8e",
   "metadata": {},
   "source": [
    "# 4️⃣ Labeling Verses with GPT-4o (Semi-automatic Annotation)"
   ]
  },
  {
   "cell_type": "markdown",
   "id": "5dce2ff1",
   "metadata": {},
   "source": [
    "## 3. Semi-automatic Annotation using GPT-4o\n",
    "\n",
    "Annotation prompt for GPT-4o:\n",
    "\n",
    "> Assign ONE main human emotion to each Bible verse below.  \n",
    "> Choose ONLY from this list: joy, sadness, anger, fear, disgust, surprise, neutral  \n",
    "> Return in CSV format with columns: id,verse_id,label  \n",
    "> [See appendix for full prompt.]\n",
    "\n",
    "Labels were reviewed and corrected as needed before proceeding to fine-tuning.\n"
   ]
  },
  {
   "cell_type": "code",
   "execution_count": 2,
   "id": "2d62e0ca",
   "metadata": {},
   "outputs": [
    {
     "data": {
      "text/html": [
       "<div>\n",
       "<style scoped>\n",
       "    .dataframe tbody tr th:only-of-type {\n",
       "        vertical-align: middle;\n",
       "    }\n",
       "\n",
       "    .dataframe tbody tr th {\n",
       "        vertical-align: top;\n",
       "    }\n",
       "\n",
       "    .dataframe thead th {\n",
       "        text-align: right;\n",
       "    }\n",
       "</style>\n",
       "<table border=\"1\" class=\"dataframe\">\n",
       "  <thead>\n",
       "    <tr style=\"text-align: right;\">\n",
       "      <th></th>\n",
       "      <th>id</th>\n",
       "      <th>verse_id</th>\n",
       "      <th>verse</th>\n",
       "      <th>label</th>\n",
       "    </tr>\n",
       "  </thead>\n",
       "  <tbody>\n",
       "    <tr>\n",
       "      <th>959</th>\n",
       "      <td>959</td>\n",
       "      <td>mark_1_12</td>\n",
       "      <td>And immediately the Spirit driveth him into th...</td>\n",
       "      <td>neutral</td>\n",
       "    </tr>\n",
       "    <tr>\n",
       "      <th>682</th>\n",
       "      <td>682</td>\n",
       "      <td>ezekiel_27_28</td>\n",
       "      <td>The suburbs shall shake at the sound of the cr...</td>\n",
       "      <td>fear</td>\n",
       "    </tr>\n",
       "    <tr>\n",
       "      <th>289</th>\n",
       "      <td>289</td>\n",
       "      <td>psalms_102_11</td>\n",
       "      <td>My days are like a shadow that declineth; and ...</td>\n",
       "      <td>sadness</td>\n",
       "    </tr>\n",
       "    <tr>\n",
       "      <th>786</th>\n",
       "      <td>786</td>\n",
       "      <td>genesis_31_11</td>\n",
       "      <td>And the angel of God spake unto me in a dream,...</td>\n",
       "      <td>surprise</td>\n",
       "    </tr>\n",
       "    <tr>\n",
       "      <th>810</th>\n",
       "      <td>810</td>\n",
       "      <td>acts_9_24</td>\n",
       "      <td>But their laying await was known of Saul. And ...</td>\n",
       "      <td>fear</td>\n",
       "    </tr>\n",
       "  </tbody>\n",
       "</table>\n",
       "</div>"
      ],
      "text/plain": [
       "      id       verse_id                                              verse  \\\n",
       "959  959      mark_1_12  And immediately the Spirit driveth him into th...   \n",
       "682  682  ezekiel_27_28  The suburbs shall shake at the sound of the cr...   \n",
       "289  289  psalms_102_11  My days are like a shadow that declineth; and ...   \n",
       "786  786  genesis_31_11  And the angel of God spake unto me in a dream,...   \n",
       "810  810      acts_9_24  But their laying await was known of Saul. And ...   \n",
       "\n",
       "        label  \n",
       "959   neutral  \n",
       "682      fear  \n",
       "289   sadness  \n",
       "786  surprise  \n",
       "810      fear  "
      ]
     },
     "metadata": {},
     "output_type": "display_data"
    },
    {
     "name": "stdout",
     "output_type": "stream",
     "text": [
      "Total labeled verses: 1000\n"
     ]
    },
    {
     "data": {
      "image/png": "[encoded data removed]",
      "text/plain": [
       "<Figure size 640x480 with 1 Axes>"
      ]
     },
     "metadata": {},
     "output_type": "display_data"
    }
   ],
   "source": [
    "# Show labeled data (post-GPT + manual review)\n",
    "df_labeled = pd.read_csv(\"../data/evaluation/emotion_verses_labeled_2.csv\")\n",
    "display(df_labeled.sample(5))\n",
    "print(f\"Total labeled verses: {len(df_labeled)}\")\n",
    "\n",
    "plt.figure()\n",
    "sns.countplot(x=\"label\", data=df_labeled, order=sorted(df_labeled['label'].unique()))\n",
    "plt.title(\"Distribution of Labeled Emotions (Final Training Set)\")\n",
    "plt.show()"
   ]
  },
  {
   "cell_type": "markdown",
   "id": "07bde710",
   "metadata": {},
   "source": [
    "# 5️⃣ Fine-tuning SamLowe/roberta-base-go_emotions"
   ]
  },
  {
   "cell_type": "markdown",
   "id": "96b80ac4",
   "metadata": {},
   "source": [
    "## 4. Fine-tuning SamLowe/roberta-base-go_emotions on Custom Labeled Data\n",
    "\n",
    "The fine-tuning uses 90% of the data for training and 10% for evaluation.  \n",
    "Labels are mapped to integer IDs as required by HuggingFace.\n"
   ]
  },
  {
   "cell_type": "markdown",
   "id": "ce5c6783",
   "metadata": {},
   "source": [
    "We initialized the classification head (last layer) from scratch, as our label set consists of 7 mapped emotions, instead of the original 28 GoEmotions classes. The rest of the model loads all pre-trained weights, leveraging prior emotional knowledge. This is the recommended approach for transfer learning with a different output taxonomy.\n",
    "\n"
   ]
  },
  {
   "cell_type": "code",
   "execution_count": 6,
   "id": "1fab8dda",
   "metadata": {},
   "outputs": [
    {
     "name": "stdout",
     "output_type": "stream",
     "text": [
      "Train:\n",
      "label\n",
      "6    799\n",
      "0    543\n",
      "1    371\n",
      "2    311\n",
      "3    303\n",
      "4    166\n",
      "5    109\n",
      "Name: count, dtype: int64\n",
      "\n",
      "Test:\n",
      "label\n",
      "6    80\n",
      "0    49\n",
      "1    46\n",
      "3    41\n",
      "2    36\n",
      "4    24\n",
      "5    14\n",
      "Name: count, dtype: int64\n"
     ]
    }
   ],
   "source": [
    "# Si usas train/test como pandas DataFrame\n",
    "print(\"Train:\")\n",
    "print(df_train['label'].value_counts())\n",
    "print(\"\\nTest:\")\n",
    "print(df_test['label'].value_counts())\n"
   ]
  },
  {
   "cell_type": "markdown",
   "id": "c2f43917",
   "metadata": {},
   "source": [
    "### Cross validating"
   ]
  },
  {
   "cell_type": "code",
   "execution_count": null,
   "id": "11eb3cf5",
   "metadata": {},
   "outputs": [],
   "source": [
    "import pandas as pd\n",
    "from datasets import Dataset, DatasetDict\n",
    "from transformers import AutoTokenizer, AutoModelForSequenceClassification, Trainer, TrainingArguments, EarlyStoppingCallback\n",
    "import numpy as np\n",
    "from sklearn.metrics import classification_report\n",
    "from sklearn.model_selection import StratifiedKFold\n",
    "from sklearn.utils import resample\n",
    "\n",
    "# 1. Load and shuffle data\n",
    "df = pd.read_csv(\"../data/evaluation/verses_parsed/emotion_verses_labeled_combined.csv\")\n",
    "df = df.sample(frac=1, random_state=42).reset_index(drop=True)\n",
    "\n",
    "# 2. Mapping and validation\n",
    "EMOTION_MAP = {\n",
    "    \"joy\": \"Alegría\",\n",
    "    \"sadness\": \"Tristeza\",\n",
    "    \"anger\": \"Ira\",\n",
    "    \"fear\": \"Miedo\",\n",
    "    \"surprise\": \"Sorpresa\",\n",
    "    \"disgust\": \"Asco\",\n",
    "    \"neutral\": \"Neutral\"\n",
    "}\n",
    "label_list = list(EMOTION_MAP.keys())\n",
    "label2id = {l: i for i, l in enumerate(label_list)}\n",
    "id2label = {i: l for i, l in enumerate(label_list)}\n",
    "df['label'] = df['label'].str.strip().str.lower()\n",
    "invalid_labels = set(df['label'].unique()) - set(label_list)\n",
    "if invalid_labels:\n",
    "    print(f\"❌ ERROR: Detected invalid labels: {invalid_labels}\")\n",
    "    raise ValueError(\"Your CSV contains labels not present in the expected set.\")\n",
    "df['label'] = df['label'].map(label2id).astype(int)\n",
    "\n",
    "# 3. Cross-validation setup\n",
    "k = 5  # Número de folds\n",
    "skf = StratifiedKFold(n_splits=k, shuffle=True, random_state=42)\n",
    "results = []\n",
    "\n",
    "for fold, (train_idx, test_idx) in enumerate(skf.split(df['verse'], df['label'])):\n",
    "    print(f\"\\n=== Fold {fold+1}/{k} ===\")\n",
    "    df_train, df_test = df.iloc[train_idx].copy(), df.iloc[test_idx].copy()\n",
    "\n",
    "    # --- SOBREMUESTREO OPCIONAL: Descomenta para activar ---\n",
    "    # max_n = df_train['label'].value_counts().max()\n",
    "    # dfs = []\n",
    "    # for label in df_train['label'].unique():\n",
    "    #     df_label = df_train[df_train['label'] == label]\n",
    "    #     dfs.append(resample(df_label, replace=True, n_samples=max_n, random_state=fold))\n",
    "    # df_train = pd.concat(dfs).sample(frac=1, random_state=fold).reset_index(drop=True)\n",
    "    # print(\"Balanced train label counts:\\n\", df_train['label'].value_counts())\n",
    "\n",
    "    # 4. Build datasets\n",
    "    ds = DatasetDict({\n",
    "        \"train\": Dataset.from_pandas(df_train[['verse', 'label']].rename(columns={'verse': 'text'}), preserve_index=False),\n",
    "        \"test\": Dataset.from_pandas(df_test[['verse', 'label']].rename(columns={'verse': 'text'}), preserve_index=False),\n",
    "    })\n",
    "\n",
    "    # 5. Tokenizer and model\n",
    "    tokenizer = AutoTokenizer.from_pretrained(\"SamLowe/roberta-base-go_emotions\")\n",
    "    model = AutoModelForSequenceClassification.from_pretrained(\n",
    "        \"SamLowe/roberta-base-go_emotions\",\n",
    "        num_labels=len(label_list),\n",
    "        id2label=id2label,\n",
    "        label2id=label2id,\n",
    "        ignore_mismatched_sizes=True\n",
    "    )\n",
    "    model.config.problem_type = \"single_label_classification\"\n",
    "\n",
    "    def preprocess_function(examples):\n",
    "        return tokenizer(examples[\"text\"], truncation=True, padding=True)\n",
    "\n",
    "    tokenized_datasets = ds.map(preprocess_function, batched=True)\n",
    "\n",
    "    # 6. Training arguments\n",
    "    training_args = TrainingArguments(\n",
    "        output_dir=f\"./results_finetuned_bible_fold_{fold+1}\",\n",
    "        evaluation_strategy=\"epoch\",\n",
    "        learning_rate=1e-5,\n",
    "        per_device_train_batch_size=16,\n",
    "        per_device_eval_batch_size=32,\n",
    "        gradient_accumulation_steps=1,\n",
    "        num_train_epochs=4,\n",
    "        weight_decay=0.05,\n",
    "        warmup_ratio=0.1,\n",
    "        lr_scheduler_type=\"linear\",\n",
    "        save_strategy=\"epoch\",\n",
    "        load_best_model_at_end=True,\n",
    "        metric_for_best_model=\"macro_f1\",\n",
    "        greater_is_better=True,\n",
    "        save_total_limit=2,\n",
    "        logging_strategy=\"no\",\n",
    "        report_to=\"none\",\n",
    "        seed=42 + fold,\n",
    "        push_to_hub=False,\n",
    "    )\n",
    "\n",
    "    # 7. Metrics\n",
    "    def compute_metrics(pred):\n",
    "        preds = np.argmax(pred.predictions, axis=1)\n",
    "        labels = pred.label_ids\n",
    "        report = classification_report(labels, preds, target_names=[id2label[i] for i in range(len(label_list))], output_dict=True, zero_division=0)\n",
    "        macro_f1 = report[\"macro avg\"][\"f1-score\"]\n",
    "        print(f\"\\nFold {fold+1} - Macro F1: {macro_f1:.3f}\")\n",
    "        return {\"macro_f1\": macro_f1}\n",
    "\n",
    "    # 8. Trainer\n",
    "    trainer = Trainer(\n",
    "        model=model,\n",
    "        args=training_args,\n",
    "        train_dataset=tokenized_datasets[\"train\"],\n",
    "        eval_dataset=tokenized_datasets[\"test\"],\n",
    "        compute_metrics=compute_metrics,\n",
    "        tokenizer=tokenizer,\n",
    "        callbacks=[EarlyStoppingCallback(early_stopping_patience=1)]\n",
    "    )\n",
    "\n",
    "    trainer.train()\n",
    "    metrics = trainer.evaluate()\n",
    "    results.append(metrics)\n",
    "\n",
    "# 9. Show CV results\n",
    "macro_f1s = [r[\"eval_macro_f1\"] for r in results]\n",
    "print(f\"\\n=== Cross-validation results ({k} folds) ===\")\n",
    "print(f\"Macro F1 per fold: {macro_f1s}\")\n",
    "print(f\"Mean Macro F1: {np.mean(macro_f1s):.3f} | Std: {np.std(macro_f1s):.3f}\")\n"
   ]
  },
  {
   "cell_type": "markdown",
   "id": "b065d2f2",
   "metadata": {},
   "source": [
    "### Train model"
   ]
  },
  {
   "cell_type": "code",
   "execution_count": null,
   "id": "26bc44f7",
   "metadata": {},
   "outputs": [
    {
     "name": "stdout",
     "output_type": "stream",
     "text": [
      "Nueva distribución del train tras sobremuestreo:\n",
      "label\n",
      "0    799\n",
      "1    799\n",
      "6    799\n",
      "4    799\n",
      "5    799\n",
      "2    799\n",
      "3    799\n",
      "Name: count, dtype: int64\n"
     ]
    },
    {
     "name": "stderr",
     "output_type": "stream",
     "text": [
      "c:\\Users\\manue\\miniconda3\\envs\\LinguaAnimae\\lib\\site-packages\\huggingface_hub\\file_download.py:943: FutureWarning: `resume_download` is deprecated and will be removed in version 1.0.0. Downloads always resume when possible. If you want to force a new download, use `force_download=True`.\n",
      "  warnings.warn(\n",
      "Some weights of RobertaForSequenceClassification were not initialized from the model checkpoint at SamLowe/roberta-base-go_emotions and are newly initialized because the shapes did not match:\n",
      "- classifier.out_proj.bias: found shape torch.Size([28]) in the checkpoint and torch.Size([7]) in the model instantiated\n",
      "- classifier.out_proj.weight: found shape torch.Size([28, 768]) in the checkpoint and torch.Size([7, 768]) in the model instantiated\n",
      "You should probably TRAIN this model on a down-stream task to be able to use it for predictions and inference.\n",
      "Map: 100%|██████████| 5593/5593 [00:00<00:00, 27589.37 examples/s]\n",
      "Map: 100%|██████████| 290/290 [00:00<00:00, 27596.61 examples/s]\n",
      "                                                  \n",
      " 25%|██▌       | 350/1400 [00:48<02:23,  7.34it/s]"
     ]
    },
    {
     "name": "stdout",
     "output_type": "stream",
     "text": [
      "{'eval_loss': 1.501051664352417, 'eval_macro_f1': 0.43241227392622317, 'eval_runtime': 0.548, 'eval_samples_per_second': 529.212, 'eval_steps_per_second': 18.249, 'epoch': 1.0}\n"
     ]
    },
    {
     "name": "stderr",
     "output_type": "stream",
     "text": [
      "                                                  \n",
      " 50%|█████     | 700/1400 [01:40<01:36,  7.26it/s]"
     ]
    },
    {
     "name": "stdout",
     "output_type": "stream",
     "text": [
      "{'eval_loss': 1.4428369998931885, 'eval_macro_f1': 0.47483318772086697, 'eval_runtime': 0.577, 'eval_samples_per_second': 502.614, 'eval_steps_per_second': 17.332, 'epoch': 2.0}\n"
     ]
    },
    {
     "name": "stderr",
     "output_type": "stream",
     "text": [
      "                                                   \n",
      " 75%|███████▌  | 1050/1400 [02:32<00:47,  7.38it/s]"
     ]
    },
    {
     "name": "stdout",
     "output_type": "stream",
     "text": [
      "{'eval_loss': 1.5662974119186401, 'eval_macro_f1': 0.4685896435674519, 'eval_runtime': 0.5779, 'eval_samples_per_second': 501.849, 'eval_steps_per_second': 17.305, 'epoch': 3.0}\n"
     ]
    },
    {
     "name": "stderr",
     "output_type": "stream",
     "text": [
      " 75%|███████▌  | 1050/1400 [02:34<00:51,  6.78it/s]\n"
     ]
    },
    {
     "name": "stdout",
     "output_type": "stream",
     "text": [
      "{'train_runtime': 154.7665, 'train_samples_per_second': 144.553, 'train_steps_per_second': 9.046, 'train_loss': 0.9284161667596726, 'epoch': 3.0}\n",
      "✅ Fine-tuning completed and model saved as 'src/fine_tuning/finetuned-goemotions-bible/'\n"
     ]
    }
   ],
   "source": [
    "import pandas as pd\n",
    "from datasets import Dataset, DatasetDict\n",
    "from transformers import AutoTokenizer, AutoModelForSequenceClassification, Trainer, TrainingArguments, EarlyStoppingCallback\n",
    "import numpy as np\n",
    "from sklearn.metrics import classification_report\n",
    "from sklearn.utils import resample\n",
    "\n",
    "# 1. Load and shuffle data\n",
    "df = pd.read_csv(\"../data/evaluation/verses_parsed/emotion_verses_labeled_combined.csv\")\n",
    "df = df.sample(frac=1, random_state=42).reset_index(drop=True)\n",
    "\n",
    "# 2. Mapping and validation\n",
    "EMOTION_MAP = {\n",
    "    \"joy\": \"Alegría\",\n",
    "    \"sadness\": \"Tristeza\",\n",
    "    \"anger\": \"Ira\",\n",
    "    \"fear\": \"Miedo\",\n",
    "    \"surprise\": \"Sorpresa\",\n",
    "    \"disgust\": \"Asco\",\n",
    "    \"neutral\": \"Neutral\"\n",
    "}\n",
    "label_list = list(EMOTION_MAP.keys())\n",
    "label2id = {l: i for i, l in enumerate(label_list)}\n",
    "id2label = {i: l for i, l in enumerate(label_list)}\n",
    "df['label'] = df['label'].str.strip().str.lower()\n",
    "invalid_labels = set(df['label'].unique()) - set(label_list)\n",
    "if invalid_labels:\n",
    "    print(f\"❌ ERROR: Detected invalid labels: {invalid_labels}\")\n",
    "    raise ValueError(\"Your CSV contains labels not present in the expected set.\")\n",
    "df['label'] = df['label'].map(label2id).astype(int)\n",
    "\n",
    "# 3. Split into train/test\n",
    "split = int(len(df) * 0.9)\n",
    "df_train = df.iloc[:split].copy()\n",
    "df_test = df.iloc[split:].copy()\n",
    "\n",
    "# === SOBREMUESTREO OPCIONAL EN TRAIN (solo si lo necesitas) ===\n",
    "# max_n = df_train['label'].value_counts().max()\n",
    "# dfs = []\n",
    "# for label in df_train['label'].unique():\n",
    "#     df_label = df_train[df_train['label'] == label]\n",
    "#     dfs.append(resample(df_label, replace=True, n_samples=max_n, random_state=42))\n",
    "# df_train = pd.concat(dfs).sample(frac=1, random_state=42).reset_index(drop=True)\n",
    "# print(\"Balanced train label counts:\\n\", df_train['label'].value_counts())\n",
    "\n",
    "# 4. Build datasets\n",
    "df_train['label'] = df_train['label'].astype(int)\n",
    "df_test['label'] = df_test['label'].astype(int)\n",
    "ds = DatasetDict({\n",
    "    \"train\": Dataset.from_pandas(df_train[['verse', 'label']].rename(columns={'verse': 'text'}), preserve_index=False),\n",
    "    \"test\": Dataset.from_pandas(df_test[['verse', 'label']].rename(columns={'verse': 'text'}), preserve_index=False),\n",
    "})\n",
    "\n",
    "# 5. Tokenizer and model\n",
    "tokenizer = AutoTokenizer.from_pretrained(\"SamLowe/roberta-base-go_emotions\")\n",
    "model = AutoModelForSequenceClassification.from_pretrained(\n",
    "    \"SamLowe/roberta-base-go_emotions\",\n",
    "    num_labels=len(label_list),\n",
    "    id2label=id2label,\n",
    "    label2id=label2id,\n",
    "    ignore_mismatched_sizes=True\n",
    ")\n",
    "model.config.problem_type = \"single_label_classification\"\n",
    "\n",
    "def preprocess_function(examples):\n",
    "    return tokenizer(examples[\"text\"], truncation=True, padding=True)\n",
    "\n",
    "tokenized_datasets = ds.map(preprocess_function, batched=True)\n",
    "\n",
    "# 6. Training arguments\n",
    "training_args = TrainingArguments(\n",
    "    output_dir=\"./results_finetuned_bible\",\n",
    "    evaluation_strategy=\"epoch\",\n",
    "    learning_rate=1e-5,\n",
    "    per_device_train_batch_size=16,\n",
    "    per_device_eval_batch_size=32,\n",
    "    gradient_accumulation_steps=1,\n",
    "    num_train_epochs=4,\n",
    "    weight_decay=0.05,\n",
    "    warmup_ratio=0.1,\n",
    "    lr_scheduler_type=\"linear\",\n",
    "    save_strategy=\"epoch\",\n",
    "    load_best_model_at_end=True,\n",
    "    metric_for_best_model=\"macro_f1\",\n",
    "    greater_is_better=True,\n",
    "    save_total_limit=2,\n",
    "    logging_strategy=\"no\",\n",
    "    report_to=\"none\",\n",
    "    seed=42,\n",
    "    push_to_hub=False,\n",
    ")\n",
    "\n",
    "# 7. Metrics\n",
    "def compute_metrics(pred):\n",
    "    preds = np.argmax(pred.predictions, axis=1)\n",
    "    labels = pred.label_ids\n",
    "    report = classification_report(labels, preds, target_names=[id2label[i] for i in range(len(label_list))], output_dict=True, zero_division=0)\n",
    "    macro_f1 = report[\"macro avg\"][\"f1-score\"]\n",
    "    return {\"macro_f1\": macro_f1}\n",
    "\n",
    "# 8. Trainer\n",
    "trainer = Trainer(\n",
    "    model=model,\n",
    "    args=training_args,\n",
    "    train_dataset=tokenized_datasets[\"train\"],\n",
    "    eval_dataset=tokenized_datasets[\"test\"],\n",
    "    compute_metrics=compute_metrics,\n",
    "    tokenizer=tokenizer,\n",
    "    callbacks=[EarlyStoppingCallback(early_stopping_patience=1)]\n",
    ")\n",
    "\n",
    "trainer.train()\n",
    "trainer.save_model(\"../src/fine_tuning/finetuned-goemotions-bible\")\n",
    "\n",
    "print(\"✅ Fine-tuning completed and model saved as 'src/fine_tuning/finetuned-goemotions-bible/'\")\n"
   ]
  },
  {
   "cell_type": "markdown",
   "id": "12a75c53",
   "metadata": {},
   "source": [
    "# 6️⃣ Evaluation and Comparison"
   ]
  },
  {
   "cell_type": "markdown",
   "id": "caf6e645",
   "metadata": {},
   "source": [
    "## 5. Evaluation of the Fine-tuned Model\n",
    "\n",
    "Here we analyze the results and compare to previous models.\n",
    "- Macro F1 score on the test set\n",
    "- Confusion matrix\n",
    "- Distribution of predictions\n"
   ]
  },
  {
   "cell_type": "code",
   "execution_count": null,
   "id": "47c47441",
   "metadata": {},
   "outputs": [
    {
     "name": "stderr",
     "output_type": "stream",
     "text": [
      "100%|██████████| 10/10 [00:00<00:00, 17.44it/s]\n"
     ]
    },
    {
     "name": "stdout",
     "output_type": "stream",
     "text": [
      "=== Classification Report ===\n",
      "              precision    recall  f1-score   support\n",
      "\n",
      "         joy      0.549     0.571     0.560        49\n",
      "     sadness      0.561     0.696     0.621        46\n",
      "       anger      0.370     0.278     0.317        36\n",
      "        fear      0.403     0.707     0.513        41\n",
      "    surprise      0.462     0.500     0.480        24\n",
      "     disgust      0.400     0.143     0.211        14\n",
      "     neutral      0.788     0.512     0.621        80\n",
      "\n",
      "    accuracy                          0.531       290\n",
      "   macro avg      0.505     0.487     0.475       290\n",
      "weighted avg      0.560     0.531     0.526       290\n",
      "\n"
     ]
    },
    {
     "data": {
      "image/png": "[encoded data removed]",
      "text/plain": [
       "<Figure size 800x600 with 2 Axes>"
      ]
     },
     "metadata": {},
     "output_type": "display_data"
    }
   ],
   "source": [
    "# --- EVALUATION OF THE FINE-TUNED MODEL ---\n",
    "\n",
    "import numpy as np\n",
    "from sklearn.metrics import classification_report, confusion_matrix\n",
    "import seaborn as sns\n",
    "import matplotlib.pyplot as plt\n",
    "\n",
    "# Get predictions on the test set\n",
    "preds = trainer.predict(tokenized_datasets[\"test\"])\n",
    "y_true = preds.label_ids\n",
    "y_pred = np.argmax(preds.predictions, axis=1)\n",
    "\n",
    "# Classification report\n",
    "print(\"=== Classification Report ===\")\n",
    "print(classification_report(\n",
    "    y_true, y_pred,\n",
    "    target_names=[id2label[i] for i in range(len(label_list))],\n",
    "    digits=3,\n",
    "    zero_division=0\n",
    "))\n",
    "\n",
    "# Confusion matrix\n",
    "cm = confusion_matrix(y_true, y_pred)\n",
    "plt.figure(figsize=(8, 6))\n",
    "sns.heatmap(cm, annot=True, fmt='d',\n",
    "            xticklabels=[id2label[i] for i in range(len(label_list))],\n",
    "            yticklabels=[id2label[i] for i in range(len(label_list))],\n",
    "            cmap='Blues')\n",
    "plt.title(\"Confusion Matrix - Fine-tuned Model\")\n",
    "plt.xlabel(\"Predicted\")\n",
    "plt.ylabel(\"True\")\n",
    "plt.tight_layout()\n",
    "plt.show()\n"
   ]
  },
  {
   "cell_type": "code",
   "execution_count": 7,
   "id": "82ac1a34",
   "metadata": {},
   "outputs": [
    {
     "name": "stdout",
     "output_type": "stream",
     "text": [
      "Ejemplos mal clasificados: 45\n"
     ]
    },
    {
     "data": {
      "text/html": [
       "<div>\n",
       "<style scoped>\n",
       "    .dataframe tbody tr th:only-of-type {\n",
       "        vertical-align: middle;\n",
       "    }\n",
       "\n",
       "    .dataframe tbody tr th {\n",
       "        vertical-align: top;\n",
       "    }\n",
       "\n",
       "    .dataframe thead th {\n",
       "        text-align: right;\n",
       "    }\n",
       "</style>\n",
       "<table border=\"1\" class=\"dataframe\">\n",
       "  <thead>\n",
       "    <tr style=\"text-align: right;\">\n",
       "      <th></th>\n",
       "      <th>verse</th>\n",
       "      <th>label_true</th>\n",
       "      <th>label_pred</th>\n",
       "    </tr>\n",
       "  </thead>\n",
       "  <tbody>\n",
       "    <tr>\n",
       "      <th>1</th>\n",
       "      <td>Then the lords of the Philistines brought up t...</td>\n",
       "      <td>surprise</td>\n",
       "      <td>neutral</td>\n",
       "    </tr>\n",
       "    <tr>\n",
       "      <th>3</th>\n",
       "      <td>Aaron shall be gathered unto his people: for h...</td>\n",
       "      <td>sadness</td>\n",
       "      <td>anger</td>\n",
       "    </tr>\n",
       "    <tr>\n",
       "      <th>5</th>\n",
       "      <td>Then those men, when they had seen the miracle...</td>\n",
       "      <td>surprise</td>\n",
       "      <td>joy</td>\n",
       "    </tr>\n",
       "    <tr>\n",
       "      <th>7</th>\n",
       "      <td>Then said he unto them, But now, he that hath ...</td>\n",
       "      <td>fear</td>\n",
       "      <td>neutral</td>\n",
       "    </tr>\n",
       "    <tr>\n",
       "      <th>8</th>\n",
       "      <td>And as Jesus passed forth from thence, he saw ...</td>\n",
       "      <td>surprise</td>\n",
       "      <td>joy</td>\n",
       "    </tr>\n",
       "    <tr>\n",
       "      <th>9</th>\n",
       "      <td>Ye shall keep my statutes. Thou shalt not let ...</td>\n",
       "      <td>neutral</td>\n",
       "      <td>joy</td>\n",
       "    </tr>\n",
       "    <tr>\n",
       "      <th>11</th>\n",
       "      <td>For we cannot but speak the things which we ha...</td>\n",
       "      <td>joy</td>\n",
       "      <td>anger</td>\n",
       "    </tr>\n",
       "    <tr>\n",
       "      <th>15</th>\n",
       "      <td>And when it was told Saul, he sent other messe...</td>\n",
       "      <td>surprise</td>\n",
       "      <td>neutral</td>\n",
       "    </tr>\n",
       "    <tr>\n",
       "      <th>17</th>\n",
       "      <td>And the sword shall come upon Egypt, and great...</td>\n",
       "      <td>fear</td>\n",
       "      <td>sadness</td>\n",
       "    </tr>\n",
       "    <tr>\n",
       "      <th>18</th>\n",
       "      <td>The burden of the word of the LORD for Israel,...</td>\n",
       "      <td>neutral</td>\n",
       "      <td>anger</td>\n",
       "    </tr>\n",
       "  </tbody>\n",
       "</table>\n",
       "</div>"
      ],
      "text/plain": [
       "                                                verse label_true label_pred\n",
       "1   Then the lords of the Philistines brought up t...   surprise    neutral\n",
       "3   Aaron shall be gathered unto his people: for h...    sadness      anger\n",
       "5   Then those men, when they had seen the miracle...   surprise        joy\n",
       "7   Then said he unto them, But now, he that hath ...       fear    neutral\n",
       "8   And as Jesus passed forth from thence, he saw ...   surprise        joy\n",
       "9   Ye shall keep my statutes. Thou shalt not let ...    neutral        joy\n",
       "11  For we cannot but speak the things which we ha...        joy      anger\n",
       "15  And when it was told Saul, he sent other messe...   surprise    neutral\n",
       "17  And the sword shall come upon Egypt, and great...       fear    sadness\n",
       "18  The burden of the word of the LORD for Israel,...    neutral      anger"
      ]
     },
     "execution_count": 7,
     "metadata": {},
     "output_type": "execute_result"
    }
   ],
   "source": [
    "# Mostrar ejemplos mal clasificados\n",
    "import pandas as pd\n",
    "\n",
    "# y_true e y_pred son arrays de etiquetas numéricas\n",
    "wrong_idx = np.where(y_true != y_pred)[0]\n",
    "\n",
    "# Recupera las filas correspondientes en el test DataFrame original\n",
    "test_df = df_test.reset_index(drop=True)\n",
    "test_df = test_df.assign(\n",
    "    label_true=[id2label[y] for y in y_true],\n",
    "    label_pred=[id2label[y] for y in y_pred]\n",
    ")\n",
    "misclassified = test_df.iloc[wrong_idx][['verse', 'label_true', 'label_pred']]\n",
    "\n",
    "print(f\"Ejemplos mal clasificados: {len(misclassified)}\")\n",
    "misclassified.head(10)\n"
   ]
  },
  {
   "cell_type": "markdown",
   "id": "69ff1740",
   "metadata": {},
   "source": [
    "# 7️⃣ Inference on New Verses and Comparison with Pretrained Models"
   ]
  },
  {
   "cell_type": "markdown",
   "id": "1c7e785c",
   "metadata": {},
   "source": [
    "## 6. Inference on New Verses\n",
    "\n",
    "We apply the fine-tuned model to new, unseen verses and compare its outputs with those of the original pretrained models.\n"
   ]
  },
  {
   "cell_type": "code",
   "execution_count": null,
   "id": "82479a7f",
   "metadata": {},
   "outputs": [],
   "source": [
    "# Load some new verses to infer\n",
    "new_verses = [\n",
    "    \"Jesus wept.\",\n",
    "    \"Let there be light.\",\n",
    "    \"The LORD is my shepherd; I shall not want.\",\n",
    "    \"The serpent deceived me, and I ate.\"\n",
    "]\n",
    "\n",
    "inputs = tokenizer(new_verses, truncation=True, padding=True, return_tensors=\"pt\")\n",
    "outputs = model(**inputs)\n",
    "probs = outputs.logits.softmax(dim=1).detach().numpy()\n",
    "for i, verse in enumerate(new_verses):\n",
    "    pred = id2label[np.argmax(probs[i])]\n",
    "    print(f\"Verse: {verse}\\n  Predicted emotion: {pred}\\n  Probabilities: {dict(zip(label_list, probs[i]))}\\n\")\n"
   ]
  },
  {
   "cell_type": "markdown",
   "id": "6bdfc5ea",
   "metadata": {},
   "source": [
    "### **(Optional) Compare with old models**\n",
    "- Load your previous model predictions for the same verses (Hartmann, GoEmotions, etc.) and print/plot differences.\n",
    "- Qualitative analysis: Does the fine-tuned model better reflect the context and subtlety of the biblical style?\n"
   ]
  },
  {
   "cell_type": "markdown",
   "id": "9a69c301",
   "metadata": {},
   "source": [
    "# 8️⃣ Conclusions"
   ]
  },
  {
   "cell_type": "markdown",
   "id": "88cd8119",
   "metadata": {},
   "source": [
    "# Conclusions\n",
    "\n",
    "- Pretrained emotion models struggle with literary/biblical text (neutral bias, poor fit).\n",
    "- Fine-tuning SamLowe/roberta-base-go_emotions with a small, curated dataset dramatically improves performance.\n",
    "- The new model aligns much better with human annotation and context.\n",
    "- Further improvements could involve a larger dataset, multi-labeling, or expanding the taxonomy of emotions.\n",
    "\n",
    "---\n",
    "\n",
    "**Appendix:**  \n",
    "- Full annotation prompt for GPT-4o:\n",
    "\n",
    "```\n",
    "Assign ONE main human emotion to each Bible verse below. \n",
    "Choose ONLY from this exact list (write just the emotion word in lowercase English, with NO explanations): \n",
    "joy, sadness, anger, fear, disgust, surprise, neutral\n",
    "\n",
    "Return the results in CSV format with columns:\n",
    "id,verse_id,label\n",
    "\n",
    "Do not include the verse text in your answer. \n",
    "Use only the id and verse_id as shown, then your label. Do not add any extra columns, explanations, or blank lines.\n",
    "\n",
    "EXAMPLE OUTPUT:\n",
    "0,2_kings_1_10,anger\n",
    "1,1_samuel_19_21,surprise\n",
    "2,1_chronicles_21_21,neutral\n",
    "\n",
    "VERSES:\n",
    "0,2_kings_1_10,\"And Elijah answered and said to the captain of fifty, If I be a man of God, then let fire come down from heaven, and consume thee and thy fifty. And there came down fire from heaven, and consumed him and his fifty.\"\n",
    "1,1_samuel_19_21,\"And when it was told Saul, he sent other messengers, and they prophesied likewise. And Saul sent messengers again the third time, and they prophesied also.\"\n",
    "2,1_chronicles_21_21,\"And as David came to Ornan, Ornan looked and saw David, and went out of the threshingfloor, and bowed himself to David with his face to the ground.\"\n",
    "3,song_of_solomon_2_4,\"He brought me to the banqueting house, and his banner over me was love.\"\n",
    "4,hosea_4_4,\"Yet let no man strive, nor reprove another: for thy people are as they that strive with the priest.\"\n",
    "5,luke_13_7,\"Then said he unto the dresser of his vineyard, Behold, these three years I come seeking fruit on this fig tree, and find none: cut it down; why cumbereth it the ground?\"\n",
    "6,leviticus_10_10,\"And that ye may put difference between holy and unholy, and between unclean and clean;\"\n",
    "7,lamentations_1_1,\"How doth the city sit solitary, that was full of people how is she become as a widow she that was great among the nations, and princess among the provinces, how is she become tributary\"\n",
    "8,jeremiah_42_3,\"That the LORD thy God may shew us the way wherein we may walk, and the thing that we may do.\"\n",
    "9,numbers_1_48,\"For the LORD had spoken unto Moses, saying,\"\n",
    "```\n",
    "- Data/statistics about annotation agreement  \n",
    "- Example annotation errors and corrections\n",
    "\n",
    "---\n"
   ]
  }
 ],
 "metadata": {
  "kernelspec": {
   "display_name": "LinguaAnimae",
   "language": "python",
   "name": "python3"
  },
  "language_info": {
   "codemirror_mode": {
    "name": "ipython",
    "version": 3
   },
   "file_extension": ".py",
   "mimetype": "text/x-python",
   "name": "python",
   "nbconvert_exporter": "python",
   "pygments_lexer": "ipython3",
   "version": "3.10.16"
  }
 },
 "nbformat": 4,
 "nbformat_minor": 5
}
