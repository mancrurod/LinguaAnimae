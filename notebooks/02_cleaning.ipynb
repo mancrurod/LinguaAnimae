{
 "cells": [
  {
   "cell_type": "markdown",
   "id": "bc7cd047",
   "metadata": {},
   "source": [
    "# 📘 02_cleaning.ipynb - Cleaning and Structuring Bible Verse Data\n",
    "\n",
    "This notebook demonstrates how to run the cleaning script `cleaning.py` to:\n",
    "- Normalize and validate raw Bible verse data.\n",
    "- Add unique identifiers for each verse.\n",
    "- Prepare the data for emotion and theme annotation."
   ]
  },
  {
   "cell_type": "markdown",
   "id": "325e737b",
   "metadata": {},
   "source": [
    "## 🛠️ 1. Setup: Cleaned File Structure\n",
    "We assume your project has the following structure:\n",
    "\n",
    "```\n",
    "data/\n",
    "├── raw/\n",
    "│   └── bible_kjv/\n",
    "│       ├── 1_genesis.csv\n",
    "│       └── ...\n",
    "├── processed/\n",
    "│   └── bible_kjv/\n",
    "logs/\n",
    "├── cleaning_logs/\n",
    "```"
   ]
  },
  {
   "cell_type": "markdown",
   "id": "2d1f0496",
   "metadata": {},
   "source": [
    "## 📥 2. Inspect Raw Data (Optional)"
   ]
  },
  {
   "cell_type": "code",
   "execution_count": null,
   "id": "65b3d77f",
   "metadata": {},
   "outputs": [],
   "source": [
    "import pandas as pd\n",
    "\n",
    "# Load an example raw file\n",
    "df_raw = pd.read_csv(\"data/raw/bible_kjv/1_genesis.csv\")\n",
    "df_raw.head()"
   ]
  },
  {
   "cell_type": "markdown",
   "id": "1c707aa3",
   "metadata": {},
   "source": [
    "## 🚀 3. Run the Cleaning Script\n",
    "Make sure you have the `cleaning.py` script ready. It will:\n",
    "- Clean whitespace and normalize punctuation.\n",
    "- Drop invalid rows.\n",
    "- Add `verse_id`, `theme`, and `emotion` columns.\n",
    "- Save output as `*_cleaned.csv` in `data/processed`."
   ]
  },
  {
   "cell_type": "code",
   "execution_count": null,
   "id": "2c420bf9",
   "metadata": {},
   "outputs": [],
   "source": [
    "# Option 1: Run the script from the notebook\n",
    "!python src/cleaning.py"
   ]
  },
  {
   "cell_type": "code",
   "execution_count": null,
   "id": "783c9090",
   "metadata": {},
   "outputs": [],
   "source": [
    "# Option 2: Call the main function directly (notebook-style)\n",
    "from src.cleaning import clean_and_prepare_csvs\n",
    "\n",
    "clean_and_prepare_csvs()"
   ]
  },
  {
   "cell_type": "markdown",
   "id": "07330202",
   "metadata": {},
   "source": [
    "## ✅ 4. View Cleaned Output"
   ]
  },
  {
   "cell_type": "code",
   "execution_count": null,
   "id": "47301de8",
   "metadata": {},
   "outputs": [],
   "source": [
    "# Load the cleaned result\n",
    "df_cleaned = pd.read_csv(\"data/processed/bible_kjv/1_genesis_cleaned.csv\")\n",
    "df_cleaned.head()"
   ]
  },
  {
   "cell_type": "markdown",
   "id": "2f9bc757",
   "metadata": {},
   "source": [
    "## 📝 5. Review the Cleaning Log"
   ]
  },
  {
   "cell_type": "code",
   "execution_count": null,
   "id": "39c7c8be",
   "metadata": {},
   "outputs": [],
   "source": [
    "from pathlib import Path\n",
    "\n",
    "log_files = sorted(Path(\"logs/cleaning_logs\").glob(\"cleaning_log_*.txt\"), reverse=True)\n",
    "print(f\"Most recent log: {log_files[0]}\")\n",
    "with open(log_files[0], encoding=\"utf-8\") as f:\n",
    "    print(f.read())"
   ]
  },
  {
   "cell_type": "markdown",
   "id": "bbc32f0f",
   "metadata": {},
   "source": [
    "## ✅ Conclusion\n",
    "Your raw verse data is now cleaned and ready for:\n",
    "- Emotion labeling (`emotion_theme_labeling.py`)\n",
    "- Thematic labeling (`theme_labeling.py`)\n",
    "\n",
    "👉 Continue to the next notebook: `03_label_emotions_and_themes.ipynb`."
   ]
  }
 ],
 "metadata": {
  "language_info": {
   "name": "python"
  }
 },
 "nbformat": 4,
 "nbformat_minor": 5
}
