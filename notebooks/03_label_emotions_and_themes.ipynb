{
 "cells": [
  {
   "cell_type": "markdown",
   "id": "4acab893",
   "metadata": {},
   "source": [
    "# 🧠 03_label_emotions_and_themes.ipynb - Labeling Bible Verses with Emotions and Themes\n",
    "\n",
    "This notebook shows how to automatically annotate cleaned Bible verses with:\n",
    "- **Emotions** using `j-hartmann/emotion-english-distilroberta-base`\n",
    "- **Themes** using `MoritzLaurer/DeBERTa-v3-base-mnli-fever-anli`\n",
    "\n",
    "It operates on cleaned files located in `data/processed/bible_kjv/`."
   ]
  },
  {
   "cell_type": "markdown",
   "id": "f2ad170e",
   "metadata": {},
   "source": [
    "## 🧱 Step 1: Configuration"
   ]
  },
  {
   "cell_type": "code",
   "execution_count": null,
   "id": "fe73416b",
   "metadata": {},
   "outputs": [],
   "source": [
    "from pathlib import Path\n",
    "\n",
    "# Set your Bible dataset name\n",
    "BIBLE_NAME = \"bible_kjv\"\n",
    "\n",
    "# Define paths based on new architecture\n",
    "BASE_DIR = Path(\"data\")\n",
    "PROCESSED_DIR = BASE_DIR / \"processed\" / BIBLE_NAME\n",
    "EMOTION_DIR = BASE_DIR / \"labeled\" / BIBLE_NAME / \"emotion\"\n",
    "THEME_DIR = BASE_DIR / \"labeled\" / BIBLE_NAME / \"emotion_theme\""
   ]
  },
  {
   "cell_type": "markdown",
   "id": "87beb457",
   "metadata": {},
   "source": [
    "## ⚙️ Step 2: Run Full Emotion + Theme Labeling via Pipeline"
   ]
  },
  {
   "cell_type": "code",
   "execution_count": null,
   "id": "136dbf9d",
   "metadata": {},
   "outputs": [],
   "source": [
    "!python labeling_pipeline.py --bible {BIBLE_NAME}"
   ]
  },
  {
   "cell_type": "markdown",
   "id": "508d10b0",
   "metadata": {},
   "source": [
    "## 🧪 Step 3: Run Dry-Run on a Single Book (Optional)"
   ]
  },
  {
   "cell_type": "code",
   "execution_count": null,
   "id": "d18f0535",
   "metadata": {},
   "outputs": [],
   "source": [
    "SAMPLE_FILE = PROCESSED_DIR / \"1_genesis_cleaned.csv\"\n",
    "!python labeling_pipeline.py --bible {BIBLE_NAME} --dry-run {SAMPLE_FILE}"
   ]
  },
  {
   "cell_type": "markdown",
   "id": "8978da43",
   "metadata": {},
   "source": [
    "## 📊 Step 4: Load Emotion-Labeled Output"
   ]
  },
  {
   "cell_type": "code",
   "execution_count": null,
   "id": "db219a76",
   "metadata": {},
   "outputs": [],
   "source": [
    "import pandas as pd\n",
    "\n",
    "emotion_file = EMOTION_DIR / \"1_genesis_emotion.csv\"\n",
    "df_emotion = pd.read_csv(emotion_file)\n",
    "df_emotion.head()\n"
   ]
  },
  {
   "cell_type": "markdown",
   "id": "10e163f6",
   "metadata": {},
   "source": [
    "## 🎯 Step 5: Load Theme-Labeled Output"
   ]
  },
  {
   "cell_type": "code",
   "execution_count": null,
   "id": "f2f7bfd0",
   "metadata": {},
   "outputs": [],
   "source": [
    "theme_file = THEME_DIR / \"1_genesis_emotion_theme.csv\"\n",
    "df_theme = pd.read_csv(theme_file)\n",
    "df_theme.head()"
   ]
  },
  {
   "cell_type": "markdown",
   "id": "867c029a",
   "metadata": {},
   "source": [
    "## 📈 Step 6: Theme Label Distribution"
   ]
  },
  {
   "cell_type": "code",
   "execution_count": null,
   "id": "d2794907",
   "metadata": {},
   "outputs": [],
   "source": [
    "df_theme[\"theme\"].str.split(\";\").explode().value_counts()"
   ]
  },
  {
   "cell_type": "markdown",
   "id": "4f8b352b",
   "metadata": {},
   "source": [
    "## 🧼 (Optional) Step 7: Clean View – Emotion + Theme Sample"
   ]
  },
  {
   "cell_type": "code",
   "execution_count": null,
   "id": "4fc605d8",
   "metadata": {},
   "outputs": [],
   "source": [
    "df_theme[[\"chapter\", \"verse\", \"text\", \"emotion\", \"theme\"]].sample(5)"
   ]
  },
  {
   "cell_type": "markdown",
   "id": "671bc222",
   "metadata": {},
   "source": [
    "## ✅ Conclusion\n",
    "You now have labeled Bible verses with both `emotion` and `theme` columns filled.\n",
    "These are ready for further analysis, dashboarding, or evaluation.\n",
    "\n",
    "➡️ Continue to: `04_evaluation.ipynb`"
   ]
  }
 ],
 "metadata": {
  "language_info": {
   "name": "python"
  }
 },
 "nbformat": 4,
 "nbformat_minor": 5
}
