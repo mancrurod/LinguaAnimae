{
 "cells": [
  {
   "cell_type": "markdown",
   "id": "0e9212c1",
   "metadata": {},
   "source": [
    "## 📓 04_translate_labels.ipynb"
   ]
  },
  {
   "cell_type": "markdown",
   "id": "1214b891",
   "metadata": {},
   "source": [
    "## 🧱 1. Load Paths and Configure Bibles"
   ]
  },
  {
   "cell_type": "code",
   "execution_count": null,
   "id": "07c5f2cc",
   "metadata": {},
   "outputs": [],
   "source": [
    "from pathlib import Path\n",
    "\n",
    "# Define input/output Bible names\n",
    "BIBLE_EN = \"bible_kjv\"\n",
    "BIBLE_ES = \"bible_rv60\"\n",
    "\n",
    "BASE_DIR = Path(\"data\")\n",
    "EN_LABELED_DIR = BASE_DIR / \"labeled\" / BIBLE_EN / \"emotion_theme\"\n",
    "ES_PROCESSED_DIR = BASE_DIR / \"processed\" / BIBLE_ES\n",
    "ES_OUTPUT_DIR = BASE_DIR / \"labeled\" / BIBLE_ES / \"emotion_theme\"\n",
    "\n",
    "ES_OUTPUT_DIR.mkdir(parents=True, exist_ok=True)\n"
   ]
  },
  {
   "cell_type": "markdown",
   "id": "1fa76393",
   "metadata": {},
   "source": [
    "## 📘 2. Define Emotion + Theme Translations"
   ]
  },
  {
   "cell_type": "code",
   "execution_count": null,
   "id": "27016980",
   "metadata": {},
   "outputs": [],
   "source": [
    "import pandas as pd\n",
    "\n",
    "THEME_MAP = {\n",
    "    \"love\": \"amor\",\n",
    "    \"faith\": \"fe\",\n",
    "    \"hope\": \"esperanza\",\n",
    "    \"forgiveness\": \"perdón\",\n",
    "    \"fear\": \"miedo\"\n",
    "}\n",
    "\n",
    "EMOTION_MAP = {\n",
    "    \"joy\": \"Alegría\",\n",
    "    \"sadness\": \"Tristeza\",\n",
    "    \"anger\": \"Ira\",\n",
    "    \"fear\": \"Miedo\",\n",
    "    \"trust\": \"Confianza\",\n",
    "    \"surprise\": \"Sorpresa\"\n",
    "}\n",
    "\n",
    "def translate_themes(theme_str):\n",
    "    if pd.isna(theme_str):\n",
    "        return \"\"\n",
    "    return \";\".join(THEME_MAP.get(label.strip(), label.strip()) for label in theme_str.split(\";\"))\n",
    "\n",
    "def translate_emotion(emotion):\n",
    "    return EMOTION_MAP.get(emotion.strip().lower(), emotion)\n"
   ]
  },
  {
   "cell_type": "markdown",
   "id": "73de5404",
   "metadata": {},
   "source": [
    "## 🔁 3. Translate and Merge Files"
   ]
  },
  {
   "cell_type": "code",
   "execution_count": null,
   "id": "f7fc5e43",
   "metadata": {},
   "outputs": [],
   "source": [
    "files = list(EN_LABELED_DIR.glob(\"*.csv\"))\n",
    "\n",
    "for file in files:\n",
    "    print(f\"🔁 {file.name}\")\n",
    "    df_en = pd.read_csv(file)\n",
    "    es_file = ES_PROCESSED_DIR / file.name.replace(\"_emotion_theme.csv\", \"_cleaned.csv\")\n",
    "\n",
    "    if not es_file.exists():\n",
    "        print(f\"⚠️ Missing: {es_file.name}\")\n",
    "        continue\n",
    "\n",
    "    df_es = pd.read_csv(es_file)\n",
    "\n",
    "    if len(df_en) != len(df_es):\n",
    "        print(f\"❌ Mismatch: {file.name}\")\n",
    "        continue\n",
    "\n",
    "    df_out = df_es.copy()\n",
    "    df_out[\"emotion\"] = df_en[\"emotion\"].apply(translate_emotion)\n",
    "    df_out[\"theme\"] = df_en[\"theme\"].apply(translate_themes)\n",
    "\n",
    "    out_path = ES_OUTPUT_DIR / file.name\n",
    "    df_out.to_csv(out_path, index=False)\n",
    "    print(f\"✅ Saved: {out_path.name}\")\n"
   ]
  },
  {
   "cell_type": "markdown",
   "id": "8bd792e7",
   "metadata": {},
   "source": [
    "## 🔎 4. Preview Example Translation"
   ]
  },
  {
   "cell_type": "code",
   "execution_count": null,
   "id": "0173818e",
   "metadata": {},
   "outputs": [],
   "source": [
    "example = pd.read_csv(ES_OUTPUT_DIR / \"1_genesis_emotion_theme.csv\")\n",
    "example[[\"chapter\", \"verse\", \"text\", \"emotion\", \"theme\"]].head()"
   ]
  }
 ],
 "metadata": {
  "language_info": {
   "name": "python"
  }
 },
 "nbformat": 4,
 "nbformat_minor": 5
}
