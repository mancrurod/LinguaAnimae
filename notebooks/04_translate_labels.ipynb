{
 "cells": [
  {
   "cell_type": "markdown",
   "id": "0e9212c1",
   "metadata": {},
   "source": [
    "## 📓 04_translate_labels.ipynb"
   ]
  },
  {
   "cell_type": "markdown",
   "id": "1214b891",
   "metadata": {},
   "source": [
    "## 🧱 1. Load Paths and Configure Bibles"
   ]
  },
  {
   "cell_type": "code",
   "execution_count": null,
   "id": "07c5f2cc",
   "metadata": {},
   "outputs": [],
   "source": [
    "from pathlib import Path\n",
    "\n",
    "# Define the names of the English and Spanish Bibles\n",
    "BIBLE_EN = \"bible_kjv\"  # English Bible name\n",
    "BIBLE_ES = \"bible_rv60\"  # Spanish Bible name\n",
    "\n",
    "# Define the base directory for data\n",
    "BASE_DIR = Path(\"data\")\n",
    "\n",
    "# Define the directory for English labeled data\n",
    "EN_LABELED_DIR = BASE_DIR / \"labeled\" / BIBLE_EN / \"emotion_theme\"\n",
    "\n",
    "# Define the directory for Spanish processed data\n",
    "ES_PROCESSED_DIR = BASE_DIR / \"processed\" / BIBLE_ES\n",
    "\n",
    "# Define the directory for Spanish labeled output data\n",
    "ES_OUTPUT_DIR = BASE_DIR / \"labeled\" / BIBLE_ES / \"emotion_theme\"\n",
    "\n",
    "# Create the Spanish output directory if it doesn't exist\n",
    "ES_OUTPUT_DIR.mkdir(parents=True, exist_ok=True)\n"
   ]
  },
  {
   "cell_type": "markdown",
   "id": "1fa76393",
   "metadata": {},
   "source": [
    "## 📘 2. Define Emotion + Theme Translations"
   ]
  },
  {
   "cell_type": "code",
   "execution_count": null,
   "id": "27016980",
   "metadata": {},
   "outputs": [],
   "source": [
    "import pandas as pd\n",
    "\n",
    "# Mapping of English themes to Spanish themes\n",
    "THEME_MAP = {\n",
    "    \"love\": \"amor\",\n",
    "    \"faith\": \"fe\",\n",
    "    \"hope\": \"esperanza\",\n",
    "    \"forgiveness\": \"perdón\",\n",
    "    \"fear\": \"miedo\"\n",
    "}\n",
    "\n",
    "# Mapping of English emotions to Spanish emotions\n",
    "EMOTION_MAP = {\n",
    "    \"joy\": \"Alegría\",\n",
    "    \"sadness\": \"Tristeza\",\n",
    "    \"anger\": \"Ira\",\n",
    "    \"fear\": \"Miedo\",\n",
    "    \"trust\": \"Confianza\",\n",
    "    \"surprise\": \"Sorpresa\"\n",
    "}\n",
    "\n",
    "# Function to translate themes from English to Spanish\n",
    "def translate_themes(theme_str):\n",
    "    if pd.isna(theme_str):  # Check if the input is NaN\n",
    "        return \"\"  # Return an empty string for NaN values\n",
    "    # Translate each theme in the semicolon-separated string\n",
    "    return \";\".join(THEME_MAP.get(label.strip(), label.strip()) for label in theme_str.split(\";\"))\n",
    "\n",
    "# Function to translate a single emotion from English to Spanish\n",
    "def translate_emotion(emotion):\n",
    "    # Use the mapping to translate the emotion, defaulting to the original if not found\n",
    "    return EMOTION_MAP.get(emotion.strip().lower(), emotion)\n"
   ]
  },
  {
   "cell_type": "markdown",
   "id": "73de5404",
   "metadata": {},
   "source": [
    "## 🔁 3. Translate and Merge Files"
   ]
  },
  {
   "cell_type": "code",
   "execution_count": null,
   "id": "f7fc5e43",
   "metadata": {},
   "outputs": [],
   "source": [
    "# Get a list of all CSV files in the English labeled directory\n",
    "files = list(EN_LABELED_DIR.glob(\"*.csv\"))\n",
    "\n",
    "# Iterate over each file in the list\n",
    "for file in files:\n",
    "    print(f\"🔁 {file.name}\")  # Log the file being processed\n",
    "    \n",
    "    # Read the English labeled CSV file\n",
    "    df_en = pd.read_csv(file)\n",
    "    \n",
    "    # Construct the corresponding Spanish processed file path\n",
    "    es_file = ES_PROCESSED_DIR / file.name.replace(\"_emotion_theme.csv\", \"_cleaned.csv\")\n",
    "\n",
    "    # Check if the Spanish processed file exists\n",
    "    if not es_file.exists():\n",
    "        print(f\"⚠️ Missing: {es_file.name}\")  # Log missing file\n",
    "        continue  # Skip to the next file\n",
    "\n",
    "    # Read the Spanish processed CSV file\n",
    "    df_es = pd.read_csv(es_file)\n",
    "\n",
    "    # Check if the number of rows in English and Spanish files match\n",
    "    if len(df_en) != len(df_es):\n",
    "        print(f\"❌ Mismatch: {file.name}\")  # Log mismatch in row counts\n",
    "        continue  # Skip to the next file\n",
    "\n",
    "    # Create a copy of the Spanish DataFrame to modify\n",
    "    df_out = df_es.copy()\n",
    "    \n",
    "    # Translate the \"emotion\" column using the translation function\n",
    "    df_out[\"emotion\"] = df_en[\"emotion\"].apply(translate_emotion)\n",
    "    \n",
    "    # Translate the \"theme\" column using the translation function\n",
    "    df_out[\"theme\"] = df_en[\"theme\"].apply(translate_themes)\n",
    "\n",
    "    # Save the translated DataFrame to the output directory\n",
    "    out_path = ES_OUTPUT_DIR / file.name\n",
    "    df_out.to_csv(out_path, index=False)\n",
    "    print(f\"✅ Saved: {out_path.name}\")  # Log successful save\n"
   ]
  },
  {
   "cell_type": "markdown",
   "id": "8bd792e7",
   "metadata": {},
   "source": [
    "## 🔎 4. Preview Example Translation"
   ]
  },
  {
   "cell_type": "code",
   "execution_count": null,
   "id": "0173818e",
   "metadata": {},
   "outputs": [],
   "source": [
    "# Read the example CSV file from the Spanish output directory\n",
    "example = pd.read_csv(ES_OUTPUT_DIR / \"1_genesis_emotion_theme.csv\")\n",
    "\n",
    "# Display the first few rows of selected columns: chapter, verse, text, emotion, and theme\n",
    "example[[\"chapter\", \"verse\", \"text\", \"emotion\", \"theme\"]].head()"
   ]
  }
 ],
 "metadata": {
  "language_info": {
   "name": "python"
  }
 },
 "nbformat": 4,
 "nbformat_minor": 5
}
